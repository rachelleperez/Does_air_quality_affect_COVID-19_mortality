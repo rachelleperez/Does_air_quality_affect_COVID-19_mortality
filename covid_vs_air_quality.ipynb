{
 "cells": [
  {
   "cell_type": "markdown",
   "metadata": {},
   "source": [
    "# Does Air Quality affect COVID-19 Mortality?\n",
    "\n",
    "## Problem\n",
    "*As of January 10th, 2021*\n",
    "\n",
    "![covid_header](./img/covid.jpg)\n",
    "*Source: https://www.health.pa.gov/topics/disease/coronavirus/PublishingImages/COVID-19%20Header.jpg*\n",
    "\n",
    "**What is COVID-19? How does it spread?**\n",
    "\n",
    "Coronavirus Disease 19 (\"COVID-19\") is a contagious disease first discovered in Wuhan, China on December 2019. Within a month, the first case outside the country was discovered in Thailand and later the United States (January 21). Rapid spread including significant increases in disease-related hospitalizations and deaths continued while the public, government, and the health care communities scrambed to respond to what was then (and still is) an unknown disease. On March 10th 2020, the World Health Organization (WHO) declared COVID-19 **a global pandemic** ([Source](https://www.who.int/news/item/27-04-2020-who-timeline---covid-19)). \n",
    "\n",
    "Unlike other known [coronaviruses](https://www.cdc.gov/coronavirus/types.html) which typically cause mild to moderate upper-respiratory tract illness, COVID-19 can cause severe illness and even death ([Source](https://www.nih.gov/news-events/nih-research-matters/immune-cells-common-cold-may-recognize-sars-cov-2#:~:text=Coronaviruses%20usually%20cause%20mild%20to,illness%20and%20even%20death.)). As per The Centers for Disease Control and Prevention (CDC), COVID-19 [\"spreads through **respiratory droplets or small particles**, such as those in aerosols, produced when an infected person coughs, sneezes, sings, talks, or breathes. These particles can be **inhaled into the nose, mouth, airways, and lungs and cause infection**.\"](https://www.cdc.gov/coronavirus/2019-ncov/faq.html#Basics). Treatment against the disease is still in development with many theories including herd immunity considered and later disproven along the way. The U.S. Food and Drug Administration (FDA) has approved one experimental drug (Remdesevir) to treat  existing patients and taken the extreme measure of allowing healthcare providers (under certain conditions) to use products not yet approved ([Source](https://www.cdc.gov/coronavirus/2019-ncov/your-health/treatments-for-severe-illness.html)). On the preventative side, government has implemented public measures to decrease **community spread** including lockdowns and mask mandates. Meanwhile, vaccine efforts were accelerated due to government action across the world including the U.S. [Operation Warp Speed](https://www.hhs.gov/coronavirus/explaining-operation-warp-speed/index.html). The first U.S. COVID-19 vaccine, outside clinical trials, was administered on December 2020 (only a year after the disease was first heard of) and national distribution efforts are under way.\n",
    "\n",
    "\n",
    "**Who has an increased risk of developing severe illness from COVID-19 (in the United States)?**\n",
    "\n",
    "As [per the CDC](https://www.cdc.gov/coronavirus/2019-ncov/faq.html#Basics), the following people have an increased risk of developing severe illness from COVID-19:\n",
    "* Older adults\n",
    "* People of all ages with certain underlying medical conditions\n",
    "* Pregnant people are also at increased risk for severe illness from COVID-19.\n",
    "\n",
    "The CDC also [states](https://www.cdc.gov/coronavirus/2019-ncov/faq.html#Basics): **\"Long-standing systemic health and social inequities have put many people from racial and ethnic minority groups at increased risk of getting sick and dying from COVID-19.\"** This inequality is most evident in the rate of deaths. A black (or African American) and Hispanic (or Latino) person is 2.8X more likely to die from COVID-19 than a White (Non-Hispanic) person. An American Indian (or Alaska Native) is 2.6X more likely ([Source](https://www.cdc.gov/coronavirus/2019-ncov/covid-data/investigations-discovery/hospitalization-death-by-race-ethnicity.html)).\n",
    "\n",
    "\n",
    "**PROBLEM: Given that COVID-19 is transmmitted via respiratory particles and the unfair inqequalities in its mortality rate, can something be done to prevent or decrease its effects?**\n",
    "\n",
    "\n",
    "## Project Scope\n",
    "\n",
    "Since before COVID-19's discovery, there has been public debate related to the existence and actions to take against climate change (particularly air pollution). Air pollution was heavily politized through the 2015 passage (and 2017 repeal) of the [Clean Power Plan](https://archive.epa.gov/epa/cleanpowerplan/fact-sheet-overview-clean-power-plan.html) aimed at reducing carbon pollution from power plants and the 2019 introduction of the [Green New Deal](https://www.congress.gov/116/bills/hres109/BILLS-116hres109ih.pdf) package.\n",
    "\n",
    "As the country faces a devastating disease which spreads through air particles and the government considers climate change legislation, it is crucial to consider: **Does air quality affect Covid-19 mortality?**\n",
    "\n",
    "As the timeline and implementation of disease mitigation efforts differs widely between states, a look at one state where all counties have the same legislation (for the most part) is more meaningful. This project will look at **New York State** whose regions display a wide range of conditions that may affect air quality such as population density, racial makeup, income level, etc.\n",
    "\n",
    "## Objective: \n",
    "\n",
    "Answer: **Does air quality affect COVID-19 mortality in New York State?**\n",
    "\n",
    "To answer this question, this project will compare the following data per county:\n",
    "* COVID-19 Deaths\n",
    "* Air Quality\n",
    "* Demographics\n",
    "\n",
    "\n",
    "## Data Sources\n",
    "\n",
    "**COVID-19 Deaths**\n",
    "\n",
    "Total\n",
    "* Source: The U.S. Centers for Disease Control and Prevention (CDC)\n",
    "* Link: [Coronavirus Cases & Deaths](https://data.cdc.gov/NCHS/Provisional-COVID-19-Death-Counts-in-the-United-St/kn79-hsxy)\n",
    "\n",
    "Daily Count\n",
    "* Source: USAFacts.org\n",
    "* Link: [New York Coronavirus Cases & Deaths](https://usafacts.org/visualizations/coronavirus-covid-19-spread-map/state/new-york)\n",
    "\n",
    "**Air Quality**\n",
    "* Source: U.S. Environmental Protection Agency (EPA)\n",
    "* Links: \n",
    "    * [Outdoor Air Quality Data](https://www.epa.gov/outdoor-air-quality-data/download-daily-data) \n",
    "        * *Data Dictionary [here](https://www.epa.gov/outdoor-air-quality-data/about-air-data-reports)*\n",
    "    * [Air Quality Index Breakpoints](https://aqs.epa.gov/aqsweb/documents/codetables/aqi_breakpoints.html) (as of January 11, 2021)\n",
    "\n",
    "**Demographics**\n",
    "* Source: U.S. Census Bureau\n",
    "* Links\n",
    "    * [County Population by Characteristics: 2010-2019](https://www.census.gov/data/tables/time-series/demo/popest/2010s-counties-detail.html) \n",
    "        1) Age Group and Sex \n",
    "        2) Age, Sex, Race, Hispanic Origin\n",
    "\n",
    "\n",
    "* Source: U.S. Department of Agriculture (USDA)\n",
    "* Links:\n",
    "    * [County-Level Data: Poverty](https://www.ers.usda.gov/data-products/county-level-data-sets/)\n",
    "    * [County-Level Data: Unemployment and Household Income](https://www.ers.usda.gov/data-products/county-level-data-sets/)\n",
    "    * [Hospitals](https://hifld-geoplatform.opendata.arcgis.com/datasets/hospitals/data)\n",
    "    \n",
    "* Source: New York State Department of Health\n",
    "    * Link: [Population, Land Area, and Population Density by County, New York State - 2006](https://www.health.ny.gov/statistics/vital_statistics/2006/table02.htm) (Manually extracted square miles data)\n",
    "    \n",
    "**Covid Deaths Demographics**\n",
    "\n",
    "* Source: The U.S. Centers for Disease Control and Prevention (CDC)\n",
    "    * Link: [Provisional COVID-19 Death Counts by County and Race](https://data.cdc.gov/NCHS/Provisional-COVID-19-Death-Counts-by-County-and-Ra/k8wy-p9cg)\n",
    "\n",
    "\n",
    "## Agenda  <a class=\"anchor\" id=\"agenda\"></a>\n",
    "\n",
    "1. [Additional Research](#research): FIPS & AIr Quality\n",
    "2. [Data Upload & Preview](#data)\n",
    "3. [Data PreProcessing](#datacleaning)\n",
    "4. [Exploratory Data Analysis](#eda)\n",
    "5. [Hypothesis Test](#htest): \"Covid-19 mortality rate is different between counties improving their air quality and counties were air quality is deteriorating.\"\n",
    "6. [Regression Analysis](#regression)\n",
    "7. [Conclusion(s)](#conclusion)\n",
    "    * Findings\n",
    "    * Recommendations\n",
    "8. [Poject Next Step](#next)\n"
   ]
  },
  {
   "cell_type": "markdown",
   "metadata": {},
   "source": [
    "## 1) Additional Research <a class=\"anchor\" id=\"research\"></a>"
   ]
  },
  {
   "cell_type": "markdown",
   "metadata": {},
   "source": [
    "## How to uniquely identify regions?\n",
    "\n",
    "All data and observations will be made at the county level. Counties (and states) are identified by a **FIPS (U.S. Federal Information Processing Standards)**. FIPS codes originate from the National Institute of Standards and Technology (NIST), a U.S. Department of Commerce agency, to [uniquely identify a geographic area](https://transition.fcc.gov/oet/info/maps/census/fips/fips.txt#:~:text=FIPS%20codes%20are%20numbers%20which,to%20which%20the%20county%20belongs.). County FIPS Codes will be used throughtout this poject to connect multiple data sources."
   ]
  },
  {
   "cell_type": "markdown",
   "metadata": {},
   "source": [
    "## How to report on air quality?\n",
    "\n",
    "Air Quality can be framed based on levels of different pollutants. \n",
    "\n",
    "The United Stated Environment Protection Agency (EPA) publishes [outdoor air quality data daily](https://www.epa.gov/outdoor-air-quality-data/download-daily-data) on the following pollutants:\n",
    "* Carbon Monoxide (CO)\n",
    "* NO2 (Nitrogen Dioxide)\n",
    "* Ozone\n",
    "* Particulate Matter 10, also known PM 10\n",
    "* Particulate Matter 2.5, also known PM 2.5 (Fine Particles)\n",
    "* SO2 (Sulfir Dioxide)\n",
    "\n",
    "The scope of our project will focus on a particular region. Assuming we go with New York State, we should base our metric of air quality on what that state does. The New York State Department of Environmental Conservation (DEC) publishes air quality data on its [website](https://www.dec.ny.gov/cfmx/extapps/aqi/aqi_forecast.cfm) based on \"Fine Particles\", **Particulate Matter 2.5 (PM 2.5)**.\n"
   ]
  },
  {
   "cell_type": "markdown",
   "metadata": {},
   "source": [
    "## Terms\n",
    "\n",
    "**What is Particulate Matter?** According to the [EPA](https://www.epa.gov/pm-pollution/particulate-matter-pm-basics), particulate matter (PM) refers to \"a mixture of solid particles and liquid droplets found in the air\" and hence inhalable. PM10 are generally 10 micrometers (and smaller) and PM 2.5 referred to as \"fine particles\" are generally around 2.5 micrometers. To put into perspective, the average human hair is 70 micrometers in diameter (30 times larger than PM 2.5). These particles can be made up of hundreds of different chemicals but the most worrisome part is that they are inhaled and can cause serious health problems. \"Some particles less than 10 micrometers in diameter can get deep into your lungs and some may even get into your bloodstream.\" A summary of health and environmental effects of particular matter can he found [HERE](https://www.epa.gov/pm-pollution/health-and-environmental-effects-particulate-matter-pm).\n",
    "\n",
    "PM 2.5 is measured in micrograms per cubic meter (ug/m3). The EPA has set the annual PM 2.5 standard to 12 ug/m3 [Source](https://www3.epa.gov/region1/airquality/pm-aq-standards.html). NY DEC (and the EPA) usually reports an **Air Quality Index (AQI)** instead of the individual units.  \n",
    "\n",
    "**What is AQI?** The Air Quality Index (AQI) is a scale from 0 to 500 that provides an indicator of the quality of air and its health effects. 101 typically corresponds to the level that starts being \"unhealthy for sensitive groups\". It can be based on the amount of PM2.5 found in the air. \n",
    "\n",
    "Below is a picture of the current scale posted by NY DEC [here](https://www.dec.ny.gov/cfmx/extapps/aqi/aqi_info.cfm#AQI).\n",
    "\n",
    "![NY DEC AQI Scale](./img/ny_aqi.jpg)\n"
   ]
  },
  {
   "cell_type": "markdown",
   "metadata": {},
   "source": [
    "## 2) Data Upload & Preview <a class=\"anchor\" id=\"data\"></a>"
   ]
  },
  {
   "cell_type": "code",
   "execution_count": 1,
   "metadata": {},
   "outputs": [],
   "source": [
    "import pandas as pd\n",
    "import numpy as np\n",
    "import matplotlib.pyplot as plt\n",
    "import seaborn as sns"
   ]
  },
  {
   "cell_type": "markdown",
   "metadata": {},
   "source": [
    "**COVID-19 Deaths**"
   ]
  },
  {
   "cell_type": "code",
   "execution_count": 2,
   "metadata": {},
   "outputs": [],
   "source": [
    "covid = pd.read_csv('./data/us_covid_deaths_by_county_010621.csv')"
   ]
  },
  {
   "cell_type": "code",
   "execution_count": 3,
   "metadata": {},
   "outputs": [
    {
     "data": {
      "text/html": [
       "<div>\n",
       "<style scoped>\n",
       "    .dataframe tbody tr th:only-of-type {\n",
       "        vertical-align: middle;\n",
       "    }\n",
       "\n",
       "    .dataframe tbody tr th {\n",
       "        vertical-align: top;\n",
       "    }\n",
       "\n",
       "    .dataframe thead th {\n",
       "        text-align: right;\n",
       "    }\n",
       "</style>\n",
       "<table border=\"1\" class=\"dataframe\">\n",
       "  <thead>\n",
       "    <tr style=\"text-align: right;\">\n",
       "      <th></th>\n",
       "      <th>Date as of</th>\n",
       "      <th>First week</th>\n",
       "      <th>Last week</th>\n",
       "      <th>State</th>\n",
       "      <th>County name</th>\n",
       "      <th>FIPS County Code</th>\n",
       "      <th>Urban Rural Code</th>\n",
       "      <th>Deaths involving COVID-19</th>\n",
       "      <th>Deaths from All Causes</th>\n",
       "    </tr>\n",
       "  </thead>\n",
       "  <tbody>\n",
       "    <tr>\n",
       "      <td>0</td>\n",
       "      <td>01/06/2021</td>\n",
       "      <td>01/04/2020</td>\n",
       "      <td>01/02/2021</td>\n",
       "      <td>AK</td>\n",
       "      <td>Anchorage Borough</td>\n",
       "      <td>2020</td>\n",
       "      <td>Medium metro</td>\n",
       "      <td>112</td>\n",
       "      <td>2143</td>\n",
       "    </tr>\n",
       "    <tr>\n",
       "      <td>1</td>\n",
       "      <td>01/06/2021</td>\n",
       "      <td>01/04/2020</td>\n",
       "      <td>01/02/2021</td>\n",
       "      <td>AK</td>\n",
       "      <td>Fairbanks North Star Borough</td>\n",
       "      <td>2090</td>\n",
       "      <td>Small metro</td>\n",
       "      <td>22</td>\n",
       "      <td>509</td>\n",
       "    </tr>\n",
       "  </tbody>\n",
       "</table>\n",
       "</div>"
      ],
      "text/plain": [
       "   Date as of  First week   Last week State                   County name  \\\n",
       "0  01/06/2021  01/04/2020  01/02/2021    AK             Anchorage Borough   \n",
       "1  01/06/2021  01/04/2020  01/02/2021    AK  Fairbanks North Star Borough   \n",
       "\n",
       "   FIPS County Code Urban Rural Code  Deaths involving COVID-19  \\\n",
       "0              2020     Medium metro                        112   \n",
       "1              2090      Small metro                         22   \n",
       "\n",
       "   Deaths from All Causes  \n",
       "0                    2143  \n",
       "1                     509  "
      ]
     },
     "execution_count": 3,
     "metadata": {},
     "output_type": "execute_result"
    }
   ],
   "source": [
    "covid.head(2)"
   ]
  },
  {
   "cell_type": "code",
   "execution_count": 4,
   "metadata": {
    "scrolled": true
   },
   "outputs": [
    {
     "name": "stdout",
     "output_type": "stream",
     "text": [
      "<class 'pandas.core.frame.DataFrame'>\n",
      "RangeIndex: 1817 entries, 0 to 1816\n",
      "Data columns (total 9 columns):\n",
      "Date as of                   1817 non-null object\n",
      "First week                   1817 non-null object\n",
      "Last week                    1817 non-null object\n",
      "State                        1817 non-null object\n",
      "County name                  1817 non-null object\n",
      "FIPS County Code             1817 non-null int64\n",
      "Urban Rural Code             1817 non-null object\n",
      "Deaths involving COVID-19    1817 non-null int64\n",
      "Deaths from All Causes       1817 non-null int64\n",
      "dtypes: int64(3), object(6)\n",
      "memory usage: 127.9+ KB\n"
     ]
    }
   ],
   "source": [
    "covid.info()"
   ]
  },
  {
   "cell_type": "code",
   "execution_count": 5,
   "metadata": {
    "scrolled": false
   },
   "outputs": [
    {
     "data": {
      "text/html": [
       "<div>\n",
       "<style scoped>\n",
       "    .dataframe tbody tr th:only-of-type {\n",
       "        vertical-align: middle;\n",
       "    }\n",
       "\n",
       "    .dataframe tbody tr th {\n",
       "        vertical-align: top;\n",
       "    }\n",
       "\n",
       "    .dataframe thead th {\n",
       "        text-align: right;\n",
       "    }\n",
       "</style>\n",
       "<table border=\"1\" class=\"dataframe\">\n",
       "  <thead>\n",
       "    <tr style=\"text-align: right;\">\n",
       "      <th></th>\n",
       "      <th>Date as of</th>\n",
       "      <th>First week</th>\n",
       "      <th>Last week</th>\n",
       "      <th>State</th>\n",
       "      <th>County name</th>\n",
       "      <th>FIPS County Code</th>\n",
       "      <th>Urban Rural Code</th>\n",
       "      <th>Deaths involving COVID-19</th>\n",
       "      <th>Deaths from All Causes</th>\n",
       "    </tr>\n",
       "  </thead>\n",
       "  <tbody>\n",
       "    <tr>\n",
       "      <td>1145</td>\n",
       "      <td>01/06/2021</td>\n",
       "      <td>01/04/2020</td>\n",
       "      <td>01/02/2021</td>\n",
       "      <td>NY</td>\n",
       "      <td>Albany County</td>\n",
       "      <td>36001</td>\n",
       "      <td>Medium metro</td>\n",
       "      <td>310</td>\n",
       "      <td>4121</td>\n",
       "    </tr>\n",
       "    <tr>\n",
       "      <td>1146</td>\n",
       "      <td>01/06/2021</td>\n",
       "      <td>01/04/2020</td>\n",
       "      <td>01/02/2021</td>\n",
       "      <td>NY</td>\n",
       "      <td>Allegany County</td>\n",
       "      <td>36003</td>\n",
       "      <td>Noncore</td>\n",
       "      <td>56</td>\n",
       "      <td>438</td>\n",
       "    </tr>\n",
       "    <tr>\n",
       "      <td>1147</td>\n",
       "      <td>01/06/2021</td>\n",
       "      <td>01/04/2020</td>\n",
       "      <td>01/02/2021</td>\n",
       "      <td>NY</td>\n",
       "      <td>Bronx County</td>\n",
       "      <td>36005</td>\n",
       "      <td>Large central metro</td>\n",
       "      <td>4454</td>\n",
       "      <td>16596</td>\n",
       "    </tr>\n",
       "    <tr>\n",
       "      <td>1148</td>\n",
       "      <td>01/06/2021</td>\n",
       "      <td>01/04/2020</td>\n",
       "      <td>01/02/2021</td>\n",
       "      <td>NY</td>\n",
       "      <td>Broome County</td>\n",
       "      <td>36007</td>\n",
       "      <td>Small metro</td>\n",
       "      <td>227</td>\n",
       "      <td>2568</td>\n",
       "    </tr>\n",
       "    <tr>\n",
       "      <td>1149</td>\n",
       "      <td>01/06/2021</td>\n",
       "      <td>01/04/2020</td>\n",
       "      <td>01/02/2021</td>\n",
       "      <td>NY</td>\n",
       "      <td>Cattaraugus County</td>\n",
       "      <td>36009</td>\n",
       "      <td>Micropolitan</td>\n",
       "      <td>29</td>\n",
       "      <td>764</td>\n",
       "    </tr>\n",
       "  </tbody>\n",
       "</table>\n",
       "</div>"
      ],
      "text/plain": [
       "      Date as of  First week   Last week State         County name  \\\n",
       "1145  01/06/2021  01/04/2020  01/02/2021    NY       Albany County   \n",
       "1146  01/06/2021  01/04/2020  01/02/2021    NY     Allegany County   \n",
       "1147  01/06/2021  01/04/2020  01/02/2021    NY        Bronx County   \n",
       "1148  01/06/2021  01/04/2020  01/02/2021    NY       Broome County   \n",
       "1149  01/06/2021  01/04/2020  01/02/2021    NY  Cattaraugus County   \n",
       "\n",
       "      FIPS County Code     Urban Rural Code  Deaths involving COVID-19  \\\n",
       "1145             36001         Medium metro                        310   \n",
       "1146             36003              Noncore                         56   \n",
       "1147             36005  Large central metro                       4454   \n",
       "1148             36007          Small metro                        227   \n",
       "1149             36009         Micropolitan                         29   \n",
       "\n",
       "      Deaths from All Causes  \n",
       "1145                    4121  \n",
       "1146                     438  \n",
       "1147                   16596  \n",
       "1148                    2568  \n",
       "1149                     764  "
      ]
     },
     "execution_count": 5,
     "metadata": {},
     "output_type": "execute_result"
    }
   ],
   "source": [
    "covid.loc[covid['State']=='NY'].head()"
   ]
  },
  {
   "cell_type": "code",
   "execution_count": 6,
   "metadata": {
    "scrolled": true
   },
   "outputs": [
    {
     "data": {
      "text/plain": [
       "True"
      ]
     },
     "execution_count": 6,
     "metadata": {},
     "output_type": "execute_result"
    }
   ],
   "source": [
    "# Is there one line per county?\n",
    "covid.loc[covid['State']=='NY']['County name'].nunique() == len(covid.loc[covid['State']=='NY'])"
   ]
  },
  {
   "cell_type": "markdown",
   "metadata": {},
   "source": [
    "This data represents the total count as of 1/6/21 which might be helpful to keep."
   ]
  },
  {
   "cell_type": "code",
   "execution_count": 7,
   "metadata": {},
   "outputs": [],
   "source": [
    "covid_total = covid.copy()\n",
    "del covid"
   ]
  },
  {
   "cell_type": "code",
   "execution_count": 8,
   "metadata": {},
   "outputs": [],
   "source": [
    "covid_daily = pd.read_csv('./data/ny_daily_covid_deaths_by_county_010621.csv')"
   ]
  },
  {
   "cell_type": "code",
   "execution_count": 9,
   "metadata": {
    "scrolled": false
   },
   "outputs": [
    {
     "data": {
      "text/plain": [
       "Index(['countyFIPS', 'County Name', 'State', 'stateFIPS', '1/22/20', '1/23/20',\n",
       "       '1/24/20', '1/25/20', '1/26/20', '1/27/20',\n",
       "       ...\n",
       "       '12/30/20', '12/31/20', '1/1/21', '1/2/21', '1/3/21', '1/4/21',\n",
       "       '1/5/21', '1/6/21', '1/7/21', '1/8/21'],\n",
       "      dtype='object', length=357)"
      ]
     },
     "execution_count": 9,
     "metadata": {},
     "output_type": "execute_result"
    }
   ],
   "source": [
    "covid_daily.columns"
   ]
  },
  {
   "cell_type": "markdown",
   "metadata": {},
   "source": [
    "This dataset is poorly structured for analysis with each county with a row and each new date with a column. We need to restructure quickly for usage. Once restructured, we will most likely need to change the data type for dates and values."
   ]
  },
  {
   "cell_type": "markdown",
   "metadata": {},
   "source": [
    "**Air Quality**"
   ]
  },
  {
   "cell_type": "code",
   "execution_count": 10,
   "metadata": {},
   "outputs": [],
   "source": [
    "aqi_breakpoints = pd.read_csv('./data/aqi_breakpoints.csv')"
   ]
  },
  {
   "cell_type": "code",
   "execution_count": 11,
   "metadata": {
    "scrolled": true
   },
   "outputs": [
    {
     "name": "stdout",
     "output_type": "stream",
     "text": [
      "<class 'pandas.core.frame.DataFrame'>\n",
      "RangeIndex: 87 entries, 0 to 86\n",
      "Data columns (total 9 columns):\n",
      "Parameter               87 non-null object\n",
      "Parameter Code          87 non-null int64\n",
      "Duration Code           87 non-null object\n",
      "Duration Description    87 non-null object\n",
      "AQI Category            87 non-null object\n",
      "Low AQI                 87 non-null int64\n",
      "High AQI                87 non-null int64\n",
      "Low Breakpoint          87 non-null float64\n",
      "High Breakpoint         87 non-null float64\n",
      "dtypes: float64(2), int64(3), object(4)\n",
      "memory usage: 6.2+ KB\n"
     ]
    }
   ],
   "source": [
    "aqi_breakpoints.info()"
   ]
  },
  {
   "cell_type": "code",
   "execution_count": 12,
   "metadata": {
    "scrolled": true
   },
   "outputs": [
    {
     "data": {
      "text/plain": [
       "array(['Acceptable PM2.5 AQI & Speciation Mass', 'Carbon monoxide',\n",
       "       'Nitrogen dioxide (NO2)', 'Ozone', 'PM10 Total 0-10um STP',\n",
       "       'PM2.5 - Local Conditions', 'Sulfur dioxide'], dtype=object)"
      ]
     },
     "execution_count": 12,
     "metadata": {},
     "output_type": "execute_result"
    }
   ],
   "source": [
    "aqi_breakpoints['Parameter'].unique()"
   ]
  },
  {
   "cell_type": "markdown",
   "metadata": {},
   "source": [
    "Pending - preprocessing. Choose what parameters to base analysis on."
   ]
  },
  {
   "cell_type": "markdown",
   "metadata": {},
   "source": [
    "This dataset includes air quality measures for NY state based on year and pollutant - PM 2.5"
   ]
  },
  {
   "cell_type": "code",
   "execution_count": 13,
   "metadata": {},
   "outputs": [],
   "source": [
    "#2020 year\n",
    "air_2020 = pd.read_csv('./data/ny_air_quality_data_2020_pm2.5.csv')\n",
    "air_2020['year'] = 2020"
   ]
  },
  {
   "cell_type": "code",
   "execution_count": 14,
   "metadata": {},
   "outputs": [
    {
     "name": "stdout",
     "output_type": "stream",
     "text": [
      "<class 'pandas.core.frame.DataFrame'>\n",
      "RangeIndex: 9743 entries, 0 to 9742\n",
      "Data columns (total 21 columns):\n",
      "Date                              9743 non-null object\n",
      "Source                            9743 non-null object\n",
      "Site ID                           9743 non-null int64\n",
      "POC                               9743 non-null int64\n",
      "Daily Mean PM2.5 Concentration    9743 non-null float64\n",
      "UNITS                             9743 non-null object\n",
      "DAILY_AQI_VALUE                   9743 non-null int64\n",
      "Site Name                         9743 non-null object\n",
      "DAILY_OBS_COUNT                   9743 non-null int64\n",
      "PERCENT_COMPLETE                  9743 non-null float64\n",
      "AQS_PARAMETER_CODE                9743 non-null int64\n",
      "AQS_PARAMETER_DESC                9743 non-null object\n",
      "CBSA_CODE                         9337 non-null float64\n",
      "CBSA_NAME                         9337 non-null object\n",
      "STATE_CODE                        9743 non-null int64\n",
      "STATE                             9743 non-null object\n",
      "COUNTY_CODE                       9743 non-null int64\n",
      "COUNTY                            9743 non-null object\n",
      "SITE_LATITUDE                     9743 non-null float64\n",
      "SITE_LONGITUDE                    9743 non-null float64\n",
      "year                              9743 non-null int64\n",
      "dtypes: float64(5), int64(8), object(8)\n",
      "memory usage: 1.6+ MB\n"
     ]
    }
   ],
   "source": [
    "air_2020.info()"
   ]
  },
  {
   "cell_type": "markdown",
   "metadata": {},
   "source": [
    "Multiple reports describe mobility in 2020 related to quarantine and proliferation of Work From Home policies including [this one](https://www.bloomberg.com/news/features/2020-12-17/work-from-home-tech-companies-cut-pay-of-workers-moving-out-of-big-cities). Assumingly, population has an effect on AQI and it would be better to look at AQI across many years rather than just 2020."
   ]
  },
  {
   "cell_type": "code",
   "execution_count": 15,
   "metadata": {},
   "outputs": [],
   "source": [
    "air_2019 = pd.read_csv('./data/ny_air_quality_data_2019_pm2.5.csv')\n",
    "air_2019['year'] = 2019\n",
    "air_2018 = pd.read_csv('./data/ny_air_quality_data_2018_pm2.5.csv')\n",
    "air_2018['year'] = 2018\n",
    "air_2017 = pd.read_csv('./data/ny_air_quality_data_2017_pm2.5.csv')\n",
    "air_2017['year'] = 2017\n",
    "air_2016 = pd.read_csv('./data/ny_air_quality_data_2016_pm2.5.csv')\n",
    "air_2016['year'] = 2016\n",
    "air_2015 = pd.read_csv('./data/ny_air_quality_data_2015_pm2.5.csv')\n",
    "air_2015['year'] = 2015\n",
    "air_2014 = pd.read_csv('./data/ny_air_quality_data_2014_pm2.5.csv')\n",
    "air_2014['year'] = 2014\n",
    "air_2013 = pd.read_csv('./data/ny_air_quality_data_2013_pm2.5.csv')\n",
    "air_2013['year'] = 2013\n",
    "air_2012 = pd.read_csv('./data/ny_air_quality_data_2012_pm2.5.csv')\n",
    "air_2012['year'] = 2012\n",
    "air_2011 = pd.read_csv('./data/ny_air_quality_data_2011_pm2.5.csv')\n",
    "air_2011['year'] = 2011\n",
    "air_2010 = pd.read_csv('./data/ny_air_quality_data_2010_pm2.5.csv')\n",
    "air_2010['year'] = 2010"
   ]
  },
  {
   "cell_type": "code",
   "execution_count": 16,
   "metadata": {},
   "outputs": [],
   "source": [
    "air_2010_2020 = pd.concat([air_2010, air_2011,air_2012,air_2013,air_2014,air_2015,air_2016,air_2017,air_2018,air_2019,air_2020], ignore_index=True)"
   ]
  },
  {
   "cell_type": "code",
   "execution_count": 17,
   "metadata": {
    "scrolled": false
   },
   "outputs": [
    {
     "name": "stdout",
     "output_type": "stream",
     "text": [
      "<class 'pandas.core.frame.DataFrame'>\n",
      "RangeIndex: 133889 entries, 0 to 133888\n",
      "Data columns (total 21 columns):\n",
      "Date                              133889 non-null object\n",
      "Source                            133889 non-null object\n",
      "Site ID                           133889 non-null int64\n",
      "POC                               133889 non-null int64\n",
      "Daily Mean PM2.5 Concentration    133889 non-null float64\n",
      "UNITS                             133889 non-null object\n",
      "DAILY_AQI_VALUE                   133889 non-null int64\n",
      "Site Name                         133889 non-null object\n",
      "DAILY_OBS_COUNT                   133889 non-null int64\n",
      "PERCENT_COMPLETE                  133889 non-null float64\n",
      "AQS_PARAMETER_CODE                133889 non-null int64\n",
      "AQS_PARAMETER_DESC                133889 non-null object\n",
      "CBSA_CODE                         129652 non-null float64\n",
      "CBSA_NAME                         129652 non-null object\n",
      "STATE_CODE                        133889 non-null int64\n",
      "STATE                             133889 non-null object\n",
      "COUNTY_CODE                       133889 non-null int64\n",
      "COUNTY                            133889 non-null object\n",
      "SITE_LATITUDE                     133889 non-null float64\n",
      "SITE_LONGITUDE                    133889 non-null float64\n",
      "year                              133889 non-null int64\n",
      "dtypes: float64(5), int64(8), object(8)\n",
      "memory usage: 21.5+ MB\n"
     ]
    }
   ],
   "source": [
    "air_2010_2020.info()"
   ]
  },
  {
   "cell_type": "code",
   "execution_count": 18,
   "metadata": {
    "scrolled": true
   },
   "outputs": [
    {
     "data": {
      "text/plain": [
       "array([2010, 2011, 2012, 2013, 2014, 2015, 2016, 2017, 2018, 2019, 2020],\n",
       "      dtype=int64)"
      ]
     },
     "execution_count": 18,
     "metadata": {},
     "output_type": "execute_result"
    }
   ],
   "source": [
    "#are there 11 years of data?\n",
    "air_2010_2020.year.unique()"
   ]
  },
  {
   "cell_type": "code",
   "execution_count": 19,
   "metadata": {
    "scrolled": true
   },
   "outputs": [
    {
     "data": {
      "text/plain": [
       "Date                                 0\n",
       "Source                               0\n",
       "Site ID                              0\n",
       "POC                                  0\n",
       "Daily Mean PM2.5 Concentration       0\n",
       "UNITS                                0\n",
       "DAILY_AQI_VALUE                      0\n",
       "Site Name                            0\n",
       "DAILY_OBS_COUNT                      0\n",
       "PERCENT_COMPLETE                     0\n",
       "AQS_PARAMETER_CODE                   0\n",
       "AQS_PARAMETER_DESC                   0\n",
       "CBSA_CODE                         4237\n",
       "CBSA_NAME                         4237\n",
       "STATE_CODE                           0\n",
       "STATE                                0\n",
       "COUNTY_CODE                          0\n",
       "COUNTY                               0\n",
       "SITE_LATITUDE                        0\n",
       "SITE_LONGITUDE                       0\n",
       "year                                 0\n",
       "dtype: int64"
      ]
     },
     "execution_count": 19,
     "metadata": {},
     "output_type": "execute_result"
    }
   ],
   "source": [
    "air_2010_2020.isna().sum()"
   ]
  },
  {
   "cell_type": "markdown",
   "metadata": {},
   "source": [
    "The only column with null are CBSA related (Core Based Statistical Areas) which will not be used"
   ]
  },
  {
   "cell_type": "code",
   "execution_count": 20,
   "metadata": {},
   "outputs": [
    {
     "data": {
      "text/plain": [
       "Date                                               01/01/2010\n",
       "Source                                                    AQS\n",
       "Site ID                                             360010005\n",
       "POC                                                         1\n",
       "Daily Mean PM2.5 Concentration                           22.5\n",
       "UNITS                                                ug/m3 LC\n",
       "DAILY_AQI_VALUE                                            73\n",
       "Site Name                           ALBANY COUNTY HEALTH DEPT\n",
       "DAILY_OBS_COUNT                                             1\n",
       "PERCENT_COMPLETE                                          100\n",
       "AQS_PARAMETER_CODE                                      88101\n",
       "AQS_PARAMETER_DESC                   PM2.5 - Local Conditions\n",
       "CBSA_CODE                                               10580\n",
       "CBSA_NAME                         Albany-Schenectady-Troy, NY\n",
       "STATE_CODE                                                 36\n",
       "STATE                                                New York\n",
       "COUNTY_CODE                                                 1\n",
       "COUNTY                                                 Albany\n",
       "SITE_LATITUDE                                         42.6422\n",
       "SITE_LONGITUDE                                       -73.7546\n",
       "year                                                     2010\n",
       "Name: 0, dtype: object"
      ]
     },
     "execution_count": 20,
     "metadata": {},
     "output_type": "execute_result"
    }
   ],
   "source": [
    "air_2010_2020.iloc[0]"
   ]
  },
  {
   "cell_type": "code",
   "execution_count": 21,
   "metadata": {
    "scrolled": false
   },
   "outputs": [
    {
     "data": {
      "text/plain": [
       "array(['AQS', 'AirNow'], dtype=object)"
      ]
     },
     "execution_count": 21,
     "metadata": {},
     "output_type": "execute_result"
    }
   ],
   "source": [
    "air_2010_2020['Source'].unique()"
   ]
  },
  {
   "cell_type": "code",
   "execution_count": 22,
   "metadata": {},
   "outputs": [
    {
     "data": {
      "text/plain": [
       "AQS       133386\n",
       "AirNow       503\n",
       "Name: Source, dtype: int64"
      ]
     },
     "execution_count": 22,
     "metadata": {},
     "output_type": "execute_result"
    }
   ],
   "source": [
    "air_2010_2020['Source'].value_counts()"
   ]
  },
  {
   "cell_type": "markdown",
   "metadata": {},
   "source": [
    "2 sources of data. \"**AQS** data are used for regulatory purposes, such as determining attainment of the National Ambient Air Quality Standards (NAAQS), while **AirNow** data are used only to report the AQI to the public.\" ([Source](https://www.airnow.gov/about-the-data/#:~:text=AQS%20data%20are%20used%20for,the%20AQI%20to%20the%20public.)). Both will be used."
   ]
  },
  {
   "cell_type": "code",
   "execution_count": 23,
   "metadata": {},
   "outputs": [
    {
     "data": {
      "text/plain": [
       "50"
      ]
     },
     "execution_count": 23,
     "metadata": {},
     "output_type": "execute_result"
    }
   ],
   "source": [
    "air_2010_2020['Site Name'].nunique()"
   ]
  },
  {
   "cell_type": "markdown",
   "metadata": {},
   "source": [
    "50 sites collecting data"
   ]
  },
  {
   "cell_type": "code",
   "execution_count": 24,
   "metadata": {
    "scrolled": false
   },
   "outputs": [
    {
     "data": {
      "text/plain": [
       "count    133889.000000\n",
       "mean          7.550299\n",
       "std           4.748374\n",
       "min          -4.500000\n",
       "25%           4.200000\n",
       "50%           6.600000\n",
       "75%           9.800000\n",
       "max          71.500000\n",
       "Name: Daily Mean PM2.5 Concentration, dtype: float64"
      ]
     },
     "execution_count": 24,
     "metadata": {},
     "output_type": "execute_result"
    }
   ],
   "source": [
    "air_2010_2020['Daily Mean PM2.5 Concentration'].describe()"
   ]
  },
  {
   "cell_type": "code",
   "execution_count": 25,
   "metadata": {
    "scrolled": true
   },
   "outputs": [
    {
     "data": {
      "text/plain": [
       "count    133889.0\n",
       "mean        100.0\n",
       "std           0.0\n",
       "min         100.0\n",
       "25%         100.0\n",
       "50%         100.0\n",
       "75%         100.0\n",
       "max         100.0\n",
       "Name: PERCENT_COMPLETE, dtype: float64"
      ]
     },
     "execution_count": 25,
     "metadata": {},
     "output_type": "execute_result"
    }
   ],
   "source": [
    "#is percent always 100%\n",
    "air_2010_2020['PERCENT_COMPLETE'].describe()"
   ]
  },
  {
   "cell_type": "code",
   "execution_count": 26,
   "metadata": {},
   "outputs": [
    {
     "data": {
      "text/plain": [
       "array([88101, 88502], dtype=int64)"
      ]
     },
     "execution_count": 26,
     "metadata": {},
     "output_type": "execute_result"
    }
   ],
   "source": [
    "air_2010_2020['AQS_PARAMETER_CODE'].unique()"
   ]
  },
  {
   "cell_type": "code",
   "execution_count": 27,
   "metadata": {
    "scrolled": true
   },
   "outputs": [
    {
     "data": {
      "text/plain": [
       "array(['PM2.5 - Local Conditions',\n",
       "       'Acceptable PM2.5 AQI & Speciation Mass'], dtype=object)"
      ]
     },
     "execution_count": 27,
     "metadata": {},
     "output_type": "execute_result"
    }
   ],
   "source": [
    "air_2010_2020['AQS_PARAMETER_DESC'].unique()"
   ]
  },
  {
   "cell_type": "markdown",
   "metadata": {},
   "source": [
    "There are two parameters being reported on PM2.5 - Local Condition and Acceptable PM2.5 AQI & Specialization Mass (Codes: 88101 and 88502). According [the EPA's website](https://www.epa.gov/outdoor-air-quality-data/air-data-frequent-questions#8), when making visualizations they measure both but when reporting data they use only 88101"
   ]
  },
  {
   "cell_type": "code",
   "execution_count": 28,
   "metadata": {
    "scrolled": false
   },
   "outputs": [
    {
     "data": {
      "text/plain": [
       "count    133889.0\n",
       "mean          1.0\n",
       "std           0.0\n",
       "min           1.0\n",
       "25%           1.0\n",
       "50%           1.0\n",
       "75%           1.0\n",
       "max           1.0\n",
       "Name: DAILY_OBS_COUNT, dtype: float64"
      ]
     },
     "execution_count": 28,
     "metadata": {},
     "output_type": "execute_result"
    }
   ],
   "source": [
    "air_2010_2020['DAILY_OBS_COUNT'].describe()"
   ]
  },
  {
   "cell_type": "markdown",
   "metadata": {},
   "source": [
    "Each site has one observation per day."
   ]
  },
  {
   "cell_type": "code",
   "execution_count": 29,
   "metadata": {},
   "outputs": [
    {
     "data": {
      "text/plain": [
       "array(['New York'], dtype=object)"
      ]
     },
     "execution_count": 29,
     "metadata": {},
     "output_type": "execute_result"
    }
   ],
   "source": [
    "#Confirm only NY\n",
    "air_2010_2020['STATE'].unique()"
   ]
  },
  {
   "cell_type": "code",
   "execution_count": 30,
   "metadata": {
    "scrolled": true
   },
   "outputs": [
    {
     "name": "stdout",
     "output_type": "stream",
     "text": [
      "<class 'pandas.core.frame.DataFrame'>\n",
      "RangeIndex: 133889 entries, 0 to 133888\n",
      "Data columns (total 21 columns):\n",
      "Date                              133889 non-null object\n",
      "Source                            133889 non-null object\n",
      "Site ID                           133889 non-null int64\n",
      "POC                               133889 non-null int64\n",
      "Daily Mean PM2.5 Concentration    133889 non-null float64\n",
      "UNITS                             133889 non-null object\n",
      "DAILY_AQI_VALUE                   133889 non-null int64\n",
      "Site Name                         133889 non-null object\n",
      "DAILY_OBS_COUNT                   133889 non-null int64\n",
      "PERCENT_COMPLETE                  133889 non-null float64\n",
      "AQS_PARAMETER_CODE                133889 non-null int64\n",
      "AQS_PARAMETER_DESC                133889 non-null object\n",
      "CBSA_CODE                         129652 non-null float64\n",
      "CBSA_NAME                         129652 non-null object\n",
      "STATE_CODE                        133889 non-null int64\n",
      "STATE                             133889 non-null object\n",
      "COUNTY_CODE                       133889 non-null int64\n",
      "COUNTY                            133889 non-null object\n",
      "SITE_LATITUDE                     133889 non-null float64\n",
      "SITE_LONGITUDE                    133889 non-null float64\n",
      "year                              133889 non-null int64\n",
      "dtypes: float64(5), int64(8), object(8)\n",
      "memory usage: 21.5+ MB\n"
     ]
    }
   ],
   "source": [
    "air_2010_2020.info()"
   ]
  },
  {
   "cell_type": "markdown",
   "metadata": {},
   "source": [
    "Data updates needed\n",
    "* date to datime"
   ]
  },
  {
   "cell_type": "markdown",
   "metadata": {},
   "source": [
    "**County Demographics**"
   ]
  },
  {
   "cell_type": "code",
   "execution_count": 31,
   "metadata": {},
   "outputs": [],
   "source": [
    "#Age Group & Sex\n",
    "county_pop_by_characteristics_age_sex = pd.read_csv('./data/county_population_by_characteristics_2010-2019_age-group_sex.csv')"
   ]
  },
  {
   "cell_type": "code",
   "execution_count": 32,
   "metadata": {
    "scrolled": true
   },
   "outputs": [
    {
     "data": {
      "text/plain": [
       "SUMLEV                        50\n",
       "STATE                         36\n",
       "COUNTY                         1\n",
       "STNAME                  New York\n",
       "CTYNAME            Albany County\n",
       "                       ...      \n",
       "AGE85PLUS_MALE              2104\n",
       "AGE85PLUS_FEM               4996\n",
       "MEDIAN_AGE_TOT              38.5\n",
       "MEDIAN_AGE_MALE             36.8\n",
       "MEDIAN_AGE_FEM                40\n",
       "Name: 0, Length: 96, dtype: object"
      ]
     },
     "execution_count": 32,
     "metadata": {},
     "output_type": "execute_result"
    }
   ],
   "source": [
    "county_pop_by_characteristics_age_sex.iloc[0]"
   ]
  },
  {
   "cell_type": "code",
   "execution_count": 33,
   "metadata": {
    "scrolled": true
   },
   "outputs": [
    {
     "data": {
      "text/plain": [
       "Index(['SUMLEV', 'STATE', 'COUNTY', 'STNAME', 'CTYNAME', 'YEAR', 'POPESTIMATE',\n",
       "       'POPEST_MALE', 'POPEST_FEM', 'UNDER5_TOT', 'UNDER5_MALE', 'UNDER5_FEM',\n",
       "       'AGE513_TOT', 'AGE513_MALE', 'AGE513_FEM', 'AGE1417_TOT',\n",
       "       'AGE1417_MALE', 'AGE1417_FEM', 'AGE1824_TOT', 'AGE1824_MALE',\n",
       "       'AGE1824_FEM', 'AGE16PLUS_TOT', 'AGE16PLUS_MALE', 'AGE16PLUS_FEM',\n",
       "       'AGE18PLUS_TOT', 'AGE18PLUS_MALE', 'AGE18PLUS_FEM', 'AGE1544_TOT',\n",
       "       'AGE1544_MALE', 'AGE1544_FEM', 'AGE2544_TOT', 'AGE2544_MALE',\n",
       "       'AGE2544_FEM', 'AGE4564_TOT', 'AGE4564_MALE', 'AGE4564_FEM',\n",
       "       'AGE65PLUS_TOT', 'AGE65PLUS_MALE', 'AGE65PLUS_FEM', 'AGE04_TOT',\n",
       "       'AGE04_MALE', 'AGE04_FEM', 'AGE59_TOT', 'AGE59_MALE', 'AGE59_FEM',\n",
       "       'AGE1014_TOT', 'AGE1014_MALE', 'AGE1014_FEM', 'AGE1519_TOT',\n",
       "       'AGE1519_MALE', 'AGE1519_FEM', 'AGE2024_TOT', 'AGE2024_MALE',\n",
       "       'AGE2024_FEM', 'AGE2529_TOT', 'AGE2529_MALE', 'AGE2529_FEM',\n",
       "       'AGE3034_TOT', 'AGE3034_MALE', 'AGE3034_FEM', 'AGE3539_TOT',\n",
       "       'AGE3539_MALE', 'AGE3539_FEM', 'AGE4044_TOT', 'AGE4044_MALE',\n",
       "       'AGE4044_FEM', 'AGE4549_TOT', 'AGE4549_MALE', 'AGE4549_FEM',\n",
       "       'AGE5054_TOT', 'AGE5054_MALE', 'AGE5054_FEM', 'AGE5559_TOT',\n",
       "       'AGE5559_MALE', 'AGE5559_FEM', 'AGE6064_TOT', 'AGE6064_MALE',\n",
       "       'AGE6064_FEM', 'AGE6569_TOT', 'AGE6569_MALE', 'AGE6569_FEM',\n",
       "       'AGE7074_TOT', 'AGE7074_MALE', 'AGE7074_FEM', 'AGE7579_TOT',\n",
       "       'AGE7579_MALE', 'AGE7579_FEM', 'AGE8084_TOT', 'AGE8084_MALE',\n",
       "       'AGE8084_FEM', 'AGE85PLUS_TOT', 'AGE85PLUS_MALE', 'AGE85PLUS_FEM',\n",
       "       'MEDIAN_AGE_TOT', 'MEDIAN_AGE_MALE', 'MEDIAN_AGE_FEM'],\n",
       "      dtype='object')"
      ]
     },
     "execution_count": 33,
     "metadata": {},
     "output_type": "execute_result"
    }
   ],
   "source": [
    "county_pop_by_characteristics_age_sex.columns"
   ]
  },
  {
   "cell_type": "markdown",
   "metadata": {},
   "source": [
    "This dataframe has 96 variables! Way too much information to take in as is. These are the columns of interest after looking at the [file layout](https://www2.census.gov/programs-surveys/popest/technical-documentation/file-layouts/2010-2019/cc-est2019-agesex.pdf) document included in the documentation\n",
    "\n",
    "* COUNTY County FIPS code\n",
    "* CTYNAME County name\n",
    "* YEAR Year\n",
    "* POPESTIMATE Total population\n",
    "* POPEST_MALE Male population\n",
    "* POPEST_FEM Female population\n",
    "\n",
    "* UNDER5_TOT Total population under 5 years\n",
    "* AGE513_TOT Total population age 5 to 13\n",
    "* AGE1417_TOT Total population age 14 to 17\n",
    "* AGE1824_TOT Total population age 18 to 24\n",
    "* AGE18PLUS_TOT Total population age 18 years and over\n",
    "* AGE18PLUS_MALE Male population age 18 years and over\n",
    "* AGE18PLUS_FEM Female population age 18 years and over\n",
    "* AGE1544_TOT Total population age 15 to 44\n",
    "* AGE65PLUS_TOT Total population age 65 years and over\n",
    "* AGE2529_TOT Total population age 25 to 29\n",
    "\n",
    "\n",
    "The key for the YEAR variable to be used: 12 = 7/1/2019 population estimate\n",
    "\n",
    "\n",
    "In this source, we learn that **population estimate** = population base + births - deaths + migration\n"
   ]
  },
  {
   "cell_type": "code",
   "execution_count": 34,
   "metadata": {},
   "outputs": [],
   "source": [
    "county_pop_by_characteristics_age_sex_race_hispanic = pd.read_csv('./data/county_population_by_characteristics_2010-2019_age_sex_race_hispanic-origin.csv')"
   ]
  },
  {
   "cell_type": "code",
   "execution_count": 35,
   "metadata": {
    "scrolled": true
   },
   "outputs": [
    {
     "data": {
      "text/plain": [
       "Index(['SUMLEV', 'STATE', 'COUNTY', 'STNAME', 'CTYNAME', 'YEAR', 'AGEGRP',\n",
       "       'TOT_POP', 'TOT_MALE', 'TOT_FEMALE', 'WA_MALE', 'WA_FEMALE', 'BA_MALE',\n",
       "       'BA_FEMALE', 'IA_MALE', 'IA_FEMALE', 'AA_MALE', 'AA_FEMALE', 'NA_MALE',\n",
       "       'NA_FEMALE', 'TOM_MALE', 'TOM_FEMALE', 'WAC_MALE', 'WAC_FEMALE',\n",
       "       'BAC_MALE', 'BAC_FEMALE', 'IAC_MALE', 'IAC_FEMALE', 'AAC_MALE',\n",
       "       'AAC_FEMALE', 'NAC_MALE', 'NAC_FEMALE', 'NH_MALE', 'NH_FEMALE',\n",
       "       'NHWA_MALE', 'NHWA_FEMALE', 'NHBA_MALE', 'NHBA_FEMALE', 'NHIA_MALE',\n",
       "       'NHIA_FEMALE', 'NHAA_MALE', 'NHAA_FEMALE', 'NHNA_MALE', 'NHNA_FEMALE',\n",
       "       'NHTOM_MALE', 'NHTOM_FEMALE', 'NHWAC_MALE', 'NHWAC_FEMALE',\n",
       "       'NHBAC_MALE', 'NHBAC_FEMALE', 'NHIAC_MALE', 'NHIAC_FEMALE',\n",
       "       'NHAAC_MALE', 'NHAAC_FEMALE', 'NHNAC_MALE', 'NHNAC_FEMALE', 'H_MALE',\n",
       "       'H_FEMALE', 'HWA_MALE', 'HWA_FEMALE', 'HBA_MALE', 'HBA_FEMALE',\n",
       "       'HIA_MALE', 'HIA_FEMALE', 'HAA_MALE', 'HAA_FEMALE', 'HNA_MALE',\n",
       "       'HNA_FEMALE', 'HTOM_MALE', 'HTOM_FEMALE', 'HWAC_MALE', 'HWAC_FEMALE',\n",
       "       'HBAC_MALE', 'HBAC_FEMALE', 'HIAC_MALE', 'HIAC_FEMALE', 'HAAC_MALE',\n",
       "       'HAAC_FEMALE', 'HNAC_MALE', 'HNAC_FEMALE'],\n",
       "      dtype='object')"
      ]
     },
     "execution_count": 35,
     "metadata": {},
     "output_type": "execute_result"
    }
   ],
   "source": [
    "county_pop_by_characteristics_age_sex_race_hispanic.columns"
   ]
  },
  {
   "cell_type": "code",
   "execution_count": 36,
   "metadata": {},
   "outputs": [
    {
     "data": {
      "text/plain": [
       "80"
      ]
     },
     "execution_count": 36,
     "metadata": {},
     "output_type": "execute_result"
    }
   ],
   "source": [
    "len(county_pop_by_characteristics_age_sex_race_hispanic.columns)"
   ]
  },
  {
   "cell_type": "code",
   "execution_count": 37,
   "metadata": {
    "scrolled": true
   },
   "outputs": [
    {
     "data": {
      "text/plain": [
       "SUMLEV                    50\n",
       "STATE                     36\n",
       "COUNTY                     1\n",
       "STNAME              New York\n",
       "CTYNAME        Albany County\n",
       "                   ...      \n",
       "HIAC_FEMALE              410\n",
       "HAAC_MALE                139\n",
       "HAAC_FEMALE              141\n",
       "HNAC_MALE                 41\n",
       "HNAC_FEMALE               41\n",
       "Name: 0, Length: 80, dtype: object"
      ]
     },
     "execution_count": 37,
     "metadata": {},
     "output_type": "execute_result"
    }
   ],
   "source": [
    "county_pop_by_characteristics_age_sex_race_hispanic.iloc[0]"
   ]
  },
  {
   "cell_type": "markdown",
   "metadata": {},
   "source": [
    "This dataset has 80 columns. Below are the columms of interest after review of [file layout](https://www2.census.gov/programs-surveys/popest/technical-documentation/file-layouts/2010-2019/cc-est2019-alldata.pdf) document included in data source.\n",
    "\n",
    "* COUNTY FIPS\n",
    "* CTYNAME County Name\n",
    "* YEAR year (key: 12 = 7/1/2019 population estimate, last date)\n",
    "* AGEGRP age group (key: 0 is total)\n",
    "* TOT_POP Total Population\n",
    "* NH_MALE Not Hispanic male population\n",
    "* NH_FEMALE Not Hispanic female population\n",
    "* WA_MALE White alone male population\n",
    "* WA_FEMALE White alone female population\n",
    "* BA_MALE Black or African American alone male population\n",
    "* BA_FEMALE Black or African American alone female population\n",
    "* IA_MALE  American Indian and Alaska Native alone male population\n",
    "* IA_FEMALE American Indian and Alaska Native alone female population\n",
    "* AA_MALE Asian alone male population\n",
    "* AA_FEMALE Asian alone female population\n",
    "* NA_MALE Native Hawaiian and Other Pacific Islander alone male population\n",
    "* NA_FEMALE Native Hawaiian and Other Pacific Islander alone female population\n",
    "* TOM_MALE Two or More Races male population\n",
    "* TOM_FEMALE Two or More Races female population\n",
    "* H_MALE Hispanic male population\n",
    "* H_FEMALE Hispanic female population"
   ]
  },
  {
   "cell_type": "markdown",
   "metadata": {},
   "source": [
    "So far, all data in population in integers. To fairly compare counties, we must normalize data."
   ]
  },
  {
   "cell_type": "code",
   "execution_count": 38,
   "metadata": {},
   "outputs": [],
   "source": [
    "# county size - to normalize these population fields\n",
    "county_size = pd.read_csv('./data/ny_land_size_county.csv')"
   ]
  },
  {
   "cell_type": "code",
   "execution_count": 39,
   "metadata": {
    "scrolled": true
   },
   "outputs": [
    {
     "name": "stdout",
     "output_type": "stream",
     "text": [
      "<class 'pandas.core.frame.DataFrame'>\n",
      "RangeIndex: 62 entries, 0 to 61\n",
      "Data columns (total 2 columns):\n",
      "County          62 non-null object\n",
      "Square Miles    62 non-null float64\n",
      "dtypes: float64(1), object(1)\n",
      "memory usage: 1.1+ KB\n"
     ]
    }
   ],
   "source": [
    "county_size.info()"
   ]
  },
  {
   "cell_type": "code",
   "execution_count": 40,
   "metadata": {
    "scrolled": true
   },
   "outputs": [
    {
     "data": {
      "text/html": [
       "<div>\n",
       "<style scoped>\n",
       "    .dataframe tbody tr th:only-of-type {\n",
       "        vertical-align: middle;\n",
       "    }\n",
       "\n",
       "    .dataframe tbody tr th {\n",
       "        vertical-align: top;\n",
       "    }\n",
       "\n",
       "    .dataframe thead th {\n",
       "        text-align: right;\n",
       "    }\n",
       "</style>\n",
       "<table border=\"1\" class=\"dataframe\">\n",
       "  <thead>\n",
       "    <tr style=\"text-align: right;\">\n",
       "      <th></th>\n",
       "      <th>County</th>\n",
       "      <th>Square Miles</th>\n",
       "    </tr>\n",
       "  </thead>\n",
       "  <tbody>\n",
       "    <tr>\n",
       "      <td>0</td>\n",
       "      <td>Bronx</td>\n",
       "      <td>42.03</td>\n",
       "    </tr>\n",
       "  </tbody>\n",
       "</table>\n",
       "</div>"
      ],
      "text/plain": [
       "  County  Square Miles\n",
       "0  Bronx         42.03"
      ]
     },
     "execution_count": 40,
     "metadata": {},
     "output_type": "execute_result"
    }
   ],
   "source": [
    "county_size.head(1)"
   ]
  },
  {
   "cell_type": "markdown",
   "metadata": {},
   "source": [
    "Note, county_size df has county as a string and not FIPS code."
   ]
  },
  {
   "cell_type": "code",
   "execution_count": 41,
   "metadata": {
    "scrolled": true
   },
   "outputs": [],
   "source": [
    "poverty = pd.read_csv('./data/ny_county_level_poverty.csv')"
   ]
  },
  {
   "cell_type": "code",
   "execution_count": 42,
   "metadata": {},
   "outputs": [
    {
     "data": {
      "text/html": [
       "<div>\n",
       "<style scoped>\n",
       "    .dataframe tbody tr th:only-of-type {\n",
       "        vertical-align: middle;\n",
       "    }\n",
       "\n",
       "    .dataframe tbody tr th {\n",
       "        vertical-align: top;\n",
       "    }\n",
       "\n",
       "    .dataframe thead th {\n",
       "        text-align: right;\n",
       "    }\n",
       "</style>\n",
       "<table border=\"1\" class=\"dataframe\">\n",
       "  <thead>\n",
       "    <tr style=\"text-align: right;\">\n",
       "      <th></th>\n",
       "      <th>FIPS</th>\n",
       "      <th>Name</th>\n",
       "      <th>Unnamed: 2</th>\n",
       "      <th>RUC Code</th>\n",
       "      <th>Percent_Pop</th>\n",
       "      <th>Lower Bound</th>\n",
       "      <th>Upper Bound</th>\n",
       "      <th>Percent_Children</th>\n",
       "      <th>Lower Bound.1</th>\n",
       "      <th>Upper Bound.1</th>\n",
       "    </tr>\n",
       "  </thead>\n",
       "  <tbody>\n",
       "    <tr>\n",
       "      <td>0</td>\n",
       "      <td>36000</td>\n",
       "      <td>New York</td>\n",
       "      <td>NaN</td>\n",
       "      <td>NaN</td>\n",
       "      <td>13.1</td>\n",
       "      <td>12.9</td>\n",
       "      <td>13.3</td>\n",
       "      <td>18.2</td>\n",
       "      <td>17.7</td>\n",
       "      <td>18.7</td>\n",
       "    </tr>\n",
       "    <tr>\n",
       "      <td>1</td>\n",
       "      <td>36001</td>\n",
       "      <td>Albany</td>\n",
       "      <td>NaN</td>\n",
       "      <td>2.0</td>\n",
       "      <td>11.7</td>\n",
       "      <td>10.2</td>\n",
       "      <td>13.2</td>\n",
       "      <td>16.0</td>\n",
       "      <td>13.1</td>\n",
       "      <td>18.9</td>\n",
       "    </tr>\n",
       "    <tr>\n",
       "      <td>2</td>\n",
       "      <td>36003</td>\n",
       "      <td>Allegany</td>\n",
       "      <td>NaN</td>\n",
       "      <td>7.0</td>\n",
       "      <td>17.9</td>\n",
       "      <td>15.0</td>\n",
       "      <td>20.8</td>\n",
       "      <td>26.8</td>\n",
       "      <td>21.2</td>\n",
       "      <td>32.4</td>\n",
       "    </tr>\n",
       "    <tr>\n",
       "      <td>3</td>\n",
       "      <td>36005</td>\n",
       "      <td>Bronx</td>\n",
       "      <td>NaN</td>\n",
       "      <td>1.0</td>\n",
       "      <td>26.2</td>\n",
       "      <td>24.9</td>\n",
       "      <td>27.5</td>\n",
       "      <td>36.5</td>\n",
       "      <td>33.8</td>\n",
       "      <td>39.2</td>\n",
       "    </tr>\n",
       "  </tbody>\n",
       "</table>\n",
       "</div>"
      ],
      "text/plain": [
       "    FIPS      Name  Unnamed: 2  RUC Code  Percent_Pop  Lower Bound  \\\n",
       "0  36000  New York         NaN       NaN         13.1         12.9   \n",
       "1  36001    Albany         NaN       2.0         11.7         10.2   \n",
       "2  36003  Allegany         NaN       7.0         17.9         15.0   \n",
       "3  36005     Bronx         NaN       1.0         26.2         24.9   \n",
       "\n",
       "   Upper Bound  Percent_Children  Lower Bound.1  Upper Bound.1  \n",
       "0         13.3              18.2           17.7           18.7  \n",
       "1         13.2              16.0           13.1           18.9  \n",
       "2         20.8              26.8           21.2           32.4  \n",
       "3         27.5              36.5           33.8           39.2  "
      ]
     },
     "execution_count": 42,
     "metadata": {},
     "output_type": "execute_result"
    }
   ],
   "source": [
    "poverty.head(4)"
   ]
  },
  {
   "cell_type": "code",
   "execution_count": 43,
   "metadata": {
    "scrolled": true
   },
   "outputs": [
    {
     "name": "stdout",
     "output_type": "stream",
     "text": [
      "<class 'pandas.core.frame.DataFrame'>\n",
      "RangeIndex: 63 entries, 0 to 62\n",
      "Data columns (total 10 columns):\n",
      "FIPS                63 non-null int64\n",
      "Name                63 non-null object\n",
      "Unnamed: 2          0 non-null float64\n",
      "RUC Code            62 non-null float64\n",
      "Percent_Pop         63 non-null float64\n",
      "Lower Bound         63 non-null float64\n",
      "Upper Bound         63 non-null float64\n",
      "Percent_Children    63 non-null float64\n",
      "Lower Bound.1       63 non-null float64\n",
      "Upper Bound.1       63 non-null float64\n",
      "dtypes: float64(8), int64(1), object(1)\n",
      "memory usage: 5.0+ KB\n"
     ]
    }
   ],
   "source": [
    "poverty.info()"
   ]
  },
  {
   "cell_type": "code",
   "execution_count": 44,
   "metadata": {
    "scrolled": true
   },
   "outputs": [
    {
     "data": {
      "text/plain": [
       "62"
      ]
     },
     "execution_count": 44,
     "metadata": {},
     "output_type": "execute_result"
    }
   ],
   "source": [
    "#Why 63 rows, only 62 counties? \n",
    "poverty['Name'].nunique()"
   ]
  },
  {
   "cell_type": "code",
   "execution_count": 45,
   "metadata": {
    "scrolled": true
   },
   "outputs": [
    {
     "data": {
      "text/plain": [
       "New York     2\n",
       "Genesee      1\n",
       "Ulster       1\n",
       "Schoharie    1\n",
       "Erie         1\n",
       "Name: Name, dtype: int64"
      ]
     },
     "execution_count": 45,
     "metadata": {},
     "output_type": "execute_result"
    }
   ],
   "source": [
    "poverty['Name'].value_counts().head()"
   ]
  },
  {
   "cell_type": "code",
   "execution_count": 46,
   "metadata": {},
   "outputs": [
    {
     "data": {
      "text/html": [
       "<div>\n",
       "<style scoped>\n",
       "    .dataframe tbody tr th:only-of-type {\n",
       "        vertical-align: middle;\n",
       "    }\n",
       "\n",
       "    .dataframe tbody tr th {\n",
       "        vertical-align: top;\n",
       "    }\n",
       "\n",
       "    .dataframe thead th {\n",
       "        text-align: right;\n",
       "    }\n",
       "</style>\n",
       "<table border=\"1\" class=\"dataframe\">\n",
       "  <thead>\n",
       "    <tr style=\"text-align: right;\">\n",
       "      <th></th>\n",
       "      <th>FIPS</th>\n",
       "      <th>Name</th>\n",
       "      <th>Unnamed: 2</th>\n",
       "      <th>RUC Code</th>\n",
       "      <th>Percent_Pop</th>\n",
       "      <th>Lower Bound</th>\n",
       "      <th>Upper Bound</th>\n",
       "      <th>Percent_Children</th>\n",
       "      <th>Lower Bound.1</th>\n",
       "      <th>Upper Bound.1</th>\n",
       "    </tr>\n",
       "  </thead>\n",
       "  <tbody>\n",
       "    <tr>\n",
       "      <td>0</td>\n",
       "      <td>36000</td>\n",
       "      <td>New York</td>\n",
       "      <td>NaN</td>\n",
       "      <td>NaN</td>\n",
       "      <td>13.1</td>\n",
       "      <td>12.9</td>\n",
       "      <td>13.3</td>\n",
       "      <td>18.2</td>\n",
       "      <td>17.7</td>\n",
       "      <td>18.7</td>\n",
       "    </tr>\n",
       "    <tr>\n",
       "      <td>31</td>\n",
       "      <td>36061</td>\n",
       "      <td>New York</td>\n",
       "      <td>NaN</td>\n",
       "      <td>1.0</td>\n",
       "      <td>14.1</td>\n",
       "      <td>13.1</td>\n",
       "      <td>15.1</td>\n",
       "      <td>17.3</td>\n",
       "      <td>13.9</td>\n",
       "      <td>20.7</td>\n",
       "    </tr>\n",
       "  </tbody>\n",
       "</table>\n",
       "</div>"
      ],
      "text/plain": [
       "     FIPS      Name  Unnamed: 2  RUC Code  Percent_Pop  Lower Bound  \\\n",
       "0   36000  New York         NaN       NaN         13.1         12.9   \n",
       "31  36061  New York         NaN       1.0         14.1         13.1   \n",
       "\n",
       "    Upper Bound  Percent_Children  Lower Bound.1  Upper Bound.1  \n",
       "0          13.3              18.2           17.7           18.7  \n",
       "31         15.1              17.3           13.9           20.7  "
      ]
     },
     "execution_count": 46,
     "metadata": {},
     "output_type": "execute_result"
    }
   ],
   "source": [
    "#let's look at those two rows\n",
    "poverty.loc[poverty['Name']=='New York']"
   ]
  },
  {
   "cell_type": "markdown",
   "metadata": {},
   "source": [
    "Note, 63 counties are one line for \"New York\" most likely combining the 4 NYC counties.New York Listed Twice. The first one with FIPS 36000 is not a real FIPS code. Assumingly, this is extra and supposed to represent a line for all NYC counties combined which I have seen often in other documents."
   ]
  },
  {
   "cell_type": "code",
   "execution_count": 47,
   "metadata": {},
   "outputs": [],
   "source": [
    "unemployment_income = pd.read_csv('./data/ny_county_level_unemployment_median_household_income.csv')"
   ]
  },
  {
   "cell_type": "code",
   "execution_count": 48,
   "metadata": {
    "scrolled": true
   },
   "outputs": [
    {
     "name": "stdout",
     "output_type": "stream",
     "text": [
      "<class 'pandas.core.frame.DataFrame'>\n",
      "RangeIndex: 63 entries, 0 to 62\n",
      "Data columns (total 13 columns):\n",
      "FIPS                              63 non-null int64\n",
      "Name                              63 non-null object\n",
      "2011 Unemployment Rate            63 non-null float64\n",
      "2012 Unemployment Rate            63 non-null float64\n",
      "2013 Unemployment Rate            63 non-null float64\n",
      "2014 Unemployment Rate            63 non-null float64\n",
      "2015 Unemployment Rate            63 non-null float64\n",
      "2016 Unemployment Rate            63 non-null float64\n",
      "2017 Unemployment Rate            63 non-null float64\n",
      "2018 Unemployment Rate            63 non-null float64\n",
      "2019 Unemployment Rate            63 non-null float64\n",
      "Median Household Income (2019)    63 non-null object\n",
      "% of State Median HH Income       63 non-null object\n",
      "dtypes: float64(9), int64(1), object(3)\n",
      "memory usage: 6.5+ KB\n"
     ]
    }
   ],
   "source": [
    "unemployment_income.info()"
   ]
  },
  {
   "cell_type": "code",
   "execution_count": 49,
   "metadata": {},
   "outputs": [
    {
     "data": {
      "text/html": [
       "<div>\n",
       "<style scoped>\n",
       "    .dataframe tbody tr th:only-of-type {\n",
       "        vertical-align: middle;\n",
       "    }\n",
       "\n",
       "    .dataframe tbody tr th {\n",
       "        vertical-align: top;\n",
       "    }\n",
       "\n",
       "    .dataframe thead th {\n",
       "        text-align: right;\n",
       "    }\n",
       "</style>\n",
       "<table border=\"1\" class=\"dataframe\">\n",
       "  <thead>\n",
       "    <tr style=\"text-align: right;\">\n",
       "      <th></th>\n",
       "      <th>FIPS</th>\n",
       "      <th>Name</th>\n",
       "      <th>2011 Unemployment Rate</th>\n",
       "      <th>2012 Unemployment Rate</th>\n",
       "      <th>2013 Unemployment Rate</th>\n",
       "      <th>2014 Unemployment Rate</th>\n",
       "      <th>2015 Unemployment Rate</th>\n",
       "      <th>2016 Unemployment Rate</th>\n",
       "      <th>2017 Unemployment Rate</th>\n",
       "      <th>2018 Unemployment Rate</th>\n",
       "      <th>2019 Unemployment Rate</th>\n",
       "      <th>Median Household Income (2019)</th>\n",
       "      <th>% of State Median HH Income</th>\n",
       "    </tr>\n",
       "  </thead>\n",
       "  <tbody>\n",
       "    <tr>\n",
       "      <td>0</td>\n",
       "      <td>36000</td>\n",
       "      <td>New York</td>\n",
       "      <td>8.3</td>\n",
       "      <td>8.5</td>\n",
       "      <td>7.7</td>\n",
       "      <td>6.3</td>\n",
       "      <td>5.3</td>\n",
       "      <td>4.9</td>\n",
       "      <td>4.7</td>\n",
       "      <td>4.1</td>\n",
       "      <td>4.0</td>\n",
       "      <td>$72,038</td>\n",
       "      <td>100.0%</td>\n",
       "    </tr>\n",
       "    <tr>\n",
       "      <td>1</td>\n",
       "      <td>36001</td>\n",
       "      <td>Albany County, NY</td>\n",
       "      <td>6.9</td>\n",
       "      <td>7.1</td>\n",
       "      <td>6.1</td>\n",
       "      <td>4.9</td>\n",
       "      <td>4.3</td>\n",
       "      <td>4.1</td>\n",
       "      <td>4.2</td>\n",
       "      <td>3.7</td>\n",
       "      <td>3.6</td>\n",
       "      <td>$69,408</td>\n",
       "      <td>96.3%</td>\n",
       "    </tr>\n",
       "    <tr>\n",
       "      <td>2</td>\n",
       "      <td>36003</td>\n",
       "      <td>Allegany County, NY</td>\n",
       "      <td>8.9</td>\n",
       "      <td>8.4</td>\n",
       "      <td>7.5</td>\n",
       "      <td>6.2</td>\n",
       "      <td>6.5</td>\n",
       "      <td>6.3</td>\n",
       "      <td>6.6</td>\n",
       "      <td>5.6</td>\n",
       "      <td>5.5</td>\n",
       "      <td>$49,411</td>\n",
       "      <td>68.6%</td>\n",
       "    </tr>\n",
       "  </tbody>\n",
       "</table>\n",
       "</div>"
      ],
      "text/plain": [
       "    FIPS                 Name  2011 Unemployment Rate  2012 Unemployment Rate  \\\n",
       "0  36000             New York                     8.3                     8.5   \n",
       "1  36001    Albany County, NY                     6.9                     7.1   \n",
       "2  36003  Allegany County, NY                     8.9                     8.4   \n",
       "\n",
       "   2013 Unemployment Rate  2014 Unemployment Rate  2015 Unemployment Rate  \\\n",
       "0                     7.7                     6.3                     5.3   \n",
       "1                     6.1                     4.9                     4.3   \n",
       "2                     7.5                     6.2                     6.5   \n",
       "\n",
       "   2016 Unemployment Rate  2017 Unemployment Rate  2018 Unemployment Rate  \\\n",
       "0                     4.9                     4.7                     4.1   \n",
       "1                     4.1                     4.2                     3.7   \n",
       "2                     6.3                     6.6                     5.6   \n",
       "\n",
       "   2019 Unemployment Rate Median Household Income (2019)  \\\n",
       "0                     4.0                        $72,038   \n",
       "1                     3.6                        $69,408   \n",
       "2                     5.5                        $49,411   \n",
       "\n",
       "  % of State Median HH Income  \n",
       "0                      100.0%  \n",
       "1                       96.3%  \n",
       "2                       68.6%  "
      ]
     },
     "execution_count": 49,
     "metadata": {},
     "output_type": "execute_result"
    }
   ],
   "source": [
    "unemployment_income.head(3)"
   ]
  },
  {
   "cell_type": "markdown",
   "metadata": {},
   "source": [
    "Will only need 2019 unemployment rate."
   ]
  },
  {
   "cell_type": "code",
   "execution_count": 50,
   "metadata": {},
   "outputs": [
    {
     "data": {
      "text/plain": [
       "array(['New York', 'Albany County, NY', 'Allegany County, NY',\n",
       "       'Bronx County, NY', 'Broome County, NY', 'Cattaraugus County, NY',\n",
       "       'Cayuga County, NY', 'Chautauqua County, NY', 'Chemung County, NY',\n",
       "       'Chenango County, NY', 'Clinton County, NY', 'Columbia County, NY',\n",
       "       'Cortland County, NY', 'Delaware County, NY',\n",
       "       'Dutchess County, NY', 'Erie County, NY', 'Essex County, NY',\n",
       "       'Franklin County, NY', 'Fulton County, NY', 'Genesee County, NY',\n",
       "       'Greene County, NY', 'Hamilton County, NY', 'Herkimer County, NY',\n",
       "       'Jefferson County, NY', 'Kings County, NY', 'Lewis County, NY',\n",
       "       'Livingston County, NY', 'Madison County, NY', 'Monroe County, NY',\n",
       "       'Montgomery County, NY', 'Nassau County, NY',\n",
       "       'New York County, NY', 'Niagara County, NY', 'Oneida County, NY',\n",
       "       'Onondaga County, NY', 'Ontario County, NY', 'Orange County, NY',\n",
       "       'Orleans County, NY', 'Oswego County, NY', 'Otsego County, NY',\n",
       "       'Putnam County, NY', 'Queens County, NY', 'Rensselaer County, NY',\n",
       "       'Richmond County, NY', 'Rockland County, NY',\n",
       "       'St. Lawrence County, NY', 'Saratoga County, NY',\n",
       "       'Schenectady County, NY', 'Schoharie County, NY',\n",
       "       'Schuyler County, NY', 'Seneca County, NY', 'Steuben County, NY',\n",
       "       'Suffolk County, NY', 'Sullivan County, NY', 'Tioga County, NY',\n",
       "       'Tompkins County, NY', 'Ulster County, NY', 'Warren County, NY',\n",
       "       'Washington County, NY', 'Wayne County, NY',\n",
       "       'Westchester County, NY', 'Wyoming County, NY', 'Yates County, NY'],\n",
       "      dtype=object)"
      ]
     },
     "execution_count": 50,
     "metadata": {},
     "output_type": "execute_result"
    }
   ],
   "source": [
    "# 63 like the previous df. As same source, assume it is for the same reason\n",
    "unemployment_income['Name'].unique()"
   ]
  },
  {
   "cell_type": "markdown",
   "metadata": {},
   "source": [
    "New York and New York County"
   ]
  },
  {
   "cell_type": "code",
   "execution_count": 51,
   "metadata": {},
   "outputs": [
    {
     "data": {
      "text/html": [
       "<div>\n",
       "<style scoped>\n",
       "    .dataframe tbody tr th:only-of-type {\n",
       "        vertical-align: middle;\n",
       "    }\n",
       "\n",
       "    .dataframe tbody tr th {\n",
       "        vertical-align: top;\n",
       "    }\n",
       "\n",
       "    .dataframe thead th {\n",
       "        text-align: right;\n",
       "    }\n",
       "</style>\n",
       "<table border=\"1\" class=\"dataframe\">\n",
       "  <thead>\n",
       "    <tr style=\"text-align: right;\">\n",
       "      <th></th>\n",
       "      <th>FIPS</th>\n",
       "      <th>Name</th>\n",
       "      <th>2011 Unemployment Rate</th>\n",
       "      <th>2012 Unemployment Rate</th>\n",
       "      <th>2013 Unemployment Rate</th>\n",
       "      <th>2014 Unemployment Rate</th>\n",
       "      <th>2015 Unemployment Rate</th>\n",
       "      <th>2016 Unemployment Rate</th>\n",
       "      <th>2017 Unemployment Rate</th>\n",
       "      <th>2018 Unemployment Rate</th>\n",
       "      <th>2019 Unemployment Rate</th>\n",
       "      <th>Median Household Income (2019)</th>\n",
       "      <th>% of State Median HH Income</th>\n",
       "    </tr>\n",
       "  </thead>\n",
       "  <tbody>\n",
       "    <tr>\n",
       "      <td>0</td>\n",
       "      <td>36000</td>\n",
       "      <td>New York</td>\n",
       "      <td>8.3</td>\n",
       "      <td>8.5</td>\n",
       "      <td>7.7</td>\n",
       "      <td>6.3</td>\n",
       "      <td>5.3</td>\n",
       "      <td>4.9</td>\n",
       "      <td>4.7</td>\n",
       "      <td>4.1</td>\n",
       "      <td>4.0</td>\n",
       "      <td>$72,038</td>\n",
       "      <td>100.0%</td>\n",
       "    </tr>\n",
       "    <tr>\n",
       "      <td>1</td>\n",
       "      <td>36001</td>\n",
       "      <td>Albany County, NY</td>\n",
       "      <td>6.9</td>\n",
       "      <td>7.1</td>\n",
       "      <td>6.1</td>\n",
       "      <td>4.9</td>\n",
       "      <td>4.3</td>\n",
       "      <td>4.1</td>\n",
       "      <td>4.2</td>\n",
       "      <td>3.7</td>\n",
       "      <td>3.6</td>\n",
       "      <td>$69,408</td>\n",
       "      <td>96.3%</td>\n",
       "    </tr>\n",
       "    <tr>\n",
       "      <td>2</td>\n",
       "      <td>36003</td>\n",
       "      <td>Allegany County, NY</td>\n",
       "      <td>8.9</td>\n",
       "      <td>8.4</td>\n",
       "      <td>7.5</td>\n",
       "      <td>6.2</td>\n",
       "      <td>6.5</td>\n",
       "      <td>6.3</td>\n",
       "      <td>6.6</td>\n",
       "      <td>5.6</td>\n",
       "      <td>5.5</td>\n",
       "      <td>$49,411</td>\n",
       "      <td>68.6%</td>\n",
       "    </tr>\n",
       "    <tr>\n",
       "      <td>3</td>\n",
       "      <td>36005</td>\n",
       "      <td>Bronx County, NY</td>\n",
       "      <td>11.9</td>\n",
       "      <td>12.4</td>\n",
       "      <td>11.8</td>\n",
       "      <td>9.8</td>\n",
       "      <td>7.8</td>\n",
       "      <td>7.1</td>\n",
       "      <td>6.3</td>\n",
       "      <td>5.8</td>\n",
       "      <td>5.4</td>\n",
       "      <td>$41,470</td>\n",
       "      <td>57.6%</td>\n",
       "    </tr>\n",
       "    <tr>\n",
       "      <td>4</td>\n",
       "      <td>36007</td>\n",
       "      <td>Broome County, NY</td>\n",
       "      <td>8.6</td>\n",
       "      <td>8.7</td>\n",
       "      <td>7.8</td>\n",
       "      <td>6.6</td>\n",
       "      <td>6.0</td>\n",
       "      <td>5.4</td>\n",
       "      <td>5.5</td>\n",
       "      <td>4.9</td>\n",
       "      <td>4.7</td>\n",
       "      <td>$52,179</td>\n",
       "      <td>72.4%</td>\n",
       "    </tr>\n",
       "  </tbody>\n",
       "</table>\n",
       "</div>"
      ],
      "text/plain": [
       "    FIPS                 Name  2011 Unemployment Rate  2012 Unemployment Rate  \\\n",
       "0  36000             New York                     8.3                     8.5   \n",
       "1  36001    Albany County, NY                     6.9                     7.1   \n",
       "2  36003  Allegany County, NY                     8.9                     8.4   \n",
       "3  36005     Bronx County, NY                    11.9                    12.4   \n",
       "4  36007    Broome County, NY                     8.6                     8.7   \n",
       "\n",
       "   2013 Unemployment Rate  2014 Unemployment Rate  2015 Unemployment Rate  \\\n",
       "0                     7.7                     6.3                     5.3   \n",
       "1                     6.1                     4.9                     4.3   \n",
       "2                     7.5                     6.2                     6.5   \n",
       "3                    11.8                     9.8                     7.8   \n",
       "4                     7.8                     6.6                     6.0   \n",
       "\n",
       "   2016 Unemployment Rate  2017 Unemployment Rate  2018 Unemployment Rate  \\\n",
       "0                     4.9                     4.7                     4.1   \n",
       "1                     4.1                     4.2                     3.7   \n",
       "2                     6.3                     6.6                     5.6   \n",
       "3                     7.1                     6.3                     5.8   \n",
       "4                     5.4                     5.5                     4.9   \n",
       "\n",
       "   2019 Unemployment Rate Median Household Income (2019)  \\\n",
       "0                     4.0                        $72,038   \n",
       "1                     3.6                        $69,408   \n",
       "2                     5.5                        $49,411   \n",
       "3                     5.4                        $41,470   \n",
       "4                     4.7                        $52,179   \n",
       "\n",
       "  % of State Median HH Income  \n",
       "0                      100.0%  \n",
       "1                       96.3%  \n",
       "2                       68.6%  \n",
       "3                       57.6%  \n",
       "4                       72.4%  "
      ]
     },
     "execution_count": 51,
     "metadata": {},
     "output_type": "execute_result"
    }
   ],
   "source": [
    "unemployment_income.head()"
   ]
  },
  {
   "cell_type": "markdown",
   "metadata": {},
   "source": [
    "removing 0 as it has the 36000 FIPS code"
   ]
  },
  {
   "cell_type": "code",
   "execution_count": 52,
   "metadata": {},
   "outputs": [],
   "source": [
    "hospitals = pd.read_csv('./data/hospitals.csv')"
   ]
  },
  {
   "cell_type": "code",
   "execution_count": 53,
   "metadata": {
    "scrolled": true
   },
   "outputs": [
    {
     "name": "stdout",
     "output_type": "stream",
     "text": [
      "<class 'pandas.core.frame.DataFrame'>\n",
      "RangeIndex: 7596 entries, 0 to 7595\n",
      "Data columns (total 34 columns):\n",
      "X             7596 non-null float64\n",
      "Y             7596 non-null float64\n",
      "OBJECTID      7596 non-null int64\n",
      "ID            7596 non-null int64\n",
      "NAME          7596 non-null object\n",
      "ADDRESS       7596 non-null object\n",
      "CITY          7596 non-null object\n",
      "STATE         7596 non-null object\n",
      "ZIP           7596 non-null int64\n",
      "ZIP4          7596 non-null object\n",
      "TELEPHONE     7596 non-null object\n",
      "TYPE          7596 non-null object\n",
      "STATUS        7596 non-null object\n",
      "POPULATION    7596 non-null int64\n",
      "COUNTY        7596 non-null object\n",
      "COUNTYFIPS    7596 non-null object\n",
      "COUNTRY       7596 non-null object\n",
      "LATITUDE      7596 non-null float64\n",
      "LONGITUDE     7596 non-null float64\n",
      "NAICS_CODE    7596 non-null int64\n",
      "NAICS_DESC    7596 non-null object\n",
      "SOURCE        7596 non-null object\n",
      "SOURCEDATE    7596 non-null object\n",
      "VAL_METHOD    7596 non-null object\n",
      "VAL_DATE      7596 non-null object\n",
      "WEBSITE       7596 non-null object\n",
      "STATE_ID      7596 non-null object\n",
      "ALT_NAME      7596 non-null object\n",
      "ST_FIPS       7596 non-null int64\n",
      "OWNER         7596 non-null object\n",
      "TTL_STAFF     7596 non-null int64\n",
      "BEDS          7596 non-null int64\n",
      "TRAUMA        7596 non-null object\n",
      "HELIPAD       7596 non-null object\n",
      "dtypes: float64(4), int64(8), object(22)\n",
      "memory usage: 2.0+ MB\n"
     ]
    }
   ],
   "source": [
    "hospitals.info()"
   ]
  },
  {
   "cell_type": "markdown",
   "metadata": {},
   "source": [
    "Pending - Filter only NY and do count per county"
   ]
  },
  {
   "cell_type": "markdown",
   "metadata": {},
   "source": [
    "## 3) Data PreProcessing <a class=\"anchor\" id=\"datacleaning\"></a>"
   ]
  },
  {
   "cell_type": "markdown",
   "metadata": {},
   "source": [
    "**Covid Deaths**"
   ]
  },
  {
   "cell_type": "markdown",
   "metadata": {},
   "source": [
    "First, we need to restructure this dataset"
   ]
  },
  {
   "cell_type": "code",
   "execution_count": 54,
   "metadata": {},
   "outputs": [
    {
     "data": {
      "text/plain": [
       "Index(['countyFIPS', 'County Name', 'State', 'stateFIPS', '1/22/20', '1/23/20',\n",
       "       '1/24/20', '1/25/20', '1/26/20', '1/27/20',\n",
       "       ...\n",
       "       '12/30/20', '12/31/20', '1/1/21', '1/2/21', '1/3/21', '1/4/21',\n",
       "       '1/5/21', '1/6/21', '1/7/21', '1/8/21'],\n",
       "      dtype='object', length=357)"
      ]
     },
     "execution_count": 54,
     "metadata": {},
     "output_type": "execute_result"
    }
   ],
   "source": [
    "covid_daily.columns"
   ]
  },
  {
   "cell_type": "code",
   "execution_count": 55,
   "metadata": {
    "scrolled": true
   },
   "outputs": [
    {
     "data": {
      "text/html": [
       "<div>\n",
       "<style scoped>\n",
       "    .dataframe tbody tr th:only-of-type {\n",
       "        vertical-align: middle;\n",
       "    }\n",
       "\n",
       "    .dataframe tbody tr th {\n",
       "        vertical-align: top;\n",
       "    }\n",
       "\n",
       "    .dataframe thead th {\n",
       "        text-align: right;\n",
       "    }\n",
       "</style>\n",
       "<table border=\"1\" class=\"dataframe\">\n",
       "  <thead>\n",
       "    <tr style=\"text-align: right;\">\n",
       "      <th></th>\n",
       "      <th>countyFIPS</th>\n",
       "      <th>County Name</th>\n",
       "      <th>State</th>\n",
       "      <th>stateFIPS</th>\n",
       "      <th>Date</th>\n",
       "      <th>Deaths</th>\n",
       "    </tr>\n",
       "  </thead>\n",
       "  <tbody>\n",
       "    <tr>\n",
       "      <td>0</td>\n",
       "      <td>0</td>\n",
       "      <td>Statewide Unallocated</td>\n",
       "      <td>AL</td>\n",
       "      <td>1</td>\n",
       "      <td>1/22/20</td>\n",
       "      <td>0</td>\n",
       "    </tr>\n",
       "    <tr>\n",
       "      <td>1</td>\n",
       "      <td>1001</td>\n",
       "      <td>Autauga County</td>\n",
       "      <td>AL</td>\n",
       "      <td>1</td>\n",
       "      <td>1/22/20</td>\n",
       "      <td>0</td>\n",
       "    </tr>\n",
       "    <tr>\n",
       "      <td>2</td>\n",
       "      <td>1003</td>\n",
       "      <td>Baldwin County</td>\n",
       "      <td>AL</td>\n",
       "      <td>1</td>\n",
       "      <td>1/22/20</td>\n",
       "      <td>0</td>\n",
       "    </tr>\n",
       "    <tr>\n",
       "      <td>3</td>\n",
       "      <td>1005</td>\n",
       "      <td>Barbour County</td>\n",
       "      <td>AL</td>\n",
       "      <td>1</td>\n",
       "      <td>1/22/20</td>\n",
       "      <td>0</td>\n",
       "    </tr>\n",
       "    <tr>\n",
       "      <td>4</td>\n",
       "      <td>1007</td>\n",
       "      <td>Bibb County</td>\n",
       "      <td>AL</td>\n",
       "      <td>1</td>\n",
       "      <td>1/22/20</td>\n",
       "      <td>0</td>\n",
       "    </tr>\n",
       "  </tbody>\n",
       "</table>\n",
       "</div>"
      ],
      "text/plain": [
       "   countyFIPS            County Name State  stateFIPS     Date  Deaths\n",
       "0           0  Statewide Unallocated    AL          1  1/22/20       0\n",
       "1        1001         Autauga County    AL          1  1/22/20       0\n",
       "2        1003         Baldwin County    AL          1  1/22/20       0\n",
       "3        1005         Barbour County    AL          1  1/22/20       0\n",
       "4        1007            Bibb County    AL          1  1/22/20       0"
      ]
     },
     "execution_count": 55,
     "metadata": {},
     "output_type": "execute_result"
    }
   ],
   "source": [
    "covid_daily = pd.melt(covid_daily, id_vars=['countyFIPS', 'County Name', 'State', 'stateFIPS'],var_name='Date', value_name='Deaths')\n",
    "covid_daily.head()"
   ]
  },
  {
   "cell_type": "markdown",
   "metadata": {},
   "source": [
    "Now that it is in an ingestible format. Let's look at further processing needed."
   ]
  },
  {
   "cell_type": "code",
   "execution_count": 56,
   "metadata": {
    "scrolled": true
   },
   "outputs": [
    {
     "name": "stdout",
     "output_type": "stream",
     "text": [
      "<class 'pandas.core.frame.DataFrame'>\n",
      "RangeIndex: 1127835 entries, 0 to 1127834\n",
      "Data columns (total 6 columns):\n",
      "countyFIPS     1127835 non-null int64\n",
      "County Name    1127835 non-null object\n",
      "State          1127835 non-null object\n",
      "stateFIPS      1127835 non-null int64\n",
      "Date           1127835 non-null object\n",
      "Deaths         1127835 non-null int64\n",
      "dtypes: int64(3), object(3)\n",
      "memory usage: 51.6+ MB\n"
     ]
    }
   ],
   "source": [
    "covid_daily.info()"
   ]
  },
  {
   "cell_type": "code",
   "execution_count": 57,
   "metadata": {},
   "outputs": [],
   "source": [
    "#Change Date to date field\n",
    "covid_daily['Date'] = pd.to_datetime(covid_daily['Date'])"
   ]
  },
  {
   "cell_type": "code",
   "execution_count": 58,
   "metadata": {
    "scrolled": false
   },
   "outputs": [
    {
     "name": "stdout",
     "output_type": "stream",
     "text": [
      "<class 'pandas.core.frame.DataFrame'>\n",
      "RangeIndex: 1127835 entries, 0 to 1127834\n",
      "Data columns (total 6 columns):\n",
      "countyFIPS     1127835 non-null int64\n",
      "County Name    1127835 non-null object\n",
      "State          1127835 non-null object\n",
      "stateFIPS      1127835 non-null int64\n",
      "Date           1127835 non-null datetime64[ns]\n",
      "Deaths         1127835 non-null int64\n",
      "dtypes: datetime64[ns](1), int64(3), object(2)\n",
      "memory usage: 51.6+ MB\n"
     ]
    }
   ],
   "source": [
    "#confirm change to date\n",
    "covid_daily.info()"
   ]
  },
  {
   "cell_type": "code",
   "execution_count": 59,
   "metadata": {},
   "outputs": [
    {
     "name": "stdout",
     "output_type": "stream",
     "text": [
      "2020-01-22 00:00:00  -  2021-01-08 00:00:00\n"
     ]
    }
   ],
   "source": [
    "# What date range is included?\n",
    "print(covid_daily['Date'].min(),' - ', covid_daily['Date'].max())"
   ]
  },
  {
   "cell_type": "markdown",
   "metadata": {},
   "source": [
    "We have Covid Deaths data from 1/22 to 1/8/21"
   ]
  },
  {
   "cell_type": "code",
   "execution_count": 60,
   "metadata": {
    "scrolled": true
   },
   "outputs": [
    {
     "data": {
      "text/plain": [
       "51"
      ]
     },
     "execution_count": 60,
     "metadata": {},
     "output_type": "execute_result"
    }
   ],
   "source": [
    "#Now, is the data just for NY?\n",
    "covid_daily['State'].nunique()"
   ]
  },
  {
   "cell_type": "markdown",
   "metadata": {},
   "source": [
    "No, this data apparently has all states. Let's change to just NY"
   ]
  },
  {
   "cell_type": "code",
   "execution_count": 61,
   "metadata": {
    "scrolled": true
   },
   "outputs": [
    {
     "data": {
      "text/plain": [
       "array(['AL', 'AK', 'AZ', 'AR', 'CA', 'CO', 'CT', 'DE', 'DC', 'FL', 'GA',\n",
       "       'HI', 'ID', 'IL', 'IN', 'IA', 'KS', 'KY', 'LA', 'ME', 'MD', 'MA',\n",
       "       'MI', 'MN', 'MS', 'MO', 'MT', 'NE', 'NV', 'NH', 'NJ', 'NM', 'NY',\n",
       "       'NC', 'ND', 'OH', 'OK', 'OR', 'PA', 'RI', 'SC', 'SD', 'TN', 'TX',\n",
       "       'UT', 'VT', 'VA', 'WA', 'WV', 'WI', 'WY'], dtype=object)"
      ]
     },
     "execution_count": 61,
     "metadata": {},
     "output_type": "execute_result"
    }
   ],
   "source": [
    "#Confirm it is state 'NY'\n",
    "covid_daily['State'].unique()"
   ]
  },
  {
   "cell_type": "code",
   "execution_count": 62,
   "metadata": {},
   "outputs": [],
   "source": [
    "covid_daily = covid_daily.loc[covid_daily['State']=='NY']"
   ]
  },
  {
   "cell_type": "code",
   "execution_count": 63,
   "metadata": {},
   "outputs": [
    {
     "data": {
      "text/plain": [
       "array(['NY'], dtype=object)"
      ]
     },
     "execution_count": 63,
     "metadata": {},
     "output_type": "execute_result"
    }
   ],
   "source": [
    "#confirm only 'NY'\n",
    "covid_daily['State'].unique()"
   ]
  },
  {
   "cell_type": "code",
   "execution_count": 64,
   "metadata": {},
   "outputs": [
    {
     "data": {
      "text/plain": [
       "22592"
      ]
     },
     "execution_count": 64,
     "metadata": {},
     "output_type": "execute_result"
    }
   ],
   "source": [
    "#Confirm, not 0\n",
    "len(covid_daily)"
   ]
  },
  {
   "cell_type": "code",
   "execution_count": 65,
   "metadata": {},
   "outputs": [
    {
     "data": {
      "text/plain": [
       "64"
      ]
     },
     "execution_count": 65,
     "metadata": {},
     "output_type": "execute_result"
    }
   ],
   "source": [
    "#how many counties represented?\n",
    "covid_daily['County Name'].nunique()"
   ]
  },
  {
   "cell_type": "markdown",
   "metadata": {},
   "source": [
    "New York only has 62 counties, what are extra 2?"
   ]
  },
  {
   "cell_type": "code",
   "execution_count": 66,
   "metadata": {
    "scrolled": false
   },
   "outputs": [
    {
     "data": {
      "text/plain": [
       "array(['Statewide Unallocated', 'New York City Unallocated/Probable',\n",
       "       'Albany County', 'Allegany County', 'Bronx County',\n",
       "       'Broome County', 'Cattaraugus County', 'Cayuga County',\n",
       "       'Chautauqua County', 'Chemung County', 'Chenango County',\n",
       "       'Clinton County', 'Columbia County', 'Cortland County',\n",
       "       'Delaware County', 'Dutchess County', 'Erie County',\n",
       "       'Essex County', 'Franklin County', 'Fulton County',\n",
       "       'Genesee County', 'Greene County', 'Hamilton County',\n",
       "       'Herkimer County', 'Jefferson County', 'Kings County',\n",
       "       'Lewis County', 'Livingston County', 'Madison County',\n",
       "       'Monroe County', 'Montgomery County', 'Nassau County',\n",
       "       'New York County', 'Niagara County', 'Oneida County',\n",
       "       'Onondaga County', 'Ontario County', 'Orange County',\n",
       "       'Orleans County', 'Oswego County', 'Otsego County',\n",
       "       'Putnam County', 'Queens County', 'Rensselaer County',\n",
       "       'Richmond County', 'Rockland County', 'St. Lawrence County',\n",
       "       'Saratoga County', 'Schenectady County', 'Schoharie County',\n",
       "       'Schuyler County', 'Seneca County', 'Steuben County',\n",
       "       'Suffolk County', 'Sullivan County', 'Tioga County',\n",
       "       'Tompkins County', 'Ulster County', 'Warren County',\n",
       "       'Washington County', 'Wayne County', 'Westchester County',\n",
       "       'Wyoming County', 'Yates County'], dtype=object)"
      ]
     },
     "execution_count": 66,
     "metadata": {},
     "output_type": "execute_result"
    }
   ],
   "source": [
    "#let's explore\n",
    "covid_daily['County Name'].unique()"
   ]
  },
  {
   "cell_type": "code",
   "execution_count": 67,
   "metadata": {},
   "outputs": [
    {
     "name": "stdout",
     "output_type": "stream",
     "text": [
      "<class 'pandas.core.frame.DataFrame'>\n",
      "Int64Index: 22592 entries, 1861 to 1126564\n",
      "Data columns (total 6 columns):\n",
      "countyFIPS     22592 non-null int64\n",
      "County Name    22592 non-null object\n",
      "State          22592 non-null object\n",
      "stateFIPS      22592 non-null int64\n",
      "Date           22592 non-null datetime64[ns]\n",
      "Deaths         22592 non-null int64\n",
      "dtypes: datetime64[ns](1), int64(3), object(2)\n",
      "memory usage: 1.2+ MB\n"
     ]
    }
   ],
   "source": [
    "covid_daily.info()"
   ]
  },
  {
   "cell_type": "markdown",
   "metadata": {},
   "source": [
    "The two extra are \"Statewide Unallocated\" and \"New York City Unallocated / Probable\". Can these be dropped? What % deaths is that?"
   ]
  },
  {
   "cell_type": "code",
   "execution_count": 68,
   "metadata": {},
   "outputs": [
    {
     "data": {
      "text/html": [
       "<div>\n",
       "<style scoped>\n",
       "    .dataframe tbody tr th:only-of-type {\n",
       "        vertical-align: middle;\n",
       "    }\n",
       "\n",
       "    .dataframe tbody tr th {\n",
       "        vertical-align: top;\n",
       "    }\n",
       "\n",
       "    .dataframe thead th {\n",
       "        text-align: right;\n",
       "    }\n",
       "</style>\n",
       "<table border=\"1\" class=\"dataframe\">\n",
       "  <thead>\n",
       "    <tr style=\"text-align: right;\">\n",
       "      <th></th>\n",
       "      <th>countyFIPS</th>\n",
       "      <th>County Name</th>\n",
       "      <th>State</th>\n",
       "      <th>stateFIPS</th>\n",
       "      <th>Date</th>\n",
       "      <th>Deaths</th>\n",
       "    </tr>\n",
       "  </thead>\n",
       "  <tbody>\n",
       "    <tr>\n",
       "      <td>1861</td>\n",
       "      <td>0</td>\n",
       "      <td>Statewide Unallocated</td>\n",
       "      <td>NY</td>\n",
       "      <td>36</td>\n",
       "      <td>2020-01-22</td>\n",
       "      <td>0</td>\n",
       "    </tr>\n",
       "    <tr>\n",
       "      <td>5056</td>\n",
       "      <td>0</td>\n",
       "      <td>Statewide Unallocated</td>\n",
       "      <td>NY</td>\n",
       "      <td>36</td>\n",
       "      <td>2020-01-23</td>\n",
       "      <td>0</td>\n",
       "    </tr>\n",
       "    <tr>\n",
       "      <td>8251</td>\n",
       "      <td>0</td>\n",
       "      <td>Statewide Unallocated</td>\n",
       "      <td>NY</td>\n",
       "      <td>36</td>\n",
       "      <td>2020-01-24</td>\n",
       "      <td>0</td>\n",
       "    </tr>\n",
       "    <tr>\n",
       "      <td>11446</td>\n",
       "      <td>0</td>\n",
       "      <td>Statewide Unallocated</td>\n",
       "      <td>NY</td>\n",
       "      <td>36</td>\n",
       "      <td>2020-01-25</td>\n",
       "      <td>0</td>\n",
       "    </tr>\n",
       "    <tr>\n",
       "      <td>14641</td>\n",
       "      <td>0</td>\n",
       "      <td>Statewide Unallocated</td>\n",
       "      <td>NY</td>\n",
       "      <td>36</td>\n",
       "      <td>2020-01-26</td>\n",
       "      <td>0</td>\n",
       "    </tr>\n",
       "    <tr>\n",
       "      <td>...</td>\n",
       "      <td>...</td>\n",
       "      <td>...</td>\n",
       "      <td>...</td>\n",
       "      <td>...</td>\n",
       "      <td>...</td>\n",
       "      <td>...</td>\n",
       "    </tr>\n",
       "    <tr>\n",
       "      <td>1113721</td>\n",
       "      <td>0</td>\n",
       "      <td>Statewide Unallocated</td>\n",
       "      <td>NY</td>\n",
       "      <td>36</td>\n",
       "      <td>2021-01-04</td>\n",
       "      <td>156</td>\n",
       "    </tr>\n",
       "    <tr>\n",
       "      <td>1116916</td>\n",
       "      <td>0</td>\n",
       "      <td>Statewide Unallocated</td>\n",
       "      <td>NY</td>\n",
       "      <td>36</td>\n",
       "      <td>2021-01-05</td>\n",
       "      <td>157</td>\n",
       "    </tr>\n",
       "    <tr>\n",
       "      <td>1120111</td>\n",
       "      <td>0</td>\n",
       "      <td>Statewide Unallocated</td>\n",
       "      <td>NY</td>\n",
       "      <td>36</td>\n",
       "      <td>2021-01-06</td>\n",
       "      <td>157</td>\n",
       "    </tr>\n",
       "    <tr>\n",
       "      <td>1123306</td>\n",
       "      <td>0</td>\n",
       "      <td>Statewide Unallocated</td>\n",
       "      <td>NY</td>\n",
       "      <td>36</td>\n",
       "      <td>2021-01-07</td>\n",
       "      <td>158</td>\n",
       "    </tr>\n",
       "    <tr>\n",
       "      <td>1126501</td>\n",
       "      <td>0</td>\n",
       "      <td>Statewide Unallocated</td>\n",
       "      <td>NY</td>\n",
       "      <td>36</td>\n",
       "      <td>2021-01-08</td>\n",
       "      <td>158</td>\n",
       "    </tr>\n",
       "  </tbody>\n",
       "</table>\n",
       "<p>353 rows × 6 columns</p>\n",
       "</div>"
      ],
      "text/plain": [
       "         countyFIPS            County Name State  stateFIPS       Date  Deaths\n",
       "1861              0  Statewide Unallocated    NY         36 2020-01-22       0\n",
       "5056              0  Statewide Unallocated    NY         36 2020-01-23       0\n",
       "8251              0  Statewide Unallocated    NY         36 2020-01-24       0\n",
       "11446             0  Statewide Unallocated    NY         36 2020-01-25       0\n",
       "14641             0  Statewide Unallocated    NY         36 2020-01-26       0\n",
       "...             ...                    ...   ...        ...        ...     ...\n",
       "1113721           0  Statewide Unallocated    NY         36 2021-01-04     156\n",
       "1116916           0  Statewide Unallocated    NY         36 2021-01-05     157\n",
       "1120111           0  Statewide Unallocated    NY         36 2021-01-06     157\n",
       "1123306           0  Statewide Unallocated    NY         36 2021-01-07     158\n",
       "1126501           0  Statewide Unallocated    NY         36 2021-01-08     158\n",
       "\n",
       "[353 rows x 6 columns]"
      ]
     },
     "execution_count": 68,
     "metadata": {},
     "output_type": "execute_result"
    }
   ],
   "source": [
    "covid_daily.loc[covid_daily['County Name'] == 'Statewide Unallocated']"
   ]
  },
  {
   "cell_type": "code",
   "execution_count": 69,
   "metadata": {
    "scrolled": false
   },
   "outputs": [
    {
     "data": {
      "text/html": [
       "<div>\n",
       "<style scoped>\n",
       "    .dataframe tbody tr th:only-of-type {\n",
       "        vertical-align: middle;\n",
       "    }\n",
       "\n",
       "    .dataframe tbody tr th {\n",
       "        vertical-align: top;\n",
       "    }\n",
       "\n",
       "    .dataframe thead th {\n",
       "        text-align: right;\n",
       "    }\n",
       "</style>\n",
       "<table border=\"1\" class=\"dataframe\">\n",
       "  <thead>\n",
       "    <tr style=\"text-align: right;\">\n",
       "      <th></th>\n",
       "      <th>countyFIPS</th>\n",
       "      <th>County Name</th>\n",
       "      <th>State</th>\n",
       "      <th>stateFIPS</th>\n",
       "      <th>Date</th>\n",
       "      <th>Deaths</th>\n",
       "    </tr>\n",
       "  </thead>\n",
       "  <tbody>\n",
       "    <tr>\n",
       "      <td>231901</td>\n",
       "      <td>0</td>\n",
       "      <td>Statewide Unallocated</td>\n",
       "      <td>NY</td>\n",
       "      <td>36</td>\n",
       "      <td>2020-04-03</td>\n",
       "      <td>559</td>\n",
       "    </tr>\n",
       "  </tbody>\n",
       "</table>\n",
       "</div>"
      ],
      "text/plain": [
       "        countyFIPS            County Name State  stateFIPS       Date  Deaths\n",
       "231901           0  Statewide Unallocated    NY         36 2020-04-03     559"
      ]
     },
     "execution_count": 69,
     "metadata": {},
     "output_type": "execute_result"
    }
   ],
   "source": [
    "#Statewide Unallocated\n",
    "covid_daily.loc[covid_daily['County Name'] == 'Statewide Unallocated'].sort_values(by='Deaths', ascending=False).head(1)"
   ]
  },
  {
   "cell_type": "code",
   "execution_count": 70,
   "metadata": {},
   "outputs": [
    {
     "data": {
      "text/plain": [
       "Timestamp('2021-01-08 00:00:00')"
      ]
     },
     "execution_count": 70,
     "metadata": {},
     "output_type": "execute_result"
    }
   ],
   "source": [
    "covid_daily['Date'].max()"
   ]
  },
  {
   "cell_type": "code",
   "execution_count": 71,
   "metadata": {
    "scrolled": true
   },
   "outputs": [
    {
     "data": {
      "text/plain": [
       "True"
      ]
     },
     "execution_count": 71,
     "metadata": {},
     "output_type": "execute_result"
    }
   ],
   "source": [
    "#Do we have 64 measures for 1/8/21?\n",
    "len(covid_daily.loc[covid_daily['Date'] == '2021-01-08']) == 64"
   ]
  },
  {
   "cell_type": "code",
   "execution_count": 72,
   "metadata": {
    "scrolled": true
   },
   "outputs": [
    {
     "data": {
      "text/plain": [
       "0.014331863398625782"
      ]
     },
     "execution_count": 72,
     "metadata": {},
     "output_type": "execute_result"
    }
   ],
   "source": [
    "#How many deaths does Statewide Unallocated make up of total deaths?\n",
    "total_covid_deaths = covid_daily.loc[covid_daily['Date'] == '2021-01-08']['Deaths'].sum()\n",
    "559/total_covid_deaths"
   ]
  },
  {
   "cell_type": "markdown",
   "metadata": {},
   "source": [
    "Statewide unallocated represents less 2% of the deaths and too big of an area. This will be dropped"
   ]
  },
  {
   "cell_type": "code",
   "execution_count": 73,
   "metadata": {
    "scrolled": true
   },
   "outputs": [
    {
     "data": {
      "text/html": [
       "<div>\n",
       "<style scoped>\n",
       "    .dataframe tbody tr th:only-of-type {\n",
       "        vertical-align: middle;\n",
       "    }\n",
       "\n",
       "    .dataframe tbody tr th {\n",
       "        vertical-align: top;\n",
       "    }\n",
       "\n",
       "    .dataframe thead th {\n",
       "        text-align: right;\n",
       "    }\n",
       "</style>\n",
       "<table border=\"1\" class=\"dataframe\">\n",
       "  <thead>\n",
       "    <tr style=\"text-align: right;\">\n",
       "      <th></th>\n",
       "      <th>countyFIPS</th>\n",
       "      <th>County Name</th>\n",
       "      <th>State</th>\n",
       "      <th>stateFIPS</th>\n",
       "      <th>Date</th>\n",
       "      <th>Deaths</th>\n",
       "    </tr>\n",
       "  </thead>\n",
       "  <tbody>\n",
       "    <tr>\n",
       "      <td>263852</td>\n",
       "      <td>1</td>\n",
       "      <td>New York City Unallocated/Probable</td>\n",
       "      <td>NY</td>\n",
       "      <td>36</td>\n",
       "      <td>2020-04-13</td>\n",
       "      <td>2853</td>\n",
       "    </tr>\n",
       "  </tbody>\n",
       "</table>\n",
       "</div>"
      ],
      "text/plain": [
       "        countyFIPS                         County Name State  stateFIPS  \\\n",
       "263852           1  New York City Unallocated/Probable    NY         36   \n",
       "\n",
       "             Date  Deaths  \n",
       "263852 2020-04-13    2853  "
      ]
     },
     "execution_count": 73,
     "metadata": {},
     "output_type": "execute_result"
    }
   ],
   "source": [
    "#New York City Unallocated/Probable\n",
    "covid_daily.loc[covid_daily['County Name'] == 'New York City Unallocated/Probable'].sort_values(by='Deaths', ascending=False).head(1)"
   ]
  },
  {
   "cell_type": "code",
   "execution_count": 74,
   "metadata": {
    "scrolled": true
   },
   "outputs": [
    {
     "data": {
      "text/plain": [
       "0.07314634396472157"
      ]
     },
     "execution_count": 74,
     "metadata": {},
     "output_type": "execute_result"
    }
   ],
   "source": [
    "2853/total_covid_deaths"
   ]
  },
  {
   "cell_type": "markdown",
   "metadata": {},
   "source": [
    "NYC deaths represent a much larger portion at 7% of the total deaths. Although we can allocate by borough, we can't allocate by date and this data will be joined to other datasets by county code. Hence, we will drop these too. "
   ]
  },
  {
   "cell_type": "code",
   "execution_count": 75,
   "metadata": {},
   "outputs": [],
   "source": [
    "#slicing by only counties that are not any of the two in question\n",
    "covid_daily = covid_daily.loc[covid_daily['County Name'].isin(['Statewide Unallocated', 'New York City Unallocated/Probable']) == False]"
   ]
  },
  {
   "cell_type": "code",
   "execution_count": 76,
   "metadata": {
    "scrolled": false
   },
   "outputs": [
    {
     "data": {
      "text/plain": [
       "True"
      ]
     },
     "execution_count": 76,
     "metadata": {},
     "output_type": "execute_result"
    }
   ],
   "source": [
    "#Are there 62 counties now?\n",
    "covid_daily['County Name'].nunique() == 62"
   ]
  },
  {
   "cell_type": "code",
   "execution_count": 77,
   "metadata": {
    "scrolled": true
   },
   "outputs": [
    {
     "name": "stdout",
     "output_type": "stream",
     "text": [
      "<class 'pandas.core.frame.DataFrame'>\n",
      "Int64Index: 21886 entries, 1863 to 1126564\n",
      "Data columns (total 6 columns):\n",
      "countyFIPS     21886 non-null int64\n",
      "County Name    21886 non-null object\n",
      "State          21886 non-null object\n",
      "stateFIPS      21886 non-null int64\n",
      "Date           21886 non-null datetime64[ns]\n",
      "Deaths         21886 non-null int64\n",
      "dtypes: datetime64[ns](1), int64(3), object(2)\n",
      "memory usage: 1.2+ MB\n"
     ]
    }
   ],
   "source": [
    "covid_daily.info()"
   ]
  },
  {
   "cell_type": "code",
   "execution_count": 78,
   "metadata": {
    "scrolled": false
   },
   "outputs": [
    {
     "data": {
      "text/plain": [
       "2020-10-28    62\n",
       "2020-02-12    62\n",
       "2020-10-16    62\n",
       "2020-03-15    62\n",
       "2020-06-24    62\n",
       "              ..\n",
       "2020-05-04    62\n",
       "2020-08-13    62\n",
       "2020-11-22    62\n",
       "2020-04-21    62\n",
       "2020-03-27    62\n",
       "Name: Date, Length: 353, dtype: int64"
      ]
     },
     "execution_count": 78,
     "metadata": {},
     "output_type": "execute_result"
    }
   ],
   "source": [
    "#Do we have 62 observations per date?\n",
    "covid_daily['Date'].value_counts()"
   ]
  },
  {
   "cell_type": "markdown",
   "metadata": {},
   "source": [
    "Yes, we have death values on all counties per date! This dataset is ready."
   ]
  },
  {
   "cell_type": "markdown",
   "metadata": {},
   "source": [
    "**Air Quality**"
   ]
  },
  {
   "cell_type": "code",
   "execution_count": 79,
   "metadata": {
    "scrolled": true
   },
   "outputs": [
    {
     "name": "stdout",
     "output_type": "stream",
     "text": [
      "<class 'pandas.core.frame.DataFrame'>\n",
      "RangeIndex: 133889 entries, 0 to 133888\n",
      "Data columns (total 21 columns):\n",
      "Date                              133889 non-null object\n",
      "Source                            133889 non-null object\n",
      "Site ID                           133889 non-null int64\n",
      "POC                               133889 non-null int64\n",
      "Daily Mean PM2.5 Concentration    133889 non-null float64\n",
      "UNITS                             133889 non-null object\n",
      "DAILY_AQI_VALUE                   133889 non-null int64\n",
      "Site Name                         133889 non-null object\n",
      "DAILY_OBS_COUNT                   133889 non-null int64\n",
      "PERCENT_COMPLETE                  133889 non-null float64\n",
      "AQS_PARAMETER_CODE                133889 non-null int64\n",
      "AQS_PARAMETER_DESC                133889 non-null object\n",
      "CBSA_CODE                         129652 non-null float64\n",
      "CBSA_NAME                         129652 non-null object\n",
      "STATE_CODE                        133889 non-null int64\n",
      "STATE                             133889 non-null object\n",
      "COUNTY_CODE                       133889 non-null int64\n",
      "COUNTY                            133889 non-null object\n",
      "SITE_LATITUDE                     133889 non-null float64\n",
      "SITE_LONGITUDE                    133889 non-null float64\n",
      "year                              133889 non-null int64\n",
      "dtypes: float64(5), int64(8), object(8)\n",
      "memory usage: 21.5+ MB\n"
     ]
    }
   ],
   "source": [
    "air_2010_2020.info()"
   ]
  },
  {
   "cell_type": "code",
   "execution_count": 80,
   "metadata": {},
   "outputs": [],
   "source": [
    "#update date\n",
    "air_2010_2020['Date'] = pd.to_datetime(air_2010_2020['Date'])"
   ]
  },
  {
   "cell_type": "code",
   "execution_count": 81,
   "metadata": {
    "scrolled": true
   },
   "outputs": [
    {
     "name": "stdout",
     "output_type": "stream",
     "text": [
      "<class 'pandas.core.frame.DataFrame'>\n",
      "RangeIndex: 133889 entries, 0 to 133888\n",
      "Data columns (total 21 columns):\n",
      "Date                              133889 non-null datetime64[ns]\n",
      "Source                            133889 non-null object\n",
      "Site ID                           133889 non-null int64\n",
      "POC                               133889 non-null int64\n",
      "Daily Mean PM2.5 Concentration    133889 non-null float64\n",
      "UNITS                             133889 non-null object\n",
      "DAILY_AQI_VALUE                   133889 non-null int64\n",
      "Site Name                         133889 non-null object\n",
      "DAILY_OBS_COUNT                   133889 non-null int64\n",
      "PERCENT_COMPLETE                  133889 non-null float64\n",
      "AQS_PARAMETER_CODE                133889 non-null int64\n",
      "AQS_PARAMETER_DESC                133889 non-null object\n",
      "CBSA_CODE                         129652 non-null float64\n",
      "CBSA_NAME                         129652 non-null object\n",
      "STATE_CODE                        133889 non-null int64\n",
      "STATE                             133889 non-null object\n",
      "COUNTY_CODE                       133889 non-null int64\n",
      "COUNTY                            133889 non-null object\n",
      "SITE_LATITUDE                     133889 non-null float64\n",
      "SITE_LONGITUDE                    133889 non-null float64\n",
      "year                              133889 non-null int64\n",
      "dtypes: datetime64[ns](1), float64(5), int64(8), object(7)\n",
      "memory usage: 21.5+ MB\n"
     ]
    }
   ],
   "source": [
    "#confirm date is not a datetime\n",
    "air_2010_2020.info()"
   ]
  },
  {
   "cell_type": "code",
   "execution_count": 82,
   "metadata": {},
   "outputs": [
    {
     "data": {
      "text/plain": [
       "Index(['Date', 'Source', 'Site ID', 'POC', 'Daily Mean PM2.5 Concentration',\n",
       "       'UNITS', 'DAILY_AQI_VALUE', 'Site Name', 'DAILY_OBS_COUNT',\n",
       "       'PERCENT_COMPLETE', 'AQS_PARAMETER_CODE', 'AQS_PARAMETER_DESC',\n",
       "       'CBSA_CODE', 'CBSA_NAME', 'STATE_CODE', 'STATE', 'COUNTY_CODE',\n",
       "       'COUNTY', 'SITE_LATITUDE', 'SITE_LONGITUDE', 'year'],\n",
       "      dtype='object')"
      ]
     },
     "execution_count": 82,
     "metadata": {},
     "output_type": "execute_result"
    }
   ],
   "source": [
    "air_2010_2020.columns"
   ]
  },
  {
   "cell_type": "code",
   "execution_count": 83,
   "metadata": {},
   "outputs": [],
   "source": [
    "#Drop columns 100% won't be used\n",
    "air_2010_2020 = air_2010_2020[['Date', 'Site ID', 'Daily Mean PM2.5 Concentration',\n",
    "       'UNITS', 'DAILY_AQI_VALUE', 'Site Name', 'AQS_PARAMETER_CODE', 'AQS_PARAMETER_DESC','COUNTY_CODE',\n",
    "       'COUNTY', 'SITE_LATITUDE', 'SITE_LONGITUDE', 'year']]"
   ]
  },
  {
   "cell_type": "code",
   "execution_count": 84,
   "metadata": {},
   "outputs": [
    {
     "data": {
      "text/html": [
       "<div>\n",
       "<style scoped>\n",
       "    .dataframe tbody tr th:only-of-type {\n",
       "        vertical-align: middle;\n",
       "    }\n",
       "\n",
       "    .dataframe tbody tr th {\n",
       "        vertical-align: top;\n",
       "    }\n",
       "\n",
       "    .dataframe thead th {\n",
       "        text-align: right;\n",
       "    }\n",
       "</style>\n",
       "<table border=\"1\" class=\"dataframe\">\n",
       "  <thead>\n",
       "    <tr style=\"text-align: right;\">\n",
       "      <th></th>\n",
       "      <th>Date</th>\n",
       "      <th>Site ID</th>\n",
       "      <th>Daily Mean PM2.5 Concentration</th>\n",
       "      <th>UNITS</th>\n",
       "      <th>DAILY_AQI_VALUE</th>\n",
       "      <th>Site Name</th>\n",
       "      <th>AQS_PARAMETER_CODE</th>\n",
       "      <th>AQS_PARAMETER_DESC</th>\n",
       "      <th>COUNTY_CODE</th>\n",
       "      <th>COUNTY</th>\n",
       "      <th>SITE_LATITUDE</th>\n",
       "      <th>SITE_LONGITUDE</th>\n",
       "      <th>year</th>\n",
       "    </tr>\n",
       "  </thead>\n",
       "  <tbody>\n",
       "    <tr>\n",
       "      <td>0</td>\n",
       "      <td>2010-01-01</td>\n",
       "      <td>360010005</td>\n",
       "      <td>22.5</td>\n",
       "      <td>ug/m3 LC</td>\n",
       "      <td>73</td>\n",
       "      <td>ALBANY COUNTY HEALTH DEPT</td>\n",
       "      <td>88101</td>\n",
       "      <td>PM2.5 - Local Conditions</td>\n",
       "      <td>1</td>\n",
       "      <td>Albany</td>\n",
       "      <td>42.64225</td>\n",
       "      <td>-73.75464</td>\n",
       "      <td>2010</td>\n",
       "    </tr>\n",
       "  </tbody>\n",
       "</table>\n",
       "</div>"
      ],
      "text/plain": [
       "        Date    Site ID  Daily Mean PM2.5 Concentration     UNITS  \\\n",
       "0 2010-01-01  360010005                            22.5  ug/m3 LC   \n",
       "\n",
       "   DAILY_AQI_VALUE                  Site Name  AQS_PARAMETER_CODE  \\\n",
       "0               73  ALBANY COUNTY HEALTH DEPT               88101   \n",
       "\n",
       "         AQS_PARAMETER_DESC  COUNTY_CODE  COUNTY  SITE_LATITUDE  \\\n",
       "0  PM2.5 - Local Conditions            1  Albany       42.64225   \n",
       "\n",
       "   SITE_LONGITUDE  year  \n",
       "0       -73.75464  2010  "
      ]
     },
     "execution_count": 84,
     "metadata": {},
     "output_type": "execute_result"
    }
   ],
   "source": [
    "air_2010_2020.head(1)"
   ]
  },
  {
   "cell_type": "markdown",
   "metadata": {},
   "source": [
    "**County Demographics**\n",
    "\n",
    "* Population by Characteristics (Age Group and Sex)\n",
    "* Population by Characteristics (Age, Sex, Race, Hispanic Origin)\n",
    "* Size\n",
    "* Poverty\n",
    "* Unemployment and Household Income\n",
    "* Hospitals"
   ]
  },
  {
   "cell_type": "markdown",
   "metadata": {},
   "source": [
    "*Population by Characteristics (Age Group and Sex)*"
   ]
  },
  {
   "cell_type": "code",
   "execution_count": 85,
   "metadata": {},
   "outputs": [
    {
     "data": {
      "text/plain": [
       "Index(['SUMLEV', 'STATE', 'COUNTY', 'STNAME', 'CTYNAME', 'YEAR', 'POPESTIMATE',\n",
       "       'POPEST_MALE', 'POPEST_FEM', 'UNDER5_TOT', 'UNDER5_MALE', 'UNDER5_FEM',\n",
       "       'AGE513_TOT', 'AGE513_MALE', 'AGE513_FEM', 'AGE1417_TOT',\n",
       "       'AGE1417_MALE', 'AGE1417_FEM', 'AGE1824_TOT', 'AGE1824_MALE',\n",
       "       'AGE1824_FEM', 'AGE16PLUS_TOT', 'AGE16PLUS_MALE', 'AGE16PLUS_FEM',\n",
       "       'AGE18PLUS_TOT', 'AGE18PLUS_MALE', 'AGE18PLUS_FEM', 'AGE1544_TOT',\n",
       "       'AGE1544_MALE', 'AGE1544_FEM', 'AGE2544_TOT', 'AGE2544_MALE',\n",
       "       'AGE2544_FEM', 'AGE4564_TOT', 'AGE4564_MALE', 'AGE4564_FEM',\n",
       "       'AGE65PLUS_TOT', 'AGE65PLUS_MALE', 'AGE65PLUS_FEM', 'AGE04_TOT',\n",
       "       'AGE04_MALE', 'AGE04_FEM', 'AGE59_TOT', 'AGE59_MALE', 'AGE59_FEM',\n",
       "       'AGE1014_TOT', 'AGE1014_MALE', 'AGE1014_FEM', 'AGE1519_TOT',\n",
       "       'AGE1519_MALE', 'AGE1519_FEM', 'AGE2024_TOT', 'AGE2024_MALE',\n",
       "       'AGE2024_FEM', 'AGE2529_TOT', 'AGE2529_MALE', 'AGE2529_FEM',\n",
       "       'AGE3034_TOT', 'AGE3034_MALE', 'AGE3034_FEM', 'AGE3539_TOT',\n",
       "       'AGE3539_MALE', 'AGE3539_FEM', 'AGE4044_TOT', 'AGE4044_MALE',\n",
       "       'AGE4044_FEM', 'AGE4549_TOT', 'AGE4549_MALE', 'AGE4549_FEM',\n",
       "       'AGE5054_TOT', 'AGE5054_MALE', 'AGE5054_FEM', 'AGE5559_TOT',\n",
       "       'AGE5559_MALE', 'AGE5559_FEM', 'AGE6064_TOT', 'AGE6064_MALE',\n",
       "       'AGE6064_FEM', 'AGE6569_TOT', 'AGE6569_MALE', 'AGE6569_FEM',\n",
       "       'AGE7074_TOT', 'AGE7074_MALE', 'AGE7074_FEM', 'AGE7579_TOT',\n",
       "       'AGE7579_MALE', 'AGE7579_FEM', 'AGE8084_TOT', 'AGE8084_MALE',\n",
       "       'AGE8084_FEM', 'AGE85PLUS_TOT', 'AGE85PLUS_MALE', 'AGE85PLUS_FEM',\n",
       "       'MEDIAN_AGE_TOT', 'MEDIAN_AGE_MALE', 'MEDIAN_AGE_FEM'],\n",
       "      dtype='object')"
      ]
     },
     "execution_count": 85,
     "metadata": {},
     "output_type": "execute_result"
    }
   ],
   "source": [
    "# COUNTY POP BY CHARACTERISTICS AGE DATA\n",
    "county_pop_by_characteristics_age_sex.columns"
   ]
  },
  {
   "cell_type": "code",
   "execution_count": 86,
   "metadata": {
    "scrolled": true
   },
   "outputs": [
    {
     "data": {
      "text/plain": [
       "array([ 1,  2,  3,  4,  5,  6,  7,  8,  9, 10, 11, 12], dtype=int64)"
      ]
     },
     "execution_count": 86,
     "metadata": {},
     "output_type": "execute_result"
    }
   ],
   "source": [
    "# First extract only 2019 data\n",
    "county_pop_by_characteristics_age_sex['YEAR'].unique()"
   ]
  },
  {
   "cell_type": "markdown",
   "metadata": {},
   "source": [
    "Only using year 12 which is the 2019 estimate, when possible I will get 2019 data (last year pre-covid)."
   ]
  },
  {
   "cell_type": "code",
   "execution_count": 87,
   "metadata": {},
   "outputs": [
    {
     "data": {
      "text/plain": [
       "array(['New York'], dtype=object)"
      ]
     },
     "execution_count": 87,
     "metadata": {},
     "output_type": "execute_result"
    }
   ],
   "source": [
    "# confirm only NY\n",
    "county_pop_by_characteristics_age_sex['STNAME'].unique()"
   ]
  },
  {
   "cell_type": "code",
   "execution_count": 88,
   "metadata": {},
   "outputs": [],
   "source": [
    "county_pop_by_characteristics_age_sex = county_pop_by_characteristics_age_sex.loc[county_pop_by_characteristics_age_sex['YEAR']==12]"
   ]
  },
  {
   "cell_type": "code",
   "execution_count": 89,
   "metadata": {},
   "outputs": [
    {
     "data": {
      "text/plain": [
       "array([12], dtype=int64)"
      ]
     },
     "execution_count": 89,
     "metadata": {},
     "output_type": "execute_result"
    }
   ],
   "source": [
    "county_pop_by_characteristics_age_sex['YEAR'].unique()"
   ]
  },
  {
   "cell_type": "code",
   "execution_count": 90,
   "metadata": {},
   "outputs": [],
   "source": [
    "#Now only keep columns to be be looked at further\n",
    "county_pop_by_characteristics_age_sex = county_pop_by_characteristics_age_sex[['COUNTY', 'CTYNAME', 'POPESTIMATE', 'POPEST_MALE', 'POPEST_FEM', 'UNDER5_TOT', 'AGE513_TOT', 'AGE1417_TOT', 'AGE1824_TOT', 'AGE18PLUS_TOT', 'AGE18PLUS_MALE', 'AGE18PLUS_FEM', 'AGE1544_TOT', 'AGE65PLUS_TOT', 'AGE2529_TOT']]"
   ]
  },
  {
   "cell_type": "code",
   "execution_count": 91,
   "metadata": {
    "scrolled": false
   },
   "outputs": [
    {
     "data": {
      "text/html": [
       "<div>\n",
       "<style scoped>\n",
       "    .dataframe tbody tr th:only-of-type {\n",
       "        vertical-align: middle;\n",
       "    }\n",
       "\n",
       "    .dataframe tbody tr th {\n",
       "        vertical-align: top;\n",
       "    }\n",
       "\n",
       "    .dataframe thead th {\n",
       "        text-align: right;\n",
       "    }\n",
       "</style>\n",
       "<table border=\"1\" class=\"dataframe\">\n",
       "  <thead>\n",
       "    <tr style=\"text-align: right;\">\n",
       "      <th></th>\n",
       "      <th>COUNTY</th>\n",
       "      <th>CTYNAME</th>\n",
       "      <th>POPESTIMATE</th>\n",
       "      <th>POPEST_MALE</th>\n",
       "      <th>POPEST_FEM</th>\n",
       "      <th>UNDER5_TOT</th>\n",
       "      <th>AGE513_TOT</th>\n",
       "      <th>AGE1417_TOT</th>\n",
       "      <th>AGE1824_TOT</th>\n",
       "      <th>AGE18PLUS_TOT</th>\n",
       "      <th>AGE18PLUS_MALE</th>\n",
       "      <th>AGE18PLUS_FEM</th>\n",
       "      <th>AGE1544_TOT</th>\n",
       "      <th>AGE65PLUS_TOT</th>\n",
       "      <th>AGE2529_TOT</th>\n",
       "    </tr>\n",
       "  </thead>\n",
       "  <tbody>\n",
       "    <tr>\n",
       "      <td>11</td>\n",
       "      <td>1</td>\n",
       "      <td>Albany County</td>\n",
       "      <td>305506</td>\n",
       "      <td>147818</td>\n",
       "      <td>157688</td>\n",
       "      <td>15204</td>\n",
       "      <td>27656</td>\n",
       "      <td>12905</td>\n",
       "      <td>44050</td>\n",
       "      <td>249741</td>\n",
       "      <td>119344</td>\n",
       "      <td>130397</td>\n",
       "      <td>130232</td>\n",
       "      <td>53272</td>\n",
       "      <td>21533</td>\n",
       "    </tr>\n",
       "    <tr>\n",
       "      <td>23</td>\n",
       "      <td>3</td>\n",
       "      <td>Allegany County</td>\n",
       "      <td>46091</td>\n",
       "      <td>23418</td>\n",
       "      <td>22673</td>\n",
       "      <td>2424</td>\n",
       "      <td>4589</td>\n",
       "      <td>2261</td>\n",
       "      <td>6687</td>\n",
       "      <td>36817</td>\n",
       "      <td>18575</td>\n",
       "      <td>18242</td>\n",
       "      <td>17809</td>\n",
       "      <td>9055</td>\n",
       "      <td>2248</td>\n",
       "    </tr>\n",
       "    <tr>\n",
       "      <td>35</td>\n",
       "      <td>5</td>\n",
       "      <td>Bronx County</td>\n",
       "      <td>1418207</td>\n",
       "      <td>669548</td>\n",
       "      <td>748659</td>\n",
       "      <td>100199</td>\n",
       "      <td>173858</td>\n",
       "      <td>74606</td>\n",
       "      <td>137701</td>\n",
       "      <td>1069544</td>\n",
       "      <td>491544</td>\n",
       "      <td>578000</td>\n",
       "      <td>600560</td>\n",
       "      <td>188766</td>\n",
       "      <td>119696</td>\n",
       "    </tr>\n",
       "    <tr>\n",
       "      <td>47</td>\n",
       "      <td>7</td>\n",
       "      <td>Broome County</td>\n",
       "      <td>190488</td>\n",
       "      <td>93845</td>\n",
       "      <td>96643</td>\n",
       "      <td>9886</td>\n",
       "      <td>18366</td>\n",
       "      <td>8553</td>\n",
       "      <td>27003</td>\n",
       "      <td>153683</td>\n",
       "      <td>74712</td>\n",
       "      <td>78971</td>\n",
       "      <td>74863</td>\n",
       "      <td>36980</td>\n",
       "      <td>11418</td>\n",
       "    </tr>\n",
       "    <tr>\n",
       "      <td>59</td>\n",
       "      <td>9</td>\n",
       "      <td>Cattaraugus County</td>\n",
       "      <td>76117</td>\n",
       "      <td>37853</td>\n",
       "      <td>38264</td>\n",
       "      <td>4160</td>\n",
       "      <td>8489</td>\n",
       "      <td>3987</td>\n",
       "      <td>6862</td>\n",
       "      <td>59481</td>\n",
       "      <td>29355</td>\n",
       "      <td>30126</td>\n",
       "      <td>26527</td>\n",
       "      <td>15022</td>\n",
       "      <td>4170</td>\n",
       "    </tr>\n",
       "  </tbody>\n",
       "</table>\n",
       "</div>"
      ],
      "text/plain": [
       "    COUNTY             CTYNAME  POPESTIMATE  POPEST_MALE  POPEST_FEM  \\\n",
       "11       1       Albany County       305506       147818      157688   \n",
       "23       3     Allegany County        46091        23418       22673   \n",
       "35       5        Bronx County      1418207       669548      748659   \n",
       "47       7       Broome County       190488        93845       96643   \n",
       "59       9  Cattaraugus County        76117        37853       38264   \n",
       "\n",
       "    UNDER5_TOT  AGE513_TOT  AGE1417_TOT  AGE1824_TOT  AGE18PLUS_TOT  \\\n",
       "11       15204       27656        12905        44050         249741   \n",
       "23        2424        4589         2261         6687          36817   \n",
       "35      100199      173858        74606       137701        1069544   \n",
       "47        9886       18366         8553        27003         153683   \n",
       "59        4160        8489         3987         6862          59481   \n",
       "\n",
       "    AGE18PLUS_MALE  AGE18PLUS_FEM  AGE1544_TOT  AGE65PLUS_TOT  AGE2529_TOT  \n",
       "11          119344         130397       130232          53272        21533  \n",
       "23           18575          18242        17809           9055         2248  \n",
       "35          491544         578000       600560         188766       119696  \n",
       "47           74712          78971        74863          36980        11418  \n",
       "59           29355          30126        26527          15022         4170  "
      ]
     },
     "execution_count": 91,
     "metadata": {},
     "output_type": "execute_result"
    }
   ],
   "source": [
    "county_pop_by_characteristics_age_sex.head()"
   ]
  },
  {
   "cell_type": "code",
   "execution_count": 92,
   "metadata": {},
   "outputs": [
    {
     "data": {
      "text/plain": [
       "62"
      ]
     },
     "execution_count": 92,
     "metadata": {},
     "output_type": "execute_result"
    }
   ],
   "source": [
    "len(county_pop_by_characteristics_age_sex)"
   ]
  },
  {
   "cell_type": "code",
   "execution_count": 93,
   "metadata": {},
   "outputs": [
    {
     "name": "stdout",
     "output_type": "stream",
     "text": [
      "<class 'pandas.core.frame.DataFrame'>\n",
      "Int64Index: 62 entries, 11 to 743\n",
      "Data columns (total 15 columns):\n",
      "COUNTY            62 non-null int64\n",
      "CTYNAME           62 non-null object\n",
      "POPESTIMATE       62 non-null int64\n",
      "POPEST_MALE       62 non-null int64\n",
      "POPEST_FEM        62 non-null int64\n",
      "UNDER5_TOT        62 non-null int64\n",
      "AGE513_TOT        62 non-null int64\n",
      "AGE1417_TOT       62 non-null int64\n",
      "AGE1824_TOT       62 non-null int64\n",
      "AGE18PLUS_TOT     62 non-null int64\n",
      "AGE18PLUS_MALE    62 non-null int64\n",
      "AGE18PLUS_FEM     62 non-null int64\n",
      "AGE1544_TOT       62 non-null int64\n",
      "AGE65PLUS_TOT     62 non-null int64\n",
      "AGE2529_TOT       62 non-null int64\n",
      "dtypes: int64(14), object(1)\n",
      "memory usage: 7.8+ KB\n"
     ]
    }
   ],
   "source": [
    "county_pop_by_characteristics_age_sex.info()"
   ]
  },
  {
   "cell_type": "markdown",
   "metadata": {},
   "source": [
    "No nulls. All variables are correct data type. Now, one line per county. Closer to the county dataframe we need\n",
    "\n",
    "\"County\" = FIPS Code."
   ]
  },
  {
   "cell_type": "markdown",
   "metadata": {},
   "source": [
    "*Population by Characteristics (Age, Sex, Race, Hispanic Origin)*"
   ]
  },
  {
   "cell_type": "code",
   "execution_count": 94,
   "metadata": {
    "scrolled": true
   },
   "outputs": [
    {
     "data": {
      "text/plain": [
       "Index(['SUMLEV', 'STATE', 'COUNTY', 'STNAME', 'CTYNAME', 'YEAR', 'AGEGRP',\n",
       "       'TOT_POP', 'TOT_MALE', 'TOT_FEMALE', 'WA_MALE', 'WA_FEMALE', 'BA_MALE',\n",
       "       'BA_FEMALE', 'IA_MALE', 'IA_FEMALE', 'AA_MALE', 'AA_FEMALE', 'NA_MALE',\n",
       "       'NA_FEMALE', 'TOM_MALE', 'TOM_FEMALE', 'WAC_MALE', 'WAC_FEMALE',\n",
       "       'BAC_MALE', 'BAC_FEMALE', 'IAC_MALE', 'IAC_FEMALE', 'AAC_MALE',\n",
       "       'AAC_FEMALE', 'NAC_MALE', 'NAC_FEMALE', 'NH_MALE', 'NH_FEMALE',\n",
       "       'NHWA_MALE', 'NHWA_FEMALE', 'NHBA_MALE', 'NHBA_FEMALE', 'NHIA_MALE',\n",
       "       'NHIA_FEMALE', 'NHAA_MALE', 'NHAA_FEMALE', 'NHNA_MALE', 'NHNA_FEMALE',\n",
       "       'NHTOM_MALE', 'NHTOM_FEMALE', 'NHWAC_MALE', 'NHWAC_FEMALE',\n",
       "       'NHBAC_MALE', 'NHBAC_FEMALE', 'NHIAC_MALE', 'NHIAC_FEMALE',\n",
       "       'NHAAC_MALE', 'NHAAC_FEMALE', 'NHNAC_MALE', 'NHNAC_FEMALE', 'H_MALE',\n",
       "       'H_FEMALE', 'HWA_MALE', 'HWA_FEMALE', 'HBA_MALE', 'HBA_FEMALE',\n",
       "       'HIA_MALE', 'HIA_FEMALE', 'HAA_MALE', 'HAA_FEMALE', 'HNA_MALE',\n",
       "       'HNA_FEMALE', 'HTOM_MALE', 'HTOM_FEMALE', 'HWAC_MALE', 'HWAC_FEMALE',\n",
       "       'HBAC_MALE', 'HBAC_FEMALE', 'HIAC_MALE', 'HIAC_FEMALE', 'HAAC_MALE',\n",
       "       'HAAC_FEMALE', 'HNAC_MALE', 'HNAC_FEMALE'],\n",
       "      dtype='object')"
      ]
     },
     "execution_count": 94,
     "metadata": {},
     "output_type": "execute_result"
    }
   ],
   "source": [
    "county_pop_by_characteristics_age_sex_race_hispanic.columns"
   ]
  },
  {
   "cell_type": "code",
   "execution_count": 95,
   "metadata": {},
   "outputs": [
    {
     "data": {
      "text/plain": [
       "array([ 1,  2,  3,  4,  5,  6,  7,  8,  9, 10, 11, 12], dtype=int64)"
      ]
     },
     "execution_count": 95,
     "metadata": {},
     "output_type": "execute_result"
    }
   ],
   "source": [
    "county_pop_by_characteristics_age_sex_race_hispanic['YEAR'].unique()"
   ]
  },
  {
   "cell_type": "code",
   "execution_count": 96,
   "metadata": {},
   "outputs": [],
   "source": [
    "#Filter by Year 12\n",
    "\n",
    "county_pop_by_characteristics_age_sex_race_hispanic = county_pop_by_characteristics_age_sex_race_hispanic.loc[county_pop_by_characteristics_age_sex_race_hispanic['YEAR']==12]"
   ]
  },
  {
   "cell_type": "code",
   "execution_count": 97,
   "metadata": {},
   "outputs": [
    {
     "data": {
      "text/plain": [
       "array([12], dtype=int64)"
      ]
     },
     "execution_count": 97,
     "metadata": {},
     "output_type": "execute_result"
    }
   ],
   "source": [
    "county_pop_by_characteristics_age_sex_race_hispanic['YEAR'].unique()"
   ]
  },
  {
   "cell_type": "code",
   "execution_count": 98,
   "metadata": {},
   "outputs": [
    {
     "data": {
      "text/plain": [
       "array([ 0,  1,  2,  3,  4,  5,  6,  7,  8,  9, 10, 11, 12, 13, 14, 15, 16,\n",
       "       17, 18], dtype=int64)"
      ]
     },
     "execution_count": 98,
     "metadata": {},
     "output_type": "execute_result"
    }
   ],
   "source": [
    "# Filter by Age Group - Total\n",
    "county_pop_by_characteristics_age_sex_race_hispanic['AGEGRP'].unique()"
   ]
  },
  {
   "cell_type": "code",
   "execution_count": 99,
   "metadata": {},
   "outputs": [],
   "source": [
    "county_pop_by_characteristics_age_sex_race_hispanic = county_pop_by_characteristics_age_sex_race_hispanic.loc[county_pop_by_characteristics_age_sex_race_hispanic['AGEGRP']==0]"
   ]
  },
  {
   "cell_type": "code",
   "execution_count": 100,
   "metadata": {},
   "outputs": [
    {
     "data": {
      "text/plain": [
       "array([0], dtype=int64)"
      ]
     },
     "execution_count": 100,
     "metadata": {},
     "output_type": "execute_result"
    }
   ],
   "source": [
    "# Filter by Age Group - Total\n",
    "county_pop_by_characteristics_age_sex_race_hispanic['AGEGRP'].unique()"
   ]
  },
  {
   "cell_type": "code",
   "execution_count": 101,
   "metadata": {},
   "outputs": [
    {
     "data": {
      "text/plain": [
       "True"
      ]
     },
     "execution_count": 101,
     "metadata": {},
     "output_type": "execute_result"
    }
   ],
   "source": [
    "#Is it 62 rows? 1 per county\n",
    "len(county_pop_by_characteristics_age_sex_race_hispanic) == 62"
   ]
  },
  {
   "cell_type": "code",
   "execution_count": 102,
   "metadata": {},
   "outputs": [],
   "source": [
    "#only keep certain columns\n",
    "keep = ['COUNTY','CTYNAME', 'TOT_POP', 'NH_MALE', 'NH_FEMALE', 'NHWA_MALE', 'NHWA_FEMALE', 'WA_MALE', 'WA_FEMALE', 'BA_MALE','BA_FEMALE',  \n",
    "      'IA_MALE', 'IA_FEMALE', 'AA_MALE', 'AA_FEMALE', 'NA_MALE', 'NA_FEMALE', 'TOM_MALE', 'TOM_FEMALE', \n",
    "        'H_MALE', 'H_FEMALE']\n",
    "\n",
    "county_pop_by_characteristics_age_sex_race_hispanic = county_pop_by_characteristics_age_sex_race_hispanic[keep]"
   ]
  },
  {
   "cell_type": "code",
   "execution_count": 103,
   "metadata": {
    "scrolled": true
   },
   "outputs": [
    {
     "data": {
      "text/html": [
       "<div>\n",
       "<style scoped>\n",
       "    .dataframe tbody tr th:only-of-type {\n",
       "        vertical-align: middle;\n",
       "    }\n",
       "\n",
       "    .dataframe tbody tr th {\n",
       "        vertical-align: top;\n",
       "    }\n",
       "\n",
       "    .dataframe thead th {\n",
       "        text-align: right;\n",
       "    }\n",
       "</style>\n",
       "<table border=\"1\" class=\"dataframe\">\n",
       "  <thead>\n",
       "    <tr style=\"text-align: right;\">\n",
       "      <th></th>\n",
       "      <th>COUNTY</th>\n",
       "      <th>CTYNAME</th>\n",
       "      <th>TOT_POP</th>\n",
       "      <th>NH_MALE</th>\n",
       "      <th>NH_FEMALE</th>\n",
       "      <th>NHWA_MALE</th>\n",
       "      <th>NHWA_FEMALE</th>\n",
       "      <th>WA_MALE</th>\n",
       "      <th>WA_FEMALE</th>\n",
       "      <th>BA_MALE</th>\n",
       "      <th>...</th>\n",
       "      <th>IA_MALE</th>\n",
       "      <th>IA_FEMALE</th>\n",
       "      <th>AA_MALE</th>\n",
       "      <th>AA_FEMALE</th>\n",
       "      <th>NA_MALE</th>\n",
       "      <th>NA_FEMALE</th>\n",
       "      <th>TOM_MALE</th>\n",
       "      <th>TOM_FEMALE</th>\n",
       "      <th>H_MALE</th>\n",
       "      <th>H_FEMALE</th>\n",
       "    </tr>\n",
       "  </thead>\n",
       "  <tbody>\n",
       "    <tr>\n",
       "      <td>209</td>\n",
       "      <td>1</td>\n",
       "      <td>Albany County</td>\n",
       "      <td>305506</td>\n",
       "      <td>138525</td>\n",
       "      <td>147879</td>\n",
       "      <td>105918</td>\n",
       "      <td>112727</td>\n",
       "      <td>112279</td>\n",
       "      <td>119259</td>\n",
       "      <td>20431</td>\n",
       "      <td>...</td>\n",
       "      <td>456</td>\n",
       "      <td>474</td>\n",
       "      <td>10189</td>\n",
       "      <td>10696</td>\n",
       "      <td>101</td>\n",
       "      <td>101</td>\n",
       "      <td>4362</td>\n",
       "      <td>4493</td>\n",
       "      <td>9293</td>\n",
       "      <td>9809</td>\n",
       "    </tr>\n",
       "  </tbody>\n",
       "</table>\n",
       "<p>1 rows × 21 columns</p>\n",
       "</div>"
      ],
      "text/plain": [
       "     COUNTY        CTYNAME  TOT_POP  NH_MALE  NH_FEMALE  NHWA_MALE  \\\n",
       "209       1  Albany County   305506   138525     147879     105918   \n",
       "\n",
       "     NHWA_FEMALE  WA_MALE  WA_FEMALE  BA_MALE  ...  IA_MALE  IA_FEMALE  \\\n",
       "209       112727   112279     119259    20431  ...      456        474   \n",
       "\n",
       "     AA_MALE  AA_FEMALE  NA_MALE  NA_FEMALE  TOM_MALE  TOM_FEMALE  H_MALE  \\\n",
       "209    10189      10696      101        101      4362        4493    9293   \n",
       "\n",
       "     H_FEMALE  \n",
       "209      9809  \n",
       "\n",
       "[1 rows x 21 columns]"
      ]
     },
     "execution_count": 103,
     "metadata": {},
     "output_type": "execute_result"
    }
   ],
   "source": [
    "county_pop_by_characteristics_age_sex_race_hispanic.head(1)"
   ]
  },
  {
   "cell_type": "code",
   "execution_count": 104,
   "metadata": {
    "scrolled": true
   },
   "outputs": [
    {
     "name": "stdout",
     "output_type": "stream",
     "text": [
      "<class 'pandas.core.frame.DataFrame'>\n",
      "Int64Index: 62 entries, 209 to 14117\n",
      "Data columns (total 21 columns):\n",
      "COUNTY         62 non-null int64\n",
      "CTYNAME        62 non-null object\n",
      "TOT_POP        62 non-null int64\n",
      "NH_MALE        62 non-null int64\n",
      "NH_FEMALE      62 non-null int64\n",
      "NHWA_MALE      62 non-null int64\n",
      "NHWA_FEMALE    62 non-null int64\n",
      "WA_MALE        62 non-null int64\n",
      "WA_FEMALE      62 non-null int64\n",
      "BA_MALE        62 non-null int64\n",
      "BA_FEMALE      62 non-null int64\n",
      "IA_MALE        62 non-null int64\n",
      "IA_FEMALE      62 non-null int64\n",
      "AA_MALE        62 non-null int64\n",
      "AA_FEMALE      62 non-null int64\n",
      "NA_MALE        62 non-null int64\n",
      "NA_FEMALE      62 non-null int64\n",
      "TOM_MALE       62 non-null int64\n",
      "TOM_FEMALE     62 non-null int64\n",
      "H_MALE         62 non-null int64\n",
      "H_FEMALE       62 non-null int64\n",
      "dtypes: int64(20), object(1)\n",
      "memory usage: 10.7+ KB\n"
     ]
    }
   ],
   "source": [
    "county_pop_by_characteristics_age_sex_race_hispanic.info()"
   ]
  },
  {
   "cell_type": "markdown",
   "metadata": {},
   "source": [
    "No nulls and correct data types."
   ]
  },
  {
   "cell_type": "code",
   "execution_count": 105,
   "metadata": {},
   "outputs": [
    {
     "data": {
      "text/html": [
       "<div>\n",
       "<style scoped>\n",
       "    .dataframe tbody tr th:only-of-type {\n",
       "        vertical-align: middle;\n",
       "    }\n",
       "\n",
       "    .dataframe tbody tr th {\n",
       "        vertical-align: top;\n",
       "    }\n",
       "\n",
       "    .dataframe thead th {\n",
       "        text-align: right;\n",
       "    }\n",
       "</style>\n",
       "<table border=\"1\" class=\"dataframe\">\n",
       "  <thead>\n",
       "    <tr style=\"text-align: right;\">\n",
       "      <th></th>\n",
       "      <th>FIPS</th>\n",
       "      <th>Name</th>\n",
       "      <th>Unnamed: 2</th>\n",
       "      <th>RUC Code</th>\n",
       "      <th>Percent_Pop</th>\n",
       "      <th>Lower Bound</th>\n",
       "      <th>Upper Bound</th>\n",
       "      <th>Percent_Children</th>\n",
       "      <th>Lower Bound.1</th>\n",
       "      <th>Upper Bound.1</th>\n",
       "    </tr>\n",
       "  </thead>\n",
       "  <tbody>\n",
       "    <tr>\n",
       "      <td>0</td>\n",
       "      <td>36000</td>\n",
       "      <td>New York</td>\n",
       "      <td>NaN</td>\n",
       "      <td>NaN</td>\n",
       "      <td>13.1</td>\n",
       "      <td>12.9</td>\n",
       "      <td>13.3</td>\n",
       "      <td>18.2</td>\n",
       "      <td>17.7</td>\n",
       "      <td>18.7</td>\n",
       "    </tr>\n",
       "    <tr>\n",
       "      <td>31</td>\n",
       "      <td>36061</td>\n",
       "      <td>New York</td>\n",
       "      <td>NaN</td>\n",
       "      <td>1.0</td>\n",
       "      <td>14.1</td>\n",
       "      <td>13.1</td>\n",
       "      <td>15.1</td>\n",
       "      <td>17.3</td>\n",
       "      <td>13.9</td>\n",
       "      <td>20.7</td>\n",
       "    </tr>\n",
       "  </tbody>\n",
       "</table>\n",
       "</div>"
      ],
      "text/plain": [
       "     FIPS      Name  Unnamed: 2  RUC Code  Percent_Pop  Lower Bound  \\\n",
       "0   36000  New York         NaN       NaN         13.1         12.9   \n",
       "31  36061  New York         NaN       1.0         14.1         13.1   \n",
       "\n",
       "    Upper Bound  Percent_Children  Lower Bound.1  Upper Bound.1  \n",
       "0          13.3              18.2           17.7           18.7  \n",
       "31         15.1              17.3           13.9           20.7  "
      ]
     },
     "execution_count": 105,
     "metadata": {},
     "output_type": "execute_result"
    }
   ],
   "source": [
    "#New York rows in poverty\n",
    "poverty.loc[poverty['Name']=='New York']"
   ]
  },
  {
   "cell_type": "code",
   "execution_count": 106,
   "metadata": {},
   "outputs": [],
   "source": [
    "#Drop extra row\n",
    "poverty.drop(poverty.index[0], inplace=True)"
   ]
  },
  {
   "cell_type": "code",
   "execution_count": 107,
   "metadata": {
    "scrolled": true
   },
   "outputs": [
    {
     "data": {
      "text/html": [
       "<div>\n",
       "<style scoped>\n",
       "    .dataframe tbody tr th:only-of-type {\n",
       "        vertical-align: middle;\n",
       "    }\n",
       "\n",
       "    .dataframe tbody tr th {\n",
       "        vertical-align: top;\n",
       "    }\n",
       "\n",
       "    .dataframe thead th {\n",
       "        text-align: right;\n",
       "    }\n",
       "</style>\n",
       "<table border=\"1\" class=\"dataframe\">\n",
       "  <thead>\n",
       "    <tr style=\"text-align: right;\">\n",
       "      <th></th>\n",
       "      <th>FIPS</th>\n",
       "      <th>Name</th>\n",
       "      <th>Unnamed: 2</th>\n",
       "      <th>RUC Code</th>\n",
       "      <th>Percent_Pop</th>\n",
       "      <th>Lower Bound</th>\n",
       "      <th>Upper Bound</th>\n",
       "      <th>Percent_Children</th>\n",
       "      <th>Lower Bound.1</th>\n",
       "      <th>Upper Bound.1</th>\n",
       "    </tr>\n",
       "  </thead>\n",
       "  <tbody>\n",
       "    <tr>\n",
       "      <td>31</td>\n",
       "      <td>36061</td>\n",
       "      <td>New York</td>\n",
       "      <td>NaN</td>\n",
       "      <td>1.0</td>\n",
       "      <td>14.1</td>\n",
       "      <td>13.1</td>\n",
       "      <td>15.1</td>\n",
       "      <td>17.3</td>\n",
       "      <td>13.9</td>\n",
       "      <td>20.7</td>\n",
       "    </tr>\n",
       "  </tbody>\n",
       "</table>\n",
       "</div>"
      ],
      "text/plain": [
       "     FIPS      Name  Unnamed: 2  RUC Code  Percent_Pop  Lower Bound  \\\n",
       "31  36061  New York         NaN       1.0         14.1         13.1   \n",
       "\n",
       "    Upper Bound  Percent_Children  Lower Bound.1  Upper Bound.1  \n",
       "31         15.1              17.3           13.9           20.7  "
      ]
     },
     "execution_count": 107,
     "metadata": {},
     "output_type": "execute_result"
    }
   ],
   "source": [
    "#New York rows in poverty - only 1 row now\n",
    "poverty.loc[poverty['Name']=='New York']"
   ]
  },
  {
   "cell_type": "code",
   "execution_count": 108,
   "metadata": {
    "scrolled": false
   },
   "outputs": [
    {
     "name": "stdout",
     "output_type": "stream",
     "text": [
      "<class 'pandas.core.frame.DataFrame'>\n",
      "Int64Index: 62 entries, 1 to 62\n",
      "Data columns (total 10 columns):\n",
      "FIPS                62 non-null int64\n",
      "Name                62 non-null object\n",
      "Unnamed: 2          0 non-null float64\n",
      "RUC Code            62 non-null float64\n",
      "Percent_Pop         62 non-null float64\n",
      "Lower Bound         62 non-null float64\n",
      "Upper Bound         62 non-null float64\n",
      "Percent_Children    62 non-null float64\n",
      "Lower Bound.1       62 non-null float64\n",
      "Upper Bound.1       62 non-null float64\n",
      "dtypes: float64(8), int64(1), object(1)\n",
      "memory usage: 5.3+ KB\n"
     ]
    }
   ],
   "source": [
    "#all should be 62\n",
    "poverty.info()"
   ]
  },
  {
   "cell_type": "code",
   "execution_count": 109,
   "metadata": {},
   "outputs": [],
   "source": [
    "# drop empty columns\n",
    "del poverty['Unnamed: 2']"
   ]
  },
  {
   "cell_type": "code",
   "execution_count": 110,
   "metadata": {
    "scrolled": true
   },
   "outputs": [
    {
     "name": "stdout",
     "output_type": "stream",
     "text": [
      "<class 'pandas.core.frame.DataFrame'>\n",
      "Int64Index: 62 entries, 1 to 62\n",
      "Data columns (total 9 columns):\n",
      "FIPS                62 non-null int64\n",
      "Name                62 non-null object\n",
      "RUC Code            62 non-null float64\n",
      "Percent_Pop         62 non-null float64\n",
      "Lower Bound         62 non-null float64\n",
      "Upper Bound         62 non-null float64\n",
      "Percent_Children    62 non-null float64\n",
      "Lower Bound.1       62 non-null float64\n",
      "Upper Bound.1       62 non-null float64\n",
      "dtypes: float64(7), int64(1), object(1)\n",
      "memory usage: 4.8+ KB\n"
     ]
    }
   ],
   "source": [
    "# confirm drop\n",
    "poverty.info()"
   ]
  },
  {
   "cell_type": "code",
   "execution_count": 111,
   "metadata": {
    "scrolled": false
   },
   "outputs": [
    {
     "name": "stdout",
     "output_type": "stream",
     "text": [
      "<class 'pandas.core.frame.DataFrame'>\n",
      "RangeIndex: 63 entries, 0 to 62\n",
      "Data columns (total 13 columns):\n",
      "FIPS                              63 non-null int64\n",
      "Name                              63 non-null object\n",
      "2011 Unemployment Rate            63 non-null float64\n",
      "2012 Unemployment Rate            63 non-null float64\n",
      "2013 Unemployment Rate            63 non-null float64\n",
      "2014 Unemployment Rate            63 non-null float64\n",
      "2015 Unemployment Rate            63 non-null float64\n",
      "2016 Unemployment Rate            63 non-null float64\n",
      "2017 Unemployment Rate            63 non-null float64\n",
      "2018 Unemployment Rate            63 non-null float64\n",
      "2019 Unemployment Rate            63 non-null float64\n",
      "Median Household Income (2019)    63 non-null object\n",
      "% of State Median HH Income       63 non-null object\n",
      "dtypes: float64(9), int64(1), object(3)\n",
      "memory usage: 6.5+ KB\n"
     ]
    }
   ],
   "source": [
    "unemployment_income.info()"
   ]
  },
  {
   "cell_type": "code",
   "execution_count": 112,
   "metadata": {},
   "outputs": [],
   "source": [
    "# only columns needed.\n",
    "unemployment_income  = unemployment_income[['FIPS', 'Name', '2019 Unemployment Rate', 'Median Household Income (2019)']]"
   ]
  },
  {
   "cell_type": "code",
   "execution_count": 113,
   "metadata": {
    "scrolled": true
   },
   "outputs": [
    {
     "name": "stdout",
     "output_type": "stream",
     "text": [
      "<class 'pandas.core.frame.DataFrame'>\n",
      "RangeIndex: 63 entries, 0 to 62\n",
      "Data columns (total 4 columns):\n",
      "FIPS                              63 non-null int64\n",
      "Name                              63 non-null object\n",
      "2019 Unemployment Rate            63 non-null float64\n",
      "Median Household Income (2019)    63 non-null object\n",
      "dtypes: float64(1), int64(1), object(2)\n",
      "memory usage: 2.1+ KB\n"
     ]
    }
   ],
   "source": [
    "unemployment_income.info()"
   ]
  },
  {
   "cell_type": "code",
   "execution_count": 114,
   "metadata": {},
   "outputs": [],
   "source": [
    "#Drop extra NY in unemployment_income\n",
    "unemployment_income.drop(unemployment_income.index[0], inplace=True)"
   ]
  },
  {
   "cell_type": "code",
   "execution_count": 115,
   "metadata": {
    "scrolled": true
   },
   "outputs": [
    {
     "name": "stdout",
     "output_type": "stream",
     "text": [
      "<class 'pandas.core.frame.DataFrame'>\n",
      "Int64Index: 62 entries, 1 to 62\n",
      "Data columns (total 4 columns):\n",
      "FIPS                              62 non-null int64\n",
      "Name                              62 non-null object\n",
      "2019 Unemployment Rate            62 non-null float64\n",
      "Median Household Income (2019)    62 non-null object\n",
      "dtypes: float64(1), int64(1), object(2)\n",
      "memory usage: 2.4+ KB\n"
     ]
    }
   ],
   "source": [
    "unemployment_income.info()"
   ]
  },
  {
   "cell_type": "code",
   "execution_count": 116,
   "metadata": {
    "scrolled": true
   },
   "outputs": [
    {
     "data": {
      "text/html": [
       "<div>\n",
       "<style scoped>\n",
       "    .dataframe tbody tr th:only-of-type {\n",
       "        vertical-align: middle;\n",
       "    }\n",
       "\n",
       "    .dataframe tbody tr th {\n",
       "        vertical-align: top;\n",
       "    }\n",
       "\n",
       "    .dataframe thead th {\n",
       "        text-align: right;\n",
       "    }\n",
       "</style>\n",
       "<table border=\"1\" class=\"dataframe\">\n",
       "  <thead>\n",
       "    <tr style=\"text-align: right;\">\n",
       "      <th></th>\n",
       "      <th>FIPS</th>\n",
       "      <th>Name</th>\n",
       "      <th>2019 Unemployment Rate</th>\n",
       "      <th>Median Household Income (2019)</th>\n",
       "    </tr>\n",
       "  </thead>\n",
       "  <tbody>\n",
       "    <tr>\n",
       "      <td>1</td>\n",
       "      <td>36001</td>\n",
       "      <td>Albany County, NY</td>\n",
       "      <td>3.6</td>\n",
       "      <td>$69,408</td>\n",
       "    </tr>\n",
       "    <tr>\n",
       "      <td>2</td>\n",
       "      <td>36003</td>\n",
       "      <td>Allegany County, NY</td>\n",
       "      <td>5.5</td>\n",
       "      <td>$49,411</td>\n",
       "    </tr>\n",
       "    <tr>\n",
       "      <td>3</td>\n",
       "      <td>36005</td>\n",
       "      <td>Bronx County, NY</td>\n",
       "      <td>5.4</td>\n",
       "      <td>$41,470</td>\n",
       "    </tr>\n",
       "  </tbody>\n",
       "</table>\n",
       "</div>"
      ],
      "text/plain": [
       "    FIPS                 Name  2019 Unemployment Rate  \\\n",
       "1  36001    Albany County, NY                     3.6   \n",
       "2  36003  Allegany County, NY                     5.5   \n",
       "3  36005     Bronx County, NY                     5.4   \n",
       "\n",
       "  Median Household Income (2019)  \n",
       "1                        $69,408  \n",
       "2                        $49,411  \n",
       "3                        $41,470  "
      ]
     },
     "execution_count": 116,
     "metadata": {},
     "output_type": "execute_result"
    }
   ],
   "source": [
    "# confirm index 0 dropped\n",
    "unemployment_income.head(3)"
   ]
  },
  {
   "cell_type": "code",
   "execution_count": 117,
   "metadata": {},
   "outputs": [
    {
     "name": "stdout",
     "output_type": "stream",
     "text": [
      "<class 'pandas.core.frame.DataFrame'>\n",
      "RangeIndex: 7596 entries, 0 to 7595\n",
      "Data columns (total 34 columns):\n",
      "X             7596 non-null float64\n",
      "Y             7596 non-null float64\n",
      "OBJECTID      7596 non-null int64\n",
      "ID            7596 non-null int64\n",
      "NAME          7596 non-null object\n",
      "ADDRESS       7596 non-null object\n",
      "CITY          7596 non-null object\n",
      "STATE         7596 non-null object\n",
      "ZIP           7596 non-null int64\n",
      "ZIP4          7596 non-null object\n",
      "TELEPHONE     7596 non-null object\n",
      "TYPE          7596 non-null object\n",
      "STATUS        7596 non-null object\n",
      "POPULATION    7596 non-null int64\n",
      "COUNTY        7596 non-null object\n",
      "COUNTYFIPS    7596 non-null object\n",
      "COUNTRY       7596 non-null object\n",
      "LATITUDE      7596 non-null float64\n",
      "LONGITUDE     7596 non-null float64\n",
      "NAICS_CODE    7596 non-null int64\n",
      "NAICS_DESC    7596 non-null object\n",
      "SOURCE        7596 non-null object\n",
      "SOURCEDATE    7596 non-null object\n",
      "VAL_METHOD    7596 non-null object\n",
      "VAL_DATE      7596 non-null object\n",
      "WEBSITE       7596 non-null object\n",
      "STATE_ID      7596 non-null object\n",
      "ALT_NAME      7596 non-null object\n",
      "ST_FIPS       7596 non-null int64\n",
      "OWNER         7596 non-null object\n",
      "TTL_STAFF     7596 non-null int64\n",
      "BEDS          7596 non-null int64\n",
      "TRAUMA        7596 non-null object\n",
      "HELIPAD       7596 non-null object\n",
      "dtypes: float64(4), int64(8), object(22)\n",
      "memory usage: 2.0+ MB\n"
     ]
    }
   ],
   "source": [
    "hospitals.info()"
   ]
  },
  {
   "cell_type": "code",
   "execution_count": 118,
   "metadata": {
    "scrolled": true
   },
   "outputs": [
    {
     "data": {
      "text/plain": [
       "array(['CA', 'TX', 'GA', 'LA', 'IL', 'PR', 'WI', 'RI', 'AR', 'DC', 'FL',\n",
       "       'MA', 'CT', 'KY', 'IA', 'KS', 'AZ', 'ME', 'MI', 'MN', 'MO', 'ND',\n",
       "       'IN', 'NV', 'PA', 'MT', 'SC', 'VA', 'OH', 'WA', 'OR', 'NY', 'NH',\n",
       "       'MD', 'OK', 'WV', 'SD', 'TN', 'AK', 'WY', 'NM', 'ID', 'NE', 'HI',\n",
       "       'AL', 'NC', 'CO', 'MS', 'NJ', 'UT', 'VT', 'VI', 'DE', 'GU', 'MP',\n",
       "       'PW', 'AS'], dtype=object)"
      ]
     },
     "execution_count": 118,
     "metadata": {},
     "output_type": "execute_result"
    }
   ],
   "source": [
    "hospitals.STATE.unique()"
   ]
  },
  {
   "cell_type": "code",
   "execution_count": 119,
   "metadata": {},
   "outputs": [],
   "source": [
    "#only NY\n",
    "hospitals = hospitals.loc[hospitals['STATE']=='NY']"
   ]
  },
  {
   "cell_type": "code",
   "execution_count": 120,
   "metadata": {
    "scrolled": true
   },
   "outputs": [
    {
     "data": {
      "text/plain": [
       "array(['NY'], dtype=object)"
      ]
     },
     "execution_count": 120,
     "metadata": {},
     "output_type": "execute_result"
    }
   ],
   "source": [
    "#confirm change done\n",
    "hospitals.STATE.unique()"
   ]
  },
  {
   "cell_type": "code",
   "execution_count": 121,
   "metadata": {
    "scrolled": false
   },
   "outputs": [
    {
     "data": {
      "text/plain": [
       "57"
      ]
     },
     "execution_count": 121,
     "metadata": {},
     "output_type": "execute_result"
    }
   ],
   "source": [
    "# confirm 62 countyFIPS codes\n",
    "hospitals['COUNTYFIPS'].nunique()"
   ]
  },
  {
   "cell_type": "markdown",
   "metadata": {},
   "source": [
    "It seems some counties dont have hospitals.At this point, unsure if missed or the county really doesn't have a hospital"
   ]
  },
  {
   "cell_type": "code",
   "execution_count": 122,
   "metadata": {},
   "outputs": [
    {
     "name": "stdout",
     "output_type": "stream",
     "text": [
      "['DUTCHESS' 'ERIE' 'MONROE' 'NASSAU' 'ONONDAGA' 'ORANGE' 'RENSSELAER'\n",
      " 'ST. LAWRENCE' 'ROCKLAND' 'SARATOGA' 'STEUBEN' 'SUFFOLK' 'ULSTER' 'WAYNE'\n",
      " 'WESTCHESTER' 'BRONX' 'KINGS' 'NEW YORK' 'QUEENS' 'MONTGOMERY' 'CLINTON'\n",
      " 'CHAUTAUQUA' 'ONTARIO' 'RICHMOND' 'SULLIVAN' 'CHEMUNG' 'DELAWARE'\n",
      " 'CATTARAUGUS' 'BROOME' 'CORTLAND' 'ESSEX' 'FULTON' 'FRANKLIN' 'GENESEE'\n",
      " 'JEFFERSON' 'LEWIS' 'NIAGARA' 'ONEIDA' 'OSWEGO' 'OTSEGO' 'SCHENECTADY'\n",
      " 'TOMPKINS' 'WARREN' 'ALBANY' 'MADISON' 'ALLEGANY' 'COLUMBIA' 'ORLEANS'\n",
      " 'CHENANGO' 'CAYUGA' 'HERKIMER' 'PUTNAM' 'SCHOHARIE' 'SCHUYLER' 'YATES'\n",
      " 'WYOMING' 'LIVINGSTON']\n",
      "---------\n",
      "['Albany County, NY' 'Allegany County, NY' 'Bronx County, NY'\n",
      " 'Broome County, NY' 'Cattaraugus County, NY' 'Cayuga County, NY'\n",
      " 'Chautauqua County, NY' 'Chemung County, NY' 'Chenango County, NY'\n",
      " 'Clinton County, NY' 'Columbia County, NY' 'Cortland County, NY'\n",
      " 'Delaware County, NY' 'Dutchess County, NY' 'Erie County, NY'\n",
      " 'Essex County, NY' 'Franklin County, NY' 'Fulton County, NY'\n",
      " 'Genesee County, NY' 'Greene County, NY' 'Hamilton County, NY'\n",
      " 'Herkimer County, NY' 'Jefferson County, NY' 'Kings County, NY'\n",
      " 'Lewis County, NY' 'Livingston County, NY' 'Madison County, NY'\n",
      " 'Monroe County, NY' 'Montgomery County, NY' 'Nassau County, NY'\n",
      " 'New York County, NY' 'Niagara County, NY' 'Oneida County, NY'\n",
      " 'Onondaga County, NY' 'Ontario County, NY' 'Orange County, NY'\n",
      " 'Orleans County, NY' 'Oswego County, NY' 'Otsego County, NY'\n",
      " 'Putnam County, NY' 'Queens County, NY' 'Rensselaer County, NY'\n",
      " 'Richmond County, NY' 'Rockland County, NY' 'St. Lawrence County, NY'\n",
      " 'Saratoga County, NY' 'Schenectady County, NY' 'Schoharie County, NY'\n",
      " 'Schuyler County, NY' 'Seneca County, NY' 'Steuben County, NY'\n",
      " 'Suffolk County, NY' 'Sullivan County, NY' 'Tioga County, NY'\n",
      " 'Tompkins County, NY' 'Ulster County, NY' 'Warren County, NY'\n",
      " 'Washington County, NY' 'Wayne County, NY' 'Westchester County, NY'\n",
      " 'Wyoming County, NY' 'Yates County, NY']\n"
     ]
    }
   ],
   "source": [
    "# Fine one county missing\n",
    "print(hospitals['COUNTY'].unique())\n",
    "print('---------')\n",
    "print(unemployment_income['Name'].unique())"
   ]
  },
  {
   "cell_type": "markdown",
   "metadata": {},
   "source": [
    "Greene missing. This county is very small so mabe it really doesn't have hospitals. Is there a hospital in Greene County? \n",
    "\n",
    "Apparently no. A Google search did not return any hospitals within the county. Hence, I will accept that if a county is not listed, it is because it doesn't have any hospitals."
   ]
  },
  {
   "cell_type": "markdown",
   "metadata": {},
   "source": [
    "**Make County df**"
   ]
  },
  {
   "cell_type": "code",
   "execution_count": 123,
   "metadata": {
    "scrolled": true
   },
   "outputs": [
    {
     "name": "stdout",
     "output_type": "stream",
     "text": [
      "<class 'pandas.core.frame.DataFrame'>\n",
      "Int64Index: 62 entries, 1 to 62\n",
      "Data columns (total 2 columns):\n",
      "FIPS           62 non-null int64\n",
      "county_name    62 non-null object\n",
      "dtypes: int64(1), object(1)\n",
      "memory usage: 1.5+ KB\n"
     ]
    }
   ],
   "source": [
    "#Using poverty as base as the Name is formatted nicely\n",
    "county = poverty[['FIPS', 'Name']].copy()\n",
    "county.rename(columns={\"Name\": \"county_name\"},inplace=True)\n",
    "county.info()"
   ]
  },
  {
   "cell_type": "code",
   "execution_count": 124,
   "metadata": {},
   "outputs": [
    {
     "data": {
      "text/html": [
       "<div>\n",
       "<style scoped>\n",
       "    .dataframe tbody tr th:only-of-type {\n",
       "        vertical-align: middle;\n",
       "    }\n",
       "\n",
       "    .dataframe tbody tr th {\n",
       "        vertical-align: top;\n",
       "    }\n",
       "\n",
       "    .dataframe thead th {\n",
       "        text-align: right;\n",
       "    }\n",
       "</style>\n",
       "<table border=\"1\" class=\"dataframe\">\n",
       "  <thead>\n",
       "    <tr style=\"text-align: right;\">\n",
       "      <th></th>\n",
       "      <th>FIPS</th>\n",
       "      <th>county_name</th>\n",
       "    </tr>\n",
       "  </thead>\n",
       "  <tbody>\n",
       "    <tr>\n",
       "      <td>1</td>\n",
       "      <td>36001</td>\n",
       "      <td>Albany</td>\n",
       "    </tr>\n",
       "    <tr>\n",
       "      <td>2</td>\n",
       "      <td>36003</td>\n",
       "      <td>Allegany</td>\n",
       "    </tr>\n",
       "    <tr>\n",
       "      <td>3</td>\n",
       "      <td>36005</td>\n",
       "      <td>Bronx</td>\n",
       "    </tr>\n",
       "  </tbody>\n",
       "</table>\n",
       "</div>"
      ],
      "text/plain": [
       "    FIPS county_name\n",
       "1  36001      Albany\n",
       "2  36003    Allegany\n",
       "3  36005       Bronx"
      ]
     },
     "execution_count": 124,
     "metadata": {},
     "output_type": "execute_result"
    }
   ],
   "source": [
    "#Main df with 1 line per county\n",
    "county.head(3)"
   ]
  },
  {
   "cell_type": "code",
   "execution_count": 125,
   "metadata": {
    "scrolled": true
   },
   "outputs": [
    {
     "data": {
      "text/html": [
       "<div>\n",
       "<style scoped>\n",
       "    .dataframe tbody tr th:only-of-type {\n",
       "        vertical-align: middle;\n",
       "    }\n",
       "\n",
       "    .dataframe tbody tr th {\n",
       "        vertical-align: top;\n",
       "    }\n",
       "\n",
       "    .dataframe thead th {\n",
       "        text-align: right;\n",
       "    }\n",
       "</style>\n",
       "<table border=\"1\" class=\"dataframe\">\n",
       "  <thead>\n",
       "    <tr style=\"text-align: right;\">\n",
       "      <th></th>\n",
       "      <th>COUNTY</th>\n",
       "      <th>CTYNAME</th>\n",
       "      <th>POPESTIMATE</th>\n",
       "      <th>POPEST_MALE</th>\n",
       "      <th>POPEST_FEM</th>\n",
       "      <th>UNDER5_TOT</th>\n",
       "      <th>AGE513_TOT</th>\n",
       "      <th>AGE1417_TOT</th>\n",
       "      <th>AGE1824_TOT</th>\n",
       "      <th>AGE18PLUS_TOT</th>\n",
       "      <th>AGE18PLUS_MALE</th>\n",
       "      <th>AGE18PLUS_FEM</th>\n",
       "      <th>AGE1544_TOT</th>\n",
       "      <th>AGE65PLUS_TOT</th>\n",
       "      <th>AGE2529_TOT</th>\n",
       "    </tr>\n",
       "  </thead>\n",
       "  <tbody>\n",
       "    <tr>\n",
       "      <td>11</td>\n",
       "      <td>1</td>\n",
       "      <td>Albany County</td>\n",
       "      <td>305506</td>\n",
       "      <td>147818</td>\n",
       "      <td>157688</td>\n",
       "      <td>15204</td>\n",
       "      <td>27656</td>\n",
       "      <td>12905</td>\n",
       "      <td>44050</td>\n",
       "      <td>249741</td>\n",
       "      <td>119344</td>\n",
       "      <td>130397</td>\n",
       "      <td>130232</td>\n",
       "      <td>53272</td>\n",
       "      <td>21533</td>\n",
       "    </tr>\n",
       "    <tr>\n",
       "      <td>23</td>\n",
       "      <td>3</td>\n",
       "      <td>Allegany County</td>\n",
       "      <td>46091</td>\n",
       "      <td>23418</td>\n",
       "      <td>22673</td>\n",
       "      <td>2424</td>\n",
       "      <td>4589</td>\n",
       "      <td>2261</td>\n",
       "      <td>6687</td>\n",
       "      <td>36817</td>\n",
       "      <td>18575</td>\n",
       "      <td>18242</td>\n",
       "      <td>17809</td>\n",
       "      <td>9055</td>\n",
       "      <td>2248</td>\n",
       "    </tr>\n",
       "    <tr>\n",
       "      <td>35</td>\n",
       "      <td>5</td>\n",
       "      <td>Bronx County</td>\n",
       "      <td>1418207</td>\n",
       "      <td>669548</td>\n",
       "      <td>748659</td>\n",
       "      <td>100199</td>\n",
       "      <td>173858</td>\n",
       "      <td>74606</td>\n",
       "      <td>137701</td>\n",
       "      <td>1069544</td>\n",
       "      <td>491544</td>\n",
       "      <td>578000</td>\n",
       "      <td>600560</td>\n",
       "      <td>188766</td>\n",
       "      <td>119696</td>\n",
       "    </tr>\n",
       "    <tr>\n",
       "      <td>47</td>\n",
       "      <td>7</td>\n",
       "      <td>Broome County</td>\n",
       "      <td>190488</td>\n",
       "      <td>93845</td>\n",
       "      <td>96643</td>\n",
       "      <td>9886</td>\n",
       "      <td>18366</td>\n",
       "      <td>8553</td>\n",
       "      <td>27003</td>\n",
       "      <td>153683</td>\n",
       "      <td>74712</td>\n",
       "      <td>78971</td>\n",
       "      <td>74863</td>\n",
       "      <td>36980</td>\n",
       "      <td>11418</td>\n",
       "    </tr>\n",
       "    <tr>\n",
       "      <td>59</td>\n",
       "      <td>9</td>\n",
       "      <td>Cattaraugus County</td>\n",
       "      <td>76117</td>\n",
       "      <td>37853</td>\n",
       "      <td>38264</td>\n",
       "      <td>4160</td>\n",
       "      <td>8489</td>\n",
       "      <td>3987</td>\n",
       "      <td>6862</td>\n",
       "      <td>59481</td>\n",
       "      <td>29355</td>\n",
       "      <td>30126</td>\n",
       "      <td>26527</td>\n",
       "      <td>15022</td>\n",
       "      <td>4170</td>\n",
       "    </tr>\n",
       "  </tbody>\n",
       "</table>\n",
       "</div>"
      ],
      "text/plain": [
       "    COUNTY             CTYNAME  POPESTIMATE  POPEST_MALE  POPEST_FEM  \\\n",
       "11       1       Albany County       305506       147818      157688   \n",
       "23       3     Allegany County        46091        23418       22673   \n",
       "35       5        Bronx County      1418207       669548      748659   \n",
       "47       7       Broome County       190488        93845       96643   \n",
       "59       9  Cattaraugus County        76117        37853       38264   \n",
       "\n",
       "    UNDER5_TOT  AGE513_TOT  AGE1417_TOT  AGE1824_TOT  AGE18PLUS_TOT  \\\n",
       "11       15204       27656        12905        44050         249741   \n",
       "23        2424        4589         2261         6687          36817   \n",
       "35      100199      173858        74606       137701        1069544   \n",
       "47        9886       18366         8553        27003         153683   \n",
       "59        4160        8489         3987         6862          59481   \n",
       "\n",
       "    AGE18PLUS_MALE  AGE18PLUS_FEM  AGE1544_TOT  AGE65PLUS_TOT  AGE2529_TOT  \n",
       "11          119344         130397       130232          53272        21533  \n",
       "23           18575          18242        17809           9055         2248  \n",
       "35          491544         578000       600560         188766       119696  \n",
       "47           74712          78971        74863          36980        11418  \n",
       "59           29355          30126        26527          15022         4170  "
      ]
     },
     "execution_count": 125,
     "metadata": {},
     "output_type": "execute_result"
    }
   ],
   "source": [
    "#county_pop_by_characteristics_age_sex\n",
    "county_pop_by_characteristics_age_sex.head()"
   ]
  },
  {
   "cell_type": "code",
   "execution_count": 126,
   "metadata": {},
   "outputs": [],
   "source": [
    "#clean county_name to consider join by county_name\n",
    "county_pop_by_characteristics_age_sex['county_name'] = county_pop_by_characteristics_age_sex['CTYNAME'].str.rstrip('County').str.strip()"
   ]
  },
  {
   "cell_type": "code",
   "execution_count": 127,
   "metadata": {
    "scrolled": true
   },
   "outputs": [
    {
     "data": {
      "text/plain": [
       "array(['Albany', 'Allegany', 'Bronx', 'Broome', 'Cattaraugus', 'Cayuga',\n",
       "       'Chautauqua', 'Chemung', 'Chenango', 'Clinton', 'Columbia',\n",
       "       'Cortland', 'Delaware', 'Dutchess', 'Erie', 'Essex', 'Franklin',\n",
       "       'Fulton', 'Genesee', 'Greene', 'Hamilton', 'Herkimer', 'Jefferson',\n",
       "       'Kings', 'Lewis', 'Livingston', 'Madison', 'Monroe', 'Montgomery',\n",
       "       'Nassau', 'New York', 'Niagara', 'Oneida', 'Onondaga', 'Ontario',\n",
       "       'Orange', 'Orleans', 'Oswego', 'Otsego', 'Putnam', 'Queens',\n",
       "       'Rensselaer', 'Richmond', 'Rockland', 'St. Lawrence', 'Saratoga',\n",
       "       'Schenectady', 'Schoharie', 'Schuyler', 'Seneca', 'Steuben',\n",
       "       'Suffolk', 'Sullivan', 'Tioga', 'Tompkins', 'Ulster', 'Warren',\n",
       "       'Washington', 'Wayne', 'Westchester', 'Wyoming', 'Yates'],\n",
       "      dtype=object)"
      ]
     },
     "execution_count": 127,
     "metadata": {},
     "output_type": "execute_result"
    }
   ],
   "source": [
    "county_pop_by_characteristics_age_sex['county_name'].unique()"
   ]
  },
  {
   "cell_type": "code",
   "execution_count": 128,
   "metadata": {
    "scrolled": true
   },
   "outputs": [
    {
     "data": {
      "text/plain": [
       "True    62\n",
       "Name: match?, dtype: int64"
      ]
     },
     "execution_count": 128,
     "metadata": {},
     "output_type": "execute_result"
    }
   ],
   "source": [
    "#Confirm county_name matches in main county df. If all true, yes! \n",
    "county_pop_by_characteristics_age_sex['match?'] = county_pop_by_characteristics_age_sex['county_name'].isin(county['county_name'])\n",
    "county_pop_by_characteristics_age_sex['match?'].value_counts()"
   ]
  },
  {
   "cell_type": "code",
   "execution_count": 129,
   "metadata": {},
   "outputs": [],
   "source": [
    "del county_pop_by_characteristics_age_sex['match?']"
   ]
  },
  {
   "cell_type": "markdown",
   "metadata": {},
   "source": [
    "great. That means that although FIPS is formatted slightly differently, name is a perfect match."
   ]
  },
  {
   "cell_type": "code",
   "execution_count": 130,
   "metadata": {
    "scrolled": false
   },
   "outputs": [
    {
     "data": {
      "text/html": [
       "<div>\n",
       "<style scoped>\n",
       "    .dataframe tbody tr th:only-of-type {\n",
       "        vertical-align: middle;\n",
       "    }\n",
       "\n",
       "    .dataframe tbody tr th {\n",
       "        vertical-align: top;\n",
       "    }\n",
       "\n",
       "    .dataframe thead th {\n",
       "        text-align: right;\n",
       "    }\n",
       "</style>\n",
       "<table border=\"1\" class=\"dataframe\">\n",
       "  <thead>\n",
       "    <tr style=\"text-align: right;\">\n",
       "      <th></th>\n",
       "      <th>COUNTY</th>\n",
       "      <th>CTYNAME</th>\n",
       "      <th>POPESTIMATE</th>\n",
       "      <th>POPEST_MALE</th>\n",
       "      <th>POPEST_FEM</th>\n",
       "      <th>UNDER5_TOT</th>\n",
       "      <th>AGE513_TOT</th>\n",
       "      <th>AGE1417_TOT</th>\n",
       "      <th>AGE1824_TOT</th>\n",
       "      <th>AGE18PLUS_TOT</th>\n",
       "      <th>AGE18PLUS_MALE</th>\n",
       "      <th>AGE18PLUS_FEM</th>\n",
       "      <th>AGE1544_TOT</th>\n",
       "      <th>AGE65PLUS_TOT</th>\n",
       "      <th>AGE2529_TOT</th>\n",
       "      <th>county_name</th>\n",
       "    </tr>\n",
       "  </thead>\n",
       "  <tbody>\n",
       "    <tr>\n",
       "      <td>11</td>\n",
       "      <td>1</td>\n",
       "      <td>Albany County</td>\n",
       "      <td>305506</td>\n",
       "      <td>147818</td>\n",
       "      <td>157688</td>\n",
       "      <td>15204</td>\n",
       "      <td>27656</td>\n",
       "      <td>12905</td>\n",
       "      <td>44050</td>\n",
       "      <td>249741</td>\n",
       "      <td>119344</td>\n",
       "      <td>130397</td>\n",
       "      <td>130232</td>\n",
       "      <td>53272</td>\n",
       "      <td>21533</td>\n",
       "      <td>Albany</td>\n",
       "    </tr>\n",
       "    <tr>\n",
       "      <td>23</td>\n",
       "      <td>3</td>\n",
       "      <td>Allegany County</td>\n",
       "      <td>46091</td>\n",
       "      <td>23418</td>\n",
       "      <td>22673</td>\n",
       "      <td>2424</td>\n",
       "      <td>4589</td>\n",
       "      <td>2261</td>\n",
       "      <td>6687</td>\n",
       "      <td>36817</td>\n",
       "      <td>18575</td>\n",
       "      <td>18242</td>\n",
       "      <td>17809</td>\n",
       "      <td>9055</td>\n",
       "      <td>2248</td>\n",
       "      <td>Allegany</td>\n",
       "    </tr>\n",
       "  </tbody>\n",
       "</table>\n",
       "</div>"
      ],
      "text/plain": [
       "    COUNTY          CTYNAME  POPESTIMATE  POPEST_MALE  POPEST_FEM  UNDER5_TOT  \\\n",
       "11       1    Albany County       305506       147818      157688       15204   \n",
       "23       3  Allegany County        46091        23418       22673        2424   \n",
       "\n",
       "    AGE513_TOT  AGE1417_TOT  AGE1824_TOT  AGE18PLUS_TOT  AGE18PLUS_MALE  \\\n",
       "11       27656        12905        44050         249741          119344   \n",
       "23        4589         2261         6687          36817           18575   \n",
       "\n",
       "    AGE18PLUS_FEM  AGE1544_TOT  AGE65PLUS_TOT  AGE2529_TOT county_name  \n",
       "11         130397       130232          53272        21533      Albany  \n",
       "23          18242        17809           9055         2248    Allegany  "
      ]
     },
     "execution_count": 130,
     "metadata": {},
     "output_type": "execute_result"
    }
   ],
   "source": [
    "#create features to take out\n",
    "county_pop_by_characteristics_age_sex.head(2)"
   ]
  },
  {
   "cell_type": "code",
   "execution_count": 131,
   "metadata": {},
   "outputs": [],
   "source": [
    "#population\n",
    "county_pop_by_characteristics_age_sex['population'] = county_pop_by_characteristics_age_sex['POPESTIMATE']"
   ]
  },
  {
   "cell_type": "code",
   "execution_count": 132,
   "metadata": {},
   "outputs": [],
   "source": [
    "# % male and % female\n",
    "county_pop_by_characteristics_age_sex['male_%'] = county_pop_by_characteristics_age_sex['POPEST_MALE']/county_pop_by_characteristics_age_sex['POPESTIMATE']\n",
    "county_pop_by_characteristics_age_sex['female_%'] = county_pop_by_characteristics_age_sex['POPEST_FEM']/county_pop_by_characteristics_age_sex['POPESTIMATE']"
   ]
  },
  {
   "cell_type": "code",
   "execution_count": 133,
   "metadata": {},
   "outputs": [
    {
     "data": {
      "text/html": [
       "<div>\n",
       "<style scoped>\n",
       "    .dataframe tbody tr th:only-of-type {\n",
       "        vertical-align: middle;\n",
       "    }\n",
       "\n",
       "    .dataframe tbody tr th {\n",
       "        vertical-align: top;\n",
       "    }\n",
       "\n",
       "    .dataframe thead th {\n",
       "        text-align: right;\n",
       "    }\n",
       "</style>\n",
       "<table border=\"1\" class=\"dataframe\">\n",
       "  <thead>\n",
       "    <tr style=\"text-align: right;\">\n",
       "      <th></th>\n",
       "      <th>COUNTY</th>\n",
       "      <th>CTYNAME</th>\n",
       "      <th>POPESTIMATE</th>\n",
       "      <th>POPEST_MALE</th>\n",
       "      <th>POPEST_FEM</th>\n",
       "      <th>UNDER5_TOT</th>\n",
       "      <th>AGE513_TOT</th>\n",
       "      <th>AGE1417_TOT</th>\n",
       "      <th>AGE1824_TOT</th>\n",
       "      <th>AGE18PLUS_TOT</th>\n",
       "      <th>AGE18PLUS_MALE</th>\n",
       "      <th>AGE18PLUS_FEM</th>\n",
       "      <th>AGE1544_TOT</th>\n",
       "      <th>AGE65PLUS_TOT</th>\n",
       "      <th>AGE2529_TOT</th>\n",
       "      <th>county_name</th>\n",
       "      <th>population</th>\n",
       "      <th>male_%</th>\n",
       "      <th>female_%</th>\n",
       "    </tr>\n",
       "  </thead>\n",
       "  <tbody>\n",
       "    <tr>\n",
       "      <td>11</td>\n",
       "      <td>1</td>\n",
       "      <td>Albany County</td>\n",
       "      <td>305506</td>\n",
       "      <td>147818</td>\n",
       "      <td>157688</td>\n",
       "      <td>15204</td>\n",
       "      <td>27656</td>\n",
       "      <td>12905</td>\n",
       "      <td>44050</td>\n",
       "      <td>249741</td>\n",
       "      <td>119344</td>\n",
       "      <td>130397</td>\n",
       "      <td>130232</td>\n",
       "      <td>53272</td>\n",
       "      <td>21533</td>\n",
       "      <td>Albany</td>\n",
       "      <td>305506</td>\n",
       "      <td>0.483846</td>\n",
       "      <td>0.516154</td>\n",
       "    </tr>\n",
       "    <tr>\n",
       "      <td>23</td>\n",
       "      <td>3</td>\n",
       "      <td>Allegany County</td>\n",
       "      <td>46091</td>\n",
       "      <td>23418</td>\n",
       "      <td>22673</td>\n",
       "      <td>2424</td>\n",
       "      <td>4589</td>\n",
       "      <td>2261</td>\n",
       "      <td>6687</td>\n",
       "      <td>36817</td>\n",
       "      <td>18575</td>\n",
       "      <td>18242</td>\n",
       "      <td>17809</td>\n",
       "      <td>9055</td>\n",
       "      <td>2248</td>\n",
       "      <td>Allegany</td>\n",
       "      <td>46091</td>\n",
       "      <td>0.508082</td>\n",
       "      <td>0.491918</td>\n",
       "    </tr>\n",
       "  </tbody>\n",
       "</table>\n",
       "</div>"
      ],
      "text/plain": [
       "    COUNTY          CTYNAME  POPESTIMATE  POPEST_MALE  POPEST_FEM  UNDER5_TOT  \\\n",
       "11       1    Albany County       305506       147818      157688       15204   \n",
       "23       3  Allegany County        46091        23418       22673        2424   \n",
       "\n",
       "    AGE513_TOT  AGE1417_TOT  AGE1824_TOT  AGE18PLUS_TOT  AGE18PLUS_MALE  \\\n",
       "11       27656        12905        44050         249741          119344   \n",
       "23        4589         2261         6687          36817           18575   \n",
       "\n",
       "    AGE18PLUS_FEM  AGE1544_TOT  AGE65PLUS_TOT  AGE2529_TOT county_name  \\\n",
       "11         130397       130232          53272        21533      Albany   \n",
       "23          18242        17809           9055         2248    Allegany   \n",
       "\n",
       "    population    male_%  female_%  \n",
       "11      305506  0.483846  0.516154  \n",
       "23       46091  0.508082  0.491918  "
      ]
     },
     "execution_count": 133,
     "metadata": {},
     "output_type": "execute_result"
    }
   ],
   "source": [
    "county_pop_by_characteristics_age_sex.head(2)"
   ]
  },
  {
   "cell_type": "code",
   "execution_count": 134,
   "metadata": {},
   "outputs": [],
   "source": [
    "# age groups - 18-64, school-age-children, 65+\n",
    "#elderly - vaccine priority\n",
    "county_pop_by_characteristics_age_sex['65+age_%'] = county_pop_by_characteristics_age_sex['AGE65PLUS_TOT']/county_pop_by_characteristics_age_sex['POPESTIMATE']\n",
    "#school-age children\n",
    "county_pop_by_characteristics_age_sex['5-17age_%'] = county_pop_by_characteristics_age_sex['AGE65PLUS_TOT']/county_pop_by_characteristics_age_sex['POPESTIMATE']\n",
    "#young adult - college age\n",
    "county_pop_by_characteristics_age_sex['18-24age_%'] = county_pop_by_characteristics_age_sex['AGE1824_TOT']/county_pop_by_characteristics_age_sex['POPESTIMATE']"
   ]
  },
  {
   "cell_type": "code",
   "execution_count": 135,
   "metadata": {},
   "outputs": [
    {
     "data": {
      "text/html": [
       "<div>\n",
       "<style scoped>\n",
       "    .dataframe tbody tr th:only-of-type {\n",
       "        vertical-align: middle;\n",
       "    }\n",
       "\n",
       "    .dataframe tbody tr th {\n",
       "        vertical-align: top;\n",
       "    }\n",
       "\n",
       "    .dataframe thead th {\n",
       "        text-align: right;\n",
       "    }\n",
       "</style>\n",
       "<table border=\"1\" class=\"dataframe\">\n",
       "  <thead>\n",
       "    <tr style=\"text-align: right;\">\n",
       "      <th></th>\n",
       "      <th>COUNTY</th>\n",
       "      <th>CTYNAME</th>\n",
       "      <th>POPESTIMATE</th>\n",
       "      <th>POPEST_MALE</th>\n",
       "      <th>POPEST_FEM</th>\n",
       "      <th>UNDER5_TOT</th>\n",
       "      <th>AGE513_TOT</th>\n",
       "      <th>AGE1417_TOT</th>\n",
       "      <th>AGE1824_TOT</th>\n",
       "      <th>AGE18PLUS_TOT</th>\n",
       "      <th>...</th>\n",
       "      <th>AGE1544_TOT</th>\n",
       "      <th>AGE65PLUS_TOT</th>\n",
       "      <th>AGE2529_TOT</th>\n",
       "      <th>county_name</th>\n",
       "      <th>population</th>\n",
       "      <th>male_%</th>\n",
       "      <th>female_%</th>\n",
       "      <th>65+age_%</th>\n",
       "      <th>5-17age_%</th>\n",
       "      <th>18-24age_%</th>\n",
       "    </tr>\n",
       "  </thead>\n",
       "  <tbody>\n",
       "    <tr>\n",
       "      <td>11</td>\n",
       "      <td>1</td>\n",
       "      <td>Albany County</td>\n",
       "      <td>305506</td>\n",
       "      <td>147818</td>\n",
       "      <td>157688</td>\n",
       "      <td>15204</td>\n",
       "      <td>27656</td>\n",
       "      <td>12905</td>\n",
       "      <td>44050</td>\n",
       "      <td>249741</td>\n",
       "      <td>...</td>\n",
       "      <td>130232</td>\n",
       "      <td>53272</td>\n",
       "      <td>21533</td>\n",
       "      <td>Albany</td>\n",
       "      <td>305506</td>\n",
       "      <td>0.483846</td>\n",
       "      <td>0.516154</td>\n",
       "      <td>0.174373</td>\n",
       "      <td>0.174373</td>\n",
       "      <td>0.144187</td>\n",
       "    </tr>\n",
       "    <tr>\n",
       "      <td>23</td>\n",
       "      <td>3</td>\n",
       "      <td>Allegany County</td>\n",
       "      <td>46091</td>\n",
       "      <td>23418</td>\n",
       "      <td>22673</td>\n",
       "      <td>2424</td>\n",
       "      <td>4589</td>\n",
       "      <td>2261</td>\n",
       "      <td>6687</td>\n",
       "      <td>36817</td>\n",
       "      <td>...</td>\n",
       "      <td>17809</td>\n",
       "      <td>9055</td>\n",
       "      <td>2248</td>\n",
       "      <td>Allegany</td>\n",
       "      <td>46091</td>\n",
       "      <td>0.508082</td>\n",
       "      <td>0.491918</td>\n",
       "      <td>0.196459</td>\n",
       "      <td>0.196459</td>\n",
       "      <td>0.145083</td>\n",
       "    </tr>\n",
       "  </tbody>\n",
       "</table>\n",
       "<p>2 rows × 22 columns</p>\n",
       "</div>"
      ],
      "text/plain": [
       "    COUNTY          CTYNAME  POPESTIMATE  POPEST_MALE  POPEST_FEM  UNDER5_TOT  \\\n",
       "11       1    Albany County       305506       147818      157688       15204   \n",
       "23       3  Allegany County        46091        23418       22673        2424   \n",
       "\n",
       "    AGE513_TOT  AGE1417_TOT  AGE1824_TOT  AGE18PLUS_TOT  ...  AGE1544_TOT  \\\n",
       "11       27656        12905        44050         249741  ...       130232   \n",
       "23        4589         2261         6687          36817  ...        17809   \n",
       "\n",
       "    AGE65PLUS_TOT  AGE2529_TOT  county_name  population    male_%  female_%  \\\n",
       "11          53272        21533       Albany      305506  0.483846  0.516154   \n",
       "23           9055         2248     Allegany       46091  0.508082  0.491918   \n",
       "\n",
       "    65+age_%  5-17age_%  18-24age_%  \n",
       "11  0.174373   0.174373    0.144187  \n",
       "23  0.196459   0.196459    0.145083  \n",
       "\n",
       "[2 rows x 22 columns]"
      ]
     },
     "execution_count": 135,
     "metadata": {},
     "output_type": "execute_result"
    }
   ],
   "source": [
    "county_pop_by_characteristics_age_sex.head(2)"
   ]
  },
  {
   "cell_type": "code",
   "execution_count": 136,
   "metadata": {},
   "outputs": [
    {
     "data": {
      "text/plain": [
       "COUNTY                        1\n",
       "CTYNAME           Albany County\n",
       "POPESTIMATE              305506\n",
       "POPEST_MALE              147818\n",
       "POPEST_FEM               157688\n",
       "UNDER5_TOT                15204\n",
       "AGE513_TOT                27656\n",
       "AGE1417_TOT               12905\n",
       "AGE1824_TOT               44050\n",
       "AGE18PLUS_TOT            249741\n",
       "AGE18PLUS_MALE           119344\n",
       "AGE18PLUS_FEM            130397\n",
       "AGE1544_TOT              130232\n",
       "AGE65PLUS_TOT             53272\n",
       "AGE2529_TOT               21533\n",
       "county_name              Albany\n",
       "population               305506\n",
       "male_%                 0.483846\n",
       "female_%               0.516154\n",
       "65+age_%               0.174373\n",
       "5-17age_%              0.174373\n",
       "18-24age_%             0.144187\n",
       "Name: 11, dtype: object"
      ]
     },
     "execution_count": 136,
     "metadata": {},
     "output_type": "execute_result"
    }
   ],
   "source": [
    "county_pop_by_characteristics_age_sex.iloc[0]"
   ]
  },
  {
   "cell_type": "code",
   "execution_count": 137,
   "metadata": {},
   "outputs": [
    {
     "data": {
      "text/html": [
       "<div>\n",
       "<style scoped>\n",
       "    .dataframe tbody tr th:only-of-type {\n",
       "        vertical-align: middle;\n",
       "    }\n",
       "\n",
       "    .dataframe tbody tr th {\n",
       "        vertical-align: top;\n",
       "    }\n",
       "\n",
       "    .dataframe thead th {\n",
       "        text-align: right;\n",
       "    }\n",
       "</style>\n",
       "<table border=\"1\" class=\"dataframe\">\n",
       "  <thead>\n",
       "    <tr style=\"text-align: right;\">\n",
       "      <th></th>\n",
       "      <th>county_name</th>\n",
       "      <th>population</th>\n",
       "      <th>male_%</th>\n",
       "      <th>female_%</th>\n",
       "      <th>65+age_%</th>\n",
       "      <th>5-17age_%</th>\n",
       "      <th>18-24age_%</th>\n",
       "    </tr>\n",
       "  </thead>\n",
       "  <tbody>\n",
       "    <tr>\n",
       "      <td>11</td>\n",
       "      <td>Albany</td>\n",
       "      <td>305506</td>\n",
       "      <td>0.483846</td>\n",
       "      <td>0.516154</td>\n",
       "      <td>0.174373</td>\n",
       "      <td>0.174373</td>\n",
       "      <td>0.144187</td>\n",
       "    </tr>\n",
       "    <tr>\n",
       "      <td>23</td>\n",
       "      <td>Allegany</td>\n",
       "      <td>46091</td>\n",
       "      <td>0.508082</td>\n",
       "      <td>0.491918</td>\n",
       "      <td>0.196459</td>\n",
       "      <td>0.196459</td>\n",
       "      <td>0.145083</td>\n",
       "    </tr>\n",
       "    <tr>\n",
       "      <td>35</td>\n",
       "      <td>Bronx</td>\n",
       "      <td>1418207</td>\n",
       "      <td>0.472109</td>\n",
       "      <td>0.527891</td>\n",
       "      <td>0.133102</td>\n",
       "      <td>0.133102</td>\n",
       "      <td>0.097095</td>\n",
       "    </tr>\n",
       "    <tr>\n",
       "      <td>47</td>\n",
       "      <td>Broome</td>\n",
       "      <td>190488</td>\n",
       "      <td>0.492656</td>\n",
       "      <td>0.507344</td>\n",
       "      <td>0.194133</td>\n",
       "      <td>0.194133</td>\n",
       "      <td>0.141757</td>\n",
       "    </tr>\n",
       "    <tr>\n",
       "      <td>59</td>\n",
       "      <td>Cattaraugus</td>\n",
       "      <td>76117</td>\n",
       "      <td>0.497300</td>\n",
       "      <td>0.502700</td>\n",
       "      <td>0.197354</td>\n",
       "      <td>0.197354</td>\n",
       "      <td>0.090151</td>\n",
       "    </tr>\n",
       "  </tbody>\n",
       "</table>\n",
       "</div>"
      ],
      "text/plain": [
       "    county_name  population    male_%  female_%  65+age_%  5-17age_%  \\\n",
       "11       Albany      305506  0.483846  0.516154  0.174373   0.174373   \n",
       "23     Allegany       46091  0.508082  0.491918  0.196459   0.196459   \n",
       "35        Bronx     1418207  0.472109  0.527891  0.133102   0.133102   \n",
       "47       Broome      190488  0.492656  0.507344  0.194133   0.194133   \n",
       "59  Cattaraugus       76117  0.497300  0.502700  0.197354   0.197354   \n",
       "\n",
       "    18-24age_%  \n",
       "11    0.144187  \n",
       "23    0.145083  \n",
       "35    0.097095  \n",
       "47    0.141757  \n",
       "59    0.090151  "
      ]
     },
     "execution_count": 137,
     "metadata": {},
     "output_type": "execute_result"
    }
   ],
   "source": [
    "# limit to only columns requested. All normalized, except population\n",
    "keep = ['county_name' , 'population', 'male_%','female_%','65+age_%','5-17age_%','18-24age_%']\n",
    "county_pop_by_characteristics_age_sex = county_pop_by_characteristics_age_sex[keep]\n",
    "del keep\n",
    "county_pop_by_characteristics_age_sex.head()"
   ]
  },
  {
   "cell_type": "code",
   "execution_count": 138,
   "metadata": {
    "scrolled": true
   },
   "outputs": [
    {
     "data": {
      "text/html": [
       "<div>\n",
       "<style scoped>\n",
       "    .dataframe tbody tr th:only-of-type {\n",
       "        vertical-align: middle;\n",
       "    }\n",
       "\n",
       "    .dataframe tbody tr th {\n",
       "        vertical-align: top;\n",
       "    }\n",
       "\n",
       "    .dataframe thead th {\n",
       "        text-align: right;\n",
       "    }\n",
       "</style>\n",
       "<table border=\"1\" class=\"dataframe\">\n",
       "  <thead>\n",
       "    <tr style=\"text-align: right;\">\n",
       "      <th></th>\n",
       "      <th>FIPS</th>\n",
       "      <th>county_name</th>\n",
       "      <th>population</th>\n",
       "      <th>male_%</th>\n",
       "      <th>female_%</th>\n",
       "      <th>65+age_%</th>\n",
       "      <th>5-17age_%</th>\n",
       "      <th>18-24age_%</th>\n",
       "    </tr>\n",
       "  </thead>\n",
       "  <tbody>\n",
       "    <tr>\n",
       "      <td>0</td>\n",
       "      <td>36001</td>\n",
       "      <td>Albany</td>\n",
       "      <td>305506</td>\n",
       "      <td>0.483846</td>\n",
       "      <td>0.516154</td>\n",
       "      <td>0.174373</td>\n",
       "      <td>0.174373</td>\n",
       "      <td>0.144187</td>\n",
       "    </tr>\n",
       "    <tr>\n",
       "      <td>1</td>\n",
       "      <td>36003</td>\n",
       "      <td>Allegany</td>\n",
       "      <td>46091</td>\n",
       "      <td>0.508082</td>\n",
       "      <td>0.491918</td>\n",
       "      <td>0.196459</td>\n",
       "      <td>0.196459</td>\n",
       "      <td>0.145083</td>\n",
       "    </tr>\n",
       "    <tr>\n",
       "      <td>2</td>\n",
       "      <td>36005</td>\n",
       "      <td>Bronx</td>\n",
       "      <td>1418207</td>\n",
       "      <td>0.472109</td>\n",
       "      <td>0.527891</td>\n",
       "      <td>0.133102</td>\n",
       "      <td>0.133102</td>\n",
       "      <td>0.097095</td>\n",
       "    </tr>\n",
       "    <tr>\n",
       "      <td>3</td>\n",
       "      <td>36007</td>\n",
       "      <td>Broome</td>\n",
       "      <td>190488</td>\n",
       "      <td>0.492656</td>\n",
       "      <td>0.507344</td>\n",
       "      <td>0.194133</td>\n",
       "      <td>0.194133</td>\n",
       "      <td>0.141757</td>\n",
       "    </tr>\n",
       "    <tr>\n",
       "      <td>4</td>\n",
       "      <td>36009</td>\n",
       "      <td>Cattaraugus</td>\n",
       "      <td>76117</td>\n",
       "      <td>0.497300</td>\n",
       "      <td>0.502700</td>\n",
       "      <td>0.197354</td>\n",
       "      <td>0.197354</td>\n",
       "      <td>0.090151</td>\n",
       "    </tr>\n",
       "  </tbody>\n",
       "</table>\n",
       "</div>"
      ],
      "text/plain": [
       "    FIPS  county_name  population    male_%  female_%  65+age_%  5-17age_%  \\\n",
       "0  36001       Albany      305506  0.483846  0.516154  0.174373   0.174373   \n",
       "1  36003     Allegany       46091  0.508082  0.491918  0.196459   0.196459   \n",
       "2  36005        Bronx     1418207  0.472109  0.527891  0.133102   0.133102   \n",
       "3  36007       Broome      190488  0.492656  0.507344  0.194133   0.194133   \n",
       "4  36009  Cattaraugus       76117  0.497300  0.502700  0.197354   0.197354   \n",
       "\n",
       "   18-24age_%  \n",
       "0    0.144187  \n",
       "1    0.145083  \n",
       "2    0.097095  \n",
       "3    0.141757  \n",
       "4    0.090151  "
      ]
     },
     "execution_count": 138,
     "metadata": {},
     "output_type": "execute_result"
    }
   ],
   "source": [
    "#add to main df: county\n",
    "county = county.merge(county_pop_by_characteristics_age_sex, left_on='county_name', right_on='county_name')\n",
    "county.head()"
   ]
  },
  {
   "cell_type": "code",
   "execution_count": 139,
   "metadata": {
    "scrolled": true
   },
   "outputs": [
    {
     "data": {
      "text/plain": [
       "62"
      ]
     },
     "execution_count": 139,
     "metadata": {},
     "output_type": "execute_result"
    }
   ],
   "source": [
    "len(county)"
   ]
  },
  {
   "cell_type": "code",
   "execution_count": 140,
   "metadata": {
    "scrolled": true
   },
   "outputs": [
    {
     "data": {
      "text/html": [
       "<div>\n",
       "<style scoped>\n",
       "    .dataframe tbody tr th:only-of-type {\n",
       "        vertical-align: middle;\n",
       "    }\n",
       "\n",
       "    .dataframe tbody tr th {\n",
       "        vertical-align: top;\n",
       "    }\n",
       "\n",
       "    .dataframe thead th {\n",
       "        text-align: right;\n",
       "    }\n",
       "</style>\n",
       "<table border=\"1\" class=\"dataframe\">\n",
       "  <thead>\n",
       "    <tr style=\"text-align: right;\">\n",
       "      <th></th>\n",
       "      <th>COUNTY</th>\n",
       "      <th>CTYNAME</th>\n",
       "      <th>TOT_POP</th>\n",
       "      <th>NH_MALE</th>\n",
       "      <th>NH_FEMALE</th>\n",
       "      <th>NHWA_MALE</th>\n",
       "      <th>NHWA_FEMALE</th>\n",
       "      <th>WA_MALE</th>\n",
       "      <th>WA_FEMALE</th>\n",
       "      <th>BA_MALE</th>\n",
       "      <th>...</th>\n",
       "      <th>IA_MALE</th>\n",
       "      <th>IA_FEMALE</th>\n",
       "      <th>AA_MALE</th>\n",
       "      <th>AA_FEMALE</th>\n",
       "      <th>NA_MALE</th>\n",
       "      <th>NA_FEMALE</th>\n",
       "      <th>TOM_MALE</th>\n",
       "      <th>TOM_FEMALE</th>\n",
       "      <th>H_MALE</th>\n",
       "      <th>H_FEMALE</th>\n",
       "    </tr>\n",
       "  </thead>\n",
       "  <tbody>\n",
       "    <tr>\n",
       "      <td>209</td>\n",
       "      <td>1</td>\n",
       "      <td>Albany County</td>\n",
       "      <td>305506</td>\n",
       "      <td>138525</td>\n",
       "      <td>147879</td>\n",
       "      <td>105918</td>\n",
       "      <td>112727</td>\n",
       "      <td>112279</td>\n",
       "      <td>119259</td>\n",
       "      <td>20431</td>\n",
       "      <td>...</td>\n",
       "      <td>456</td>\n",
       "      <td>474</td>\n",
       "      <td>10189</td>\n",
       "      <td>10696</td>\n",
       "      <td>101</td>\n",
       "      <td>101</td>\n",
       "      <td>4362</td>\n",
       "      <td>4493</td>\n",
       "      <td>9293</td>\n",
       "      <td>9809</td>\n",
       "    </tr>\n",
       "    <tr>\n",
       "      <td>437</td>\n",
       "      <td>3</td>\n",
       "      <td>Allegany County</td>\n",
       "      <td>46091</td>\n",
       "      <td>23001</td>\n",
       "      <td>22306</td>\n",
       "      <td>22004</td>\n",
       "      <td>21452</td>\n",
       "      <td>22325</td>\n",
       "      <td>21723</td>\n",
       "      <td>403</td>\n",
       "      <td>...</td>\n",
       "      <td>77</td>\n",
       "      <td>70</td>\n",
       "      <td>266</td>\n",
       "      <td>311</td>\n",
       "      <td>6</td>\n",
       "      <td>13</td>\n",
       "      <td>341</td>\n",
       "      <td>295</td>\n",
       "      <td>417</td>\n",
       "      <td>367</td>\n",
       "    </tr>\n",
       "    <tr>\n",
       "      <td>665</td>\n",
       "      <td>5</td>\n",
       "      <td>Bronx County</td>\n",
       "      <td>1418207</td>\n",
       "      <td>292853</td>\n",
       "      <td>325774</td>\n",
       "      <td>62733</td>\n",
       "      <td>65050</td>\n",
       "      <td>302291</td>\n",
       "      <td>331989</td>\n",
       "      <td>288327</td>\n",
       "      <td>...</td>\n",
       "      <td>19830</td>\n",
       "      <td>21489</td>\n",
       "      <td>31392</td>\n",
       "      <td>33294</td>\n",
       "      <td>2825</td>\n",
       "      <td>3150</td>\n",
       "      <td>24883</td>\n",
       "      <td>28508</td>\n",
       "      <td>376695</td>\n",
       "      <td>422885</td>\n",
       "    </tr>\n",
       "  </tbody>\n",
       "</table>\n",
       "<p>3 rows × 21 columns</p>\n",
       "</div>"
      ],
      "text/plain": [
       "     COUNTY          CTYNAME  TOT_POP  NH_MALE  NH_FEMALE  NHWA_MALE  \\\n",
       "209       1    Albany County   305506   138525     147879     105918   \n",
       "437       3  Allegany County    46091    23001      22306      22004   \n",
       "665       5     Bronx County  1418207   292853     325774      62733   \n",
       "\n",
       "     NHWA_FEMALE  WA_MALE  WA_FEMALE  BA_MALE  ...  IA_MALE  IA_FEMALE  \\\n",
       "209       112727   112279     119259    20431  ...      456        474   \n",
       "437        21452    22325      21723      403  ...       77         70   \n",
       "665        65050   302291     331989   288327  ...    19830      21489   \n",
       "\n",
       "     AA_MALE  AA_FEMALE  NA_MALE  NA_FEMALE  TOM_MALE  TOM_FEMALE  H_MALE  \\\n",
       "209    10189      10696      101        101      4362        4493    9293   \n",
       "437      266        311        6         13       341         295     417   \n",
       "665    31392      33294     2825       3150     24883       28508  376695   \n",
       "\n",
       "     H_FEMALE  \n",
       "209      9809  \n",
       "437       367  \n",
       "665    422885  \n",
       "\n",
       "[3 rows x 21 columns]"
      ]
     },
     "execution_count": 140,
     "metadata": {},
     "output_type": "execute_result"
    }
   ],
   "source": [
    "#county_pop_by_characteristics_age_sex_race_hispanic\n",
    "county_pop_by_characteristics_age_sex_race_hispanic.head(3)"
   ]
  },
  {
   "cell_type": "code",
   "execution_count": 141,
   "metadata": {},
   "outputs": [
    {
     "data": {
      "text/plain": [
       "True    62\n",
       "Name: match?, dtype: int64"
      ]
     },
     "execution_count": 141,
     "metadata": {},
     "output_type": "execute_result"
    }
   ],
   "source": [
    "# same as before. match on county name. \n",
    "county_pop_by_characteristics_age_sex_race_hispanic['county_name'] = county_pop_by_characteristics_age_sex_race_hispanic['CTYNAME'].str.rstrip('County').str.strip()\n",
    "\n",
    "#Confirm county_name matches in main county df. If all true, yes! \n",
    "county_pop_by_characteristics_age_sex_race_hispanic['match?'] = county_pop_by_characteristics_age_sex_race_hispanic['county_name'].isin(county['county_name'])\n",
    "county_pop_by_characteristics_age_sex_race_hispanic['match?'].value_counts()"
   ]
  },
  {
   "cell_type": "code",
   "execution_count": 142,
   "metadata": {},
   "outputs": [],
   "source": [
    "#confirm match on name.can delete helper column\n",
    "del county_pop_by_characteristics_age_sex_race_hispanic['match?']"
   ]
  },
  {
   "cell_type": "code",
   "execution_count": 143,
   "metadata": {
    "scrolled": true
   },
   "outputs": [
    {
     "data": {
      "text/html": [
       "<div>\n",
       "<style scoped>\n",
       "    .dataframe tbody tr th:only-of-type {\n",
       "        vertical-align: middle;\n",
       "    }\n",
       "\n",
       "    .dataframe tbody tr th {\n",
       "        vertical-align: top;\n",
       "    }\n",
       "\n",
       "    .dataframe thead th {\n",
       "        text-align: right;\n",
       "    }\n",
       "</style>\n",
       "<table border=\"1\" class=\"dataframe\">\n",
       "  <thead>\n",
       "    <tr style=\"text-align: right;\">\n",
       "      <th></th>\n",
       "      <th>COUNTY</th>\n",
       "      <th>CTYNAME</th>\n",
       "      <th>TOT_POP</th>\n",
       "      <th>NH_MALE</th>\n",
       "      <th>NH_FEMALE</th>\n",
       "      <th>NHWA_MALE</th>\n",
       "      <th>NHWA_FEMALE</th>\n",
       "      <th>WA_MALE</th>\n",
       "      <th>WA_FEMALE</th>\n",
       "      <th>BA_MALE</th>\n",
       "      <th>...</th>\n",
       "      <th>IA_FEMALE</th>\n",
       "      <th>AA_MALE</th>\n",
       "      <th>AA_FEMALE</th>\n",
       "      <th>NA_MALE</th>\n",
       "      <th>NA_FEMALE</th>\n",
       "      <th>TOM_MALE</th>\n",
       "      <th>TOM_FEMALE</th>\n",
       "      <th>H_MALE</th>\n",
       "      <th>H_FEMALE</th>\n",
       "      <th>county_name</th>\n",
       "    </tr>\n",
       "  </thead>\n",
       "  <tbody>\n",
       "    <tr>\n",
       "      <td>209</td>\n",
       "      <td>1</td>\n",
       "      <td>Albany County</td>\n",
       "      <td>305506</td>\n",
       "      <td>138525</td>\n",
       "      <td>147879</td>\n",
       "      <td>105918</td>\n",
       "      <td>112727</td>\n",
       "      <td>112279</td>\n",
       "      <td>119259</td>\n",
       "      <td>20431</td>\n",
       "      <td>...</td>\n",
       "      <td>474</td>\n",
       "      <td>10189</td>\n",
       "      <td>10696</td>\n",
       "      <td>101</td>\n",
       "      <td>101</td>\n",
       "      <td>4362</td>\n",
       "      <td>4493</td>\n",
       "      <td>9293</td>\n",
       "      <td>9809</td>\n",
       "      <td>Albany</td>\n",
       "    </tr>\n",
       "  </tbody>\n",
       "</table>\n",
       "<p>1 rows × 22 columns</p>\n",
       "</div>"
      ],
      "text/plain": [
       "     COUNTY        CTYNAME  TOT_POP  NH_MALE  NH_FEMALE  NHWA_MALE  \\\n",
       "209       1  Albany County   305506   138525     147879     105918   \n",
       "\n",
       "     NHWA_FEMALE  WA_MALE  WA_FEMALE  BA_MALE  ...  IA_FEMALE  AA_MALE  \\\n",
       "209       112727   112279     119259    20431  ...        474    10189   \n",
       "\n",
       "     AA_FEMALE  NA_MALE  NA_FEMALE  TOM_MALE  TOM_FEMALE  H_MALE  H_FEMALE  \\\n",
       "209      10696      101        101      4362        4493    9293      9809   \n",
       "\n",
       "     county_name  \n",
       "209       Albany  \n",
       "\n",
       "[1 rows x 22 columns]"
      ]
     },
     "execution_count": 143,
     "metadata": {},
     "output_type": "execute_result"
    }
   ],
   "source": [
    "county_pop_by_characteristics_age_sex_race_hispanic.head(1)"
   ]
  },
  {
   "cell_type": "markdown",
   "metadata": {},
   "source": [
    "We won't go too deep into nuances related to race, just bucket population by race with hispanics in their own bucket. Making buckets by age/race combination would be very inteteresting but is out of this project's scope as air quality is the big factor we are exploring but it would be a great follow up research.\n",
    "\n",
    "We are excluding people who checked off white and other races but there is a two or more races bucket that will be used."
   ]
  },
  {
   "cell_type": "code",
   "execution_count": 144,
   "metadata": {},
   "outputs": [],
   "source": [
    "# white (male or female)\n",
    "county_pop_by_characteristics_age_sex_race_hispanic['white_alone_%'] = (county_pop_by_characteristics_age_sex_race_hispanic['WA_MALE']+county_pop_by_characteristics_age_sex_race_hispanic['WA_FEMALE']) / county_pop_by_characteristics_age_sex_race_hispanic['TOT_POP']\n",
    "#non hispanic white (male or female)\n",
    "county_pop_by_characteristics_age_sex_race_hispanic['nh_white_alone_%'] = (county_pop_by_characteristics_age_sex_race_hispanic['NHWA_MALE']+county_pop_by_characteristics_age_sex_race_hispanic['NHWA_FEMALE']) / county_pop_by_characteristics_age_sex_race_hispanic['TOT_POP']\n",
    "\n",
    "# Black or African American\n",
    "county_pop_by_characteristics_age_sex_race_hispanic['black_african_amer_alone_%'] = (county_pop_by_characteristics_age_sex_race_hispanic['BA_MALE']+county_pop_by_characteristics_age_sex_race_hispanic['BA_FEMALE']) / county_pop_by_characteristics_age_sex_race_hispanic['TOT_POP']\n",
    "# American Indian and Alaska Native\n",
    "county_pop_by_characteristics_age_sex_race_hispanic['amer_indian_alask_alone_%'] = (county_pop_by_characteristics_age_sex_race_hispanic['IA_MALE']+county_pop_by_characteristics_age_sex_race_hispanic['IA_FEMALE']) / county_pop_by_characteristics_age_sex_race_hispanic['TOT_POP']\n",
    "# Asian\n",
    "county_pop_by_characteristics_age_sex_race_hispanic['asian_alone_%'] = (county_pop_by_characteristics_age_sex_race_hispanic['AA_MALE']+county_pop_by_characteristics_age_sex_race_hispanic['AA_FEMALE']) / county_pop_by_characteristics_age_sex_race_hispanic['TOT_POP']\n",
    "#Two or More Races\n",
    "county_pop_by_characteristics_age_sex_race_hispanic['2+_races_%'] = (county_pop_by_characteristics_age_sex_race_hispanic['TOM_MALE']+county_pop_by_characteristics_age_sex_race_hispanic['TOM_FEMALE']) / county_pop_by_characteristics_age_sex_race_hispanic['TOT_POP']\n",
    "#Hispanic\n",
    "county_pop_by_characteristics_age_sex_race_hispanic['hispanic_%'] = (county_pop_by_characteristics_age_sex_race_hispanic['H_MALE']+county_pop_by_characteristics_age_sex_race_hispanic['H_FEMALE']) / county_pop_by_characteristics_age_sex_race_hispanic['TOT_POP']"
   ]
  },
  {
   "cell_type": "code",
   "execution_count": 145,
   "metadata": {
    "scrolled": true
   },
   "outputs": [
    {
     "data": {
      "text/plain": [
       "COUNTY                                    1\n",
       "CTYNAME                       Albany County\n",
       "TOT_POP                              305506\n",
       "NH_MALE                              138525\n",
       "NH_FEMALE                            147879\n",
       "NHWA_MALE                            105918\n",
       "NHWA_FEMALE                          112727\n",
       "WA_MALE                              112279\n",
       "WA_FEMALE                            119259\n",
       "BA_MALE                               20431\n",
       "BA_FEMALE                             22665\n",
       "IA_MALE                                 456\n",
       "IA_FEMALE                               474\n",
       "AA_MALE                               10189\n",
       "AA_FEMALE                             10696\n",
       "NA_MALE                                 101\n",
       "NA_FEMALE                               101\n",
       "TOM_MALE                               4362\n",
       "TOM_FEMALE                             4493\n",
       "H_MALE                                 9293\n",
       "H_FEMALE                               9809\n",
       "county_name                          Albany\n",
       "white_alone_%                      0.757884\n",
       "nh_white_alone_%                   0.715682\n",
       "black_african_amer_alone_%         0.141064\n",
       "amer_indian_alask_alone_%        0.00304413\n",
       "asian_alone_%                      0.068362\n",
       "2+_races_%                        0.0289847\n",
       "hispanic_%                        0.0625258\n",
       "Name: 209, dtype: object"
      ]
     },
     "execution_count": 145,
     "metadata": {},
     "output_type": "execute_result"
    }
   ],
   "source": [
    "county_pop_by_characteristics_age_sex_race_hispanic.iloc[0]"
   ]
  },
  {
   "cell_type": "code",
   "execution_count": 146,
   "metadata": {},
   "outputs": [
    {
     "data": {
      "text/plain": [
       "Index(['COUNTY', 'CTYNAME', 'TOT_POP', 'NH_MALE', 'NH_FEMALE', 'NHWA_MALE',\n",
       "       'NHWA_FEMALE', 'WA_MALE', 'WA_FEMALE', 'BA_MALE', 'BA_FEMALE',\n",
       "       'IA_MALE', 'IA_FEMALE', 'AA_MALE', 'AA_FEMALE', 'NA_MALE', 'NA_FEMALE',\n",
       "       'TOM_MALE', 'TOM_FEMALE', 'H_MALE', 'H_FEMALE', 'county_name',\n",
       "       'white_alone_%', 'nh_white_alone_%', 'black_african_amer_alone_%',\n",
       "       'amer_indian_alask_alone_%', 'asian_alone_%', '2+_races_%',\n",
       "       'hispanic_%'],\n",
       "      dtype='object')"
      ]
     },
     "execution_count": 146,
     "metadata": {},
     "output_type": "execute_result"
    }
   ],
   "source": [
    "county_pop_by_characteristics_age_sex_race_hispanic.columns"
   ]
  },
  {
   "cell_type": "markdown",
   "metadata": {},
   "source": [
    "Data for Albany County (not city) validated against data from census [HERE](https://www.census.gov/quickfacts/fact/table/albanycountynewyork/PST045219). Note, Hispanics are not being excluded from each bucket unless otherwise state (non-hispanic white alone)"
   ]
  },
  {
   "cell_type": "code",
   "execution_count": 147,
   "metadata": {
    "scrolled": true
   },
   "outputs": [
    {
     "data": {
      "text/html": [
       "<div>\n",
       "<style scoped>\n",
       "    .dataframe tbody tr th:only-of-type {\n",
       "        vertical-align: middle;\n",
       "    }\n",
       "\n",
       "    .dataframe tbody tr th {\n",
       "        vertical-align: top;\n",
       "    }\n",
       "\n",
       "    .dataframe thead th {\n",
       "        text-align: right;\n",
       "    }\n",
       "</style>\n",
       "<table border=\"1\" class=\"dataframe\">\n",
       "  <thead>\n",
       "    <tr style=\"text-align: right;\">\n",
       "      <th></th>\n",
       "      <th>county_name</th>\n",
       "      <th>white_alone_%</th>\n",
       "      <th>nh_white_alone_%</th>\n",
       "      <th>black_african_amer_alone_%</th>\n",
       "      <th>amer_indian_alask_alone_%</th>\n",
       "      <th>asian_alone_%</th>\n",
       "      <th>2+_races_%</th>\n",
       "      <th>hispanic_%</th>\n",
       "    </tr>\n",
       "  </thead>\n",
       "  <tbody>\n",
       "    <tr>\n",
       "      <td>209</td>\n",
       "      <td>Albany</td>\n",
       "      <td>0.757884</td>\n",
       "      <td>0.715682</td>\n",
       "      <td>0.141064</td>\n",
       "      <td>0.003044</td>\n",
       "      <td>0.068362</td>\n",
       "      <td>0.028985</td>\n",
       "      <td>0.062526</td>\n",
       "    </tr>\n",
       "    <tr>\n",
       "      <td>437</td>\n",
       "      <td>Allegany</td>\n",
       "      <td>0.955675</td>\n",
       "      <td>0.942830</td>\n",
       "      <td>0.014406</td>\n",
       "      <td>0.003189</td>\n",
       "      <td>0.012519</td>\n",
       "      <td>0.013799</td>\n",
       "      <td>0.017010</td>\n",
       "    </tr>\n",
       "    <tr>\n",
       "      <td>665</td>\n",
       "      <td>Bronx</td>\n",
       "      <td>0.447241</td>\n",
       "      <td>0.090102</td>\n",
       "      <td>0.436154</td>\n",
       "      <td>0.029135</td>\n",
       "      <td>0.045611</td>\n",
       "      <td>0.037647</td>\n",
       "      <td>0.563796</td>\n",
       "    </tr>\n",
       "    <tr>\n",
       "      <td>893</td>\n",
       "      <td>Broome</td>\n",
       "      <td>0.858180</td>\n",
       "      <td>0.827002</td>\n",
       "      <td>0.063605</td>\n",
       "      <td>0.002725</td>\n",
       "      <td>0.044223</td>\n",
       "      <td>0.030590</td>\n",
       "      <td>0.044496</td>\n",
       "    </tr>\n",
       "    <tr>\n",
       "      <td>1121</td>\n",
       "      <td>Cattaraugus</td>\n",
       "      <td>0.918573</td>\n",
       "      <td>0.904266</td>\n",
       "      <td>0.014754</td>\n",
       "      <td>0.036023</td>\n",
       "      <td>0.008474</td>\n",
       "      <td>0.021782</td>\n",
       "      <td>0.021480</td>\n",
       "    </tr>\n",
       "  </tbody>\n",
       "</table>\n",
       "</div>"
      ],
      "text/plain": [
       "      county_name  white_alone_%  nh_white_alone_%  \\\n",
       "209        Albany       0.757884          0.715682   \n",
       "437      Allegany       0.955675          0.942830   \n",
       "665         Bronx       0.447241          0.090102   \n",
       "893        Broome       0.858180          0.827002   \n",
       "1121  Cattaraugus       0.918573          0.904266   \n",
       "\n",
       "      black_african_amer_alone_%  amer_indian_alask_alone_%  asian_alone_%  \\\n",
       "209                     0.141064                   0.003044       0.068362   \n",
       "437                     0.014406                   0.003189       0.012519   \n",
       "665                     0.436154                   0.029135       0.045611   \n",
       "893                     0.063605                   0.002725       0.044223   \n",
       "1121                    0.014754                   0.036023       0.008474   \n",
       "\n",
       "      2+_races_%  hispanic_%  \n",
       "209     0.028985    0.062526  \n",
       "437     0.013799    0.017010  \n",
       "665     0.037647    0.563796  \n",
       "893     0.030590    0.044496  \n",
       "1121    0.021782    0.021480  "
      ]
     },
     "execution_count": 147,
     "metadata": {},
     "output_type": "execute_result"
    }
   ],
   "source": [
    "# limit to only columns requested. All normalized, except population\n",
    "keep = ['county_name','white_alone_%', 'nh_white_alone_%', 'black_african_amer_alone_%',\n",
    "       'amer_indian_alask_alone_%', 'asian_alone_%', '2+_races_%','hispanic_%']\n",
    "county_pop_by_characteristics_age_sex_race_hispanic = county_pop_by_characteristics_age_sex_race_hispanic[keep]\n",
    "del keep\n",
    "county_pop_by_characteristics_age_sex_race_hispanic.head()"
   ]
  },
  {
   "cell_type": "code",
   "execution_count": 148,
   "metadata": {
    "scrolled": true
   },
   "outputs": [
    {
     "data": {
      "text/html": [
       "<div>\n",
       "<style scoped>\n",
       "    .dataframe tbody tr th:only-of-type {\n",
       "        vertical-align: middle;\n",
       "    }\n",
       "\n",
       "    .dataframe tbody tr th {\n",
       "        vertical-align: top;\n",
       "    }\n",
       "\n",
       "    .dataframe thead th {\n",
       "        text-align: right;\n",
       "    }\n",
       "</style>\n",
       "<table border=\"1\" class=\"dataframe\">\n",
       "  <thead>\n",
       "    <tr style=\"text-align: right;\">\n",
       "      <th></th>\n",
       "      <th>FIPS</th>\n",
       "      <th>county_name</th>\n",
       "      <th>population</th>\n",
       "      <th>male_%</th>\n",
       "      <th>female_%</th>\n",
       "      <th>65+age_%</th>\n",
       "      <th>5-17age_%</th>\n",
       "      <th>18-24age_%</th>\n",
       "      <th>white_alone_%</th>\n",
       "      <th>nh_white_alone_%</th>\n",
       "      <th>black_african_amer_alone_%</th>\n",
       "      <th>amer_indian_alask_alone_%</th>\n",
       "      <th>asian_alone_%</th>\n",
       "      <th>2+_races_%</th>\n",
       "      <th>hispanic_%</th>\n",
       "    </tr>\n",
       "  </thead>\n",
       "  <tbody>\n",
       "    <tr>\n",
       "      <td>0</td>\n",
       "      <td>36001</td>\n",
       "      <td>Albany</td>\n",
       "      <td>305506</td>\n",
       "      <td>0.483846</td>\n",
       "      <td>0.516154</td>\n",
       "      <td>0.174373</td>\n",
       "      <td>0.174373</td>\n",
       "      <td>0.144187</td>\n",
       "      <td>0.757884</td>\n",
       "      <td>0.715682</td>\n",
       "      <td>0.141064</td>\n",
       "      <td>0.003044</td>\n",
       "      <td>0.068362</td>\n",
       "      <td>0.028985</td>\n",
       "      <td>0.062526</td>\n",
       "    </tr>\n",
       "    <tr>\n",
       "      <td>1</td>\n",
       "      <td>36003</td>\n",
       "      <td>Allegany</td>\n",
       "      <td>46091</td>\n",
       "      <td>0.508082</td>\n",
       "      <td>0.491918</td>\n",
       "      <td>0.196459</td>\n",
       "      <td>0.196459</td>\n",
       "      <td>0.145083</td>\n",
       "      <td>0.955675</td>\n",
       "      <td>0.942830</td>\n",
       "      <td>0.014406</td>\n",
       "      <td>0.003189</td>\n",
       "      <td>0.012519</td>\n",
       "      <td>0.013799</td>\n",
       "      <td>0.017010</td>\n",
       "    </tr>\n",
       "    <tr>\n",
       "      <td>2</td>\n",
       "      <td>36005</td>\n",
       "      <td>Bronx</td>\n",
       "      <td>1418207</td>\n",
       "      <td>0.472109</td>\n",
       "      <td>0.527891</td>\n",
       "      <td>0.133102</td>\n",
       "      <td>0.133102</td>\n",
       "      <td>0.097095</td>\n",
       "      <td>0.447241</td>\n",
       "      <td>0.090102</td>\n",
       "      <td>0.436154</td>\n",
       "      <td>0.029135</td>\n",
       "      <td>0.045611</td>\n",
       "      <td>0.037647</td>\n",
       "      <td>0.563796</td>\n",
       "    </tr>\n",
       "    <tr>\n",
       "      <td>3</td>\n",
       "      <td>36007</td>\n",
       "      <td>Broome</td>\n",
       "      <td>190488</td>\n",
       "      <td>0.492656</td>\n",
       "      <td>0.507344</td>\n",
       "      <td>0.194133</td>\n",
       "      <td>0.194133</td>\n",
       "      <td>0.141757</td>\n",
       "      <td>0.858180</td>\n",
       "      <td>0.827002</td>\n",
       "      <td>0.063605</td>\n",
       "      <td>0.002725</td>\n",
       "      <td>0.044223</td>\n",
       "      <td>0.030590</td>\n",
       "      <td>0.044496</td>\n",
       "    </tr>\n",
       "    <tr>\n",
       "      <td>4</td>\n",
       "      <td>36009</td>\n",
       "      <td>Cattaraugus</td>\n",
       "      <td>76117</td>\n",
       "      <td>0.497300</td>\n",
       "      <td>0.502700</td>\n",
       "      <td>0.197354</td>\n",
       "      <td>0.197354</td>\n",
       "      <td>0.090151</td>\n",
       "      <td>0.918573</td>\n",
       "      <td>0.904266</td>\n",
       "      <td>0.014754</td>\n",
       "      <td>0.036023</td>\n",
       "      <td>0.008474</td>\n",
       "      <td>0.021782</td>\n",
       "      <td>0.021480</td>\n",
       "    </tr>\n",
       "  </tbody>\n",
       "</table>\n",
       "</div>"
      ],
      "text/plain": [
       "    FIPS  county_name  population    male_%  female_%  65+age_%  5-17age_%  \\\n",
       "0  36001       Albany      305506  0.483846  0.516154  0.174373   0.174373   \n",
       "1  36003     Allegany       46091  0.508082  0.491918  0.196459   0.196459   \n",
       "2  36005        Bronx     1418207  0.472109  0.527891  0.133102   0.133102   \n",
       "3  36007       Broome      190488  0.492656  0.507344  0.194133   0.194133   \n",
       "4  36009  Cattaraugus       76117  0.497300  0.502700  0.197354   0.197354   \n",
       "\n",
       "   18-24age_%  white_alone_%  nh_white_alone_%  black_african_amer_alone_%  \\\n",
       "0    0.144187       0.757884          0.715682                    0.141064   \n",
       "1    0.145083       0.955675          0.942830                    0.014406   \n",
       "2    0.097095       0.447241          0.090102                    0.436154   \n",
       "3    0.141757       0.858180          0.827002                    0.063605   \n",
       "4    0.090151       0.918573          0.904266                    0.014754   \n",
       "\n",
       "   amer_indian_alask_alone_%  asian_alone_%  2+_races_%  hispanic_%  \n",
       "0                   0.003044       0.068362    0.028985    0.062526  \n",
       "1                   0.003189       0.012519    0.013799    0.017010  \n",
       "2                   0.029135       0.045611    0.037647    0.563796  \n",
       "3                   0.002725       0.044223    0.030590    0.044496  \n",
       "4                   0.036023       0.008474    0.021782    0.021480  "
      ]
     },
     "execution_count": 148,
     "metadata": {},
     "output_type": "execute_result"
    }
   ],
   "source": [
    "#add to main df: county\n",
    "county = county.merge(county_pop_by_characteristics_age_sex_race_hispanic, left_on='county_name', right_on='county_name')\n",
    "county.head()"
   ]
  },
  {
   "cell_type": "code",
   "execution_count": 149,
   "metadata": {},
   "outputs": [
    {
     "data": {
      "text/html": [
       "<div>\n",
       "<style scoped>\n",
       "    .dataframe tbody tr th:only-of-type {\n",
       "        vertical-align: middle;\n",
       "    }\n",
       "\n",
       "    .dataframe tbody tr th {\n",
       "        vertical-align: top;\n",
       "    }\n",
       "\n",
       "    .dataframe thead th {\n",
       "        text-align: right;\n",
       "    }\n",
       "</style>\n",
       "<table border=\"1\" class=\"dataframe\">\n",
       "  <thead>\n",
       "    <tr style=\"text-align: right;\">\n",
       "      <th></th>\n",
       "      <th>County</th>\n",
       "      <th>Square Miles</th>\n",
       "    </tr>\n",
       "  </thead>\n",
       "  <tbody>\n",
       "    <tr>\n",
       "      <td>0</td>\n",
       "      <td>Bronx</td>\n",
       "      <td>42.03</td>\n",
       "    </tr>\n",
       "    <tr>\n",
       "      <td>1</td>\n",
       "      <td>Kings</td>\n",
       "      <td>70.61</td>\n",
       "    </tr>\n",
       "    <tr>\n",
       "      <td>2</td>\n",
       "      <td>New York</td>\n",
       "      <td>22.96</td>\n",
       "    </tr>\n",
       "    <tr>\n",
       "      <td>3</td>\n",
       "      <td>Queens</td>\n",
       "      <td>109.24</td>\n",
       "    </tr>\n",
       "    <tr>\n",
       "      <td>4</td>\n",
       "      <td>Richmond</td>\n",
       "      <td>58.48</td>\n",
       "    </tr>\n",
       "  </tbody>\n",
       "</table>\n",
       "</div>"
      ],
      "text/plain": [
       "     County  Square Miles\n",
       "0     Bronx         42.03\n",
       "1     Kings         70.61\n",
       "2  New York         22.96\n",
       "3    Queens        109.24\n",
       "4  Richmond         58.48"
      ]
     },
     "execution_count": 149,
     "metadata": {},
     "output_type": "execute_result"
    }
   ],
   "source": [
    "#County size\n",
    "county_size.head()"
   ]
  },
  {
   "cell_type": "code",
   "execution_count": 150,
   "metadata": {},
   "outputs": [
    {
     "data": {
      "text/plain": [
       "True     61\n",
       "False     1\n",
       "Name: match?, dtype: int64"
      ]
     },
     "execution_count": 150,
     "metadata": {},
     "output_type": "execute_result"
    }
   ],
   "source": [
    "#Confirm county_name matches in main county df. If all true, yes! \n",
    "county_size['match?'] = county_size['County'].isin(county['county_name'])\n",
    "county_size['match?'].value_counts()"
   ]
  },
  {
   "cell_type": "code",
   "execution_count": 151,
   "metadata": {
    "scrolled": true
   },
   "outputs": [
    {
     "data": {
      "text/html": [
       "<div>\n",
       "<style scoped>\n",
       "    .dataframe tbody tr th:only-of-type {\n",
       "        vertical-align: middle;\n",
       "    }\n",
       "\n",
       "    .dataframe tbody tr th {\n",
       "        vertical-align: top;\n",
       "    }\n",
       "\n",
       "    .dataframe thead th {\n",
       "        text-align: right;\n",
       "    }\n",
       "</style>\n",
       "<table border=\"1\" class=\"dataframe\">\n",
       "  <thead>\n",
       "    <tr style=\"text-align: right;\">\n",
       "      <th></th>\n",
       "      <th>County</th>\n",
       "      <th>Square Miles</th>\n",
       "      <th>match?</th>\n",
       "    </tr>\n",
       "  </thead>\n",
       "  <tbody>\n",
       "    <tr>\n",
       "      <td>44</td>\n",
       "      <td>St Lawrence</td>\n",
       "      <td>2685.6</td>\n",
       "      <td>False</td>\n",
       "    </tr>\n",
       "  </tbody>\n",
       "</table>\n",
       "</div>"
      ],
      "text/plain": [
       "         County  Square Miles  match?\n",
       "44  St Lawrence        2685.6   False"
      ]
     },
     "execution_count": 151,
     "metadata": {},
     "output_type": "execute_result"
    }
   ],
   "source": [
    "#1 does not match. Find and rename to match.\n",
    "county_size.loc[county_size['match?']==False]"
   ]
  },
  {
   "cell_type": "code",
   "execution_count": 152,
   "metadata": {},
   "outputs": [
    {
     "data": {
      "text/plain": [
       "array(['Albany', 'Allegany', 'Bronx', 'Broome', 'Cattaraugus', 'Cayuga',\n",
       "       'Chautauqua', 'Chemung', 'Chenango', 'Clinton', 'Columbia',\n",
       "       'Cortland', 'Delaware', 'Dutchess', 'Erie', 'Essex', 'Franklin',\n",
       "       'Fulton', 'Genesee', 'Greene', 'Hamilton', 'Herkimer', 'Jefferson',\n",
       "       'Kings', 'Lewis', 'Livingston', 'Madison', 'Monroe', 'Montgomery',\n",
       "       'Nassau', 'New York', 'Niagara', 'Oneida', 'Onondaga', 'Ontario',\n",
       "       'Orange', 'Orleans', 'Oswego', 'Otsego', 'Putnam', 'Queens',\n",
       "       'Rensselaer', 'Richmond', 'Rockland', 'St. Lawrence', 'Saratoga',\n",
       "       'Schenectady', 'Schoharie', 'Schuyler', 'Seneca', 'Steuben',\n",
       "       'Suffolk', 'Sullivan', 'Tioga', 'Tompkins', 'Ulster', 'Warren',\n",
       "       'Washington', 'Wayne', 'Westchester', 'Wyoming', 'Yates'],\n",
       "      dtype=object)"
      ]
     },
     "execution_count": 152,
     "metadata": {},
     "output_type": "execute_result"
    }
   ],
   "source": [
    "county['county_name'].unique()"
   ]
  },
  {
   "cell_type": "code",
   "execution_count": 153,
   "metadata": {
    "scrolled": false
   },
   "outputs": [],
   "source": [
    "#Spelled St. Lawrence in county\n",
    "county_size.replace('St Lawrence', 'St. Lawrence',inplace=True)"
   ]
  },
  {
   "cell_type": "code",
   "execution_count": 154,
   "metadata": {},
   "outputs": [
    {
     "data": {
      "text/plain": [
       "County          St. Lawrence\n",
       "Square Miles          2685.6\n",
       "match?                 False\n",
       "Name: 44, dtype: object"
      ]
     },
     "execution_count": 154,
     "metadata": {},
     "output_type": "execute_result"
    }
   ],
   "source": [
    "#confirm change made\n",
    "county_size.iloc[44]"
   ]
  },
  {
   "cell_type": "code",
   "execution_count": 155,
   "metadata": {
    "scrolled": true
   },
   "outputs": [
    {
     "data": {
      "text/plain": [
       "True    62\n",
       "Name: match?, dtype: int64"
      ]
     },
     "execution_count": 155,
     "metadata": {},
     "output_type": "execute_result"
    }
   ],
   "source": [
    "#Confirm county_name matches in main county df. If all true, yes! \n",
    "county_size['match?'] = county_size['County'].isin(county['county_name'])\n",
    "county_size['match?'].value_counts()"
   ]
  },
  {
   "cell_type": "code",
   "execution_count": 156,
   "metadata": {},
   "outputs": [],
   "source": [
    "#delete match field\n",
    "del county_size['match?']"
   ]
  },
  {
   "cell_type": "code",
   "execution_count": 157,
   "metadata": {
    "scrolled": true
   },
   "outputs": [
    {
     "data": {
      "text/html": [
       "<div>\n",
       "<style scoped>\n",
       "    .dataframe tbody tr th:only-of-type {\n",
       "        vertical-align: middle;\n",
       "    }\n",
       "\n",
       "    .dataframe tbody tr th {\n",
       "        vertical-align: top;\n",
       "    }\n",
       "\n",
       "    .dataframe thead th {\n",
       "        text-align: right;\n",
       "    }\n",
       "</style>\n",
       "<table border=\"1\" class=\"dataframe\">\n",
       "  <thead>\n",
       "    <tr style=\"text-align: right;\">\n",
       "      <th></th>\n",
       "      <th>FIPS</th>\n",
       "      <th>county_name</th>\n",
       "      <th>population</th>\n",
       "      <th>male_%</th>\n",
       "      <th>female_%</th>\n",
       "      <th>65+age_%</th>\n",
       "      <th>5-17age_%</th>\n",
       "      <th>18-24age_%</th>\n",
       "      <th>white_alone_%</th>\n",
       "      <th>nh_white_alone_%</th>\n",
       "      <th>black_african_amer_alone_%</th>\n",
       "      <th>amer_indian_alask_alone_%</th>\n",
       "      <th>asian_alone_%</th>\n",
       "      <th>2+_races_%</th>\n",
       "      <th>hispanic_%</th>\n",
       "      <th>County</th>\n",
       "      <th>Square Miles</th>\n",
       "    </tr>\n",
       "  </thead>\n",
       "  <tbody>\n",
       "    <tr>\n",
       "      <td>0</td>\n",
       "      <td>36001</td>\n",
       "      <td>Albany</td>\n",
       "      <td>305506</td>\n",
       "      <td>0.483846</td>\n",
       "      <td>0.516154</td>\n",
       "      <td>0.174373</td>\n",
       "      <td>0.174373</td>\n",
       "      <td>0.144187</td>\n",
       "      <td>0.757884</td>\n",
       "      <td>0.715682</td>\n",
       "      <td>0.141064</td>\n",
       "      <td>0.003044</td>\n",
       "      <td>0.068362</td>\n",
       "      <td>0.028985</td>\n",
       "      <td>0.062526</td>\n",
       "      <td>Albany</td>\n",
       "      <td>523.45</td>\n",
       "    </tr>\n",
       "    <tr>\n",
       "      <td>1</td>\n",
       "      <td>36003</td>\n",
       "      <td>Allegany</td>\n",
       "      <td>46091</td>\n",
       "      <td>0.508082</td>\n",
       "      <td>0.491918</td>\n",
       "      <td>0.196459</td>\n",
       "      <td>0.196459</td>\n",
       "      <td>0.145083</td>\n",
       "      <td>0.955675</td>\n",
       "      <td>0.942830</td>\n",
       "      <td>0.014406</td>\n",
       "      <td>0.003189</td>\n",
       "      <td>0.012519</td>\n",
       "      <td>0.013799</td>\n",
       "      <td>0.017010</td>\n",
       "      <td>Allegany</td>\n",
       "      <td>1030.22</td>\n",
       "    </tr>\n",
       "    <tr>\n",
       "      <td>2</td>\n",
       "      <td>36005</td>\n",
       "      <td>Bronx</td>\n",
       "      <td>1418207</td>\n",
       "      <td>0.472109</td>\n",
       "      <td>0.527891</td>\n",
       "      <td>0.133102</td>\n",
       "      <td>0.133102</td>\n",
       "      <td>0.097095</td>\n",
       "      <td>0.447241</td>\n",
       "      <td>0.090102</td>\n",
       "      <td>0.436154</td>\n",
       "      <td>0.029135</td>\n",
       "      <td>0.045611</td>\n",
       "      <td>0.037647</td>\n",
       "      <td>0.563796</td>\n",
       "      <td>Bronx</td>\n",
       "      <td>42.03</td>\n",
       "    </tr>\n",
       "    <tr>\n",
       "      <td>3</td>\n",
       "      <td>36007</td>\n",
       "      <td>Broome</td>\n",
       "      <td>190488</td>\n",
       "      <td>0.492656</td>\n",
       "      <td>0.507344</td>\n",
       "      <td>0.194133</td>\n",
       "      <td>0.194133</td>\n",
       "      <td>0.141757</td>\n",
       "      <td>0.858180</td>\n",
       "      <td>0.827002</td>\n",
       "      <td>0.063605</td>\n",
       "      <td>0.002725</td>\n",
       "      <td>0.044223</td>\n",
       "      <td>0.030590</td>\n",
       "      <td>0.044496</td>\n",
       "      <td>Broome</td>\n",
       "      <td>706.82</td>\n",
       "    </tr>\n",
       "    <tr>\n",
       "      <td>4</td>\n",
       "      <td>36009</td>\n",
       "      <td>Cattaraugus</td>\n",
       "      <td>76117</td>\n",
       "      <td>0.497300</td>\n",
       "      <td>0.502700</td>\n",
       "      <td>0.197354</td>\n",
       "      <td>0.197354</td>\n",
       "      <td>0.090151</td>\n",
       "      <td>0.918573</td>\n",
       "      <td>0.904266</td>\n",
       "      <td>0.014754</td>\n",
       "      <td>0.036023</td>\n",
       "      <td>0.008474</td>\n",
       "      <td>0.021782</td>\n",
       "      <td>0.021480</td>\n",
       "      <td>Cattaraugus</td>\n",
       "      <td>1309.85</td>\n",
       "    </tr>\n",
       "  </tbody>\n",
       "</table>\n",
       "</div>"
      ],
      "text/plain": [
       "    FIPS  county_name  population    male_%  female_%  65+age_%  5-17age_%  \\\n",
       "0  36001       Albany      305506  0.483846  0.516154  0.174373   0.174373   \n",
       "1  36003     Allegany       46091  0.508082  0.491918  0.196459   0.196459   \n",
       "2  36005        Bronx     1418207  0.472109  0.527891  0.133102   0.133102   \n",
       "3  36007       Broome      190488  0.492656  0.507344  0.194133   0.194133   \n",
       "4  36009  Cattaraugus       76117  0.497300  0.502700  0.197354   0.197354   \n",
       "\n",
       "   18-24age_%  white_alone_%  nh_white_alone_%  black_african_amer_alone_%  \\\n",
       "0    0.144187       0.757884          0.715682                    0.141064   \n",
       "1    0.145083       0.955675          0.942830                    0.014406   \n",
       "2    0.097095       0.447241          0.090102                    0.436154   \n",
       "3    0.141757       0.858180          0.827002                    0.063605   \n",
       "4    0.090151       0.918573          0.904266                    0.014754   \n",
       "\n",
       "   amer_indian_alask_alone_%  asian_alone_%  2+_races_%  hispanic_%  \\\n",
       "0                   0.003044       0.068362    0.028985    0.062526   \n",
       "1                   0.003189       0.012519    0.013799    0.017010   \n",
       "2                   0.029135       0.045611    0.037647    0.563796   \n",
       "3                   0.002725       0.044223    0.030590    0.044496   \n",
       "4                   0.036023       0.008474    0.021782    0.021480   \n",
       "\n",
       "        County  Square Miles  \n",
       "0       Albany        523.45  \n",
       "1     Allegany       1030.22  \n",
       "2        Bronx         42.03  \n",
       "3       Broome        706.82  \n",
       "4  Cattaraugus       1309.85  "
      ]
     },
     "execution_count": 157,
     "metadata": {},
     "output_type": "execute_result"
    }
   ],
   "source": [
    "# add to main county df, note: adding a value (not normalized)\n",
    "county = county.merge(county_size, left_on='county_name', right_on='County')\n",
    "county.head()"
   ]
  },
  {
   "cell_type": "code",
   "execution_count": 158,
   "metadata": {
    "scrolled": true
   },
   "outputs": [
    {
     "data": {
      "text/html": [
       "<div>\n",
       "<style scoped>\n",
       "    .dataframe tbody tr th:only-of-type {\n",
       "        vertical-align: middle;\n",
       "    }\n",
       "\n",
       "    .dataframe tbody tr th {\n",
       "        vertical-align: top;\n",
       "    }\n",
       "\n",
       "    .dataframe thead th {\n",
       "        text-align: right;\n",
       "    }\n",
       "</style>\n",
       "<table border=\"1\" class=\"dataframe\">\n",
       "  <thead>\n",
       "    <tr style=\"text-align: right;\">\n",
       "      <th></th>\n",
       "      <th>FIPS</th>\n",
       "      <th>county_name</th>\n",
       "      <th>population</th>\n",
       "      <th>male_%</th>\n",
       "      <th>female_%</th>\n",
       "      <th>65+age_%</th>\n",
       "      <th>5-17age_%</th>\n",
       "      <th>18-24age_%</th>\n",
       "      <th>white_alone_%</th>\n",
       "      <th>nh_white_alone_%</th>\n",
       "      <th>black_african_amer_alone_%</th>\n",
       "      <th>amer_indian_alask_alone_%</th>\n",
       "      <th>asian_alone_%</th>\n",
       "      <th>2+_races_%</th>\n",
       "      <th>hispanic_%</th>\n",
       "      <th>sq_miles</th>\n",
       "    </tr>\n",
       "  </thead>\n",
       "  <tbody>\n",
       "    <tr>\n",
       "      <td>0</td>\n",
       "      <td>36001</td>\n",
       "      <td>Albany</td>\n",
       "      <td>305506</td>\n",
       "      <td>0.483846</td>\n",
       "      <td>0.516154</td>\n",
       "      <td>0.174373</td>\n",
       "      <td>0.174373</td>\n",
       "      <td>0.144187</td>\n",
       "      <td>0.757884</td>\n",
       "      <td>0.715682</td>\n",
       "      <td>0.141064</td>\n",
       "      <td>0.003044</td>\n",
       "      <td>0.068362</td>\n",
       "      <td>0.028985</td>\n",
       "      <td>0.062526</td>\n",
       "      <td>523.45</td>\n",
       "    </tr>\n",
       "    <tr>\n",
       "      <td>1</td>\n",
       "      <td>36003</td>\n",
       "      <td>Allegany</td>\n",
       "      <td>46091</td>\n",
       "      <td>0.508082</td>\n",
       "      <td>0.491918</td>\n",
       "      <td>0.196459</td>\n",
       "      <td>0.196459</td>\n",
       "      <td>0.145083</td>\n",
       "      <td>0.955675</td>\n",
       "      <td>0.942830</td>\n",
       "      <td>0.014406</td>\n",
       "      <td>0.003189</td>\n",
       "      <td>0.012519</td>\n",
       "      <td>0.013799</td>\n",
       "      <td>0.017010</td>\n",
       "      <td>1030.22</td>\n",
       "    </tr>\n",
       "    <tr>\n",
       "      <td>2</td>\n",
       "      <td>36005</td>\n",
       "      <td>Bronx</td>\n",
       "      <td>1418207</td>\n",
       "      <td>0.472109</td>\n",
       "      <td>0.527891</td>\n",
       "      <td>0.133102</td>\n",
       "      <td>0.133102</td>\n",
       "      <td>0.097095</td>\n",
       "      <td>0.447241</td>\n",
       "      <td>0.090102</td>\n",
       "      <td>0.436154</td>\n",
       "      <td>0.029135</td>\n",
       "      <td>0.045611</td>\n",
       "      <td>0.037647</td>\n",
       "      <td>0.563796</td>\n",
       "      <td>42.03</td>\n",
       "    </tr>\n",
       "    <tr>\n",
       "      <td>3</td>\n",
       "      <td>36007</td>\n",
       "      <td>Broome</td>\n",
       "      <td>190488</td>\n",
       "      <td>0.492656</td>\n",
       "      <td>0.507344</td>\n",
       "      <td>0.194133</td>\n",
       "      <td>0.194133</td>\n",
       "      <td>0.141757</td>\n",
       "      <td>0.858180</td>\n",
       "      <td>0.827002</td>\n",
       "      <td>0.063605</td>\n",
       "      <td>0.002725</td>\n",
       "      <td>0.044223</td>\n",
       "      <td>0.030590</td>\n",
       "      <td>0.044496</td>\n",
       "      <td>706.82</td>\n",
       "    </tr>\n",
       "    <tr>\n",
       "      <td>4</td>\n",
       "      <td>36009</td>\n",
       "      <td>Cattaraugus</td>\n",
       "      <td>76117</td>\n",
       "      <td>0.497300</td>\n",
       "      <td>0.502700</td>\n",
       "      <td>0.197354</td>\n",
       "      <td>0.197354</td>\n",
       "      <td>0.090151</td>\n",
       "      <td>0.918573</td>\n",
       "      <td>0.904266</td>\n",
       "      <td>0.014754</td>\n",
       "      <td>0.036023</td>\n",
       "      <td>0.008474</td>\n",
       "      <td>0.021782</td>\n",
       "      <td>0.021480</td>\n",
       "      <td>1309.85</td>\n",
       "    </tr>\n",
       "  </tbody>\n",
       "</table>\n",
       "</div>"
      ],
      "text/plain": [
       "    FIPS  county_name  population    male_%  female_%  65+age_%  5-17age_%  \\\n",
       "0  36001       Albany      305506  0.483846  0.516154  0.174373   0.174373   \n",
       "1  36003     Allegany       46091  0.508082  0.491918  0.196459   0.196459   \n",
       "2  36005        Bronx     1418207  0.472109  0.527891  0.133102   0.133102   \n",
       "3  36007       Broome      190488  0.492656  0.507344  0.194133   0.194133   \n",
       "4  36009  Cattaraugus       76117  0.497300  0.502700  0.197354   0.197354   \n",
       "\n",
       "   18-24age_%  white_alone_%  nh_white_alone_%  black_african_amer_alone_%  \\\n",
       "0    0.144187       0.757884          0.715682                    0.141064   \n",
       "1    0.145083       0.955675          0.942830                    0.014406   \n",
       "2    0.097095       0.447241          0.090102                    0.436154   \n",
       "3    0.141757       0.858180          0.827002                    0.063605   \n",
       "4    0.090151       0.918573          0.904266                    0.014754   \n",
       "\n",
       "   amer_indian_alask_alone_%  asian_alone_%  2+_races_%  hispanic_%  sq_miles  \n",
       "0                   0.003044       0.068362    0.028985    0.062526    523.45  \n",
       "1                   0.003189       0.012519    0.013799    0.017010   1030.22  \n",
       "2                   0.029135       0.045611    0.037647    0.563796     42.03  \n",
       "3                   0.002725       0.044223    0.030590    0.044496    706.82  \n",
       "4                   0.036023       0.008474    0.021782    0.021480   1309.85  "
      ]
     },
     "execution_count": 158,
     "metadata": {},
     "output_type": "execute_result"
    }
   ],
   "source": [
    "#delete extra column\n",
    "del county['County']\n",
    "county.rename(columns={\"Square Miles\": \"sq_miles\"},inplace=True)\n",
    "county.head()"
   ]
  },
  {
   "cell_type": "code",
   "execution_count": 159,
   "metadata": {
    "scrolled": true
   },
   "outputs": [
    {
     "name": "stdout",
     "output_type": "stream",
     "text": [
      "<class 'pandas.core.frame.DataFrame'>\n",
      "Int64Index: 62 entries, 1 to 62\n",
      "Data columns (total 9 columns):\n",
      "FIPS                62 non-null int64\n",
      "Name                62 non-null object\n",
      "RUC Code            62 non-null float64\n",
      "Percent_Pop         62 non-null float64\n",
      "Lower Bound         62 non-null float64\n",
      "Upper Bound         62 non-null float64\n",
      "Percent_Children    62 non-null float64\n",
      "Lower Bound.1       62 non-null float64\n",
      "Upper Bound.1       62 non-null float64\n",
      "dtypes: float64(7), int64(1), object(1)\n",
      "memory usage: 4.8+ KB\n"
     ]
    }
   ],
   "source": [
    "poverty.info()"
   ]
  },
  {
   "cell_type": "code",
   "execution_count": 160,
   "metadata": {
    "scrolled": true
   },
   "outputs": [
    {
     "data": {
      "text/html": [
       "<div>\n",
       "<style scoped>\n",
       "    .dataframe tbody tr th:only-of-type {\n",
       "        vertical-align: middle;\n",
       "    }\n",
       "\n",
       "    .dataframe tbody tr th {\n",
       "        vertical-align: top;\n",
       "    }\n",
       "\n",
       "    .dataframe thead th {\n",
       "        text-align: right;\n",
       "    }\n",
       "</style>\n",
       "<table border=\"1\" class=\"dataframe\">\n",
       "  <thead>\n",
       "    <tr style=\"text-align: right;\">\n",
       "      <th></th>\n",
       "      <th>FIPS</th>\n",
       "      <th>Name</th>\n",
       "      <th>RUC Code</th>\n",
       "      <th>Percent_Pop</th>\n",
       "      <th>Lower Bound</th>\n",
       "      <th>Upper Bound</th>\n",
       "      <th>Percent_Children</th>\n",
       "      <th>Lower Bound.1</th>\n",
       "      <th>Upper Bound.1</th>\n",
       "    </tr>\n",
       "  </thead>\n",
       "  <tbody>\n",
       "    <tr>\n",
       "      <td>1</td>\n",
       "      <td>36001</td>\n",
       "      <td>Albany</td>\n",
       "      <td>2.0</td>\n",
       "      <td>11.7</td>\n",
       "      <td>10.2</td>\n",
       "      <td>13.2</td>\n",
       "      <td>16.0</td>\n",
       "      <td>13.1</td>\n",
       "      <td>18.9</td>\n",
       "    </tr>\n",
       "    <tr>\n",
       "      <td>2</td>\n",
       "      <td>36003</td>\n",
       "      <td>Allegany</td>\n",
       "      <td>7.0</td>\n",
       "      <td>17.9</td>\n",
       "      <td>15.0</td>\n",
       "      <td>20.8</td>\n",
       "      <td>26.8</td>\n",
       "      <td>21.2</td>\n",
       "      <td>32.4</td>\n",
       "    </tr>\n",
       "  </tbody>\n",
       "</table>\n",
       "</div>"
      ],
      "text/plain": [
       "    FIPS      Name  RUC Code  Percent_Pop  Lower Bound  Upper Bound  \\\n",
       "1  36001    Albany       2.0         11.7         10.2         13.2   \n",
       "2  36003  Allegany       7.0         17.9         15.0         20.8   \n",
       "\n",
       "   Percent_Children  Lower Bound.1  Upper Bound.1  \n",
       "1              16.0           13.1           18.9  \n",
       "2              26.8           21.2           32.4  "
      ]
     },
     "execution_count": 160,
     "metadata": {},
     "output_type": "execute_result"
    }
   ],
   "source": [
    "poverty.head(2)"
   ]
  },
  {
   "cell_type": "markdown",
   "metadata": {},
   "source": [
    "I will only be using the Percept_Pop population which represents the percent of total population in poverty."
   ]
  },
  {
   "cell_type": "code",
   "execution_count": 161,
   "metadata": {},
   "outputs": [],
   "source": [
    "#change % to decimal to match others\n",
    "poverty['pop_in_poverty_%'] = poverty['Percent_Pop']/100"
   ]
  },
  {
   "cell_type": "code",
   "execution_count": 162,
   "metadata": {
    "scrolled": true
   },
   "outputs": [
    {
     "data": {
      "text/html": [
       "<div>\n",
       "<style scoped>\n",
       "    .dataframe tbody tr th:only-of-type {\n",
       "        vertical-align: middle;\n",
       "    }\n",
       "\n",
       "    .dataframe tbody tr th {\n",
       "        vertical-align: top;\n",
       "    }\n",
       "\n",
       "    .dataframe thead th {\n",
       "        text-align: right;\n",
       "    }\n",
       "</style>\n",
       "<table border=\"1\" class=\"dataframe\">\n",
       "  <thead>\n",
       "    <tr style=\"text-align: right;\">\n",
       "      <th></th>\n",
       "      <th>FIPS</th>\n",
       "      <th>Name</th>\n",
       "      <th>RUC Code</th>\n",
       "      <th>Percent_Pop</th>\n",
       "      <th>Lower Bound</th>\n",
       "      <th>Upper Bound</th>\n",
       "      <th>Percent_Children</th>\n",
       "      <th>Lower Bound.1</th>\n",
       "      <th>Upper Bound.1</th>\n",
       "      <th>pop_in_poverty_%</th>\n",
       "    </tr>\n",
       "  </thead>\n",
       "  <tbody>\n",
       "    <tr>\n",
       "      <td>1</td>\n",
       "      <td>36001</td>\n",
       "      <td>Albany</td>\n",
       "      <td>2.0</td>\n",
       "      <td>11.7</td>\n",
       "      <td>10.2</td>\n",
       "      <td>13.2</td>\n",
       "      <td>16.0</td>\n",
       "      <td>13.1</td>\n",
       "      <td>18.9</td>\n",
       "      <td>0.117</td>\n",
       "    </tr>\n",
       "    <tr>\n",
       "      <td>2</td>\n",
       "      <td>36003</td>\n",
       "      <td>Allegany</td>\n",
       "      <td>7.0</td>\n",
       "      <td>17.9</td>\n",
       "      <td>15.0</td>\n",
       "      <td>20.8</td>\n",
       "      <td>26.8</td>\n",
       "      <td>21.2</td>\n",
       "      <td>32.4</td>\n",
       "      <td>0.179</td>\n",
       "    </tr>\n",
       "    <tr>\n",
       "      <td>3</td>\n",
       "      <td>36005</td>\n",
       "      <td>Bronx</td>\n",
       "      <td>1.0</td>\n",
       "      <td>26.2</td>\n",
       "      <td>24.9</td>\n",
       "      <td>27.5</td>\n",
       "      <td>36.5</td>\n",
       "      <td>33.8</td>\n",
       "      <td>39.2</td>\n",
       "      <td>0.262</td>\n",
       "    </tr>\n",
       "    <tr>\n",
       "      <td>4</td>\n",
       "      <td>36007</td>\n",
       "      <td>Broome</td>\n",
       "      <td>2.0</td>\n",
       "      <td>17.8</td>\n",
       "      <td>15.8</td>\n",
       "      <td>19.8</td>\n",
       "      <td>24.9</td>\n",
       "      <td>20.7</td>\n",
       "      <td>29.1</td>\n",
       "      <td>0.178</td>\n",
       "    </tr>\n",
       "    <tr>\n",
       "      <td>5</td>\n",
       "      <td>36009</td>\n",
       "      <td>Cattaraugus</td>\n",
       "      <td>4.0</td>\n",
       "      <td>14.7</td>\n",
       "      <td>12.5</td>\n",
       "      <td>16.9</td>\n",
       "      <td>21.5</td>\n",
       "      <td>16.5</td>\n",
       "      <td>26.5</td>\n",
       "      <td>0.147</td>\n",
       "    </tr>\n",
       "  </tbody>\n",
       "</table>\n",
       "</div>"
      ],
      "text/plain": [
       "    FIPS         Name  RUC Code  Percent_Pop  Lower Bound  Upper Bound  \\\n",
       "1  36001       Albany       2.0         11.7         10.2         13.2   \n",
       "2  36003     Allegany       7.0         17.9         15.0         20.8   \n",
       "3  36005        Bronx       1.0         26.2         24.9         27.5   \n",
       "4  36007       Broome       2.0         17.8         15.8         19.8   \n",
       "5  36009  Cattaraugus       4.0         14.7         12.5         16.9   \n",
       "\n",
       "   Percent_Children  Lower Bound.1  Upper Bound.1  pop_in_poverty_%  \n",
       "1              16.0           13.1           18.9             0.117  \n",
       "2              26.8           21.2           32.4             0.179  \n",
       "3              36.5           33.8           39.2             0.262  \n",
       "4              24.9           20.7           29.1             0.178  \n",
       "5              21.5           16.5           26.5             0.147  "
      ]
     },
     "execution_count": 162,
     "metadata": {},
     "output_type": "execute_result"
    }
   ],
   "source": [
    "poverty.head()"
   ]
  },
  {
   "cell_type": "code",
   "execution_count": 163,
   "metadata": {
    "scrolled": true
   },
   "outputs": [
    {
     "data": {
      "text/html": [
       "<div>\n",
       "<style scoped>\n",
       "    .dataframe tbody tr th:only-of-type {\n",
       "        vertical-align: middle;\n",
       "    }\n",
       "\n",
       "    .dataframe tbody tr th {\n",
       "        vertical-align: top;\n",
       "    }\n",
       "\n",
       "    .dataframe thead th {\n",
       "        text-align: right;\n",
       "    }\n",
       "</style>\n",
       "<table border=\"1\" class=\"dataframe\">\n",
       "  <thead>\n",
       "    <tr style=\"text-align: right;\">\n",
       "      <th></th>\n",
       "      <th>FIPS</th>\n",
       "      <th>pop_in_poverty_%</th>\n",
       "    </tr>\n",
       "  </thead>\n",
       "  <tbody>\n",
       "    <tr>\n",
       "      <td>1</td>\n",
       "      <td>36001</td>\n",
       "      <td>0.117</td>\n",
       "    </tr>\n",
       "    <tr>\n",
       "      <td>2</td>\n",
       "      <td>36003</td>\n",
       "      <td>0.179</td>\n",
       "    </tr>\n",
       "    <tr>\n",
       "      <td>3</td>\n",
       "      <td>36005</td>\n",
       "      <td>0.262</td>\n",
       "    </tr>\n",
       "    <tr>\n",
       "      <td>4</td>\n",
       "      <td>36007</td>\n",
       "      <td>0.178</td>\n",
       "    </tr>\n",
       "    <tr>\n",
       "      <td>5</td>\n",
       "      <td>36009</td>\n",
       "      <td>0.147</td>\n",
       "    </tr>\n",
       "  </tbody>\n",
       "</table>\n",
       "</div>"
      ],
      "text/plain": [
       "    FIPS  pop_in_poverty_%\n",
       "1  36001             0.117\n",
       "2  36003             0.179\n",
       "3  36005             0.262\n",
       "4  36007             0.178\n",
       "5  36009             0.147"
      ]
     },
     "execution_count": 163,
     "metadata": {},
     "output_type": "execute_result"
    }
   ],
   "source": [
    "poverty = poverty[['FIPS', 'pop_in_poverty_%']]\n",
    "poverty.head()"
   ]
  },
  {
   "cell_type": "code",
   "execution_count": 164,
   "metadata": {
    "scrolled": true
   },
   "outputs": [
    {
     "data": {
      "text/html": [
       "<div>\n",
       "<style scoped>\n",
       "    .dataframe tbody tr th:only-of-type {\n",
       "        vertical-align: middle;\n",
       "    }\n",
       "\n",
       "    .dataframe tbody tr th {\n",
       "        vertical-align: top;\n",
       "    }\n",
       "\n",
       "    .dataframe thead th {\n",
       "        text-align: right;\n",
       "    }\n",
       "</style>\n",
       "<table border=\"1\" class=\"dataframe\">\n",
       "  <thead>\n",
       "    <tr style=\"text-align: right;\">\n",
       "      <th></th>\n",
       "      <th>FIPS</th>\n",
       "      <th>county_name</th>\n",
       "      <th>population</th>\n",
       "      <th>male_%</th>\n",
       "      <th>female_%</th>\n",
       "      <th>65+age_%</th>\n",
       "      <th>5-17age_%</th>\n",
       "      <th>18-24age_%</th>\n",
       "      <th>white_alone_%</th>\n",
       "      <th>nh_white_alone_%</th>\n",
       "      <th>black_african_amer_alone_%</th>\n",
       "      <th>amer_indian_alask_alone_%</th>\n",
       "      <th>asian_alone_%</th>\n",
       "      <th>2+_races_%</th>\n",
       "      <th>hispanic_%</th>\n",
       "      <th>sq_miles</th>\n",
       "      <th>pop_in_poverty_%</th>\n",
       "    </tr>\n",
       "  </thead>\n",
       "  <tbody>\n",
       "    <tr>\n",
       "      <td>0</td>\n",
       "      <td>36001</td>\n",
       "      <td>Albany</td>\n",
       "      <td>305506</td>\n",
       "      <td>0.483846</td>\n",
       "      <td>0.516154</td>\n",
       "      <td>0.174373</td>\n",
       "      <td>0.174373</td>\n",
       "      <td>0.144187</td>\n",
       "      <td>0.757884</td>\n",
       "      <td>0.715682</td>\n",
       "      <td>0.141064</td>\n",
       "      <td>0.003044</td>\n",
       "      <td>0.068362</td>\n",
       "      <td>0.028985</td>\n",
       "      <td>0.062526</td>\n",
       "      <td>523.45</td>\n",
       "      <td>0.117</td>\n",
       "    </tr>\n",
       "    <tr>\n",
       "      <td>1</td>\n",
       "      <td>36003</td>\n",
       "      <td>Allegany</td>\n",
       "      <td>46091</td>\n",
       "      <td>0.508082</td>\n",
       "      <td>0.491918</td>\n",
       "      <td>0.196459</td>\n",
       "      <td>0.196459</td>\n",
       "      <td>0.145083</td>\n",
       "      <td>0.955675</td>\n",
       "      <td>0.942830</td>\n",
       "      <td>0.014406</td>\n",
       "      <td>0.003189</td>\n",
       "      <td>0.012519</td>\n",
       "      <td>0.013799</td>\n",
       "      <td>0.017010</td>\n",
       "      <td>1030.22</td>\n",
       "      <td>0.179</td>\n",
       "    </tr>\n",
       "    <tr>\n",
       "      <td>2</td>\n",
       "      <td>36005</td>\n",
       "      <td>Bronx</td>\n",
       "      <td>1418207</td>\n",
       "      <td>0.472109</td>\n",
       "      <td>0.527891</td>\n",
       "      <td>0.133102</td>\n",
       "      <td>0.133102</td>\n",
       "      <td>0.097095</td>\n",
       "      <td>0.447241</td>\n",
       "      <td>0.090102</td>\n",
       "      <td>0.436154</td>\n",
       "      <td>0.029135</td>\n",
       "      <td>0.045611</td>\n",
       "      <td>0.037647</td>\n",
       "      <td>0.563796</td>\n",
       "      <td>42.03</td>\n",
       "      <td>0.262</td>\n",
       "    </tr>\n",
       "    <tr>\n",
       "      <td>3</td>\n",
       "      <td>36007</td>\n",
       "      <td>Broome</td>\n",
       "      <td>190488</td>\n",
       "      <td>0.492656</td>\n",
       "      <td>0.507344</td>\n",
       "      <td>0.194133</td>\n",
       "      <td>0.194133</td>\n",
       "      <td>0.141757</td>\n",
       "      <td>0.858180</td>\n",
       "      <td>0.827002</td>\n",
       "      <td>0.063605</td>\n",
       "      <td>0.002725</td>\n",
       "      <td>0.044223</td>\n",
       "      <td>0.030590</td>\n",
       "      <td>0.044496</td>\n",
       "      <td>706.82</td>\n",
       "      <td>0.178</td>\n",
       "    </tr>\n",
       "    <tr>\n",
       "      <td>4</td>\n",
       "      <td>36009</td>\n",
       "      <td>Cattaraugus</td>\n",
       "      <td>76117</td>\n",
       "      <td>0.497300</td>\n",
       "      <td>0.502700</td>\n",
       "      <td>0.197354</td>\n",
       "      <td>0.197354</td>\n",
       "      <td>0.090151</td>\n",
       "      <td>0.918573</td>\n",
       "      <td>0.904266</td>\n",
       "      <td>0.014754</td>\n",
       "      <td>0.036023</td>\n",
       "      <td>0.008474</td>\n",
       "      <td>0.021782</td>\n",
       "      <td>0.021480</td>\n",
       "      <td>1309.85</td>\n",
       "      <td>0.147</td>\n",
       "    </tr>\n",
       "  </tbody>\n",
       "</table>\n",
       "</div>"
      ],
      "text/plain": [
       "    FIPS  county_name  population    male_%  female_%  65+age_%  5-17age_%  \\\n",
       "0  36001       Albany      305506  0.483846  0.516154  0.174373   0.174373   \n",
       "1  36003     Allegany       46091  0.508082  0.491918  0.196459   0.196459   \n",
       "2  36005        Bronx     1418207  0.472109  0.527891  0.133102   0.133102   \n",
       "3  36007       Broome      190488  0.492656  0.507344  0.194133   0.194133   \n",
       "4  36009  Cattaraugus       76117  0.497300  0.502700  0.197354   0.197354   \n",
       "\n",
       "   18-24age_%  white_alone_%  nh_white_alone_%  black_african_amer_alone_%  \\\n",
       "0    0.144187       0.757884          0.715682                    0.141064   \n",
       "1    0.145083       0.955675          0.942830                    0.014406   \n",
       "2    0.097095       0.447241          0.090102                    0.436154   \n",
       "3    0.141757       0.858180          0.827002                    0.063605   \n",
       "4    0.090151       0.918573          0.904266                    0.014754   \n",
       "\n",
       "   amer_indian_alask_alone_%  asian_alone_%  2+_races_%  hispanic_%  sq_miles  \\\n",
       "0                   0.003044       0.068362    0.028985    0.062526    523.45   \n",
       "1                   0.003189       0.012519    0.013799    0.017010   1030.22   \n",
       "2                   0.029135       0.045611    0.037647    0.563796     42.03   \n",
       "3                   0.002725       0.044223    0.030590    0.044496    706.82   \n",
       "4                   0.036023       0.008474    0.021782    0.021480   1309.85   \n",
       "\n",
       "   pop_in_poverty_%  \n",
       "0             0.117  \n",
       "1             0.179  \n",
       "2             0.262  \n",
       "3             0.178  \n",
       "4             0.147  "
      ]
     },
     "execution_count": 164,
     "metadata": {},
     "output_type": "execute_result"
    }
   ],
   "source": [
    "# add to main county df\n",
    "county = county.merge(poverty, left_on='FIPS', right_on='FIPS')\n",
    "county.head()"
   ]
  },
  {
   "cell_type": "code",
   "execution_count": 165,
   "metadata": {
    "scrolled": true
   },
   "outputs": [
    {
     "data": {
      "text/html": [
       "<div>\n",
       "<style scoped>\n",
       "    .dataframe tbody tr th:only-of-type {\n",
       "        vertical-align: middle;\n",
       "    }\n",
       "\n",
       "    .dataframe tbody tr th {\n",
       "        vertical-align: top;\n",
       "    }\n",
       "\n",
       "    .dataframe thead th {\n",
       "        text-align: right;\n",
       "    }\n",
       "</style>\n",
       "<table border=\"1\" class=\"dataframe\">\n",
       "  <thead>\n",
       "    <tr style=\"text-align: right;\">\n",
       "      <th></th>\n",
       "      <th>FIPS</th>\n",
       "      <th>Name</th>\n",
       "      <th>2019 Unemployment Rate</th>\n",
       "      <th>Median Household Income (2019)</th>\n",
       "    </tr>\n",
       "  </thead>\n",
       "  <tbody>\n",
       "    <tr>\n",
       "      <td>1</td>\n",
       "      <td>36001</td>\n",
       "      <td>Albany County, NY</td>\n",
       "      <td>3.6</td>\n",
       "      <td>$69,408</td>\n",
       "    </tr>\n",
       "    <tr>\n",
       "      <td>2</td>\n",
       "      <td>36003</td>\n",
       "      <td>Allegany County, NY</td>\n",
       "      <td>5.5</td>\n",
       "      <td>$49,411</td>\n",
       "    </tr>\n",
       "  </tbody>\n",
       "</table>\n",
       "</div>"
      ],
      "text/plain": [
       "    FIPS                 Name  2019 Unemployment Rate  \\\n",
       "1  36001    Albany County, NY                     3.6   \n",
       "2  36003  Allegany County, NY                     5.5   \n",
       "\n",
       "  Median Household Income (2019)  \n",
       "1                        $69,408  \n",
       "2                        $49,411  "
      ]
     },
     "execution_count": 165,
     "metadata": {},
     "output_type": "execute_result"
    }
   ],
   "source": [
    "unemployment_income.head(2)"
   ]
  },
  {
   "cell_type": "code",
   "execution_count": 166,
   "metadata": {
    "scrolled": true
   },
   "outputs": [
    {
     "name": "stdout",
     "output_type": "stream",
     "text": [
      "<class 'pandas.core.frame.DataFrame'>\n",
      "Int64Index: 62 entries, 1 to 62\n",
      "Data columns (total 4 columns):\n",
      "FIPS                              62 non-null int64\n",
      "Name                              62 non-null object\n",
      "2019 Unemployment Rate            62 non-null float64\n",
      "Median Household Income (2019)    62 non-null object\n",
      "dtypes: float64(1), int64(1), object(2)\n",
      "memory usage: 2.4+ KB\n"
     ]
    }
   ],
   "source": [
    "unemployment_income.info()"
   ]
  },
  {
   "cell_type": "code",
   "execution_count": 167,
   "metadata": {},
   "outputs": [],
   "source": [
    "#prep to change income to number\n",
    "unemployment_income['Median Household Income (2019)'] = unemployment_income['Median Household Income (2019)'].str.replace('$','').str.replace(',','')"
   ]
  },
  {
   "cell_type": "code",
   "execution_count": 168,
   "metadata": {
    "scrolled": true
   },
   "outputs": [
    {
     "data": {
      "text/html": [
       "<div>\n",
       "<style scoped>\n",
       "    .dataframe tbody tr th:only-of-type {\n",
       "        vertical-align: middle;\n",
       "    }\n",
       "\n",
       "    .dataframe tbody tr th {\n",
       "        vertical-align: top;\n",
       "    }\n",
       "\n",
       "    .dataframe thead th {\n",
       "        text-align: right;\n",
       "    }\n",
       "</style>\n",
       "<table border=\"1\" class=\"dataframe\">\n",
       "  <thead>\n",
       "    <tr style=\"text-align: right;\">\n",
       "      <th></th>\n",
       "      <th>FIPS</th>\n",
       "      <th>Name</th>\n",
       "      <th>2019 Unemployment Rate</th>\n",
       "      <th>Median Household Income (2019)</th>\n",
       "    </tr>\n",
       "  </thead>\n",
       "  <tbody>\n",
       "    <tr>\n",
       "      <td>1</td>\n",
       "      <td>36001</td>\n",
       "      <td>Albany County, NY</td>\n",
       "      <td>3.6</td>\n",
       "      <td>69408</td>\n",
       "    </tr>\n",
       "    <tr>\n",
       "      <td>2</td>\n",
       "      <td>36003</td>\n",
       "      <td>Allegany County, NY</td>\n",
       "      <td>5.5</td>\n",
       "      <td>49411</td>\n",
       "    </tr>\n",
       "  </tbody>\n",
       "</table>\n",
       "</div>"
      ],
      "text/plain": [
       "    FIPS                 Name  2019 Unemployment Rate  \\\n",
       "1  36001    Albany County, NY                     3.6   \n",
       "2  36003  Allegany County, NY                     5.5   \n",
       "\n",
       "  Median Household Income (2019)  \n",
       "1                          69408  \n",
       "2                          49411  "
      ]
     },
     "execution_count": 168,
     "metadata": {},
     "output_type": "execute_result"
    }
   ],
   "source": [
    "unemployment_income.head(2)"
   ]
  },
  {
   "cell_type": "code",
   "execution_count": 169,
   "metadata": {},
   "outputs": [],
   "source": [
    "unemployment_income['Median Household Income (2019)'] = unemployment_income['Median Household Income (2019)'].astype(int)"
   ]
  },
  {
   "cell_type": "code",
   "execution_count": 170,
   "metadata": {
    "scrolled": true
   },
   "outputs": [
    {
     "name": "stdout",
     "output_type": "stream",
     "text": [
      "<class 'pandas.core.frame.DataFrame'>\n",
      "Int64Index: 62 entries, 1 to 62\n",
      "Data columns (total 4 columns):\n",
      "FIPS                              62 non-null int64\n",
      "Name                              62 non-null object\n",
      "2019 Unemployment Rate            62 non-null float64\n",
      "Median Household Income (2019)    62 non-null int32\n",
      "dtypes: float64(1), int32(1), int64(1), object(1)\n",
      "memory usage: 2.2+ KB\n"
     ]
    }
   ],
   "source": [
    "unemployment_income.info()"
   ]
  },
  {
   "cell_type": "code",
   "execution_count": 171,
   "metadata": {},
   "outputs": [],
   "source": [
    "#change to decimal like other values\n",
    "unemployment_income['2019 Unemployment Rate'] = unemployment_income['2019 Unemployment Rate']/100"
   ]
  },
  {
   "cell_type": "markdown",
   "metadata": {},
   "source": [
    "Note, using unemployment rate as of 2019 as it won't be affected by COVID-related changes in unemployment"
   ]
  },
  {
   "cell_type": "code",
   "execution_count": 172,
   "metadata": {
    "scrolled": true
   },
   "outputs": [
    {
     "data": {
      "text/html": [
       "<div>\n",
       "<style scoped>\n",
       "    .dataframe tbody tr th:only-of-type {\n",
       "        vertical-align: middle;\n",
       "    }\n",
       "\n",
       "    .dataframe tbody tr th {\n",
       "        vertical-align: top;\n",
       "    }\n",
       "\n",
       "    .dataframe thead th {\n",
       "        text-align: right;\n",
       "    }\n",
       "</style>\n",
       "<table border=\"1\" class=\"dataframe\">\n",
       "  <thead>\n",
       "    <tr style=\"text-align: right;\">\n",
       "      <th></th>\n",
       "      <th>FIPS</th>\n",
       "      <th>Name</th>\n",
       "      <th>unemployment_rate</th>\n",
       "      <th>median_household_income</th>\n",
       "    </tr>\n",
       "  </thead>\n",
       "  <tbody>\n",
       "    <tr>\n",
       "      <td>1</td>\n",
       "      <td>36001</td>\n",
       "      <td>Albany County, NY</td>\n",
       "      <td>0.036</td>\n",
       "      <td>69408</td>\n",
       "    </tr>\n",
       "    <tr>\n",
       "      <td>2</td>\n",
       "      <td>36003</td>\n",
       "      <td>Allegany County, NY</td>\n",
       "      <td>0.055</td>\n",
       "      <td>49411</td>\n",
       "    </tr>\n",
       "  </tbody>\n",
       "</table>\n",
       "</div>"
      ],
      "text/plain": [
       "    FIPS                 Name  unemployment_rate  median_household_income\n",
       "1  36001    Albany County, NY              0.036                    69408\n",
       "2  36003  Allegany County, NY              0.055                    49411"
      ]
     },
     "execution_count": 172,
     "metadata": {},
     "output_type": "execute_result"
    }
   ],
   "source": [
    "#rename columns\n",
    "unemployment_income.rename(columns={\"2019 Unemployment Rate\": \"unemployment_rate\", \"Median Household Income (2019)\": \"median_household_income\"},inplace=True)\n",
    "unemployment_income.head(2)"
   ]
  },
  {
   "cell_type": "code",
   "execution_count": 173,
   "metadata": {},
   "outputs": [],
   "source": [
    "# drop extra columns\n",
    "unemployment_income = unemployment_income[['FIPS', 'unemployment_rate', 'median_household_income']]"
   ]
  },
  {
   "cell_type": "code",
   "execution_count": 174,
   "metadata": {
    "scrolled": true
   },
   "outputs": [
    {
     "data": {
      "text/html": [
       "<div>\n",
       "<style scoped>\n",
       "    .dataframe tbody tr th:only-of-type {\n",
       "        vertical-align: middle;\n",
       "    }\n",
       "\n",
       "    .dataframe tbody tr th {\n",
       "        vertical-align: top;\n",
       "    }\n",
       "\n",
       "    .dataframe thead th {\n",
       "        text-align: right;\n",
       "    }\n",
       "</style>\n",
       "<table border=\"1\" class=\"dataframe\">\n",
       "  <thead>\n",
       "    <tr style=\"text-align: right;\">\n",
       "      <th></th>\n",
       "      <th>FIPS</th>\n",
       "      <th>county_name</th>\n",
       "      <th>population</th>\n",
       "      <th>male_%</th>\n",
       "      <th>female_%</th>\n",
       "      <th>65+age_%</th>\n",
       "      <th>5-17age_%</th>\n",
       "      <th>18-24age_%</th>\n",
       "      <th>white_alone_%</th>\n",
       "      <th>nh_white_alone_%</th>\n",
       "      <th>black_african_amer_alone_%</th>\n",
       "      <th>amer_indian_alask_alone_%</th>\n",
       "      <th>asian_alone_%</th>\n",
       "      <th>2+_races_%</th>\n",
       "      <th>hispanic_%</th>\n",
       "      <th>sq_miles</th>\n",
       "      <th>pop_in_poverty_%</th>\n",
       "      <th>unemployment_rate</th>\n",
       "      <th>median_household_income</th>\n",
       "    </tr>\n",
       "  </thead>\n",
       "  <tbody>\n",
       "    <tr>\n",
       "      <td>0</td>\n",
       "      <td>36001</td>\n",
       "      <td>Albany</td>\n",
       "      <td>305506</td>\n",
       "      <td>0.483846</td>\n",
       "      <td>0.516154</td>\n",
       "      <td>0.174373</td>\n",
       "      <td>0.174373</td>\n",
       "      <td>0.144187</td>\n",
       "      <td>0.757884</td>\n",
       "      <td>0.715682</td>\n",
       "      <td>0.141064</td>\n",
       "      <td>0.003044</td>\n",
       "      <td>0.068362</td>\n",
       "      <td>0.028985</td>\n",
       "      <td>0.062526</td>\n",
       "      <td>523.45</td>\n",
       "      <td>0.117</td>\n",
       "      <td>0.036</td>\n",
       "      <td>69408</td>\n",
       "    </tr>\n",
       "    <tr>\n",
       "      <td>1</td>\n",
       "      <td>36003</td>\n",
       "      <td>Allegany</td>\n",
       "      <td>46091</td>\n",
       "      <td>0.508082</td>\n",
       "      <td>0.491918</td>\n",
       "      <td>0.196459</td>\n",
       "      <td>0.196459</td>\n",
       "      <td>0.145083</td>\n",
       "      <td>0.955675</td>\n",
       "      <td>0.942830</td>\n",
       "      <td>0.014406</td>\n",
       "      <td>0.003189</td>\n",
       "      <td>0.012519</td>\n",
       "      <td>0.013799</td>\n",
       "      <td>0.017010</td>\n",
       "      <td>1030.22</td>\n",
       "      <td>0.179</td>\n",
       "      <td>0.055</td>\n",
       "      <td>49411</td>\n",
       "    </tr>\n",
       "  </tbody>\n",
       "</table>\n",
       "</div>"
      ],
      "text/plain": [
       "    FIPS county_name  population    male_%  female_%  65+age_%  5-17age_%  \\\n",
       "0  36001      Albany      305506  0.483846  0.516154  0.174373   0.174373   \n",
       "1  36003    Allegany       46091  0.508082  0.491918  0.196459   0.196459   \n",
       "\n",
       "   18-24age_%  white_alone_%  nh_white_alone_%  black_african_amer_alone_%  \\\n",
       "0    0.144187       0.757884          0.715682                    0.141064   \n",
       "1    0.145083       0.955675          0.942830                    0.014406   \n",
       "\n",
       "   amer_indian_alask_alone_%  asian_alone_%  2+_races_%  hispanic_%  sq_miles  \\\n",
       "0                   0.003044       0.068362    0.028985    0.062526    523.45   \n",
       "1                   0.003189       0.012519    0.013799    0.017010   1030.22   \n",
       "\n",
       "   pop_in_poverty_%  unemployment_rate  median_household_income  \n",
       "0             0.117              0.036                    69408  \n",
       "1             0.179              0.055                    49411  "
      ]
     },
     "execution_count": 174,
     "metadata": {},
     "output_type": "execute_result"
    }
   ],
   "source": [
    "# add to main county df\n",
    "county = county.merge(unemployment_income, left_on='FIPS', right_on='FIPS')\n",
    "county.head(2)"
   ]
  },
  {
   "cell_type": "code",
   "execution_count": 175,
   "metadata": {
    "scrolled": false
   },
   "outputs": [
    {
     "data": {
      "text/html": [
       "<div>\n",
       "<style scoped>\n",
       "    .dataframe tbody tr th:only-of-type {\n",
       "        vertical-align: middle;\n",
       "    }\n",
       "\n",
       "    .dataframe tbody tr th {\n",
       "        vertical-align: top;\n",
       "    }\n",
       "\n",
       "    .dataframe thead th {\n",
       "        text-align: right;\n",
       "    }\n",
       "</style>\n",
       "<table border=\"1\" class=\"dataframe\">\n",
       "  <thead>\n",
       "    <tr style=\"text-align: right;\">\n",
       "      <th></th>\n",
       "      <th>X</th>\n",
       "      <th>Y</th>\n",
       "      <th>OBJECTID</th>\n",
       "      <th>ID</th>\n",
       "      <th>NAME</th>\n",
       "      <th>ADDRESS</th>\n",
       "      <th>CITY</th>\n",
       "      <th>STATE</th>\n",
       "      <th>ZIP</th>\n",
       "      <th>ZIP4</th>\n",
       "      <th>...</th>\n",
       "      <th>VAL_DATE</th>\n",
       "      <th>WEBSITE</th>\n",
       "      <th>STATE_ID</th>\n",
       "      <th>ALT_NAME</th>\n",
       "      <th>ST_FIPS</th>\n",
       "      <th>OWNER</th>\n",
       "      <th>TTL_STAFF</th>\n",
       "      <th>BEDS</th>\n",
       "      <th>TRAUMA</th>\n",
       "      <th>HELIPAD</th>\n",
       "    </tr>\n",
       "  </thead>\n",
       "  <tbody>\n",
       "    <tr>\n",
       "      <td>262</td>\n",
       "      <td>-8.230494e+06</td>\n",
       "      <td>5.115231e+06</td>\n",
       "      <td>264</td>\n",
       "      <td>2912601</td>\n",
       "      <td>VASSAR BROTHERS MEDICAL CENTER</td>\n",
       "      <td>45 READE PL</td>\n",
       "      <td>POUGHKEEPSIE</td>\n",
       "      <td>NY</td>\n",
       "      <td>12601</td>\n",
       "      <td>NOT AVAILABLE</td>\n",
       "      <td>...</td>\n",
       "      <td>2014/02/10 00:00:00</td>\n",
       "      <td>http://www.healthquest.org/poughkeepsie/vassar...</td>\n",
       "      <td>1302001H</td>\n",
       "      <td>NOT AVAILABLE</td>\n",
       "      <td>36</td>\n",
       "      <td>NON-PROFIT</td>\n",
       "      <td>-999</td>\n",
       "      <td>365</td>\n",
       "      <td>LEVEL II</td>\n",
       "      <td>Y</td>\n",
       "    </tr>\n",
       "    <tr>\n",
       "      <td>263</td>\n",
       "      <td>-8.775443e+06</td>\n",
       "      <td>5.300575e+06</td>\n",
       "      <td>265</td>\n",
       "      <td>3214215</td>\n",
       "      <td>ERIE COUNTY MEDICAL CENTER</td>\n",
       "      <td>462 GRIDER ST</td>\n",
       "      <td>BUFFALO</td>\n",
       "      <td>NY</td>\n",
       "      <td>14215</td>\n",
       "      <td>NOT AVAILABLE</td>\n",
       "      <td>...</td>\n",
       "      <td>2014/03/12 00:00:00</td>\n",
       "      <td>http://www.ecmc.edu</td>\n",
       "      <td>1401005H</td>\n",
       "      <td>NOT AVAILABLE</td>\n",
       "      <td>36</td>\n",
       "      <td>GOVERNMENT - DISTRICT/AUTHORITY</td>\n",
       "      <td>-999</td>\n",
       "      <td>550</td>\n",
       "      <td>LEVEL I</td>\n",
       "      <td>Y</td>\n",
       "    </tr>\n",
       "  </tbody>\n",
       "</table>\n",
       "<p>2 rows × 34 columns</p>\n",
       "</div>"
      ],
      "text/plain": [
       "                X             Y  OBJECTID       ID  \\\n",
       "262 -8.230494e+06  5.115231e+06       264  2912601   \n",
       "263 -8.775443e+06  5.300575e+06       265  3214215   \n",
       "\n",
       "                               NAME        ADDRESS          CITY STATE    ZIP  \\\n",
       "262  VASSAR BROTHERS MEDICAL CENTER    45 READE PL  POUGHKEEPSIE    NY  12601   \n",
       "263      ERIE COUNTY MEDICAL CENTER  462 GRIDER ST       BUFFALO    NY  14215   \n",
       "\n",
       "              ZIP4  ...             VAL_DATE  \\\n",
       "262  NOT AVAILABLE  ...  2014/02/10 00:00:00   \n",
       "263  NOT AVAILABLE  ...  2014/03/12 00:00:00   \n",
       "\n",
       "                                               WEBSITE  STATE_ID  \\\n",
       "262  http://www.healthquest.org/poughkeepsie/vassar...  1302001H   \n",
       "263                                http://www.ecmc.edu  1401005H   \n",
       "\n",
       "          ALT_NAME ST_FIPS                            OWNER TTL_STAFF  BEDS  \\\n",
       "262  NOT AVAILABLE      36                       NON-PROFIT      -999   365   \n",
       "263  NOT AVAILABLE      36  GOVERNMENT - DISTRICT/AUTHORITY      -999   550   \n",
       "\n",
       "       TRAUMA  HELIPAD  \n",
       "262  LEVEL II        Y  \n",
       "263   LEVEL I        Y  \n",
       "\n",
       "[2 rows x 34 columns]"
      ]
     },
     "execution_count": 175,
     "metadata": {},
     "output_type": "execute_result"
    }
   ],
   "source": [
    "hospitals.head(2)"
   ]
  },
  {
   "cell_type": "code",
   "execution_count": 176,
   "metadata": {},
   "outputs": [
    {
     "data": {
      "text/plain": [
       "X                                                  -8.23049e+06\n",
       "Y                                                   5.11523e+06\n",
       "OBJECTID                                                    264\n",
       "ID                                                      2912601\n",
       "NAME                             VASSAR BROTHERS MEDICAL CENTER\n",
       "ADDRESS                                             45 READE PL\n",
       "CITY                                               POUGHKEEPSIE\n",
       "STATE                                                        NY\n",
       "ZIP                                                       12601\n",
       "ZIP4                                              NOT AVAILABLE\n",
       "TELEPHONE                                        (845) 454-8500\n",
       "TYPE                                         GENERAL ACUTE CARE\n",
       "STATUS                                                     OPEN\n",
       "POPULATION                                                  365\n",
       "COUNTY                                                 DUTCHESS\n",
       "COUNTYFIPS                                                36027\n",
       "COUNTRY                                                     USA\n",
       "LATITUDE                                                41.6939\n",
       "LONGITUDE                                              -73.9358\n",
       "NAICS_CODE                                               622110\n",
       "NAICS_DESC               GENERAL MEDICAL AND SURGICAL HOSPITALS\n",
       "SOURCE        https://profiles.health.ny.gov/hospital/county...\n",
       "SOURCEDATE                                  2019/08/20 00:00:00\n",
       "VAL_METHOD                                              IMAGERY\n",
       "VAL_DATE                                    2014/02/10 00:00:00\n",
       "WEBSITE       http://www.healthquest.org/poughkeepsie/vassar...\n",
       "STATE_ID                                               1302001H\n",
       "ALT_NAME                                          NOT AVAILABLE\n",
       "ST_FIPS                                                      36\n",
       "OWNER                                                NON-PROFIT\n",
       "TTL_STAFF                                                  -999\n",
       "BEDS                                                        365\n",
       "TRAUMA                                                 LEVEL II\n",
       "HELIPAD                                                       Y\n",
       "Name: 262, dtype: object"
      ]
     },
     "execution_count": 176,
     "metadata": {},
     "output_type": "execute_result"
    }
   ],
   "source": [
    "hospitals.iloc[0]"
   ]
  },
  {
   "cell_type": "markdown",
   "metadata": {},
   "source": [
    "change to hospital count per county"
   ]
  },
  {
   "cell_type": "code",
   "execution_count": 177,
   "metadata": {
    "scrolled": true
   },
   "outputs": [
    {
     "data": {
      "text/plain": [
       " 25      3\n",
       " 67      2\n",
       " 126     1\n",
       " 1184    1\n",
       "-600     1\n",
       " 344     1\n",
       " 300     1\n",
       " 169     1\n",
       " 40      1\n",
       " 39      1\n",
       "-461     1\n",
       " 164     1\n",
       " 162     1\n",
       " 926     1\n",
       " 31      1\n",
       " 2236    1\n",
       " 158     1\n",
       " 1932    1\n",
       " 410     1\n",
       " 1558    1\n",
       " 1169    1\n",
       " 399     1\n",
       " 1292    1\n",
       " 4995    1\n",
       " 130     1\n",
       " 186     1\n",
       " 3377    1\n",
       " 423     1\n",
       " 99      1\n",
       " 62      1\n",
       " 4600    1\n",
       " 240     1\n",
       " 623     1\n",
       "-868     1\n",
       "-345     1\n",
       " 471     1\n",
       " 853     1\n",
       " 212     1\n",
       " 7503    1\n",
       " 76      1\n",
       " 74      1\n",
       " 120     1\n",
       " 325     1\n",
       "-959     1\n",
       " 192     1\n",
       " 319     1\n",
       " 3646    1\n",
       " 445     1\n",
       " 259     1\n",
       " 1213    1\n",
       " 58      1\n",
       "-826     1\n",
       " 1207    1\n",
       " 4736    1\n",
       "Name: hospital_beds, dtype: int64"
      ]
     },
     "execution_count": 177,
     "metadata": {},
     "output_type": "execute_result"
    }
   ],
   "source": [
    "hospitals = hospitals.groupby(['COUNTYFIPS'])['BEDS'].sum()\n",
    "hospitals = hospitals.to_frame().rename(columns={'BEDS':'hospital_beds'})\n",
    "hospitals = hospitals.reset_index()\n",
    "hospitals['hospital_beds'].value_counts()"
   ]
  },
  {
   "cell_type": "code",
   "execution_count": 178,
   "metadata": {
    "scrolled": true
   },
   "outputs": [
    {
     "data": {
      "text/html": [
       "<div>\n",
       "<style scoped>\n",
       "    .dataframe tbody tr th:only-of-type {\n",
       "        vertical-align: middle;\n",
       "    }\n",
       "\n",
       "    .dataframe tbody tr th {\n",
       "        vertical-align: top;\n",
       "    }\n",
       "\n",
       "    .dataframe thead th {\n",
       "        text-align: right;\n",
       "    }\n",
       "</style>\n",
       "<table border=\"1\" class=\"dataframe\">\n",
       "  <thead>\n",
       "    <tr style=\"text-align: right;\">\n",
       "      <th></th>\n",
       "      <th>COUNTYFIPS</th>\n",
       "      <th>hospital_beds</th>\n",
       "    </tr>\n",
       "  </thead>\n",
       "  <tbody>\n",
       "    <tr>\n",
       "      <td>0</td>\n",
       "      <td>36001</td>\n",
       "      <td>1558</td>\n",
       "    </tr>\n",
       "    <tr>\n",
       "      <td>1</td>\n",
       "      <td>36003</td>\n",
       "      <td>76</td>\n",
       "    </tr>\n",
       "    <tr>\n",
       "      <td>2</td>\n",
       "      <td>36005</td>\n",
       "      <td>1292</td>\n",
       "    </tr>\n",
       "    <tr>\n",
       "      <td>3</td>\n",
       "      <td>36007</td>\n",
       "      <td>853</td>\n",
       "    </tr>\n",
       "    <tr>\n",
       "      <td>4</td>\n",
       "      <td>36009</td>\n",
       "      <td>186</td>\n",
       "    </tr>\n",
       "  </tbody>\n",
       "</table>\n",
       "</div>"
      ],
      "text/plain": [
       "  COUNTYFIPS  hospital_beds\n",
       "0      36001           1558\n",
       "1      36003             76\n",
       "2      36005           1292\n",
       "3      36007            853\n",
       "4      36009            186"
      ]
     },
     "execution_count": 178,
     "metadata": {},
     "output_type": "execute_result"
    }
   ],
   "source": [
    "hospitals.head()"
   ]
  },
  {
   "cell_type": "code",
   "execution_count": 179,
   "metadata": {
    "scrolled": true
   },
   "outputs": [
    {
     "name": "stdout",
     "output_type": "stream",
     "text": [
      "<class 'pandas.core.frame.DataFrame'>\n",
      "RangeIndex: 57 entries, 0 to 56\n",
      "Data columns (total 2 columns):\n",
      "COUNTYFIPS       57 non-null object\n",
      "hospital_beds    57 non-null int64\n",
      "dtypes: int64(1), object(1)\n",
      "memory usage: 1.0+ KB\n"
     ]
    }
   ],
   "source": [
    "hospitals.info()"
   ]
  },
  {
   "cell_type": "code",
   "execution_count": 180,
   "metadata": {
    "scrolled": true
   },
   "outputs": [
    {
     "name": "stdout",
     "output_type": "stream",
     "text": [
      "<class 'pandas.core.frame.DataFrame'>\n",
      "RangeIndex: 57 entries, 0 to 56\n",
      "Data columns (total 2 columns):\n",
      "COUNTYFIPS       57 non-null int32\n",
      "hospital_beds    57 non-null int64\n",
      "dtypes: int32(1), int64(1)\n",
      "memory usage: 812.0 bytes\n"
     ]
    }
   ],
   "source": [
    "hospitals['COUNTYFIPS'] = hospitals['COUNTYFIPS'].astype(int)\n",
    "hospitals.info()"
   ]
  },
  {
   "cell_type": "code",
   "execution_count": 181,
   "metadata": {
    "scrolled": true
   },
   "outputs": [
    {
     "name": "stdout",
     "output_type": "stream",
     "text": [
      "<class 'pandas.core.frame.DataFrame'>\n",
      "Int64Index: 62 entries, 0 to 61\n",
      "Data columns (total 21 columns):\n",
      "FIPS                          62 non-null int64\n",
      "county_name                   62 non-null object\n",
      "population                    62 non-null int64\n",
      "male_%                        62 non-null float64\n",
      "female_%                      62 non-null float64\n",
      "65+age_%                      62 non-null float64\n",
      "5-17age_%                     62 non-null float64\n",
      "18-24age_%                    62 non-null float64\n",
      "white_alone_%                 62 non-null float64\n",
      "nh_white_alone_%              62 non-null float64\n",
      "black_african_amer_alone_%    62 non-null float64\n",
      "amer_indian_alask_alone_%     62 non-null float64\n",
      "asian_alone_%                 62 non-null float64\n",
      "2+_races_%                    62 non-null float64\n",
      "hispanic_%                    62 non-null float64\n",
      "sq_miles                      62 non-null float64\n",
      "pop_in_poverty_%              62 non-null float64\n",
      "unemployment_rate             62 non-null float64\n",
      "median_household_income       62 non-null int32\n",
      "COUNTYFIPS                    57 non-null float64\n",
      "hospital_beds                 57 non-null float64\n",
      "dtypes: float64(17), int32(1), int64(2), object(1)\n",
      "memory usage: 10.4+ KB\n"
     ]
    }
   ],
   "source": [
    "# add to main county df\n",
    "county = county.merge(hospitals, how='left', left_on='FIPS', right_on='COUNTYFIPS')\n",
    "county.info()"
   ]
  },
  {
   "cell_type": "code",
   "execution_count": 182,
   "metadata": {},
   "outputs": [],
   "source": [
    "#delete extra column\n",
    "del county['COUNTYFIPS']"
   ]
  },
  {
   "cell_type": "code",
   "execution_count": 183,
   "metadata": {
    "scrolled": false
   },
   "outputs": [
    {
     "name": "stdout",
     "output_type": "stream",
     "text": [
      "<class 'pandas.core.frame.DataFrame'>\n",
      "Int64Index: 62 entries, 0 to 61\n",
      "Data columns (total 20 columns):\n",
      "FIPS                          62 non-null int64\n",
      "county_name                   62 non-null object\n",
      "population                    62 non-null int64\n",
      "male_%                        62 non-null float64\n",
      "female_%                      62 non-null float64\n",
      "65+age_%                      62 non-null float64\n",
      "5-17age_%                     62 non-null float64\n",
      "18-24age_%                    62 non-null float64\n",
      "white_alone_%                 62 non-null float64\n",
      "nh_white_alone_%              62 non-null float64\n",
      "black_african_amer_alone_%    62 non-null float64\n",
      "amer_indian_alask_alone_%     62 non-null float64\n",
      "asian_alone_%                 62 non-null float64\n",
      "2+_races_%                    62 non-null float64\n",
      "hispanic_%                    62 non-null float64\n",
      "sq_miles                      62 non-null float64\n",
      "pop_in_poverty_%              62 non-null float64\n",
      "unemployment_rate             62 non-null float64\n",
      "median_household_income       62 non-null int32\n",
      "hospital_beds                 57 non-null float64\n",
      "dtypes: float64(16), int32(1), int64(2), object(1)\n",
      "memory usage: 9.9+ KB\n"
     ]
    }
   ],
   "source": [
    "county.info()"
   ]
  },
  {
   "cell_type": "code",
   "execution_count": 184,
   "metadata": {},
   "outputs": [],
   "source": [
    "#only null in hospital count. Should be 0\n",
    "county.fillna(0,inplace=True)"
   ]
  },
  {
   "cell_type": "code",
   "execution_count": 185,
   "metadata": {
    "scrolled": true
   },
   "outputs": [
    {
     "name": "stdout",
     "output_type": "stream",
     "text": [
      "<class 'pandas.core.frame.DataFrame'>\n",
      "Int64Index: 62 entries, 0 to 61\n",
      "Data columns (total 20 columns):\n",
      "FIPS                          62 non-null int64\n",
      "county_name                   62 non-null object\n",
      "population                    62 non-null int64\n",
      "male_%                        62 non-null float64\n",
      "female_%                      62 non-null float64\n",
      "65+age_%                      62 non-null float64\n",
      "5-17age_%                     62 non-null float64\n",
      "18-24age_%                    62 non-null float64\n",
      "white_alone_%                 62 non-null float64\n",
      "nh_white_alone_%              62 non-null float64\n",
      "black_african_amer_alone_%    62 non-null float64\n",
      "amer_indian_alask_alone_%     62 non-null float64\n",
      "asian_alone_%                 62 non-null float64\n",
      "2+_races_%                    62 non-null float64\n",
      "hispanic_%                    62 non-null float64\n",
      "sq_miles                      62 non-null float64\n",
      "pop_in_poverty_%              62 non-null float64\n",
      "unemployment_rate             62 non-null float64\n",
      "median_household_income       62 non-null int32\n",
      "hospital_beds                 62 non-null float64\n",
      "dtypes: float64(16), int32(1), int64(2), object(1)\n",
      "memory usage: 9.9+ KB\n"
     ]
    }
   ],
   "source": [
    "county.info()"
   ]
  },
  {
   "cell_type": "markdown",
   "metadata": {},
   "source": [
    "Next: normalize population by using **population density** instead which as per the [U.S. Census website](https://www.census.gov/newsroom/blogs/random-samplings/2015/03/understanding-population-density.html), it \"is typically expressed as the number of people per square mile of land area.\""
   ]
  },
  {
   "cell_type": "code",
   "execution_count": 186,
   "metadata": {},
   "outputs": [],
   "source": [
    "county['pop_density'] = county['population'] / county['sq_miles']"
   ]
  },
  {
   "cell_type": "code",
   "execution_count": 187,
   "metadata": {
    "scrolled": true
   },
   "outputs": [
    {
     "data": {
      "text/plain": [
       "FIPS                               36001\n",
       "county_name                       Albany\n",
       "population                        305506\n",
       "male_%                          0.483846\n",
       "female_%                        0.516154\n",
       "65+age_%                        0.174373\n",
       "5-17age_%                       0.174373\n",
       "18-24age_%                      0.144187\n",
       "white_alone_%                   0.757884\n",
       "nh_white_alone_%                0.715682\n",
       "black_african_amer_alone_%      0.141064\n",
       "amer_indian_alask_alone_%     0.00304413\n",
       "asian_alone_%                   0.068362\n",
       "2+_races_%                     0.0289847\n",
       "hispanic_%                     0.0625258\n",
       "sq_miles                          523.45\n",
       "pop_in_poverty_%                   0.117\n",
       "unemployment_rate                  0.036\n",
       "median_household_income            69408\n",
       "hospital_beds                       1558\n",
       "pop_density                      583.639\n",
       "Name: 0, dtype: object"
      ]
     },
     "execution_count": 187,
     "metadata": {},
     "output_type": "execute_result"
    }
   ],
   "source": [
    "county.iloc[0]"
   ]
  },
  {
   "cell_type": "markdown",
   "metadata": {},
   "source": [
    "Normalize hospital count: We will use **hospital beds per 1000 population** as used by the [World Health Organization (WHO)](https://www.who.int/data/gho/indicator-metadata-registry/imr-details/3119) and other government organizations\n",
    "\n"
   ]
  },
  {
   "cell_type": "code",
   "execution_count": 188,
   "metadata": {},
   "outputs": [],
   "source": [
    "county['hospital_beds_per_1K'] = county['hospital_beds'] / (county['population']/1000)"
   ]
  },
  {
   "cell_type": "code",
   "execution_count": 189,
   "metadata": {
    "scrolled": false
   },
   "outputs": [
    {
     "data": {
      "text/html": [
       "<div>\n",
       "<style scoped>\n",
       "    .dataframe tbody tr th:only-of-type {\n",
       "        vertical-align: middle;\n",
       "    }\n",
       "\n",
       "    .dataframe tbody tr th {\n",
       "        vertical-align: top;\n",
       "    }\n",
       "\n",
       "    .dataframe thead th {\n",
       "        text-align: right;\n",
       "    }\n",
       "</style>\n",
       "<table border=\"1\" class=\"dataframe\">\n",
       "  <thead>\n",
       "    <tr style=\"text-align: right;\">\n",
       "      <th></th>\n",
       "      <th>FIPS</th>\n",
       "      <th>county_name</th>\n",
       "      <th>population</th>\n",
       "      <th>male_%</th>\n",
       "      <th>female_%</th>\n",
       "      <th>65+age_%</th>\n",
       "      <th>5-17age_%</th>\n",
       "      <th>18-24age_%</th>\n",
       "      <th>white_alone_%</th>\n",
       "      <th>nh_white_alone_%</th>\n",
       "      <th>...</th>\n",
       "      <th>asian_alone_%</th>\n",
       "      <th>2+_races_%</th>\n",
       "      <th>hispanic_%</th>\n",
       "      <th>sq_miles</th>\n",
       "      <th>pop_in_poverty_%</th>\n",
       "      <th>unemployment_rate</th>\n",
       "      <th>median_household_income</th>\n",
       "      <th>hospital_beds</th>\n",
       "      <th>pop_density</th>\n",
       "      <th>hospital_beds_per_1K</th>\n",
       "    </tr>\n",
       "  </thead>\n",
       "  <tbody>\n",
       "    <tr>\n",
       "      <td>0</td>\n",
       "      <td>36001</td>\n",
       "      <td>Albany</td>\n",
       "      <td>305506</td>\n",
       "      <td>0.483846</td>\n",
       "      <td>0.516154</td>\n",
       "      <td>0.174373</td>\n",
       "      <td>0.174373</td>\n",
       "      <td>0.144187</td>\n",
       "      <td>0.757884</td>\n",
       "      <td>0.715682</td>\n",
       "      <td>...</td>\n",
       "      <td>0.068362</td>\n",
       "      <td>0.028985</td>\n",
       "      <td>0.062526</td>\n",
       "      <td>523.45</td>\n",
       "      <td>0.117</td>\n",
       "      <td>0.036</td>\n",
       "      <td>69408</td>\n",
       "      <td>1558.0</td>\n",
       "      <td>583.639316</td>\n",
       "      <td>5.099736</td>\n",
       "    </tr>\n",
       "    <tr>\n",
       "      <td>1</td>\n",
       "      <td>36003</td>\n",
       "      <td>Allegany</td>\n",
       "      <td>46091</td>\n",
       "      <td>0.508082</td>\n",
       "      <td>0.491918</td>\n",
       "      <td>0.196459</td>\n",
       "      <td>0.196459</td>\n",
       "      <td>0.145083</td>\n",
       "      <td>0.955675</td>\n",
       "      <td>0.942830</td>\n",
       "      <td>...</td>\n",
       "      <td>0.012519</td>\n",
       "      <td>0.013799</td>\n",
       "      <td>0.017010</td>\n",
       "      <td>1030.22</td>\n",
       "      <td>0.179</td>\n",
       "      <td>0.055</td>\n",
       "      <td>49411</td>\n",
       "      <td>76.0</td>\n",
       "      <td>44.738988</td>\n",
       "      <td>1.648912</td>\n",
       "    </tr>\n",
       "    <tr>\n",
       "      <td>2</td>\n",
       "      <td>36005</td>\n",
       "      <td>Bronx</td>\n",
       "      <td>1418207</td>\n",
       "      <td>0.472109</td>\n",
       "      <td>0.527891</td>\n",
       "      <td>0.133102</td>\n",
       "      <td>0.133102</td>\n",
       "      <td>0.097095</td>\n",
       "      <td>0.447241</td>\n",
       "      <td>0.090102</td>\n",
       "      <td>...</td>\n",
       "      <td>0.045611</td>\n",
       "      <td>0.037647</td>\n",
       "      <td>0.563796</td>\n",
       "      <td>42.03</td>\n",
       "      <td>0.262</td>\n",
       "      <td>0.054</td>\n",
       "      <td>41470</td>\n",
       "      <td>1292.0</td>\n",
       "      <td>33742.731382</td>\n",
       "      <td>0.911009</td>\n",
       "    </tr>\n",
       "    <tr>\n",
       "      <td>3</td>\n",
       "      <td>36007</td>\n",
       "      <td>Broome</td>\n",
       "      <td>190488</td>\n",
       "      <td>0.492656</td>\n",
       "      <td>0.507344</td>\n",
       "      <td>0.194133</td>\n",
       "      <td>0.194133</td>\n",
       "      <td>0.141757</td>\n",
       "      <td>0.858180</td>\n",
       "      <td>0.827002</td>\n",
       "      <td>...</td>\n",
       "      <td>0.044223</td>\n",
       "      <td>0.030590</td>\n",
       "      <td>0.044496</td>\n",
       "      <td>706.82</td>\n",
       "      <td>0.178</td>\n",
       "      <td>0.047</td>\n",
       "      <td>52179</td>\n",
       "      <td>853.0</td>\n",
       "      <td>269.500014</td>\n",
       "      <td>4.477972</td>\n",
       "    </tr>\n",
       "    <tr>\n",
       "      <td>4</td>\n",
       "      <td>36009</td>\n",
       "      <td>Cattaraugus</td>\n",
       "      <td>76117</td>\n",
       "      <td>0.497300</td>\n",
       "      <td>0.502700</td>\n",
       "      <td>0.197354</td>\n",
       "      <td>0.197354</td>\n",
       "      <td>0.090151</td>\n",
       "      <td>0.918573</td>\n",
       "      <td>0.904266</td>\n",
       "      <td>...</td>\n",
       "      <td>0.008474</td>\n",
       "      <td>0.021782</td>\n",
       "      <td>0.021480</td>\n",
       "      <td>1309.85</td>\n",
       "      <td>0.147</td>\n",
       "      <td>0.051</td>\n",
       "      <td>50783</td>\n",
       "      <td>186.0</td>\n",
       "      <td>58.111234</td>\n",
       "      <td>2.443607</td>\n",
       "    </tr>\n",
       "  </tbody>\n",
       "</table>\n",
       "<p>5 rows × 22 columns</p>\n",
       "</div>"
      ],
      "text/plain": [
       "    FIPS  county_name  population    male_%  female_%  65+age_%  5-17age_%  \\\n",
       "0  36001       Albany      305506  0.483846  0.516154  0.174373   0.174373   \n",
       "1  36003     Allegany       46091  0.508082  0.491918  0.196459   0.196459   \n",
       "2  36005        Bronx     1418207  0.472109  0.527891  0.133102   0.133102   \n",
       "3  36007       Broome      190488  0.492656  0.507344  0.194133   0.194133   \n",
       "4  36009  Cattaraugus       76117  0.497300  0.502700  0.197354   0.197354   \n",
       "\n",
       "   18-24age_%  white_alone_%  nh_white_alone_%  ...  asian_alone_%  \\\n",
       "0    0.144187       0.757884          0.715682  ...       0.068362   \n",
       "1    0.145083       0.955675          0.942830  ...       0.012519   \n",
       "2    0.097095       0.447241          0.090102  ...       0.045611   \n",
       "3    0.141757       0.858180          0.827002  ...       0.044223   \n",
       "4    0.090151       0.918573          0.904266  ...       0.008474   \n",
       "\n",
       "   2+_races_%  hispanic_%  sq_miles  pop_in_poverty_%  unemployment_rate  \\\n",
       "0    0.028985    0.062526    523.45             0.117              0.036   \n",
       "1    0.013799    0.017010   1030.22             0.179              0.055   \n",
       "2    0.037647    0.563796     42.03             0.262              0.054   \n",
       "3    0.030590    0.044496    706.82             0.178              0.047   \n",
       "4    0.021782    0.021480   1309.85             0.147              0.051   \n",
       "\n",
       "   median_household_income  hospital_beds   pop_density  hospital_beds_per_1K  \n",
       "0                    69408         1558.0    583.639316              5.099736  \n",
       "1                    49411           76.0     44.738988              1.648912  \n",
       "2                    41470         1292.0  33742.731382              0.911009  \n",
       "3                    52179          853.0    269.500014              4.477972  \n",
       "4                    50783          186.0     58.111234              2.443607  \n",
       "\n",
       "[5 rows x 22 columns]"
      ]
     },
     "execution_count": 189,
     "metadata": {},
     "output_type": "execute_result"
    }
   ],
   "source": [
    "county.head()"
   ]
  },
  {
   "cell_type": "code",
   "execution_count": 190,
   "metadata": {
    "scrolled": false
   },
   "outputs": [
    {
     "data": {
      "text/plain": [
       "FIPS                               36001\n",
       "county_name                       Albany\n",
       "population                        305506\n",
       "male_%                          0.483846\n",
       "female_%                        0.516154\n",
       "65+age_%                        0.174373\n",
       "5-17age_%                       0.174373\n",
       "18-24age_%                      0.144187\n",
       "white_alone_%                   0.757884\n",
       "nh_white_alone_%                0.715682\n",
       "black_african_amer_alone_%      0.141064\n",
       "amer_indian_alask_alone_%     0.00304413\n",
       "asian_alone_%                   0.068362\n",
       "2+_races_%                     0.0289847\n",
       "hispanic_%                     0.0625258\n",
       "sq_miles                          523.45\n",
       "pop_in_poverty_%                   0.117\n",
       "unemployment_rate                  0.036\n",
       "median_household_income            69408\n",
       "hospital_beds                       1558\n",
       "pop_density                      583.639\n",
       "hospital_beds_per_1K             5.09974\n",
       "Name: 0, dtype: object"
      ]
     },
     "execution_count": 190,
     "metadata": {},
     "output_type": "execute_result"
    }
   ],
   "source": [
    "# county dataframe\n",
    "county.iloc[0]"
   ]
  },
  {
   "cell_type": "code",
   "execution_count": null,
   "metadata": {},
   "outputs": [],
   "source": []
  },
  {
   "cell_type": "markdown",
   "metadata": {},
   "source": [
    "All county parameters aggregated to one df. Now, need to consider connection with other data. Note population, sq_miles, and hospital_beds are in whole values."
   ]
  },
  {
   "cell_type": "markdown",
   "metadata": {},
   "source": [
    "**Which parameter to choose?**"
   ]
  },
  {
   "cell_type": "code",
   "execution_count": 191,
   "metadata": {
    "scrolled": true
   },
   "outputs": [
    {
     "data": {
      "text/plain": [
       "array(['Acceptable PM2.5 AQI & Speciation Mass', 'Carbon monoxide',\n",
       "       'Nitrogen dioxide (NO2)', 'Ozone', 'PM10 Total 0-10um STP',\n",
       "       'PM2.5 - Local Conditions', 'Sulfur dioxide'], dtype=object)"
      ]
     },
     "execution_count": 191,
     "metadata": {},
     "output_type": "execute_result"
    }
   ],
   "source": [
    "aqi_breakpoints['Parameter'].unique()"
   ]
  },
  {
   "cell_type": "code",
   "execution_count": 192,
   "metadata": {},
   "outputs": [
    {
     "data": {
      "text/plain": [
       "array([88502, 42101, 42602, 44201, 81102, 88101, 42401], dtype=int64)"
      ]
     },
     "execution_count": 192,
     "metadata": {},
     "output_type": "execute_result"
    }
   ],
   "source": [
    "aqi_breakpoints['Parameter Code'].unique()"
   ]
  },
  {
   "cell_type": "code",
   "execution_count": 193,
   "metadata": {
    "scrolled": false
   },
   "outputs": [
    {
     "data": {
      "text/plain": [
       "array(['PM2.5 - Local Conditions',\n",
       "       'Acceptable PM2.5 AQI & Speciation Mass'], dtype=object)"
      ]
     },
     "execution_count": 193,
     "metadata": {},
     "output_type": "execute_result"
    }
   ],
   "source": [
    "air_2010_2020['AQS_PARAMETER_DESC'].unique()"
   ]
  },
  {
   "cell_type": "code",
   "execution_count": 194,
   "metadata": {},
   "outputs": [
    {
     "data": {
      "text/plain": [
       "array(['PM2.5 - Local Conditions',\n",
       "       'Acceptable PM2.5 AQI & Speciation Mass'], dtype=object)"
      ]
     },
     "execution_count": 194,
     "metadata": {},
     "output_type": "execute_result"
    }
   ],
   "source": [
    "air_2010_2020['AQS_PARAMETER_DESC'].unique()"
   ]
  },
  {
   "cell_type": "markdown",
   "metadata": {},
   "source": [
    "Based on what EPA's [uses for its annual summary statistics](https://www.epa.gov/outdoor-air-quality-data/air-data-frequent-questions#8), let's attempt to use only one parameter: PM2.5 - Local Conditions. "
   ]
  },
  {
   "cell_type": "markdown",
   "metadata": {},
   "source": [
    "**Add air quality metrics to county dataframe**"
   ]
  },
  {
   "cell_type": "code",
   "execution_count": 195,
   "metadata": {
    "scrolled": false
   },
   "outputs": [
    {
     "data": {
      "text/html": [
       "<div>\n",
       "<style scoped>\n",
       "    .dataframe tbody tr th:only-of-type {\n",
       "        vertical-align: middle;\n",
       "    }\n",
       "\n",
       "    .dataframe tbody tr th {\n",
       "        vertical-align: top;\n",
       "    }\n",
       "\n",
       "    .dataframe thead th {\n",
       "        text-align: right;\n",
       "    }\n",
       "</style>\n",
       "<table border=\"1\" class=\"dataframe\">\n",
       "  <thead>\n",
       "    <tr style=\"text-align: right;\">\n",
       "      <th></th>\n",
       "      <th>Parameter</th>\n",
       "      <th>Parameter Code</th>\n",
       "      <th>Duration Code</th>\n",
       "      <th>Duration Description</th>\n",
       "      <th>AQI Category</th>\n",
       "      <th>Low AQI</th>\n",
       "      <th>High AQI</th>\n",
       "      <th>Low Breakpoint</th>\n",
       "      <th>High Breakpoint</th>\n",
       "    </tr>\n",
       "  </thead>\n",
       "  <tbody>\n",
       "    <tr>\n",
       "      <td>69</td>\n",
       "      <td>PM2.5 - Local Conditions</td>\n",
       "      <td>88101</td>\n",
       "      <td>X</td>\n",
       "      <td>24-HR BLK AVG</td>\n",
       "      <td>GOOD</td>\n",
       "      <td>0</td>\n",
       "      <td>50</td>\n",
       "      <td>0.0</td>\n",
       "      <td>12.0</td>\n",
       "    </tr>\n",
       "    <tr>\n",
       "      <td>70</td>\n",
       "      <td>PM2.5 - Local Conditions</td>\n",
       "      <td>88101</td>\n",
       "      <td>X</td>\n",
       "      <td>24-HR BLK AVG</td>\n",
       "      <td>MODERATE</td>\n",
       "      <td>51</td>\n",
       "      <td>100</td>\n",
       "      <td>12.1</td>\n",
       "      <td>35.4</td>\n",
       "    </tr>\n",
       "    <tr>\n",
       "      <td>71</td>\n",
       "      <td>PM2.5 - Local Conditions</td>\n",
       "      <td>88101</td>\n",
       "      <td>X</td>\n",
       "      <td>24-HR BLK AVG</td>\n",
       "      <td>UNHEALTHY FOR SENSITIVE</td>\n",
       "      <td>101</td>\n",
       "      <td>150</td>\n",
       "      <td>35.5</td>\n",
       "      <td>55.4</td>\n",
       "    </tr>\n",
       "    <tr>\n",
       "      <td>72</td>\n",
       "      <td>PM2.5 - Local Conditions</td>\n",
       "      <td>88101</td>\n",
       "      <td>X</td>\n",
       "      <td>24-HR BLK AVG</td>\n",
       "      <td>UNHEALTHY</td>\n",
       "      <td>151</td>\n",
       "      <td>200</td>\n",
       "      <td>55.5</td>\n",
       "      <td>150.4</td>\n",
       "    </tr>\n",
       "    <tr>\n",
       "      <td>73</td>\n",
       "      <td>PM2.5 - Local Conditions</td>\n",
       "      <td>88101</td>\n",
       "      <td>X</td>\n",
       "      <td>24-HR BLK AVG</td>\n",
       "      <td>VERY UNHEALTHY</td>\n",
       "      <td>201</td>\n",
       "      <td>300</td>\n",
       "      <td>150.5</td>\n",
       "      <td>250.4</td>\n",
       "    </tr>\n",
       "    <tr>\n",
       "      <td>74</td>\n",
       "      <td>PM2.5 - Local Conditions</td>\n",
       "      <td>88101</td>\n",
       "      <td>X</td>\n",
       "      <td>24-HR BLK AVG</td>\n",
       "      <td>HAZARDOUS</td>\n",
       "      <td>301</td>\n",
       "      <td>400</td>\n",
       "      <td>250.5</td>\n",
       "      <td>350.4</td>\n",
       "    </tr>\n",
       "    <tr>\n",
       "      <td>75</td>\n",
       "      <td>PM2.5 - Local Conditions</td>\n",
       "      <td>88101</td>\n",
       "      <td>X</td>\n",
       "      <td>24-HR BLK AVG</td>\n",
       "      <td>HAZARDOUS</td>\n",
       "      <td>401</td>\n",
       "      <td>500</td>\n",
       "      <td>350.5</td>\n",
       "      <td>500.4</td>\n",
       "    </tr>\n",
       "    <tr>\n",
       "      <td>76</td>\n",
       "      <td>PM2.5 - Local Conditions</td>\n",
       "      <td>88101</td>\n",
       "      <td>X</td>\n",
       "      <td>24-HR BLK AVG</td>\n",
       "      <td>HAZARDOUS</td>\n",
       "      <td>501</td>\n",
       "      <td>999</td>\n",
       "      <td>500.5</td>\n",
       "      <td>99999.9</td>\n",
       "    </tr>\n",
       "  </tbody>\n",
       "</table>\n",
       "</div>"
      ],
      "text/plain": [
       "                   Parameter  Parameter Code Duration Code  \\\n",
       "69  PM2.5 - Local Conditions           88101             X   \n",
       "70  PM2.5 - Local Conditions           88101             X   \n",
       "71  PM2.5 - Local Conditions           88101             X   \n",
       "72  PM2.5 - Local Conditions           88101             X   \n",
       "73  PM2.5 - Local Conditions           88101             X   \n",
       "74  PM2.5 - Local Conditions           88101             X   \n",
       "75  PM2.5 - Local Conditions           88101             X   \n",
       "76  PM2.5 - Local Conditions           88101             X   \n",
       "\n",
       "   Duration Description             AQI Category  Low AQI  High AQI  \\\n",
       "69        24-HR BLK AVG                     GOOD        0        50   \n",
       "70        24-HR BLK AVG                 MODERATE       51       100   \n",
       "71        24-HR BLK AVG  UNHEALTHY FOR SENSITIVE      101       150   \n",
       "72        24-HR BLK AVG                UNHEALTHY      151       200   \n",
       "73        24-HR BLK AVG           VERY UNHEALTHY      201       300   \n",
       "74        24-HR BLK AVG                HAZARDOUS      301       400   \n",
       "75        24-HR BLK AVG                HAZARDOUS      401       500   \n",
       "76        24-HR BLK AVG                HAZARDOUS      501       999   \n",
       "\n",
       "    Low Breakpoint  High Breakpoint  \n",
       "69             0.0             12.0  \n",
       "70            12.1             35.4  \n",
       "71            35.5             55.4  \n",
       "72            55.5            150.4  \n",
       "73           150.5            250.4  \n",
       "74           250.5            350.4  \n",
       "75           350.5            500.4  \n",
       "76           500.5          99999.9  "
      ]
     },
     "execution_count": 195,
     "metadata": {},
     "output_type": "execute_result"
    }
   ],
   "source": [
    "#should be left with 1 scale from \"good\" to \"hazardous\"\n",
    "aqi_breakpoints = aqi_breakpoints.loc[(aqi_breakpoints['Parameter Code'] == 88101) & (aqi_breakpoints['Duration Description'] == '24-HR BLK AVG')]\n",
    "aqi_breakpoints"
   ]
  },
  {
   "cell_type": "markdown",
   "metadata": {},
   "source": [
    "Above 100 AQI is considered unhealthy for sensitive people"
   ]
  },
  {
   "cell_type": "code",
   "execution_count": 196,
   "metadata": {},
   "outputs": [],
   "source": [
    "air_2010_2020 = air_2010_2020.loc[air_2010_2020['AQS_PARAMETER_CODE'] == 88101]"
   ]
  },
  {
   "cell_type": "code",
   "execution_count": 197,
   "metadata": {},
   "outputs": [
    {
     "data": {
      "text/plain": [
       "array(['PM2.5 - Local Conditions'], dtype=object)"
      ]
     },
     "execution_count": 197,
     "metadata": {},
     "output_type": "execute_result"
    }
   ],
   "source": [
    "# confirm only 1 left\n",
    "air_2010_2020['AQS_PARAMETER_DESC'].unique()"
   ]
  },
  {
   "cell_type": "code",
   "execution_count": 198,
   "metadata": {
    "scrolled": true
   },
   "outputs": [
    {
     "data": {
      "text/html": [
       "<div>\n",
       "<style scoped>\n",
       "    .dataframe tbody tr th:only-of-type {\n",
       "        vertical-align: middle;\n",
       "    }\n",
       "\n",
       "    .dataframe tbody tr th {\n",
       "        vertical-align: top;\n",
       "    }\n",
       "\n",
       "    .dataframe thead th {\n",
       "        text-align: right;\n",
       "    }\n",
       "</style>\n",
       "<table border=\"1\" class=\"dataframe\">\n",
       "  <thead>\n",
       "    <tr style=\"text-align: right;\">\n",
       "      <th></th>\n",
       "      <th>Date</th>\n",
       "      <th>Site ID</th>\n",
       "      <th>Daily Mean PM2.5 Concentration</th>\n",
       "      <th>UNITS</th>\n",
       "      <th>DAILY_AQI_VALUE</th>\n",
       "      <th>Site Name</th>\n",
       "      <th>AQS_PARAMETER_CODE</th>\n",
       "      <th>AQS_PARAMETER_DESC</th>\n",
       "      <th>COUNTY_CODE</th>\n",
       "      <th>COUNTY</th>\n",
       "      <th>SITE_LATITUDE</th>\n",
       "      <th>SITE_LONGITUDE</th>\n",
       "      <th>year</th>\n",
       "    </tr>\n",
       "  </thead>\n",
       "  <tbody>\n",
       "    <tr>\n",
       "      <td>0</td>\n",
       "      <td>2010-01-01</td>\n",
       "      <td>360010005</td>\n",
       "      <td>22.5</td>\n",
       "      <td>ug/m3 LC</td>\n",
       "      <td>73</td>\n",
       "      <td>ALBANY COUNTY HEALTH DEPT</td>\n",
       "      <td>88101</td>\n",
       "      <td>PM2.5 - Local Conditions</td>\n",
       "      <td>1</td>\n",
       "      <td>Albany</td>\n",
       "      <td>42.64225</td>\n",
       "      <td>-73.75464</td>\n",
       "      <td>2010</td>\n",
       "    </tr>\n",
       "    <tr>\n",
       "      <td>1</td>\n",
       "      <td>2010-01-02</td>\n",
       "      <td>360010005</td>\n",
       "      <td>3.2</td>\n",
       "      <td>ug/m3 LC</td>\n",
       "      <td>13</td>\n",
       "      <td>ALBANY COUNTY HEALTH DEPT</td>\n",
       "      <td>88101</td>\n",
       "      <td>PM2.5 - Local Conditions</td>\n",
       "      <td>1</td>\n",
       "      <td>Albany</td>\n",
       "      <td>42.64225</td>\n",
       "      <td>-73.75464</td>\n",
       "      <td>2010</td>\n",
       "    </tr>\n",
       "    <tr>\n",
       "      <td>2</td>\n",
       "      <td>2010-01-03</td>\n",
       "      <td>360010005</td>\n",
       "      <td>3.8</td>\n",
       "      <td>ug/m3 LC</td>\n",
       "      <td>16</td>\n",
       "      <td>ALBANY COUNTY HEALTH DEPT</td>\n",
       "      <td>88101</td>\n",
       "      <td>PM2.5 - Local Conditions</td>\n",
       "      <td>1</td>\n",
       "      <td>Albany</td>\n",
       "      <td>42.64225</td>\n",
       "      <td>-73.75464</td>\n",
       "      <td>2010</td>\n",
       "    </tr>\n",
       "    <tr>\n",
       "      <td>3</td>\n",
       "      <td>2010-01-04</td>\n",
       "      <td>360010005</td>\n",
       "      <td>2.3</td>\n",
       "      <td>ug/m3 LC</td>\n",
       "      <td>10</td>\n",
       "      <td>ALBANY COUNTY HEALTH DEPT</td>\n",
       "      <td>88101</td>\n",
       "      <td>PM2.5 - Local Conditions</td>\n",
       "      <td>1</td>\n",
       "      <td>Albany</td>\n",
       "      <td>42.64225</td>\n",
       "      <td>-73.75464</td>\n",
       "      <td>2010</td>\n",
       "    </tr>\n",
       "    <tr>\n",
       "      <td>4</td>\n",
       "      <td>2010-01-08</td>\n",
       "      <td>360010005</td>\n",
       "      <td>3.4</td>\n",
       "      <td>ug/m3 LC</td>\n",
       "      <td>14</td>\n",
       "      <td>ALBANY COUNTY HEALTH DEPT</td>\n",
       "      <td>88101</td>\n",
       "      <td>PM2.5 - Local Conditions</td>\n",
       "      <td>1</td>\n",
       "      <td>Albany</td>\n",
       "      <td>42.64225</td>\n",
       "      <td>-73.75464</td>\n",
       "      <td>2010</td>\n",
       "    </tr>\n",
       "  </tbody>\n",
       "</table>\n",
       "</div>"
      ],
      "text/plain": [
       "        Date    Site ID  Daily Mean PM2.5 Concentration     UNITS  \\\n",
       "0 2010-01-01  360010005                            22.5  ug/m3 LC   \n",
       "1 2010-01-02  360010005                             3.2  ug/m3 LC   \n",
       "2 2010-01-03  360010005                             3.8  ug/m3 LC   \n",
       "3 2010-01-04  360010005                             2.3  ug/m3 LC   \n",
       "4 2010-01-08  360010005                             3.4  ug/m3 LC   \n",
       "\n",
       "   DAILY_AQI_VALUE                  Site Name  AQS_PARAMETER_CODE  \\\n",
       "0               73  ALBANY COUNTY HEALTH DEPT               88101   \n",
       "1               13  ALBANY COUNTY HEALTH DEPT               88101   \n",
       "2               16  ALBANY COUNTY HEALTH DEPT               88101   \n",
       "3               10  ALBANY COUNTY HEALTH DEPT               88101   \n",
       "4               14  ALBANY COUNTY HEALTH DEPT               88101   \n",
       "\n",
       "         AQS_PARAMETER_DESC  COUNTY_CODE  COUNTY  SITE_LATITUDE  \\\n",
       "0  PM2.5 - Local Conditions            1  Albany       42.64225   \n",
       "1  PM2.5 - Local Conditions            1  Albany       42.64225   \n",
       "2  PM2.5 - Local Conditions            1  Albany       42.64225   \n",
       "3  PM2.5 - Local Conditions            1  Albany       42.64225   \n",
       "4  PM2.5 - Local Conditions            1  Albany       42.64225   \n",
       "\n",
       "   SITE_LONGITUDE  year  \n",
       "0       -73.75464  2010  \n",
       "1       -73.75464  2010  \n",
       "2       -73.75464  2010  \n",
       "3       -73.75464  2010  \n",
       "4       -73.75464  2010  "
      ]
     },
     "execution_count": 198,
     "metadata": {},
     "output_type": "execute_result"
    }
   ],
   "source": [
    "air_2010_2020.head()"
   ]
  },
  {
   "cell_type": "markdown",
   "metadata": {},
   "source": [
    "For air quality, I want to check the air quality over 3 periods of time - 2020, the 5 years before, and the 5 year before that. It will be important to see which counties have improved on air quality.  "
   ]
  },
  {
   "cell_type": "code",
   "execution_count": 199,
   "metadata": {},
   "outputs": [],
   "source": [
    "#creating metrics for 2010-2014\n",
    "air_2010_2014 = air_2010_2020.loc[air_2010_2020['year'].isin([2010,2011,2012,2013,2014])].copy()"
   ]
  },
  {
   "cell_type": "code",
   "execution_count": 200,
   "metadata": {
    "scrolled": true
   },
   "outputs": [
    {
     "data": {
      "text/html": [
       "<div>\n",
       "<style scoped>\n",
       "    .dataframe tbody tr th:only-of-type {\n",
       "        vertical-align: middle;\n",
       "    }\n",
       "\n",
       "    .dataframe tbody tr th {\n",
       "        vertical-align: top;\n",
       "    }\n",
       "\n",
       "    .dataframe thead th {\n",
       "        text-align: right;\n",
       "    }\n",
       "</style>\n",
       "<table border=\"1\" class=\"dataframe\">\n",
       "  <thead>\n",
       "    <tr style=\"text-align: right;\">\n",
       "      <th></th>\n",
       "      <th>COUNTY</th>\n",
       "      <th>2010-2014_avg_daily_aqi</th>\n",
       "    </tr>\n",
       "  </thead>\n",
       "  <tbody>\n",
       "    <tr>\n",
       "      <td>0</td>\n",
       "      <td>Albany</td>\n",
       "      <td>30.521718</td>\n",
       "    </tr>\n",
       "    <tr>\n",
       "      <td>1</td>\n",
       "      <td>Bronx</td>\n",
       "      <td>37.220349</td>\n",
       "    </tr>\n",
       "    <tr>\n",
       "      <td>2</td>\n",
       "      <td>Chautauqua</td>\n",
       "      <td>30.103825</td>\n",
       "    </tr>\n",
       "    <tr>\n",
       "      <td>3</td>\n",
       "      <td>Erie</td>\n",
       "      <td>35.966692</td>\n",
       "    </tr>\n",
       "    <tr>\n",
       "      <td>4</td>\n",
       "      <td>Essex</td>\n",
       "      <td>17.216606</td>\n",
       "    </tr>\n",
       "    <tr>\n",
       "      <td>5</td>\n",
       "      <td>Kings</td>\n",
       "      <td>37.566071</td>\n",
       "    </tr>\n",
       "    <tr>\n",
       "      <td>6</td>\n",
       "      <td>Monroe</td>\n",
       "      <td>30.623803</td>\n",
       "    </tr>\n",
       "    <tr>\n",
       "      <td>7</td>\n",
       "      <td>Nassau</td>\n",
       "      <td>34.874439</td>\n",
       "    </tr>\n",
       "    <tr>\n",
       "      <td>8</td>\n",
       "      <td>New York</td>\n",
       "      <td>39.585442</td>\n",
       "    </tr>\n",
       "    <tr>\n",
       "      <td>9</td>\n",
       "      <td>Niagara</td>\n",
       "      <td>32.951140</td>\n",
       "    </tr>\n",
       "    <tr>\n",
       "      <td>10</td>\n",
       "      <td>Onondaga</td>\n",
       "      <td>27.565912</td>\n",
       "    </tr>\n",
       "    <tr>\n",
       "      <td>11</td>\n",
       "      <td>Orange</td>\n",
       "      <td>30.996516</td>\n",
       "    </tr>\n",
       "    <tr>\n",
       "      <td>12</td>\n",
       "      <td>Queens</td>\n",
       "      <td>33.533567</td>\n",
       "    </tr>\n",
       "    <tr>\n",
       "      <td>13</td>\n",
       "      <td>Richmond</td>\n",
       "      <td>34.985733</td>\n",
       "    </tr>\n",
       "    <tr>\n",
       "      <td>14</td>\n",
       "      <td>Steuben</td>\n",
       "      <td>26.264574</td>\n",
       "    </tr>\n",
       "    <tr>\n",
       "      <td>15</td>\n",
       "      <td>Suffolk</td>\n",
       "      <td>32.135182</td>\n",
       "    </tr>\n",
       "    <tr>\n",
       "      <td>16</td>\n",
       "      <td>Westchester</td>\n",
       "      <td>35.472803</td>\n",
       "    </tr>\n",
       "  </tbody>\n",
       "</table>\n",
       "</div>"
      ],
      "text/plain": [
       "         COUNTY  2010-2014_avg_daily_aqi\n",
       "0        Albany                30.521718\n",
       "1         Bronx                37.220349\n",
       "2    Chautauqua                30.103825\n",
       "3          Erie                35.966692\n",
       "4         Essex                17.216606\n",
       "5         Kings                37.566071\n",
       "6        Monroe                30.623803\n",
       "7        Nassau                34.874439\n",
       "8      New York                39.585442\n",
       "9       Niagara                32.951140\n",
       "10     Onondaga                27.565912\n",
       "11       Orange                30.996516\n",
       "12       Queens                33.533567\n",
       "13     Richmond                34.985733\n",
       "14      Steuben                26.264574\n",
       "15      Suffolk                32.135182\n",
       "16  Westchester                35.472803"
      ]
     },
     "execution_count": 200,
     "metadata": {},
     "output_type": "execute_result"
    }
   ],
   "source": [
    "#Average AQI - 2010_2014\n",
    "air_2010_2014_aqi = air_2010_2014.groupby(['COUNTY'])['DAILY_AQI_VALUE'].mean().to_frame().reset_index().rename(columns={'DAILY_AQI_VALUE':'2010-2014_avg_daily_aqi'})\n",
    "air_2010_2014_aqi"
   ]
  },
  {
   "cell_type": "markdown",
   "metadata": {},
   "source": [
    "Purposely picked average and not median as I do want to have effects of outliers. One day with unhealthy air is a problem."
   ]
  },
  {
   "cell_type": "markdown",
   "metadata": {},
   "source": [
    "Only have data on 16 counties."
   ]
  },
  {
   "cell_type": "code",
   "execution_count": 201,
   "metadata": {},
   "outputs": [],
   "source": [
    "#how many days were unhealthy or hazardous\n",
    "air_2010_2014['unhealthy_aqi?'] = np.where(air_2010_2014['DAILY_AQI_VALUE']>100, 1,0)"
   ]
  },
  {
   "cell_type": "code",
   "execution_count": 202,
   "metadata": {
    "scrolled": false
   },
   "outputs": [
    {
     "data": {
      "text/plain": [
       "0    15877\n",
       "1       18\n",
       "Name: unhealthy_aqi?, dtype: int64"
      ]
     },
     "execution_count": 202,
     "metadata": {},
     "output_type": "execute_result"
    }
   ],
   "source": [
    "air_2010_2014['unhealthy_aqi?'].value_counts()"
   ]
  },
  {
   "cell_type": "code",
   "execution_count": 203,
   "metadata": {},
   "outputs": [
    {
     "data": {
      "text/html": [
       "<div>\n",
       "<style scoped>\n",
       "    .dataframe tbody tr th:only-of-type {\n",
       "        vertical-align: middle;\n",
       "    }\n",
       "\n",
       "    .dataframe tbody tr th {\n",
       "        vertical-align: top;\n",
       "    }\n",
       "\n",
       "    .dataframe thead th {\n",
       "        text-align: right;\n",
       "    }\n",
       "</style>\n",
       "<table border=\"1\" class=\"dataframe\">\n",
       "  <thead>\n",
       "    <tr style=\"text-align: right;\">\n",
       "      <th></th>\n",
       "      <th>COUNTY</th>\n",
       "      <th>2010-2014_unhealthy_aqi_observed_rate_%</th>\n",
       "    </tr>\n",
       "  </thead>\n",
       "  <tbody>\n",
       "    <tr>\n",
       "      <td>0</td>\n",
       "      <td>Albany</td>\n",
       "      <td>0.000477</td>\n",
       "    </tr>\n",
       "    <tr>\n",
       "      <td>1</td>\n",
       "      <td>Bronx</td>\n",
       "      <td>0.002811</td>\n",
       "    </tr>\n",
       "    <tr>\n",
       "      <td>2</td>\n",
       "      <td>Chautauqua</td>\n",
       "      <td>0.000000</td>\n",
       "    </tr>\n",
       "    <tr>\n",
       "      <td>3</td>\n",
       "      <td>Erie</td>\n",
       "      <td>0.001514</td>\n",
       "    </tr>\n",
       "    <tr>\n",
       "      <td>4</td>\n",
       "      <td>Essex</td>\n",
       "      <td>0.000000</td>\n",
       "    </tr>\n",
       "    <tr>\n",
       "      <td>5</td>\n",
       "      <td>Kings</td>\n",
       "      <td>0.001786</td>\n",
       "    </tr>\n",
       "    <tr>\n",
       "      <td>6</td>\n",
       "      <td>Monroe</td>\n",
       "      <td>0.001368</td>\n",
       "    </tr>\n",
       "    <tr>\n",
       "      <td>7</td>\n",
       "      <td>Nassau</td>\n",
       "      <td>0.000000</td>\n",
       "    </tr>\n",
       "    <tr>\n",
       "      <td>8</td>\n",
       "      <td>New York</td>\n",
       "      <td>0.001332</td>\n",
       "    </tr>\n",
       "    <tr>\n",
       "      <td>9</td>\n",
       "      <td>Niagara</td>\n",
       "      <td>0.000000</td>\n",
       "    </tr>\n",
       "    <tr>\n",
       "      <td>10</td>\n",
       "      <td>Onondaga</td>\n",
       "      <td>0.000000</td>\n",
       "    </tr>\n",
       "    <tr>\n",
       "      <td>11</td>\n",
       "      <td>Orange</td>\n",
       "      <td>0.001742</td>\n",
       "    </tr>\n",
       "    <tr>\n",
       "      <td>12</td>\n",
       "      <td>Queens</td>\n",
       "      <td>0.001002</td>\n",
       "    </tr>\n",
       "    <tr>\n",
       "      <td>13</td>\n",
       "      <td>Richmond</td>\n",
       "      <td>0.001297</td>\n",
       "    </tr>\n",
       "    <tr>\n",
       "      <td>14</td>\n",
       "      <td>Steuben</td>\n",
       "      <td>0.000000</td>\n",
       "    </tr>\n",
       "    <tr>\n",
       "      <td>15</td>\n",
       "      <td>Suffolk</td>\n",
       "      <td>0.000000</td>\n",
       "    </tr>\n",
       "    <tr>\n",
       "      <td>16</td>\n",
       "      <td>Westchester</td>\n",
       "      <td>0.004184</td>\n",
       "    </tr>\n",
       "  </tbody>\n",
       "</table>\n",
       "</div>"
      ],
      "text/plain": [
       "         COUNTY  2010-2014_unhealthy_aqi_observed_rate_%\n",
       "0        Albany                                 0.000477\n",
       "1         Bronx                                 0.002811\n",
       "2    Chautauqua                                 0.000000\n",
       "3          Erie                                 0.001514\n",
       "4         Essex                                 0.000000\n",
       "5         Kings                                 0.001786\n",
       "6        Monroe                                 0.001368\n",
       "7        Nassau                                 0.000000\n",
       "8      New York                                 0.001332\n",
       "9       Niagara                                 0.000000\n",
       "10     Onondaga                                 0.000000\n",
       "11       Orange                                 0.001742\n",
       "12       Queens                                 0.001002\n",
       "13     Richmond                                 0.001297\n",
       "14      Steuben                                 0.000000\n",
       "15      Suffolk                                 0.000000\n",
       "16  Westchester                                 0.004184"
      ]
     },
     "execution_count": 203,
     "metadata": {},
     "output_type": "execute_result"
    }
   ],
   "source": [
    "#observation rate of Unhealthy > Hazardous AQI  - 2010_2014\n",
    "air_2010_2014_unhealthy = air_2010_2014.groupby('COUNTY').agg({'unhealthy_aqi?': 'sum', 'Date': 'count'}).reset_index().rename(columns={'unhealthy_aqi?':'unhealthy_aqi_obs', 'Date':'obs_count'})\n",
    "air_2010_2014_unhealthy['2010-2014_unhealthy_aqi_observed_rate_%'] = air_2010_2014_unhealthy['unhealthy_aqi_obs'] / air_2010_2014_unhealthy['obs_count']\n",
    "air_2010_2014_unhealthy = air_2010_2014_unhealthy[['COUNTY', '2010-2014_unhealthy_aqi_observed_rate_%']]\n",
    "air_2010_2014_unhealthy"
   ]
  },
  {
   "cell_type": "markdown",
   "metadata": {},
   "source": [
    "As unhealhy not very common, let's report on moderate > hazarous AQI. Moderate AQI is considered 51-100.  "
   ]
  },
  {
   "cell_type": "code",
   "execution_count": 204,
   "metadata": {},
   "outputs": [
    {
     "data": {
      "text/plain": [
       "0    12738\n",
       "1     3157\n",
       "Name: moderate+_aqi?, dtype: int64"
      ]
     },
     "execution_count": 204,
     "metadata": {},
     "output_type": "execute_result"
    }
   ],
   "source": [
    "#how many observations were of moderate AQI\n",
    "air_2010_2014['moderate+_aqi?'] = np.where(air_2010_2014['DAILY_AQI_VALUE']>50, 1,0)\n",
    "air_2010_2014['moderate+_aqi?'].value_counts()"
   ]
  },
  {
   "cell_type": "code",
   "execution_count": 205,
   "metadata": {},
   "outputs": [
    {
     "data": {
      "text/html": [
       "<div>\n",
       "<style scoped>\n",
       "    .dataframe tbody tr th:only-of-type {\n",
       "        vertical-align: middle;\n",
       "    }\n",
       "\n",
       "    .dataframe tbody tr th {\n",
       "        vertical-align: top;\n",
       "    }\n",
       "\n",
       "    .dataframe thead th {\n",
       "        text-align: right;\n",
       "    }\n",
       "</style>\n",
       "<table border=\"1\" class=\"dataframe\">\n",
       "  <thead>\n",
       "    <tr style=\"text-align: right;\">\n",
       "      <th></th>\n",
       "      <th>Date</th>\n",
       "      <th>Site ID</th>\n",
       "      <th>Daily Mean PM2.5 Concentration</th>\n",
       "      <th>UNITS</th>\n",
       "      <th>DAILY_AQI_VALUE</th>\n",
       "      <th>Site Name</th>\n",
       "      <th>AQS_PARAMETER_CODE</th>\n",
       "      <th>AQS_PARAMETER_DESC</th>\n",
       "      <th>COUNTY_CODE</th>\n",
       "      <th>COUNTY</th>\n",
       "      <th>SITE_LATITUDE</th>\n",
       "      <th>SITE_LONGITUDE</th>\n",
       "      <th>year</th>\n",
       "      <th>unhealthy_aqi?</th>\n",
       "      <th>moderate+_aqi?</th>\n",
       "    </tr>\n",
       "  </thead>\n",
       "  <tbody>\n",
       "    <tr>\n",
       "      <td>0</td>\n",
       "      <td>2010-01-01</td>\n",
       "      <td>360010005</td>\n",
       "      <td>22.5</td>\n",
       "      <td>ug/m3 LC</td>\n",
       "      <td>73</td>\n",
       "      <td>ALBANY COUNTY HEALTH DEPT</td>\n",
       "      <td>88101</td>\n",
       "      <td>PM2.5 - Local Conditions</td>\n",
       "      <td>1</td>\n",
       "      <td>Albany</td>\n",
       "      <td>42.64225</td>\n",
       "      <td>-73.75464</td>\n",
       "      <td>2010</td>\n",
       "      <td>0</td>\n",
       "      <td>1</td>\n",
       "    </tr>\n",
       "  </tbody>\n",
       "</table>\n",
       "</div>"
      ],
      "text/plain": [
       "        Date    Site ID  Daily Mean PM2.5 Concentration     UNITS  \\\n",
       "0 2010-01-01  360010005                            22.5  ug/m3 LC   \n",
       "\n",
       "   DAILY_AQI_VALUE                  Site Name  AQS_PARAMETER_CODE  \\\n",
       "0               73  ALBANY COUNTY HEALTH DEPT               88101   \n",
       "\n",
       "         AQS_PARAMETER_DESC  COUNTY_CODE  COUNTY  SITE_LATITUDE  \\\n",
       "0  PM2.5 - Local Conditions            1  Albany       42.64225   \n",
       "\n",
       "   SITE_LONGITUDE  year  unhealthy_aqi?  moderate+_aqi?  \n",
       "0       -73.75464  2010               0               1  "
      ]
     },
     "execution_count": 205,
     "metadata": {},
     "output_type": "execute_result"
    }
   ],
   "source": [
    "air_2010_2014.head(1)"
   ]
  },
  {
   "cell_type": "code",
   "execution_count": 206,
   "metadata": {
    "scrolled": true
   },
   "outputs": [
    {
     "data": {
      "text/html": [
       "<div>\n",
       "<style scoped>\n",
       "    .dataframe tbody tr th:only-of-type {\n",
       "        vertical-align: middle;\n",
       "    }\n",
       "\n",
       "    .dataframe tbody tr th {\n",
       "        vertical-align: top;\n",
       "    }\n",
       "\n",
       "    .dataframe thead th {\n",
       "        text-align: right;\n",
       "    }\n",
       "</style>\n",
       "<table border=\"1\" class=\"dataframe\">\n",
       "  <thead>\n",
       "    <tr style=\"text-align: right;\">\n",
       "      <th></th>\n",
       "      <th>COUNTY</th>\n",
       "      <th>2010-2014_moderate_plus_aqi_observed_rate_%</th>\n",
       "    </tr>\n",
       "  </thead>\n",
       "  <tbody>\n",
       "    <tr>\n",
       "      <td>0</td>\n",
       "      <td>Albany</td>\n",
       "      <td>0.161814</td>\n",
       "    </tr>\n",
       "    <tr>\n",
       "      <td>1</td>\n",
       "      <td>Bronx</td>\n",
       "      <td>0.253513</td>\n",
       "    </tr>\n",
       "    <tr>\n",
       "      <td>2</td>\n",
       "      <td>Chautauqua</td>\n",
       "      <td>0.156648</td>\n",
       "    </tr>\n",
       "    <tr>\n",
       "      <td>3</td>\n",
       "      <td>Erie</td>\n",
       "      <td>0.235428</td>\n",
       "    </tr>\n",
       "    <tr>\n",
       "      <td>4</td>\n",
       "      <td>Essex</td>\n",
       "      <td>0.032491</td>\n",
       "    </tr>\n",
       "    <tr>\n",
       "      <td>5</td>\n",
       "      <td>Kings</td>\n",
       "      <td>0.258929</td>\n",
       "    </tr>\n",
       "    <tr>\n",
       "      <td>6</td>\n",
       "      <td>Monroe</td>\n",
       "      <td>0.155951</td>\n",
       "    </tr>\n",
       "    <tr>\n",
       "      <td>7</td>\n",
       "      <td>Nassau</td>\n",
       "      <td>0.233184</td>\n",
       "    </tr>\n",
       "    <tr>\n",
       "      <td>8</td>\n",
       "      <td>New York</td>\n",
       "      <td>0.280959</td>\n",
       "    </tr>\n",
       "    <tr>\n",
       "      <td>9</td>\n",
       "      <td>Niagara</td>\n",
       "      <td>0.182410</td>\n",
       "    </tr>\n",
       "    <tr>\n",
       "      <td>10</td>\n",
       "      <td>Onondaga</td>\n",
       "      <td>0.111851</td>\n",
       "    </tr>\n",
       "    <tr>\n",
       "      <td>11</td>\n",
       "      <td>Orange</td>\n",
       "      <td>0.160279</td>\n",
       "    </tr>\n",
       "    <tr>\n",
       "      <td>12</td>\n",
       "      <td>Queens</td>\n",
       "      <td>0.186373</td>\n",
       "    </tr>\n",
       "    <tr>\n",
       "      <td>13</td>\n",
       "      <td>Richmond</td>\n",
       "      <td>0.210117</td>\n",
       "    </tr>\n",
       "    <tr>\n",
       "      <td>14</td>\n",
       "      <td>Steuben</td>\n",
       "      <td>0.102018</td>\n",
       "    </tr>\n",
       "    <tr>\n",
       "      <td>15</td>\n",
       "      <td>Suffolk</td>\n",
       "      <td>0.173310</td>\n",
       "    </tr>\n",
       "    <tr>\n",
       "      <td>16</td>\n",
       "      <td>Westchester</td>\n",
       "      <td>0.251046</td>\n",
       "    </tr>\n",
       "  </tbody>\n",
       "</table>\n",
       "</div>"
      ],
      "text/plain": [
       "         COUNTY  2010-2014_moderate_plus_aqi_observed_rate_%\n",
       "0        Albany                                     0.161814\n",
       "1         Bronx                                     0.253513\n",
       "2    Chautauqua                                     0.156648\n",
       "3          Erie                                     0.235428\n",
       "4         Essex                                     0.032491\n",
       "5         Kings                                     0.258929\n",
       "6        Monroe                                     0.155951\n",
       "7        Nassau                                     0.233184\n",
       "8      New York                                     0.280959\n",
       "9       Niagara                                     0.182410\n",
       "10     Onondaga                                     0.111851\n",
       "11       Orange                                     0.160279\n",
       "12       Queens                                     0.186373\n",
       "13     Richmond                                     0.210117\n",
       "14      Steuben                                     0.102018\n",
       "15      Suffolk                                     0.173310\n",
       "16  Westchester                                     0.251046"
      ]
     },
     "execution_count": 206,
     "metadata": {},
     "output_type": "execute_result"
    }
   ],
   "source": [
    "#observation rate of Moderate> Hazardous AQI - 2010_2014\n",
    "air_2010_2014_moderate_plus = air_2010_2014.groupby('COUNTY').agg({'moderate+_aqi?': 'sum', 'Date': 'count'}).reset_index().rename(columns={'moderate+_aqi?':'moderate_aqi_obs', 'Date':'obs_count'})\n",
    "air_2010_2014_moderate_plus['2010-2014_moderate_plus_aqi_observed_rate_%'] = air_2010_2014_moderate_plus['moderate_aqi_obs'] / air_2010_2014_moderate_plus['obs_count']\n",
    "air_2010_2014_moderate_plus = air_2010_2014_moderate_plus[['COUNTY', '2010-2014_moderate_plus_aqi_observed_rate_%']]\n",
    "air_2010_2014_moderate_plus"
   ]
  },
  {
   "cell_type": "markdown",
   "metadata": {},
   "source": [
    "For the period 2010 - 2014, I have calculated the average daily AQI value and the observation rate of unhealthy-hazardous AQIs and  moderate - hazardous AQI. Doing the same for other 2 periods."
   ]
  },
  {
   "cell_type": "code",
   "execution_count": 207,
   "metadata": {},
   "outputs": [],
   "source": [
    "#creating metrics for 2015-2019\n",
    "air_2015_2019 = air_2010_2020.loc[air_2010_2020['year'].isin([2015,2016,2017,2018,2019])].copy()"
   ]
  },
  {
   "cell_type": "code",
   "execution_count": 208,
   "metadata": {
    "scrolled": true
   },
   "outputs": [
    {
     "data": {
      "text/html": [
       "<div>\n",
       "<style scoped>\n",
       "    .dataframe tbody tr th:only-of-type {\n",
       "        vertical-align: middle;\n",
       "    }\n",
       "\n",
       "    .dataframe tbody tr th {\n",
       "        vertical-align: top;\n",
       "    }\n",
       "\n",
       "    .dataframe thead th {\n",
       "        text-align: right;\n",
       "    }\n",
       "</style>\n",
       "<table border=\"1\" class=\"dataframe\">\n",
       "  <thead>\n",
       "    <tr style=\"text-align: right;\">\n",
       "      <th></th>\n",
       "      <th>COUNTY</th>\n",
       "      <th>2015-2019_avg_daily_aqi</th>\n",
       "    </tr>\n",
       "  </thead>\n",
       "  <tbody>\n",
       "    <tr>\n",
       "      <td>0</td>\n",
       "      <td>Albany</td>\n",
       "      <td>27.791179</td>\n",
       "    </tr>\n",
       "    <tr>\n",
       "      <td>1</td>\n",
       "      <td>Bronx</td>\n",
       "      <td>30.152561</td>\n",
       "    </tr>\n",
       "    <tr>\n",
       "      <td>2</td>\n",
       "      <td>Chautauqua</td>\n",
       "      <td>26.420593</td>\n",
       "    </tr>\n",
       "    <tr>\n",
       "      <td>3</td>\n",
       "      <td>Erie</td>\n",
       "      <td>29.183249</td>\n",
       "    </tr>\n",
       "    <tr>\n",
       "      <td>4</td>\n",
       "      <td>Essex</td>\n",
       "      <td>15.106762</td>\n",
       "    </tr>\n",
       "    <tr>\n",
       "      <td>5</td>\n",
       "      <td>Kings</td>\n",
       "      <td>32.287648</td>\n",
       "    </tr>\n",
       "    <tr>\n",
       "      <td>6</td>\n",
       "      <td>Monroe</td>\n",
       "      <td>26.478982</td>\n",
       "    </tr>\n",
       "    <tr>\n",
       "      <td>7</td>\n",
       "      <td>New York</td>\n",
       "      <td>34.666356</td>\n",
       "    </tr>\n",
       "    <tr>\n",
       "      <td>8</td>\n",
       "      <td>Onondaga</td>\n",
       "      <td>22.864166</td>\n",
       "    </tr>\n",
       "    <tr>\n",
       "      <td>9</td>\n",
       "      <td>Orange</td>\n",
       "      <td>26.250859</td>\n",
       "    </tr>\n",
       "    <tr>\n",
       "      <td>10</td>\n",
       "      <td>Queens</td>\n",
       "      <td>27.791089</td>\n",
       "    </tr>\n",
       "    <tr>\n",
       "      <td>11</td>\n",
       "      <td>Richmond</td>\n",
       "      <td>30.955437</td>\n",
       "    </tr>\n",
       "    <tr>\n",
       "      <td>12</td>\n",
       "      <td>Steuben</td>\n",
       "      <td>20.969021</td>\n",
       "    </tr>\n",
       "    <tr>\n",
       "      <td>13</td>\n",
       "      <td>Suffolk</td>\n",
       "      <td>27.657040</td>\n",
       "    </tr>\n",
       "  </tbody>\n",
       "</table>\n",
       "</div>"
      ],
      "text/plain": [
       "        COUNTY  2015-2019_avg_daily_aqi\n",
       "0       Albany                27.791179\n",
       "1        Bronx                30.152561\n",
       "2   Chautauqua                26.420593\n",
       "3         Erie                29.183249\n",
       "4        Essex                15.106762\n",
       "5        Kings                32.287648\n",
       "6       Monroe                26.478982\n",
       "7     New York                34.666356\n",
       "8     Onondaga                22.864166\n",
       "9       Orange                26.250859\n",
       "10      Queens                27.791089\n",
       "11    Richmond                30.955437\n",
       "12     Steuben                20.969021\n",
       "13     Suffolk                27.657040"
      ]
     },
     "execution_count": 208,
     "metadata": {},
     "output_type": "execute_result"
    }
   ],
   "source": [
    "#Average AQI - 2015-2019\n",
    "air_2015_2019_aqi = air_2015_2019.groupby(['COUNTY'])['DAILY_AQI_VALUE'].mean().to_frame().reset_index().rename(columns={'DAILY_AQI_VALUE':'2015-2019_avg_daily_aqi'})\n",
    "air_2015_2019_aqi"
   ]
  },
  {
   "cell_type": "code",
   "execution_count": 209,
   "metadata": {
    "scrolled": true
   },
   "outputs": [
    {
     "data": {
      "text/plain": [
       "0    22916\n",
       "1        1\n",
       "Name: unhealthy_aqi?, dtype: int64"
      ]
     },
     "execution_count": 209,
     "metadata": {},
     "output_type": "execute_result"
    }
   ],
   "source": [
    "#how many days were unhealthy or hazardous\n",
    "air_2015_2019['unhealthy_aqi?'] = np.where(air_2015_2019['DAILY_AQI_VALUE']>100, 1,0)\n",
    "air_2015_2019['unhealthy_aqi?'].value_counts()"
   ]
  },
  {
   "cell_type": "markdown",
   "metadata": {},
   "source": [
    "Just one! Air quality seems to be getting better"
   ]
  },
  {
   "cell_type": "code",
   "execution_count": 210,
   "metadata": {
    "scrolled": true
   },
   "outputs": [
    {
     "data": {
      "text/html": [
       "<div>\n",
       "<style scoped>\n",
       "    .dataframe tbody tr th:only-of-type {\n",
       "        vertical-align: middle;\n",
       "    }\n",
       "\n",
       "    .dataframe tbody tr th {\n",
       "        vertical-align: top;\n",
       "    }\n",
       "\n",
       "    .dataframe thead th {\n",
       "        text-align: right;\n",
       "    }\n",
       "</style>\n",
       "<table border=\"1\" class=\"dataframe\">\n",
       "  <thead>\n",
       "    <tr style=\"text-align: right;\">\n",
       "      <th></th>\n",
       "      <th>COUNTY</th>\n",
       "      <th>2015-2019_unhealthy_aqi_observed_rate_%</th>\n",
       "    </tr>\n",
       "  </thead>\n",
       "  <tbody>\n",
       "    <tr>\n",
       "      <td>0</td>\n",
       "      <td>Albany</td>\n",
       "      <td>0.000000</td>\n",
       "    </tr>\n",
       "    <tr>\n",
       "      <td>1</td>\n",
       "      <td>Bronx</td>\n",
       "      <td>0.000000</td>\n",
       "    </tr>\n",
       "    <tr>\n",
       "      <td>2</td>\n",
       "      <td>Chautauqua</td>\n",
       "      <td>0.000000</td>\n",
       "    </tr>\n",
       "    <tr>\n",
       "      <td>3</td>\n",
       "      <td>Erie</td>\n",
       "      <td>0.000000</td>\n",
       "    </tr>\n",
       "    <tr>\n",
       "      <td>4</td>\n",
       "      <td>Essex</td>\n",
       "      <td>0.000000</td>\n",
       "    </tr>\n",
       "    <tr>\n",
       "      <td>5</td>\n",
       "      <td>Kings</td>\n",
       "      <td>0.000000</td>\n",
       "    </tr>\n",
       "    <tr>\n",
       "      <td>6</td>\n",
       "      <td>Monroe</td>\n",
       "      <td>0.000000</td>\n",
       "    </tr>\n",
       "    <tr>\n",
       "      <td>7</td>\n",
       "      <td>New York</td>\n",
       "      <td>0.000467</td>\n",
       "    </tr>\n",
       "    <tr>\n",
       "      <td>8</td>\n",
       "      <td>Onondaga</td>\n",
       "      <td>0.000000</td>\n",
       "    </tr>\n",
       "    <tr>\n",
       "      <td>9</td>\n",
       "      <td>Orange</td>\n",
       "      <td>0.000000</td>\n",
       "    </tr>\n",
       "    <tr>\n",
       "      <td>10</td>\n",
       "      <td>Queens</td>\n",
       "      <td>0.000000</td>\n",
       "    </tr>\n",
       "    <tr>\n",
       "      <td>11</td>\n",
       "      <td>Richmond</td>\n",
       "      <td>0.000000</td>\n",
       "    </tr>\n",
       "    <tr>\n",
       "      <td>12</td>\n",
       "      <td>Steuben</td>\n",
       "      <td>0.000000</td>\n",
       "    </tr>\n",
       "    <tr>\n",
       "      <td>13</td>\n",
       "      <td>Suffolk</td>\n",
       "      <td>0.000000</td>\n",
       "    </tr>\n",
       "  </tbody>\n",
       "</table>\n",
       "</div>"
      ],
      "text/plain": [
       "        COUNTY  2015-2019_unhealthy_aqi_observed_rate_%\n",
       "0       Albany                                 0.000000\n",
       "1        Bronx                                 0.000000\n",
       "2   Chautauqua                                 0.000000\n",
       "3         Erie                                 0.000000\n",
       "4        Essex                                 0.000000\n",
       "5        Kings                                 0.000000\n",
       "6       Monroe                                 0.000000\n",
       "7     New York                                 0.000467\n",
       "8     Onondaga                                 0.000000\n",
       "9       Orange                                 0.000000\n",
       "10      Queens                                 0.000000\n",
       "11    Richmond                                 0.000000\n",
       "12     Steuben                                 0.000000\n",
       "13     Suffolk                                 0.000000"
      ]
     },
     "execution_count": 210,
     "metadata": {},
     "output_type": "execute_result"
    }
   ],
   "source": [
    "#Observation Rate Unhealthy > Hazardous AQI levels- 2015_2019\n",
    "air_2015_2019_unhealthy = air_2015_2019.groupby('COUNTY').agg({'unhealthy_aqi?': 'sum', 'Date': 'count'}).reset_index().rename(columns={'unhealthy_aqi?':'unhealthy_aqi_obs', 'Date':'obs_count'})\n",
    "air_2015_2019_unhealthy['2015-2019_unhealthy_aqi_observed_rate_%'] = air_2015_2019_unhealthy['unhealthy_aqi_obs'] / air_2015_2019_unhealthy['obs_count']\n",
    "air_2015_2019_unhealthy = air_2015_2019_unhealthy[['COUNTY','2015-2019_unhealthy_aqi_observed_rate_%']]\n",
    "air_2015_2019_unhealthy"
   ]
  },
  {
   "cell_type": "code",
   "execution_count": 211,
   "metadata": {},
   "outputs": [
    {
     "data": {
      "text/plain": [
       "0    20495\n",
       "1     2422\n",
       "Name: moderate+_aqi?, dtype: int64"
      ]
     },
     "execution_count": 211,
     "metadata": {},
     "output_type": "execute_result"
    }
   ],
   "source": [
    "#how many observations were of moderate AQI\n",
    "air_2015_2019['moderate+_aqi?'] = np.where(air_2015_2019['DAILY_AQI_VALUE']>50, 1,0)\n",
    "air_2015_2019['moderate+_aqi?'].value_counts()"
   ]
  },
  {
   "cell_type": "code",
   "execution_count": 212,
   "metadata": {},
   "outputs": [
    {
     "data": {
      "text/html": [
       "<div>\n",
       "<style scoped>\n",
       "    .dataframe tbody tr th:only-of-type {\n",
       "        vertical-align: middle;\n",
       "    }\n",
       "\n",
       "    .dataframe tbody tr th {\n",
       "        vertical-align: top;\n",
       "    }\n",
       "\n",
       "    .dataframe thead th {\n",
       "        text-align: right;\n",
       "    }\n",
       "</style>\n",
       "<table border=\"1\" class=\"dataframe\">\n",
       "  <thead>\n",
       "    <tr style=\"text-align: right;\">\n",
       "      <th></th>\n",
       "      <th>COUNTY</th>\n",
       "      <th>2015-2019_moderate_plus_aqi_observed_rate_%</th>\n",
       "    </tr>\n",
       "  </thead>\n",
       "  <tbody>\n",
       "    <tr>\n",
       "      <td>0</td>\n",
       "      <td>Albany</td>\n",
       "      <td>0.101874</td>\n",
       "    </tr>\n",
       "    <tr>\n",
       "      <td>1</td>\n",
       "      <td>Bronx</td>\n",
       "      <td>0.150334</td>\n",
       "    </tr>\n",
       "    <tr>\n",
       "      <td>2</td>\n",
       "      <td>Chautauqua</td>\n",
       "      <td>0.085515</td>\n",
       "    </tr>\n",
       "    <tr>\n",
       "      <td>3</td>\n",
       "      <td>Erie</td>\n",
       "      <td>0.117128</td>\n",
       "    </tr>\n",
       "    <tr>\n",
       "      <td>4</td>\n",
       "      <td>Essex</td>\n",
       "      <td>0.014235</td>\n",
       "    </tr>\n",
       "    <tr>\n",
       "      <td>5</td>\n",
       "      <td>Kings</td>\n",
       "      <td>0.160745</td>\n",
       "    </tr>\n",
       "    <tr>\n",
       "      <td>6</td>\n",
       "      <td>Monroe</td>\n",
       "      <td>0.087929</td>\n",
       "    </tr>\n",
       "    <tr>\n",
       "      <td>7</td>\n",
       "      <td>New York</td>\n",
       "      <td>0.185721</td>\n",
       "    </tr>\n",
       "    <tr>\n",
       "      <td>8</td>\n",
       "      <td>Onondaga</td>\n",
       "      <td>0.052609</td>\n",
       "    </tr>\n",
       "    <tr>\n",
       "      <td>9</td>\n",
       "      <td>Orange</td>\n",
       "      <td>0.067010</td>\n",
       "    </tr>\n",
       "    <tr>\n",
       "      <td>10</td>\n",
       "      <td>Queens</td>\n",
       "      <td>0.115186</td>\n",
       "    </tr>\n",
       "    <tr>\n",
       "      <td>11</td>\n",
       "      <td>Richmond</td>\n",
       "      <td>0.151515</td>\n",
       "    </tr>\n",
       "    <tr>\n",
       "      <td>12</td>\n",
       "      <td>Steuben</td>\n",
       "      <td>0.033713</td>\n",
       "    </tr>\n",
       "    <tr>\n",
       "      <td>13</td>\n",
       "      <td>Suffolk</td>\n",
       "      <td>0.093863</td>\n",
       "    </tr>\n",
       "  </tbody>\n",
       "</table>\n",
       "</div>"
      ],
      "text/plain": [
       "        COUNTY  2015-2019_moderate_plus_aqi_observed_rate_%\n",
       "0       Albany                                     0.101874\n",
       "1        Bronx                                     0.150334\n",
       "2   Chautauqua                                     0.085515\n",
       "3         Erie                                     0.117128\n",
       "4        Essex                                     0.014235\n",
       "5        Kings                                     0.160745\n",
       "6       Monroe                                     0.087929\n",
       "7     New York                                     0.185721\n",
       "8     Onondaga                                     0.052609\n",
       "9       Orange                                     0.067010\n",
       "10      Queens                                     0.115186\n",
       "11    Richmond                                     0.151515\n",
       "12     Steuben                                     0.033713\n",
       "13     Suffolk                                     0.093863"
      ]
     },
     "execution_count": 212,
     "metadata": {},
     "output_type": "execute_result"
    }
   ],
   "source": [
    "#observation rate of Moderate> Hazardous AQI - 2015-19\n",
    "air_2015_2019_moderate_plus = air_2015_2019.groupby('COUNTY').agg({'moderate+_aqi?': 'sum', 'Date': 'count'}).reset_index().rename(columns={'moderate+_aqi?':'moderate_aqi_obs', 'Date':'obs_count'})\n",
    "air_2015_2019_moderate_plus['2015-2019_moderate_plus_aqi_observed_rate_%'] = air_2015_2019_moderate_plus['moderate_aqi_obs'] / air_2015_2019_moderate_plus['obs_count']\n",
    "air_2015_2019_moderate_plus = air_2015_2019_moderate_plus[['COUNTY','2015-2019_moderate_plus_aqi_observed_rate_%']]\n",
    "air_2015_2019_moderate_plus"
   ]
  },
  {
   "cell_type": "code",
   "execution_count": 213,
   "metadata": {},
   "outputs": [],
   "source": [
    "#creating metrics for 2020\n",
    "air_2020 = air_2010_2020.loc[air_2010_2020['year'].isin([2020])].copy()"
   ]
  },
  {
   "cell_type": "code",
   "execution_count": 214,
   "metadata": {},
   "outputs": [
    {
     "data": {
      "text/html": [
       "<div>\n",
       "<style scoped>\n",
       "    .dataframe tbody tr th:only-of-type {\n",
       "        vertical-align: middle;\n",
       "    }\n",
       "\n",
       "    .dataframe tbody tr th {\n",
       "        vertical-align: top;\n",
       "    }\n",
       "\n",
       "    .dataframe thead th {\n",
       "        text-align: right;\n",
       "    }\n",
       "</style>\n",
       "<table border=\"1\" class=\"dataframe\">\n",
       "  <thead>\n",
       "    <tr style=\"text-align: right;\">\n",
       "      <th></th>\n",
       "      <th>COUNTY</th>\n",
       "      <th>2020_avg_daily_aqi</th>\n",
       "    </tr>\n",
       "  </thead>\n",
       "  <tbody>\n",
       "    <tr>\n",
       "      <td>0</td>\n",
       "      <td>Albany</td>\n",
       "      <td>30.384752</td>\n",
       "    </tr>\n",
       "    <tr>\n",
       "      <td>1</td>\n",
       "      <td>Bronx</td>\n",
       "      <td>31.761693</td>\n",
       "    </tr>\n",
       "    <tr>\n",
       "      <td>2</td>\n",
       "      <td>Chautauqua</td>\n",
       "      <td>22.946809</td>\n",
       "    </tr>\n",
       "    <tr>\n",
       "      <td>3</td>\n",
       "      <td>Erie</td>\n",
       "      <td>26.497238</td>\n",
       "    </tr>\n",
       "    <tr>\n",
       "      <td>4</td>\n",
       "      <td>Essex</td>\n",
       "      <td>13.687500</td>\n",
       "    </tr>\n",
       "    <tr>\n",
       "      <td>5</td>\n",
       "      <td>Kings</td>\n",
       "      <td>29.490196</td>\n",
       "    </tr>\n",
       "    <tr>\n",
       "      <td>6</td>\n",
       "      <td>Monroe</td>\n",
       "      <td>26.740550</td>\n",
       "    </tr>\n",
       "    <tr>\n",
       "      <td>7</td>\n",
       "      <td>New York</td>\n",
       "      <td>30.696970</td>\n",
       "    </tr>\n",
       "    <tr>\n",
       "      <td>8</td>\n",
       "      <td>Onondaga</td>\n",
       "      <td>24.995316</td>\n",
       "    </tr>\n",
       "    <tr>\n",
       "      <td>9</td>\n",
       "      <td>Orange</td>\n",
       "      <td>25.430556</td>\n",
       "    </tr>\n",
       "    <tr>\n",
       "      <td>10</td>\n",
       "      <td>Queens</td>\n",
       "      <td>25.337778</td>\n",
       "    </tr>\n",
       "    <tr>\n",
       "      <td>11</td>\n",
       "      <td>Richmond</td>\n",
       "      <td>32.000000</td>\n",
       "    </tr>\n",
       "    <tr>\n",
       "      <td>12</td>\n",
       "      <td>Steuben</td>\n",
       "      <td>22.152620</td>\n",
       "    </tr>\n",
       "    <tr>\n",
       "      <td>13</td>\n",
       "      <td>Suffolk</td>\n",
       "      <td>26.166667</td>\n",
       "    </tr>\n",
       "  </tbody>\n",
       "</table>\n",
       "</div>"
      ],
      "text/plain": [
       "        COUNTY  2020_avg_daily_aqi\n",
       "0       Albany           30.384752\n",
       "1        Bronx           31.761693\n",
       "2   Chautauqua           22.946809\n",
       "3         Erie           26.497238\n",
       "4        Essex           13.687500\n",
       "5        Kings           29.490196\n",
       "6       Monroe           26.740550\n",
       "7     New York           30.696970\n",
       "8     Onondaga           24.995316\n",
       "9       Orange           25.430556\n",
       "10      Queens           25.337778\n",
       "11    Richmond           32.000000\n",
       "12     Steuben           22.152620\n",
       "13     Suffolk           26.166667"
      ]
     },
     "execution_count": 214,
     "metadata": {},
     "output_type": "execute_result"
    }
   ],
   "source": [
    "#Average AQI - 2020\n",
    "air_2020_aqi = air_2020.groupby(['COUNTY'])['DAILY_AQI_VALUE'].mean().to_frame().reset_index().rename(columns={'DAILY_AQI_VALUE':'2020_avg_daily_aqi'})\n",
    "air_2020_aqi"
   ]
  },
  {
   "cell_type": "code",
   "execution_count": 215,
   "metadata": {
    "scrolled": true
   },
   "outputs": [
    {
     "data": {
      "text/plain": [
       "0    4002\n",
       "1       6\n",
       "Name: unhealthy_aqi?, dtype: int64"
      ]
     },
     "execution_count": 215,
     "metadata": {},
     "output_type": "execute_result"
    }
   ],
   "source": [
    "#how many days were unhealthy or hazardous\n",
    "air_2020['unhealthy_aqi?'] = np.where(air_2020['DAILY_AQI_VALUE']>100, 1,0)\n",
    "air_2020['unhealthy_aqi?'].value_counts()"
   ]
  },
  {
   "cell_type": "code",
   "execution_count": 216,
   "metadata": {},
   "outputs": [
    {
     "data": {
      "text/html": [
       "<div>\n",
       "<style scoped>\n",
       "    .dataframe tbody tr th:only-of-type {\n",
       "        vertical-align: middle;\n",
       "    }\n",
       "\n",
       "    .dataframe tbody tr th {\n",
       "        vertical-align: top;\n",
       "    }\n",
       "\n",
       "    .dataframe thead th {\n",
       "        text-align: right;\n",
       "    }\n",
       "</style>\n",
       "<table border=\"1\" class=\"dataframe\">\n",
       "  <thead>\n",
       "    <tr style=\"text-align: right;\">\n",
       "      <th></th>\n",
       "      <th>COUNTY</th>\n",
       "      <th>2020_unhealthy_aqi_observed_rate_%</th>\n",
       "    </tr>\n",
       "  </thead>\n",
       "  <tbody>\n",
       "    <tr>\n",
       "      <td>0</td>\n",
       "      <td>Albany</td>\n",
       "      <td>0.007092</td>\n",
       "    </tr>\n",
       "    <tr>\n",
       "      <td>1</td>\n",
       "      <td>Bronx</td>\n",
       "      <td>0.000000</td>\n",
       "    </tr>\n",
       "    <tr>\n",
       "      <td>2</td>\n",
       "      <td>Chautauqua</td>\n",
       "      <td>0.000000</td>\n",
       "    </tr>\n",
       "    <tr>\n",
       "      <td>3</td>\n",
       "      <td>Erie</td>\n",
       "      <td>0.005525</td>\n",
       "    </tr>\n",
       "    <tr>\n",
       "      <td>4</td>\n",
       "      <td>Essex</td>\n",
       "      <td>0.000000</td>\n",
       "    </tr>\n",
       "    <tr>\n",
       "      <td>5</td>\n",
       "      <td>Kings</td>\n",
       "      <td>0.000000</td>\n",
       "    </tr>\n",
       "    <tr>\n",
       "      <td>6</td>\n",
       "      <td>Monroe</td>\n",
       "      <td>0.000000</td>\n",
       "    </tr>\n",
       "    <tr>\n",
       "      <td>7</td>\n",
       "      <td>New York</td>\n",
       "      <td>0.000000</td>\n",
       "    </tr>\n",
       "    <tr>\n",
       "      <td>8</td>\n",
       "      <td>Onondaga</td>\n",
       "      <td>0.000000</td>\n",
       "    </tr>\n",
       "    <tr>\n",
       "      <td>9</td>\n",
       "      <td>Orange</td>\n",
       "      <td>0.000000</td>\n",
       "    </tr>\n",
       "    <tr>\n",
       "      <td>10</td>\n",
       "      <td>Queens</td>\n",
       "      <td>0.000000</td>\n",
       "    </tr>\n",
       "    <tr>\n",
       "      <td>11</td>\n",
       "      <td>Richmond</td>\n",
       "      <td>0.000000</td>\n",
       "    </tr>\n",
       "    <tr>\n",
       "      <td>12</td>\n",
       "      <td>Steuben</td>\n",
       "      <td>0.000000</td>\n",
       "    </tr>\n",
       "    <tr>\n",
       "      <td>13</td>\n",
       "      <td>Suffolk</td>\n",
       "      <td>0.000000</td>\n",
       "    </tr>\n",
       "  </tbody>\n",
       "</table>\n",
       "</div>"
      ],
      "text/plain": [
       "        COUNTY  2020_unhealthy_aqi_observed_rate_%\n",
       "0       Albany                            0.007092\n",
       "1        Bronx                            0.000000\n",
       "2   Chautauqua                            0.000000\n",
       "3         Erie                            0.005525\n",
       "4        Essex                            0.000000\n",
       "5        Kings                            0.000000\n",
       "6       Monroe                            0.000000\n",
       "7     New York                            0.000000\n",
       "8     Onondaga                            0.000000\n",
       "9       Orange                            0.000000\n",
       "10      Queens                            0.000000\n",
       "11    Richmond                            0.000000\n",
       "12     Steuben                            0.000000\n",
       "13     Suffolk                            0.000000"
      ]
     },
     "execution_count": 216,
     "metadata": {},
     "output_type": "execute_result"
    }
   ],
   "source": [
    "#Observation Rate Unhealthy > Hazardous AQI levels- 2015_2019\n",
    "air_2020_unhealthy = air_2020.groupby('COUNTY').agg({'unhealthy_aqi?': 'sum', 'Date': 'count'}).reset_index().rename(columns={'unhealthy_aqi?':'unhealthy_aqi_obs', 'Date':'obs_count'})\n",
    "air_2020_unhealthy['2020_unhealthy_aqi_observed_rate_%'] = air_2020_unhealthy['unhealthy_aqi_obs'] / air_2020_unhealthy['obs_count']\n",
    "air_2020_unhealthy = air_2020_unhealthy[['COUNTY','2020_unhealthy_aqi_observed_rate_%']]\n",
    "air_2020_unhealthy"
   ]
  },
  {
   "cell_type": "code",
   "execution_count": 217,
   "metadata": {},
   "outputs": [
    {
     "data": {
      "text/plain": [
       "0    3735\n",
       "1     273\n",
       "Name: moderate+_aqi?, dtype: int64"
      ]
     },
     "execution_count": 217,
     "metadata": {},
     "output_type": "execute_result"
    }
   ],
   "source": [
    "#how many observations were of moderate AQI\n",
    "air_2020['moderate+_aqi?'] = np.where(air_2020['DAILY_AQI_VALUE']>50, 1,0)\n",
    "air_2020['moderate+_aqi?'].value_counts()"
   ]
  },
  {
   "cell_type": "code",
   "execution_count": 218,
   "metadata": {},
   "outputs": [
    {
     "data": {
      "text/html": [
       "<div>\n",
       "<style scoped>\n",
       "    .dataframe tbody tr th:only-of-type {\n",
       "        vertical-align: middle;\n",
       "    }\n",
       "\n",
       "    .dataframe tbody tr th {\n",
       "        vertical-align: top;\n",
       "    }\n",
       "\n",
       "    .dataframe thead th {\n",
       "        text-align: right;\n",
       "    }\n",
       "</style>\n",
       "<table border=\"1\" class=\"dataframe\">\n",
       "  <thead>\n",
       "    <tr style=\"text-align: right;\">\n",
       "      <th></th>\n",
       "      <th>COUNTY</th>\n",
       "      <th>2020_moderate_plus_aqi_observed_rate_%</th>\n",
       "    </tr>\n",
       "  </thead>\n",
       "  <tbody>\n",
       "    <tr>\n",
       "      <td>0</td>\n",
       "      <td>Albany</td>\n",
       "      <td>0.113475</td>\n",
       "    </tr>\n",
       "    <tr>\n",
       "      <td>1</td>\n",
       "      <td>Bronx</td>\n",
       "      <td>0.113586</td>\n",
       "    </tr>\n",
       "    <tr>\n",
       "      <td>2</td>\n",
       "      <td>Chautauqua</td>\n",
       "      <td>0.021277</td>\n",
       "    </tr>\n",
       "    <tr>\n",
       "      <td>3</td>\n",
       "      <td>Erie</td>\n",
       "      <td>0.046961</td>\n",
       "    </tr>\n",
       "    <tr>\n",
       "      <td>4</td>\n",
       "      <td>Essex</td>\n",
       "      <td>0.000000</td>\n",
       "    </tr>\n",
       "    <tr>\n",
       "      <td>5</td>\n",
       "      <td>Kings</td>\n",
       "      <td>0.117647</td>\n",
       "    </tr>\n",
       "    <tr>\n",
       "      <td>6</td>\n",
       "      <td>Monroe</td>\n",
       "      <td>0.063574</td>\n",
       "    </tr>\n",
       "    <tr>\n",
       "      <td>7</td>\n",
       "      <td>New York</td>\n",
       "      <td>0.080808</td>\n",
       "    </tr>\n",
       "    <tr>\n",
       "      <td>8</td>\n",
       "      <td>Onondaga</td>\n",
       "      <td>0.046838</td>\n",
       "    </tr>\n",
       "    <tr>\n",
       "      <td>9</td>\n",
       "      <td>Orange</td>\n",
       "      <td>0.041667</td>\n",
       "    </tr>\n",
       "    <tr>\n",
       "      <td>10</td>\n",
       "      <td>Queens</td>\n",
       "      <td>0.068148</td>\n",
       "    </tr>\n",
       "    <tr>\n",
       "      <td>11</td>\n",
       "      <td>Richmond</td>\n",
       "      <td>0.108108</td>\n",
       "    </tr>\n",
       "    <tr>\n",
       "      <td>12</td>\n",
       "      <td>Steuben</td>\n",
       "      <td>0.018223</td>\n",
       "    </tr>\n",
       "    <tr>\n",
       "      <td>13</td>\n",
       "      <td>Suffolk</td>\n",
       "      <td>0.041667</td>\n",
       "    </tr>\n",
       "  </tbody>\n",
       "</table>\n",
       "</div>"
      ],
      "text/plain": [
       "        COUNTY  2020_moderate_plus_aqi_observed_rate_%\n",
       "0       Albany                                0.113475\n",
       "1        Bronx                                0.113586\n",
       "2   Chautauqua                                0.021277\n",
       "3         Erie                                0.046961\n",
       "4        Essex                                0.000000\n",
       "5        Kings                                0.117647\n",
       "6       Monroe                                0.063574\n",
       "7     New York                                0.080808\n",
       "8     Onondaga                                0.046838\n",
       "9       Orange                                0.041667\n",
       "10      Queens                                0.068148\n",
       "11    Richmond                                0.108108\n",
       "12     Steuben                                0.018223\n",
       "13     Suffolk                                0.041667"
      ]
     },
     "execution_count": 218,
     "metadata": {},
     "output_type": "execute_result"
    }
   ],
   "source": [
    "#observation rate of Moderate> Hazardous AQI - 2020\n",
    "air_2020_moderate_plus = air_2020.groupby('COUNTY').agg({'moderate+_aqi?': 'sum', 'Date': 'count'}).reset_index().rename(columns={'moderate+_aqi?':'moderate_aqi_obs', 'Date':'obs_count'})\n",
    "air_2020_moderate_plus['2020_moderate_plus_aqi_observed_rate_%'] = air_2020_moderate_plus['moderate_aqi_obs'] / air_2020_moderate_plus['obs_count']\n",
    "air_2020_moderate_plus = air_2020_moderate_plus[['COUNTY','2020_moderate_plus_aqi_observed_rate_%']]\n",
    "air_2020_moderate_plus"
   ]
  },
  {
   "cell_type": "code",
   "execution_count": 219,
   "metadata": {
    "scrolled": true
   },
   "outputs": [
    {
     "data": {
      "text/plain": [
       "True    17\n",
       "Name: county_match?, dtype: int64"
      ]
     },
     "execution_count": 219,
     "metadata": {},
     "output_type": "execute_result"
    }
   ],
   "source": [
    "#before merge, check that county name is a match. air_2010_2014_unhealthy has the most county names\n",
    "air_2010_2014_unhealthy['county_match?'] = np.where(air_2010_2014_unhealthy['COUNTY'].isin(county['county_name'])==True, True, False)\n",
    "air_2010_2014_unhealthy['county_match?'].value_counts()"
   ]
  },
  {
   "cell_type": "code",
   "execution_count": 220,
   "metadata": {},
   "outputs": [],
   "source": [
    "del air_2010_2014_unhealthy['county_match?']"
   ]
  },
  {
   "cell_type": "markdown",
   "metadata": {},
   "source": [
    "All True. County Name is a perfect match. "
   ]
  },
  {
   "cell_type": "code",
   "execution_count": 221,
   "metadata": {
    "scrolled": true
   },
   "outputs": [
    {
     "data": {
      "text/html": [
       "<div>\n",
       "<style scoped>\n",
       "    .dataframe tbody tr th:only-of-type {\n",
       "        vertical-align: middle;\n",
       "    }\n",
       "\n",
       "    .dataframe tbody tr th {\n",
       "        vertical-align: top;\n",
       "    }\n",
       "\n",
       "    .dataframe thead th {\n",
       "        text-align: right;\n",
       "    }\n",
       "</style>\n",
       "<table border=\"1\" class=\"dataframe\">\n",
       "  <thead>\n",
       "    <tr style=\"text-align: right;\">\n",
       "      <th></th>\n",
       "      <th>FIPS</th>\n",
       "      <th>county_name</th>\n",
       "      <th>population</th>\n",
       "      <th>male_%</th>\n",
       "      <th>female_%</th>\n",
       "      <th>65+age_%</th>\n",
       "      <th>5-17age_%</th>\n",
       "      <th>18-24age_%</th>\n",
       "      <th>white_alone_%</th>\n",
       "      <th>nh_white_alone_%</th>\n",
       "      <th>...</th>\n",
       "      <th>COUNTY_x</th>\n",
       "      <th>2015-2019_unhealthy_aqi_observed_rate_%</th>\n",
       "      <th>COUNTY_y</th>\n",
       "      <th>2015-2019_moderate_plus_aqi_observed_rate_%</th>\n",
       "      <th>COUNTY_x</th>\n",
       "      <th>2020_avg_daily_aqi</th>\n",
       "      <th>COUNTY_y</th>\n",
       "      <th>2020_unhealthy_aqi_observed_rate_%</th>\n",
       "      <th>COUNTY</th>\n",
       "      <th>2020_moderate_plus_aqi_observed_rate_%</th>\n",
       "    </tr>\n",
       "  </thead>\n",
       "  <tbody>\n",
       "    <tr>\n",
       "      <td>0</td>\n",
       "      <td>36001</td>\n",
       "      <td>Albany</td>\n",
       "      <td>305506</td>\n",
       "      <td>0.483846</td>\n",
       "      <td>0.516154</td>\n",
       "      <td>0.174373</td>\n",
       "      <td>0.174373</td>\n",
       "      <td>0.144187</td>\n",
       "      <td>0.757884</td>\n",
       "      <td>0.715682</td>\n",
       "      <td>...</td>\n",
       "      <td>Albany</td>\n",
       "      <td>0.0</td>\n",
       "      <td>Albany</td>\n",
       "      <td>0.101874</td>\n",
       "      <td>Albany</td>\n",
       "      <td>30.384752</td>\n",
       "      <td>Albany</td>\n",
       "      <td>0.007092</td>\n",
       "      <td>Albany</td>\n",
       "      <td>0.113475</td>\n",
       "    </tr>\n",
       "    <tr>\n",
       "      <td>1</td>\n",
       "      <td>36003</td>\n",
       "      <td>Allegany</td>\n",
       "      <td>46091</td>\n",
       "      <td>0.508082</td>\n",
       "      <td>0.491918</td>\n",
       "      <td>0.196459</td>\n",
       "      <td>0.196459</td>\n",
       "      <td>0.145083</td>\n",
       "      <td>0.955675</td>\n",
       "      <td>0.942830</td>\n",
       "      <td>...</td>\n",
       "      <td>NaN</td>\n",
       "      <td>NaN</td>\n",
       "      <td>NaN</td>\n",
       "      <td>NaN</td>\n",
       "      <td>NaN</td>\n",
       "      <td>NaN</td>\n",
       "      <td>NaN</td>\n",
       "      <td>NaN</td>\n",
       "      <td>NaN</td>\n",
       "      <td>NaN</td>\n",
       "    </tr>\n",
       "    <tr>\n",
       "      <td>2</td>\n",
       "      <td>36005</td>\n",
       "      <td>Bronx</td>\n",
       "      <td>1418207</td>\n",
       "      <td>0.472109</td>\n",
       "      <td>0.527891</td>\n",
       "      <td>0.133102</td>\n",
       "      <td>0.133102</td>\n",
       "      <td>0.097095</td>\n",
       "      <td>0.447241</td>\n",
       "      <td>0.090102</td>\n",
       "      <td>...</td>\n",
       "      <td>Bronx</td>\n",
       "      <td>0.0</td>\n",
       "      <td>Bronx</td>\n",
       "      <td>0.150334</td>\n",
       "      <td>Bronx</td>\n",
       "      <td>31.761693</td>\n",
       "      <td>Bronx</td>\n",
       "      <td>0.000000</td>\n",
       "      <td>Bronx</td>\n",
       "      <td>0.113586</td>\n",
       "    </tr>\n",
       "    <tr>\n",
       "      <td>3</td>\n",
       "      <td>36007</td>\n",
       "      <td>Broome</td>\n",
       "      <td>190488</td>\n",
       "      <td>0.492656</td>\n",
       "      <td>0.507344</td>\n",
       "      <td>0.194133</td>\n",
       "      <td>0.194133</td>\n",
       "      <td>0.141757</td>\n",
       "      <td>0.858180</td>\n",
       "      <td>0.827002</td>\n",
       "      <td>...</td>\n",
       "      <td>NaN</td>\n",
       "      <td>NaN</td>\n",
       "      <td>NaN</td>\n",
       "      <td>NaN</td>\n",
       "      <td>NaN</td>\n",
       "      <td>NaN</td>\n",
       "      <td>NaN</td>\n",
       "      <td>NaN</td>\n",
       "      <td>NaN</td>\n",
       "      <td>NaN</td>\n",
       "    </tr>\n",
       "    <tr>\n",
       "      <td>4</td>\n",
       "      <td>36009</td>\n",
       "      <td>Cattaraugus</td>\n",
       "      <td>76117</td>\n",
       "      <td>0.497300</td>\n",
       "      <td>0.502700</td>\n",
       "      <td>0.197354</td>\n",
       "      <td>0.197354</td>\n",
       "      <td>0.090151</td>\n",
       "      <td>0.918573</td>\n",
       "      <td>0.904266</td>\n",
       "      <td>...</td>\n",
       "      <td>NaN</td>\n",
       "      <td>NaN</td>\n",
       "      <td>NaN</td>\n",
       "      <td>NaN</td>\n",
       "      <td>NaN</td>\n",
       "      <td>NaN</td>\n",
       "      <td>NaN</td>\n",
       "      <td>NaN</td>\n",
       "      <td>NaN</td>\n",
       "      <td>NaN</td>\n",
       "    </tr>\n",
       "  </tbody>\n",
       "</table>\n",
       "<p>5 rows × 40 columns</p>\n",
       "</div>"
      ],
      "text/plain": [
       "    FIPS  county_name  population    male_%  female_%  65+age_%  5-17age_%  \\\n",
       "0  36001       Albany      305506  0.483846  0.516154  0.174373   0.174373   \n",
       "1  36003     Allegany       46091  0.508082  0.491918  0.196459   0.196459   \n",
       "2  36005        Bronx     1418207  0.472109  0.527891  0.133102   0.133102   \n",
       "3  36007       Broome      190488  0.492656  0.507344  0.194133   0.194133   \n",
       "4  36009  Cattaraugus       76117  0.497300  0.502700  0.197354   0.197354   \n",
       "\n",
       "   18-24age_%  white_alone_%  nh_white_alone_%  ...  COUNTY_x  \\\n",
       "0    0.144187       0.757884          0.715682  ...    Albany   \n",
       "1    0.145083       0.955675          0.942830  ...       NaN   \n",
       "2    0.097095       0.447241          0.090102  ...     Bronx   \n",
       "3    0.141757       0.858180          0.827002  ...       NaN   \n",
       "4    0.090151       0.918573          0.904266  ...       NaN   \n",
       "\n",
       "   2015-2019_unhealthy_aqi_observed_rate_%  COUNTY_y  \\\n",
       "0                                      0.0    Albany   \n",
       "1                                      NaN       NaN   \n",
       "2                                      0.0     Bronx   \n",
       "3                                      NaN       NaN   \n",
       "4                                      NaN       NaN   \n",
       "\n",
       "   2015-2019_moderate_plus_aqi_observed_rate_%  COUNTY_x  2020_avg_daily_aqi  \\\n",
       "0                                     0.101874    Albany           30.384752   \n",
       "1                                          NaN       NaN                 NaN   \n",
       "2                                     0.150334     Bronx           31.761693   \n",
       "3                                          NaN       NaN                 NaN   \n",
       "4                                          NaN       NaN                 NaN   \n",
       "\n",
       "   COUNTY_y  2020_unhealthy_aqi_observed_rate_%  COUNTY  \\\n",
       "0    Albany                            0.007092  Albany   \n",
       "1       NaN                                 NaN     NaN   \n",
       "2     Bronx                            0.000000   Bronx   \n",
       "3       NaN                                 NaN     NaN   \n",
       "4       NaN                                 NaN     NaN   \n",
       "\n",
       "   2020_moderate_plus_aqi_observed_rate_%  \n",
       "0                                0.113475  \n",
       "1                                     NaN  \n",
       "2                                0.113586  \n",
       "3                                     NaN  \n",
       "4                                     NaN  \n",
       "\n",
       "[5 rows x 40 columns]"
      ]
     },
     "execution_count": 221,
     "metadata": {},
     "output_type": "execute_result"
    }
   ],
   "source": [
    "# add to main county df\n",
    "# 2010 - 2014 \n",
    "county = county.merge(air_2010_2014_aqi, how='left', left_on='county_name', right_on='COUNTY') #aqi avg\n",
    "county = county.merge(air_2010_2014_unhealthy, how='left', left_on='county_name', right_on='COUNTY') #unhealthy observation\n",
    "county = county.merge(air_2010_2014_moderate_plus, how='left', left_on='county_name', right_on='COUNTY') #moderate aqi obs\n",
    "#2015-2019\n",
    "county = county.merge(air_2015_2019_aqi, how='left', left_on='county_name', right_on='COUNTY') #aqi avg\n",
    "county = county.merge(air_2015_2019_unhealthy, how='left', left_on='county_name', right_on='COUNTY') #unhealthy observation\n",
    "county = county.merge(air_2015_2019_moderate_plus, how='left', left_on='county_name', right_on='COUNTY') #moderate aqi obs\n",
    "#2020\n",
    "county = county.merge(air_2020_aqi, how='left', left_on='county_name', right_on='COUNTY') #aqi avg\n",
    "county = county.merge(air_2020_unhealthy, how='left', left_on='county_name', right_on='COUNTY') #unhealthy observation\n",
    "county = county.merge(air_2020_moderate_plus, how='left', left_on='county_name', right_on='COUNTY') #moderate aqi obs\n",
    "county.head()"
   ]
  },
  {
   "cell_type": "code",
   "execution_count": 222,
   "metadata": {
    "scrolled": true
   },
   "outputs": [
    {
     "name": "stdout",
     "output_type": "stream",
     "text": [
      "<class 'pandas.core.frame.DataFrame'>\n",
      "Int64Index: 62 entries, 0 to 61\n",
      "Data columns (total 40 columns):\n",
      "FIPS                                           62 non-null int64\n",
      "county_name                                    62 non-null object\n",
      "population                                     62 non-null int64\n",
      "male_%                                         62 non-null float64\n",
      "female_%                                       62 non-null float64\n",
      "65+age_%                                       62 non-null float64\n",
      "5-17age_%                                      62 non-null float64\n",
      "18-24age_%                                     62 non-null float64\n",
      "white_alone_%                                  62 non-null float64\n",
      "nh_white_alone_%                               62 non-null float64\n",
      "black_african_amer_alone_%                     62 non-null float64\n",
      "amer_indian_alask_alone_%                      62 non-null float64\n",
      "asian_alone_%                                  62 non-null float64\n",
      "2+_races_%                                     62 non-null float64\n",
      "hispanic_%                                     62 non-null float64\n",
      "sq_miles                                       62 non-null float64\n",
      "pop_in_poverty_%                               62 non-null float64\n",
      "unemployment_rate                              62 non-null float64\n",
      "median_household_income                        62 non-null int32\n",
      "hospital_beds                                  62 non-null float64\n",
      "pop_density                                    62 non-null float64\n",
      "hospital_beds_per_1K                           62 non-null float64\n",
      "COUNTY_x                                       17 non-null object\n",
      "2010-2014_avg_daily_aqi                        17 non-null float64\n",
      "COUNTY_y                                       17 non-null object\n",
      "2010-2014_unhealthy_aqi_observed_rate_%        17 non-null float64\n",
      "COUNTY_x                                       17 non-null object\n",
      "2010-2014_moderate_plus_aqi_observed_rate_%    17 non-null float64\n",
      "COUNTY_y                                       14 non-null object\n",
      "2015-2019_avg_daily_aqi                        14 non-null float64\n",
      "COUNTY_x                                       14 non-null object\n",
      "2015-2019_unhealthy_aqi_observed_rate_%        14 non-null float64\n",
      "COUNTY_y                                       14 non-null object\n",
      "2015-2019_moderate_plus_aqi_observed_rate_%    14 non-null float64\n",
      "COUNTY_x                                       14 non-null object\n",
      "2020_avg_daily_aqi                             14 non-null float64\n",
      "COUNTY_y                                       14 non-null object\n",
      "2020_unhealthy_aqi_observed_rate_%             14 non-null float64\n",
      "COUNTY                                         14 non-null object\n",
      "2020_moderate_plus_aqi_observed_rate_%         14 non-null float64\n",
      "dtypes: float64(27), int32(1), int64(2), object(10)\n",
      "memory usage: 19.6+ KB\n"
     ]
    }
   ],
   "source": [
    "county.info()"
   ]
  },
  {
   "cell_type": "code",
   "execution_count": 223,
   "metadata": {},
   "outputs": [],
   "source": [
    "del county['COUNTY_x']\n",
    "del county['COUNTY_y']\n",
    "del county['COUNTY']"
   ]
  },
  {
   "cell_type": "code",
   "execution_count": 224,
   "metadata": {
    "scrolled": true
   },
   "outputs": [
    {
     "name": "stdout",
     "output_type": "stream",
     "text": [
      "<class 'pandas.core.frame.DataFrame'>\n",
      "Int64Index: 62 entries, 0 to 61\n",
      "Data columns (total 31 columns):\n",
      "FIPS                                           62 non-null int64\n",
      "county_name                                    62 non-null object\n",
      "population                                     62 non-null int64\n",
      "male_%                                         62 non-null float64\n",
      "female_%                                       62 non-null float64\n",
      "65+age_%                                       62 non-null float64\n",
      "5-17age_%                                      62 non-null float64\n",
      "18-24age_%                                     62 non-null float64\n",
      "white_alone_%                                  62 non-null float64\n",
      "nh_white_alone_%                               62 non-null float64\n",
      "black_african_amer_alone_%                     62 non-null float64\n",
      "amer_indian_alask_alone_%                      62 non-null float64\n",
      "asian_alone_%                                  62 non-null float64\n",
      "2+_races_%                                     62 non-null float64\n",
      "hispanic_%                                     62 non-null float64\n",
      "sq_miles                                       62 non-null float64\n",
      "pop_in_poverty_%                               62 non-null float64\n",
      "unemployment_rate                              62 non-null float64\n",
      "median_household_income                        62 non-null int32\n",
      "hospital_beds                                  62 non-null float64\n",
      "pop_density                                    62 non-null float64\n",
      "hospital_beds_per_1K                           62 non-null float64\n",
      "2010-2014_avg_daily_aqi                        17 non-null float64\n",
      "2010-2014_unhealthy_aqi_observed_rate_%        17 non-null float64\n",
      "2010-2014_moderate_plus_aqi_observed_rate_%    17 non-null float64\n",
      "2015-2019_avg_daily_aqi                        14 non-null float64\n",
      "2015-2019_unhealthy_aqi_observed_rate_%        14 non-null float64\n",
      "2015-2019_moderate_plus_aqi_observed_rate_%    14 non-null float64\n",
      "2020_avg_daily_aqi                             14 non-null float64\n",
      "2020_unhealthy_aqi_observed_rate_%             14 non-null float64\n",
      "2020_moderate_plus_aqi_observed_rate_%         14 non-null float64\n",
      "dtypes: float64(27), int32(1), int64(2), object(1)\n",
      "memory usage: 15.3+ KB\n"
     ]
    }
   ],
   "source": [
    "county.info()"
   ]
  },
  {
   "cell_type": "markdown",
   "metadata": {},
   "source": [
    "An important observation is related to collection. NY has 62 counties and it is very large but we have air quality measures of up to 16 counties with only 13 in the last 6+ years. **Data Collection of Air Quality should be auditted** compared to other states and countries."
   ]
  },
  {
   "cell_type": "markdown",
   "metadata": {},
   "source": [
    "**Observation Cutoff: December 31st 2020**"
   ]
  },
  {
   "cell_type": "code",
   "execution_count": 225,
   "metadata": {},
   "outputs": [
    {
     "data": {
      "text/plain": [
       "Timestamp('2021-01-08 00:00:00')"
      ]
     },
     "execution_count": 225,
     "metadata": {},
     "output_type": "execute_result"
    }
   ],
   "source": [
    "covid_daily.Date.max()"
   ]
  },
  {
   "cell_type": "code",
   "execution_count": 226,
   "metadata": {},
   "outputs": [],
   "source": [
    "# cut observations until December 31st 2020\n",
    "covid_daily = covid_daily.loc[covid_daily['Date']<'2021-01-01']"
   ]
  },
  {
   "cell_type": "code",
   "execution_count": 227,
   "metadata": {},
   "outputs": [
    {
     "data": {
      "text/plain": [
       "Timestamp('2020-12-31 00:00:00')"
      ]
     },
     "execution_count": 227,
     "metadata": {},
     "output_type": "execute_result"
    }
   ],
   "source": [
    "#confirm 12/31/2020\n",
    "covid_daily.Date.max()"
   ]
  },
  {
   "cell_type": "markdown",
   "metadata": {},
   "source": [
    "**Add covid mortality data to county df** "
   ]
  },
  {
   "cell_type": "code",
   "execution_count": 228,
   "metadata": {
    "scrolled": true
   },
   "outputs": [
    {
     "data": {
      "text/html": [
       "<div>\n",
       "<style scoped>\n",
       "    .dataframe tbody tr th:only-of-type {\n",
       "        vertical-align: middle;\n",
       "    }\n",
       "\n",
       "    .dataframe tbody tr th {\n",
       "        vertical-align: top;\n",
       "    }\n",
       "\n",
       "    .dataframe thead th {\n",
       "        text-align: right;\n",
       "    }\n",
       "</style>\n",
       "<table border=\"1\" class=\"dataframe\">\n",
       "  <thead>\n",
       "    <tr style=\"text-align: right;\">\n",
       "      <th></th>\n",
       "      <th>countyFIPS</th>\n",
       "      <th>County Name</th>\n",
       "      <th>State</th>\n",
       "      <th>stateFIPS</th>\n",
       "      <th>Date</th>\n",
       "      <th>Deaths</th>\n",
       "    </tr>\n",
       "  </thead>\n",
       "  <tbody>\n",
       "    <tr>\n",
       "      <td>1100943</td>\n",
       "      <td>36001</td>\n",
       "      <td>Albany County</td>\n",
       "      <td>NY</td>\n",
       "      <td>36</td>\n",
       "      <td>2020-12-31</td>\n",
       "      <td>202</td>\n",
       "    </tr>\n",
       "    <tr>\n",
       "      <td>1100944</td>\n",
       "      <td>36003</td>\n",
       "      <td>Allegany County</td>\n",
       "      <td>NY</td>\n",
       "      <td>36</td>\n",
       "      <td>2020-12-31</td>\n",
       "      <td>72</td>\n",
       "    </tr>\n",
       "    <tr>\n",
       "      <td>1100945</td>\n",
       "      <td>36005</td>\n",
       "      <td>Bronx County</td>\n",
       "      <td>NY</td>\n",
       "      <td>36</td>\n",
       "      <td>2020-12-31</td>\n",
       "      <td>5137</td>\n",
       "    </tr>\n",
       "    <tr>\n",
       "      <td>1100946</td>\n",
       "      <td>36007</td>\n",
       "      <td>Broome County</td>\n",
       "      <td>NY</td>\n",
       "      <td>36</td>\n",
       "      <td>2020-12-31</td>\n",
       "      <td>202</td>\n",
       "    </tr>\n",
       "    <tr>\n",
       "      <td>1100947</td>\n",
       "      <td>36009</td>\n",
       "      <td>Cattaraugus County</td>\n",
       "      <td>NY</td>\n",
       "      <td>36</td>\n",
       "      <td>2020-12-31</td>\n",
       "      <td>42</td>\n",
       "    </tr>\n",
       "    <tr>\n",
       "      <td>...</td>\n",
       "      <td>...</td>\n",
       "      <td>...</td>\n",
       "      <td>...</td>\n",
       "      <td>...</td>\n",
       "      <td>...</td>\n",
       "      <td>...</td>\n",
       "    </tr>\n",
       "    <tr>\n",
       "      <td>1101000</td>\n",
       "      <td>36115</td>\n",
       "      <td>Washington County</td>\n",
       "      <td>NY</td>\n",
       "      <td>36</td>\n",
       "      <td>2020-12-31</td>\n",
       "      <td>15</td>\n",
       "    </tr>\n",
       "    <tr>\n",
       "      <td>1101001</td>\n",
       "      <td>36117</td>\n",
       "      <td>Wayne County</td>\n",
       "      <td>NY</td>\n",
       "      <td>36</td>\n",
       "      <td>2020-12-31</td>\n",
       "      <td>36</td>\n",
       "    </tr>\n",
       "    <tr>\n",
       "      <td>1101002</td>\n",
       "      <td>36119</td>\n",
       "      <td>Westchester County</td>\n",
       "      <td>NY</td>\n",
       "      <td>36</td>\n",
       "      <td>2020-12-31</td>\n",
       "      <td>1664</td>\n",
       "    </tr>\n",
       "    <tr>\n",
       "      <td>1101003</td>\n",
       "      <td>36121</td>\n",
       "      <td>Wyoming County</td>\n",
       "      <td>NY</td>\n",
       "      <td>36</td>\n",
       "      <td>2020-12-31</td>\n",
       "      <td>22</td>\n",
       "    </tr>\n",
       "    <tr>\n",
       "      <td>1101004</td>\n",
       "      <td>36123</td>\n",
       "      <td>Yates County</td>\n",
       "      <td>NY</td>\n",
       "      <td>36</td>\n",
       "      <td>2020-12-31</td>\n",
       "      <td>10</td>\n",
       "    </tr>\n",
       "  </tbody>\n",
       "</table>\n",
       "<p>62 rows × 6 columns</p>\n",
       "</div>"
      ],
      "text/plain": [
       "         countyFIPS         County Name State  stateFIPS       Date  Deaths\n",
       "1100943       36001       Albany County    NY         36 2020-12-31     202\n",
       "1100944       36003     Allegany County    NY         36 2020-12-31      72\n",
       "1100945       36005        Bronx County    NY         36 2020-12-31    5137\n",
       "1100946       36007       Broome County    NY         36 2020-12-31     202\n",
       "1100947       36009  Cattaraugus County    NY         36 2020-12-31      42\n",
       "...             ...                 ...   ...        ...        ...     ...\n",
       "1101000       36115   Washington County    NY         36 2020-12-31      15\n",
       "1101001       36117        Wayne County    NY         36 2020-12-31      36\n",
       "1101002       36119  Westchester County    NY         36 2020-12-31    1664\n",
       "1101003       36121      Wyoming County    NY         36 2020-12-31      22\n",
       "1101004       36123        Yates County    NY         36 2020-12-31      10\n",
       "\n",
       "[62 rows x 6 columns]"
      ]
     },
     "execution_count": 228,
     "metadata": {},
     "output_type": "execute_result"
    }
   ],
   "source": [
    "# are observations cumulative?\n",
    "covid_daily.loc[covid_daily['Date']=='2020-12-31']"
   ]
  },
  {
   "cell_type": "code",
   "execution_count": 229,
   "metadata": {},
   "outputs": [
    {
     "data": {
      "text/plain": [
       "62"
      ]
     },
     "execution_count": 229,
     "metadata": {},
     "output_type": "execute_result"
    }
   ],
   "source": [
    "#total deaths for 2020\n",
    "covid_total_2020 = covid_daily.loc[covid_daily['Date']=='2020-12-31'].copy()\n",
    "len(covid_total_2020)"
   ]
  },
  {
   "cell_type": "code",
   "execution_count": 230,
   "metadata": {},
   "outputs": [
    {
     "data": {
      "text/html": [
       "<div>\n",
       "<style scoped>\n",
       "    .dataframe tbody tr th:only-of-type {\n",
       "        vertical-align: middle;\n",
       "    }\n",
       "\n",
       "    .dataframe tbody tr th {\n",
       "        vertical-align: top;\n",
       "    }\n",
       "\n",
       "    .dataframe thead th {\n",
       "        text-align: right;\n",
       "    }\n",
       "</style>\n",
       "<table border=\"1\" class=\"dataframe\">\n",
       "  <thead>\n",
       "    <tr style=\"text-align: right;\">\n",
       "      <th></th>\n",
       "      <th>countyFIPS</th>\n",
       "      <th>total_covid_deaths</th>\n",
       "    </tr>\n",
       "  </thead>\n",
       "  <tbody>\n",
       "    <tr>\n",
       "      <td>1100943</td>\n",
       "      <td>36001</td>\n",
       "      <td>202</td>\n",
       "    </tr>\n",
       "    <tr>\n",
       "      <td>1100944</td>\n",
       "      <td>36003</td>\n",
       "      <td>72</td>\n",
       "    </tr>\n",
       "    <tr>\n",
       "      <td>1100945</td>\n",
       "      <td>36005</td>\n",
       "      <td>5137</td>\n",
       "    </tr>\n",
       "    <tr>\n",
       "      <td>1100946</td>\n",
       "      <td>36007</td>\n",
       "      <td>202</td>\n",
       "    </tr>\n",
       "    <tr>\n",
       "      <td>1100947</td>\n",
       "      <td>36009</td>\n",
       "      <td>42</td>\n",
       "    </tr>\n",
       "    <tr>\n",
       "      <td>...</td>\n",
       "      <td>...</td>\n",
       "      <td>...</td>\n",
       "    </tr>\n",
       "    <tr>\n",
       "      <td>1101000</td>\n",
       "      <td>36115</td>\n",
       "      <td>15</td>\n",
       "    </tr>\n",
       "    <tr>\n",
       "      <td>1101001</td>\n",
       "      <td>36117</td>\n",
       "      <td>36</td>\n",
       "    </tr>\n",
       "    <tr>\n",
       "      <td>1101002</td>\n",
       "      <td>36119</td>\n",
       "      <td>1664</td>\n",
       "    </tr>\n",
       "    <tr>\n",
       "      <td>1101003</td>\n",
       "      <td>36121</td>\n",
       "      <td>22</td>\n",
       "    </tr>\n",
       "    <tr>\n",
       "      <td>1101004</td>\n",
       "      <td>36123</td>\n",
       "      <td>10</td>\n",
       "    </tr>\n",
       "  </tbody>\n",
       "</table>\n",
       "<p>62 rows × 2 columns</p>\n",
       "</div>"
      ],
      "text/plain": [
       "         countyFIPS  total_covid_deaths\n",
       "1100943       36001                 202\n",
       "1100944       36003                  72\n",
       "1100945       36005                5137\n",
       "1100946       36007                 202\n",
       "1100947       36009                  42\n",
       "...             ...                 ...\n",
       "1101000       36115                  15\n",
       "1101001       36117                  36\n",
       "1101002       36119                1664\n",
       "1101003       36121                  22\n",
       "1101004       36123                  10\n",
       "\n",
       "[62 rows x 2 columns]"
      ]
     },
     "execution_count": 230,
     "metadata": {},
     "output_type": "execute_result"
    }
   ],
   "source": [
    "covid_total_2020.rename(columns={'Deaths':'total_covid_deaths'},inplace=True)\n",
    "covid_total_2020 = covid_total_2020[['countyFIPS', 'total_covid_deaths']]\n",
    "covid_total_2020"
   ]
  },
  {
   "cell_type": "code",
   "execution_count": 231,
   "metadata": {
    "scrolled": true
   },
   "outputs": [
    {
     "name": "stdout",
     "output_type": "stream",
     "text": [
      "<class 'pandas.core.frame.DataFrame'>\n",
      "Int64Index: 62 entries, 0 to 61\n",
      "Data columns (total 33 columns):\n",
      "FIPS                                           62 non-null int64\n",
      "county_name                                    62 non-null object\n",
      "population                                     62 non-null int64\n",
      "male_%                                         62 non-null float64\n",
      "female_%                                       62 non-null float64\n",
      "65+age_%                                       62 non-null float64\n",
      "5-17age_%                                      62 non-null float64\n",
      "18-24age_%                                     62 non-null float64\n",
      "white_alone_%                                  62 non-null float64\n",
      "nh_white_alone_%                               62 non-null float64\n",
      "black_african_amer_alone_%                     62 non-null float64\n",
      "amer_indian_alask_alone_%                      62 non-null float64\n",
      "asian_alone_%                                  62 non-null float64\n",
      "2+_races_%                                     62 non-null float64\n",
      "hispanic_%                                     62 non-null float64\n",
      "sq_miles                                       62 non-null float64\n",
      "pop_in_poverty_%                               62 non-null float64\n",
      "unemployment_rate                              62 non-null float64\n",
      "median_household_income                        62 non-null int32\n",
      "hospital_beds                                  62 non-null float64\n",
      "pop_density                                    62 non-null float64\n",
      "hospital_beds_per_1K                           62 non-null float64\n",
      "2010-2014_avg_daily_aqi                        17 non-null float64\n",
      "2010-2014_unhealthy_aqi_observed_rate_%        17 non-null float64\n",
      "2010-2014_moderate_plus_aqi_observed_rate_%    17 non-null float64\n",
      "2015-2019_avg_daily_aqi                        14 non-null float64\n",
      "2015-2019_unhealthy_aqi_observed_rate_%        14 non-null float64\n",
      "2015-2019_moderate_plus_aqi_observed_rate_%    14 non-null float64\n",
      "2020_avg_daily_aqi                             14 non-null float64\n",
      "2020_unhealthy_aqi_observed_rate_%             14 non-null float64\n",
      "2020_moderate_plus_aqi_observed_rate_%         14 non-null float64\n",
      "countyFIPS                                     62 non-null int64\n",
      "total_covid_deaths                             62 non-null int64\n",
      "dtypes: float64(27), int32(1), int64(4), object(1)\n",
      "memory usage: 16.2+ KB\n"
     ]
    }
   ],
   "source": [
    "#merge to county df\n",
    "county = county.merge(covid_total_2020, how='left', left_on='FIPS', right_on='countyFIPS')\n",
    "county.info()"
   ]
  },
  {
   "cell_type": "code",
   "execution_count": 232,
   "metadata": {},
   "outputs": [],
   "source": [
    "del county['countyFIPS']"
   ]
  },
  {
   "cell_type": "markdown",
   "metadata": {},
   "source": [
    "Normalize deaths data by changing per capita"
   ]
  },
  {
   "cell_type": "code",
   "execution_count": 233,
   "metadata": {},
   "outputs": [],
   "source": [
    "county['covid_deaths_per_capita'] = county['total_covid_deaths'] / county['population']"
   ]
  },
  {
   "cell_type": "code",
   "execution_count": 234,
   "metadata": {
    "scrolled": true
   },
   "outputs": [
    {
     "name": "stdout",
     "output_type": "stream",
     "text": [
      "<class 'pandas.core.frame.DataFrame'>\n",
      "Int64Index: 62 entries, 0 to 61\n",
      "Data columns (total 33 columns):\n",
      "FIPS                                           62 non-null int64\n",
      "county_name                                    62 non-null object\n",
      "population                                     62 non-null int64\n",
      "male_%                                         62 non-null float64\n",
      "female_%                                       62 non-null float64\n",
      "65+age_%                                       62 non-null float64\n",
      "5-17age_%                                      62 non-null float64\n",
      "18-24age_%                                     62 non-null float64\n",
      "white_alone_%                                  62 non-null float64\n",
      "nh_white_alone_%                               62 non-null float64\n",
      "black_african_amer_alone_%                     62 non-null float64\n",
      "amer_indian_alask_alone_%                      62 non-null float64\n",
      "asian_alone_%                                  62 non-null float64\n",
      "2+_races_%                                     62 non-null float64\n",
      "hispanic_%                                     62 non-null float64\n",
      "sq_miles                                       62 non-null float64\n",
      "pop_in_poverty_%                               62 non-null float64\n",
      "unemployment_rate                              62 non-null float64\n",
      "median_household_income                        62 non-null int32\n",
      "hospital_beds                                  62 non-null float64\n",
      "pop_density                                    62 non-null float64\n",
      "hospital_beds_per_1K                           62 non-null float64\n",
      "2010-2014_avg_daily_aqi                        17 non-null float64\n",
      "2010-2014_unhealthy_aqi_observed_rate_%        17 non-null float64\n",
      "2010-2014_moderate_plus_aqi_observed_rate_%    17 non-null float64\n",
      "2015-2019_avg_daily_aqi                        14 non-null float64\n",
      "2015-2019_unhealthy_aqi_observed_rate_%        14 non-null float64\n",
      "2015-2019_moderate_plus_aqi_observed_rate_%    14 non-null float64\n",
      "2020_avg_daily_aqi                             14 non-null float64\n",
      "2020_unhealthy_aqi_observed_rate_%             14 non-null float64\n",
      "2020_moderate_plus_aqi_observed_rate_%         14 non-null float64\n",
      "total_covid_deaths                             62 non-null int64\n",
      "covid_deaths_per_capita                        62 non-null float64\n",
      "dtypes: float64(28), int32(1), int64(3), object(1)\n",
      "memory usage: 16.2+ KB\n"
     ]
    }
   ],
   "source": [
    "county.info()"
   ]
  },
  {
   "cell_type": "code",
   "execution_count": 235,
   "metadata": {},
   "outputs": [
    {
     "data": {
      "text/plain": [
       "FIPS                                                 36001\n",
       "county_name                                         Albany\n",
       "population                                          305506\n",
       "male_%                                            0.483846\n",
       "female_%                                          0.516154\n",
       "65+age_%                                          0.174373\n",
       "5-17age_%                                         0.174373\n",
       "18-24age_%                                        0.144187\n",
       "white_alone_%                                     0.757884\n",
       "nh_white_alone_%                                  0.715682\n",
       "black_african_amer_alone_%                        0.141064\n",
       "amer_indian_alask_alone_%                       0.00304413\n",
       "asian_alone_%                                     0.068362\n",
       "2+_races_%                                       0.0289847\n",
       "hispanic_%                                       0.0625258\n",
       "sq_miles                                            523.45\n",
       "pop_in_poverty_%                                     0.117\n",
       "unemployment_rate                                    0.036\n",
       "median_household_income                              69408\n",
       "hospital_beds                                         1558\n",
       "pop_density                                        583.639\n",
       "hospital_beds_per_1K                               5.09974\n",
       "2010-2014_avg_daily_aqi                            30.5217\n",
       "2010-2014_unhealthy_aqi_observed_rate_%        0.000477327\n",
       "2010-2014_moderate_plus_aqi_observed_rate_%       0.161814\n",
       "2015-2019_avg_daily_aqi                            27.7912\n",
       "2015-2019_unhealthy_aqi_observed_rate_%                  0\n",
       "2015-2019_moderate_plus_aqi_observed_rate_%       0.101874\n",
       "2020_avg_daily_aqi                                 30.3848\n",
       "2020_unhealthy_aqi_observed_rate_%               0.0070922\n",
       "2020_moderate_plus_aqi_observed_rate_%            0.113475\n",
       "total_covid_deaths                                     202\n",
       "covid_deaths_per_capita                        0.000661198\n",
       "Name: 0, dtype: object"
      ]
     },
     "execution_count": 235,
     "metadata": {},
     "output_type": "execute_result"
    }
   ],
   "source": [
    "county.iloc[0]"
   ]
  },
  {
   "cell_type": "code",
   "execution_count": 236,
   "metadata": {},
   "outputs": [],
   "source": [
    "county['improving_2010-14_vs_2015-19_aqi?'] = np.where(county['2010-2014_avg_daily_aqi'] > county['2015-2019_avg_daily_aqi'], 1, 0)\n",
    "county['improving_2015-19_vs_2020_aqi?'] = np.where(county['2015-2019_avg_daily_aqi'] > county['2020_avg_daily_aqi'], 1, 0)\n",
    "county['cont_improve_aqi?'] = np.where((county['improving_2010-14_vs_2015-19_aqi?']==1) & (county['improving_2015-19_vs_2020_aqi?']==1), 1,0)"
   ]
  },
  {
   "cell_type": "code",
   "execution_count": 237,
   "metadata": {},
   "outputs": [
    {
     "data": {
      "text/plain": [
       "FIPS                                                 36001\n",
       "county_name                                         Albany\n",
       "population                                          305506\n",
       "male_%                                            0.483846\n",
       "female_%                                          0.516154\n",
       "65+age_%                                          0.174373\n",
       "5-17age_%                                         0.174373\n",
       "18-24age_%                                        0.144187\n",
       "white_alone_%                                     0.757884\n",
       "nh_white_alone_%                                  0.715682\n",
       "black_african_amer_alone_%                        0.141064\n",
       "amer_indian_alask_alone_%                       0.00304413\n",
       "asian_alone_%                                     0.068362\n",
       "2+_races_%                                       0.0289847\n",
       "hispanic_%                                       0.0625258\n",
       "sq_miles                                            523.45\n",
       "pop_in_poverty_%                                     0.117\n",
       "unemployment_rate                                    0.036\n",
       "median_household_income                              69408\n",
       "hospital_beds                                         1558\n",
       "pop_density                                        583.639\n",
       "hospital_beds_per_1K                               5.09974\n",
       "2010-2014_avg_daily_aqi                            30.5217\n",
       "2010-2014_unhealthy_aqi_observed_rate_%        0.000477327\n",
       "2010-2014_moderate_plus_aqi_observed_rate_%       0.161814\n",
       "2015-2019_avg_daily_aqi                            27.7912\n",
       "2015-2019_unhealthy_aqi_observed_rate_%                  0\n",
       "2015-2019_moderate_plus_aqi_observed_rate_%       0.101874\n",
       "2020_avg_daily_aqi                                 30.3848\n",
       "2020_unhealthy_aqi_observed_rate_%               0.0070922\n",
       "2020_moderate_plus_aqi_observed_rate_%            0.113475\n",
       "total_covid_deaths                                     202\n",
       "covid_deaths_per_capita                        0.000661198\n",
       "improving_2010-14_vs_2015-19_aqi?                        1\n",
       "improving_2015-19_vs_2020_aqi?                           0\n",
       "cont_improve_aqi?                                        0\n",
       "Name: 0, dtype: object"
      ]
     },
     "execution_count": 237,
     "metadata": {},
     "output_type": "execute_result"
    }
   ],
   "source": [
    "county.iloc[0]"
   ]
  },
  {
   "cell_type": "code",
   "execution_count": 238,
   "metadata": {
    "scrolled": true
   },
   "outputs": [
    {
     "data": {
      "text/plain": [
       "1    14\n",
       "Name: improving_2010-14_vs_2015-19_aqi?, dtype: int64"
      ]
     },
     "execution_count": 238,
     "metadata": {},
     "output_type": "execute_result"
    }
   ],
   "source": [
    "# of the counties where we have data, did they improve 2010-2014 period to 2015-2019 period?\n",
    "county.loc[county['2015-2019_avg_daily_aqi'].isna() == False]['improving_2010-14_vs_2015-19_aqi?'].value_counts()"
   ]
  },
  {
   "cell_type": "markdown",
   "metadata": {},
   "source": [
    "All 14 counties did"
   ]
  },
  {
   "cell_type": "code",
   "execution_count": 239,
   "metadata": {
    "scrolled": false
   },
   "outputs": [
    {
     "data": {
      "text/plain": [
       "1    8\n",
       "0    6\n",
       "Name: improving_2015-19_vs_2020_aqi?, dtype: int64"
      ]
     },
     "execution_count": 239,
     "metadata": {},
     "output_type": "execute_result"
    }
   ],
   "source": [
    "county.loc[county['2015-2019_avg_daily_aqi'].isna() == False]['improving_2015-19_vs_2020_aqi?'].value_counts()"
   ]
  },
  {
   "cell_type": "code",
   "execution_count": 240,
   "metadata": {},
   "outputs": [
    {
     "data": {
      "text/plain": [
       "0.42857142857142855"
      ]
     },
     "execution_count": 240,
     "metadata": {},
     "output_type": "execute_result"
    }
   ],
   "source": [
    "6/14"
   ]
  },
  {
   "cell_type": "markdown",
   "metadata": {},
   "source": [
    "But 6/14 counties with data (over 40% counties) dipped from in 2020 compared to the previous 5 years."
   ]
  },
  {
   "cell_type": "markdown",
   "metadata": {},
   "source": [
    "## 4) Exploratory Data Analysis <a class=\"anchor\" id=\"eda\"></a>"
   ]
  },
  {
   "cell_type": "markdown",
   "metadata": {},
   "source": [
    "Note the following:\n",
    "* COVID Observation Cutoff: December 31st 2020\n",
    "* \"Sex\" as Male/Female comes directly from the U.S. Census data. We understand \"sex\" is a larger spectrum and this is an oversimplified classification.\n",
    "* Unemployment rate from 2019\n"
   ]
  },
  {
   "cell_type": "markdown",
   "metadata": {},
   "source": [
    "**Improvements in AQI?**"
   ]
  },
  {
   "cell_type": "code",
   "execution_count": 241,
   "metadata": {},
   "outputs": [
    {
     "data": {
      "text/plain": [
       "1    14\n",
       "Name: improving_2010-14_vs_2015-19_aqi?, dtype: int64"
      ]
     },
     "execution_count": 241,
     "metadata": {},
     "output_type": "execute_result"
    }
   ],
   "source": [
    "# of the counties where we have data, did they improve 2010-2014 period to 2015-2019 period?\n",
    "county.loc[county['2015-2019_avg_daily_aqi'].isna() == False]['improving_2010-14_vs_2015-19_aqi?'].value_counts()"
   ]
  },
  {
   "cell_type": "markdown",
   "metadata": {},
   "source": [
    "All 14 counties were improving their air quality from the 2010-2014 range to the 2015-2019 range. Great! "
   ]
  },
  {
   "cell_type": "code",
   "execution_count": 242,
   "metadata": {},
   "outputs": [
    {
     "data": {
      "text/plain": [
       "1    8\n",
       "0    6\n",
       "Name: improving_2015-19_vs_2020_aqi?, dtype: int64"
      ]
     },
     "execution_count": 242,
     "metadata": {},
     "output_type": "execute_result"
    }
   ],
   "source": [
    "county.loc[county['2015-2019_avg_daily_aqi'].isna() == False]['improving_2015-19_vs_2020_aqi?'].value_counts()"
   ]
  },
  {
   "cell_type": "markdown",
   "metadata": {},
   "source": [
    "However, 6 counties (out of 14, over ~40%) had worse air quality in 2020 than in the 5-year period before"
   ]
  },
  {
   "cell_type": "code",
   "execution_count": 243,
   "metadata": {},
   "outputs": [
    {
     "data": {
      "text/html": [
       "<div>\n",
       "<style scoped>\n",
       "    .dataframe tbody tr th:only-of-type {\n",
       "        vertical-align: middle;\n",
       "    }\n",
       "\n",
       "    .dataframe tbody tr th {\n",
       "        vertical-align: top;\n",
       "    }\n",
       "\n",
       "    .dataframe thead th {\n",
       "        text-align: right;\n",
       "    }\n",
       "</style>\n",
       "<table border=\"1\" class=\"dataframe\">\n",
       "  <thead>\n",
       "    <tr style=\"text-align: right;\">\n",
       "      <th></th>\n",
       "      <th>FIPS</th>\n",
       "      <th>county_name</th>\n",
       "      <th>population</th>\n",
       "      <th>male_%</th>\n",
       "      <th>female_%</th>\n",
       "      <th>65+age_%</th>\n",
       "      <th>5-17age_%</th>\n",
       "      <th>18-24age_%</th>\n",
       "      <th>white_alone_%</th>\n",
       "      <th>nh_white_alone_%</th>\n",
       "      <th>...</th>\n",
       "      <th>2015-2019_unhealthy_aqi_observed_rate_%</th>\n",
       "      <th>2015-2019_moderate_plus_aqi_observed_rate_%</th>\n",
       "      <th>2020_avg_daily_aqi</th>\n",
       "      <th>2020_unhealthy_aqi_observed_rate_%</th>\n",
       "      <th>2020_moderate_plus_aqi_observed_rate_%</th>\n",
       "      <th>total_covid_deaths</th>\n",
       "      <th>covid_deaths_per_capita</th>\n",
       "      <th>improving_2010-14_vs_2015-19_aqi?</th>\n",
       "      <th>improving_2015-19_vs_2020_aqi?</th>\n",
       "      <th>cont_improve_aqi?</th>\n",
       "    </tr>\n",
       "  </thead>\n",
       "  <tbody>\n",
       "    <tr>\n",
       "      <td>0</td>\n",
       "      <td>36001</td>\n",
       "      <td>Albany</td>\n",
       "      <td>305506</td>\n",
       "      <td>0.483846</td>\n",
       "      <td>0.516154</td>\n",
       "      <td>0.174373</td>\n",
       "      <td>0.174373</td>\n",
       "      <td>0.144187</td>\n",
       "      <td>0.757884</td>\n",
       "      <td>0.715682</td>\n",
       "      <td>...</td>\n",
       "      <td>0.0</td>\n",
       "      <td>0.101874</td>\n",
       "      <td>30.384752</td>\n",
       "      <td>0.007092</td>\n",
       "      <td>0.113475</td>\n",
       "      <td>202</td>\n",
       "      <td>0.000661</td>\n",
       "      <td>1</td>\n",
       "      <td>0</td>\n",
       "      <td>0</td>\n",
       "    </tr>\n",
       "    <tr>\n",
       "      <td>2</td>\n",
       "      <td>36005</td>\n",
       "      <td>Bronx</td>\n",
       "      <td>1418207</td>\n",
       "      <td>0.472109</td>\n",
       "      <td>0.527891</td>\n",
       "      <td>0.133102</td>\n",
       "      <td>0.133102</td>\n",
       "      <td>0.097095</td>\n",
       "      <td>0.447241</td>\n",
       "      <td>0.090102</td>\n",
       "      <td>...</td>\n",
       "      <td>0.0</td>\n",
       "      <td>0.150334</td>\n",
       "      <td>31.761693</td>\n",
       "      <td>0.000000</td>\n",
       "      <td>0.113586</td>\n",
       "      <td>5137</td>\n",
       "      <td>0.003622</td>\n",
       "      <td>1</td>\n",
       "      <td>0</td>\n",
       "      <td>0</td>\n",
       "    </tr>\n",
       "    <tr>\n",
       "      <td>27</td>\n",
       "      <td>36055</td>\n",
       "      <td>Monroe</td>\n",
       "      <td>741770</td>\n",
       "      <td>0.482062</td>\n",
       "      <td>0.517938</td>\n",
       "      <td>0.178620</td>\n",
       "      <td>0.178620</td>\n",
       "      <td>0.097026</td>\n",
       "      <td>0.768343</td>\n",
       "      <td>0.701208</td>\n",
       "      <td>...</td>\n",
       "      <td>0.0</td>\n",
       "      <td>0.087929</td>\n",
       "      <td>26.740550</td>\n",
       "      <td>0.000000</td>\n",
       "      <td>0.063574</td>\n",
       "      <td>563</td>\n",
       "      <td>0.000759</td>\n",
       "      <td>1</td>\n",
       "      <td>0</td>\n",
       "      <td>0</td>\n",
       "    </tr>\n",
       "    <tr>\n",
       "      <td>33</td>\n",
       "      <td>36067</td>\n",
       "      <td>Onondaga</td>\n",
       "      <td>460528</td>\n",
       "      <td>0.482229</td>\n",
       "      <td>0.517771</td>\n",
       "      <td>0.175338</td>\n",
       "      <td>0.175338</td>\n",
       "      <td>0.101675</td>\n",
       "      <td>0.799626</td>\n",
       "      <td>0.764627</td>\n",
       "      <td>...</td>\n",
       "      <td>0.0</td>\n",
       "      <td>0.052609</td>\n",
       "      <td>24.995316</td>\n",
       "      <td>0.000000</td>\n",
       "      <td>0.046838</td>\n",
       "      <td>426</td>\n",
       "      <td>0.000925</td>\n",
       "      <td>1</td>\n",
       "      <td>0</td>\n",
       "      <td>0</td>\n",
       "    </tr>\n",
       "    <tr>\n",
       "      <td>42</td>\n",
       "      <td>36085</td>\n",
       "      <td>Richmond</td>\n",
       "      <td>476143</td>\n",
       "      <td>0.485841</td>\n",
       "      <td>0.514159</td>\n",
       "      <td>0.166549</td>\n",
       "      <td>0.166549</td>\n",
       "      <td>0.081826</td>\n",
       "      <td>0.744654</td>\n",
       "      <td>0.595811</td>\n",
       "      <td>...</td>\n",
       "      <td>0.0</td>\n",
       "      <td>0.151515</td>\n",
       "      <td>32.000000</td>\n",
       "      <td>0.000000</td>\n",
       "      <td>0.108108</td>\n",
       "      <td>1278</td>\n",
       "      <td>0.002684</td>\n",
       "      <td>1</td>\n",
       "      <td>0</td>\n",
       "      <td>0</td>\n",
       "    </tr>\n",
       "    <tr>\n",
       "      <td>50</td>\n",
       "      <td>36101</td>\n",
       "      <td>Steuben</td>\n",
       "      <td>95379</td>\n",
       "      <td>0.498286</td>\n",
       "      <td>0.501714</td>\n",
       "      <td>0.201418</td>\n",
       "      <td>0.201418</td>\n",
       "      <td>0.074671</td>\n",
       "      <td>0.947525</td>\n",
       "      <td>0.934126</td>\n",
       "      <td>...</td>\n",
       "      <td>0.0</td>\n",
       "      <td>0.033713</td>\n",
       "      <td>22.152620</td>\n",
       "      <td>0.000000</td>\n",
       "      <td>0.018223</td>\n",
       "      <td>120</td>\n",
       "      <td>0.001258</td>\n",
       "      <td>1</td>\n",
       "      <td>0</td>\n",
       "      <td>0</td>\n",
       "    </tr>\n",
       "  </tbody>\n",
       "</table>\n",
       "<p>6 rows × 36 columns</p>\n",
       "</div>"
      ],
      "text/plain": [
       "     FIPS county_name  population    male_%  female_%  65+age_%  5-17age_%  \\\n",
       "0   36001      Albany      305506  0.483846  0.516154  0.174373   0.174373   \n",
       "2   36005       Bronx     1418207  0.472109  0.527891  0.133102   0.133102   \n",
       "27  36055      Monroe      741770  0.482062  0.517938  0.178620   0.178620   \n",
       "33  36067    Onondaga      460528  0.482229  0.517771  0.175338   0.175338   \n",
       "42  36085    Richmond      476143  0.485841  0.514159  0.166549   0.166549   \n",
       "50  36101     Steuben       95379  0.498286  0.501714  0.201418   0.201418   \n",
       "\n",
       "    18-24age_%  white_alone_%  nh_white_alone_%  ...  \\\n",
       "0     0.144187       0.757884          0.715682  ...   \n",
       "2     0.097095       0.447241          0.090102  ...   \n",
       "27    0.097026       0.768343          0.701208  ...   \n",
       "33    0.101675       0.799626          0.764627  ...   \n",
       "42    0.081826       0.744654          0.595811  ...   \n",
       "50    0.074671       0.947525          0.934126  ...   \n",
       "\n",
       "    2015-2019_unhealthy_aqi_observed_rate_%  \\\n",
       "0                                       0.0   \n",
       "2                                       0.0   \n",
       "27                                      0.0   \n",
       "33                                      0.0   \n",
       "42                                      0.0   \n",
       "50                                      0.0   \n",
       "\n",
       "    2015-2019_moderate_plus_aqi_observed_rate_%  2020_avg_daily_aqi  \\\n",
       "0                                      0.101874           30.384752   \n",
       "2                                      0.150334           31.761693   \n",
       "27                                     0.087929           26.740550   \n",
       "33                                     0.052609           24.995316   \n",
       "42                                     0.151515           32.000000   \n",
       "50                                     0.033713           22.152620   \n",
       "\n",
       "    2020_unhealthy_aqi_observed_rate_%  \\\n",
       "0                             0.007092   \n",
       "2                             0.000000   \n",
       "27                            0.000000   \n",
       "33                            0.000000   \n",
       "42                            0.000000   \n",
       "50                            0.000000   \n",
       "\n",
       "    2020_moderate_plus_aqi_observed_rate_%  total_covid_deaths  \\\n",
       "0                                 0.113475                 202   \n",
       "2                                 0.113586                5137   \n",
       "27                                0.063574                 563   \n",
       "33                                0.046838                 426   \n",
       "42                                0.108108                1278   \n",
       "50                                0.018223                 120   \n",
       "\n",
       "    covid_deaths_per_capita  improving_2010-14_vs_2015-19_aqi?  \\\n",
       "0                  0.000661                                  1   \n",
       "2                  0.003622                                  1   \n",
       "27                 0.000759                                  1   \n",
       "33                 0.000925                                  1   \n",
       "42                 0.002684                                  1   \n",
       "50                 0.001258                                  1   \n",
       "\n",
       "    improving_2015-19_vs_2020_aqi?  cont_improve_aqi?  \n",
       "0                                0                  0  \n",
       "2                                0                  0  \n",
       "27                               0                  0  \n",
       "33                               0                  0  \n",
       "42                               0                  0  \n",
       "50                               0                  0  \n",
       "\n",
       "[6 rows x 36 columns]"
      ]
     },
     "execution_count": 243,
     "metadata": {},
     "output_type": "execute_result"
    }
   ],
   "source": [
    "county.loc[county['2015-2019_avg_daily_aqi'].isna() == False].loc[county['improving_2015-19_vs_2020_aqi?']==0]"
   ]
  },
  {
   "cell_type": "code",
   "execution_count": 244,
   "metadata": {
    "scrolled": false
   },
   "outputs": [
    {
     "data": {
      "text/plain": [
       "array(['Albany', 'Bronx', 'Monroe', 'Onondaga', 'Richmond', 'Steuben'],\n",
       "      dtype=object)"
      ]
     },
     "execution_count": 244,
     "metadata": {},
     "output_type": "execute_result"
    }
   ],
   "source": [
    "county.loc[county['2015-2019_avg_daily_aqi'].isna() == False].loc[county['improving_2015-19_vs_2020_aqi?']==0]['county_name'].unique()"
   ]
  },
  {
   "cell_type": "markdown",
   "metadata": {},
   "source": [
    "The **6 counties where air quality decreased in 2020 were Albany, Bronx, Monrow, Onondaga, Richmond, and Steuben**"
   ]
  },
  {
   "cell_type": "code",
   "execution_count": 245,
   "metadata": {},
   "outputs": [],
   "source": [
    "county['aqi_change_2015-19_vs_2020_%'] = (county['2020_avg_daily_aqi']-county['2015-2019_avg_daily_aqi'])/county['2015-2019_avg_daily_aqi']"
   ]
  },
  {
   "cell_type": "code",
   "execution_count": 246,
   "metadata": {
    "scrolled": false
   },
   "outputs": [
    {
     "data": {
      "text/plain": [
       "FIPS                                                 36001\n",
       "county_name                                         Albany\n",
       "population                                          305506\n",
       "male_%                                            0.483846\n",
       "female_%                                          0.516154\n",
       "65+age_%                                          0.174373\n",
       "5-17age_%                                         0.174373\n",
       "18-24age_%                                        0.144187\n",
       "white_alone_%                                     0.757884\n",
       "nh_white_alone_%                                  0.715682\n",
       "black_african_amer_alone_%                        0.141064\n",
       "amer_indian_alask_alone_%                       0.00304413\n",
       "asian_alone_%                                     0.068362\n",
       "2+_races_%                                       0.0289847\n",
       "hispanic_%                                       0.0625258\n",
       "sq_miles                                            523.45\n",
       "pop_in_poverty_%                                     0.117\n",
       "unemployment_rate                                    0.036\n",
       "median_household_income                              69408\n",
       "hospital_beds                                         1558\n",
       "pop_density                                        583.639\n",
       "hospital_beds_per_1K                               5.09974\n",
       "2010-2014_avg_daily_aqi                            30.5217\n",
       "2010-2014_unhealthy_aqi_observed_rate_%        0.000477327\n",
       "2010-2014_moderate_plus_aqi_observed_rate_%       0.161814\n",
       "2015-2019_avg_daily_aqi                            27.7912\n",
       "2015-2019_unhealthy_aqi_observed_rate_%                  0\n",
       "2015-2019_moderate_plus_aqi_observed_rate_%       0.101874\n",
       "2020_avg_daily_aqi                                 30.3848\n",
       "2020_unhealthy_aqi_observed_rate_%               0.0070922\n",
       "2020_moderate_plus_aqi_observed_rate_%            0.113475\n",
       "total_covid_deaths                                     202\n",
       "covid_deaths_per_capita                        0.000661198\n",
       "improving_2010-14_vs_2015-19_aqi?                        1\n",
       "improving_2015-19_vs_2020_aqi?                           0\n",
       "cont_improve_aqi?                                        0\n",
       "aqi_change_2015-19_vs_2020_%                     0.0933236\n",
       "Name: 0, dtype: object"
      ]
     },
     "execution_count": 246,
     "metadata": {},
     "output_type": "execute_result"
    }
   ],
   "source": [
    "county.iloc[0]"
   ]
  },
  {
   "cell_type": "code",
   "execution_count": 247,
   "metadata": {},
   "outputs": [
    {
     "data": {
      "text/html": [
       "<div>\n",
       "<style scoped>\n",
       "    .dataframe tbody tr th:only-of-type {\n",
       "        vertical-align: middle;\n",
       "    }\n",
       "\n",
       "    .dataframe tbody tr th {\n",
       "        vertical-align: top;\n",
       "    }\n",
       "\n",
       "    .dataframe thead th {\n",
       "        text-align: right;\n",
       "    }\n",
       "</style>\n",
       "<table border=\"1\" class=\"dataframe\">\n",
       "  <thead>\n",
       "    <tr style=\"text-align: right;\">\n",
       "      <th></th>\n",
       "      <th>FIPS</th>\n",
       "      <th>county_name</th>\n",
       "      <th>population</th>\n",
       "      <th>male_%</th>\n",
       "      <th>female_%</th>\n",
       "      <th>65+age_%</th>\n",
       "      <th>5-17age_%</th>\n",
       "      <th>18-24age_%</th>\n",
       "      <th>white_alone_%</th>\n",
       "      <th>nh_white_alone_%</th>\n",
       "      <th>...</th>\n",
       "      <th>2015-2019_moderate_plus_aqi_observed_rate_%</th>\n",
       "      <th>2020_avg_daily_aqi</th>\n",
       "      <th>2020_unhealthy_aqi_observed_rate_%</th>\n",
       "      <th>2020_moderate_plus_aqi_observed_rate_%</th>\n",
       "      <th>total_covid_deaths</th>\n",
       "      <th>covid_deaths_per_capita</th>\n",
       "      <th>improving_2010-14_vs_2015-19_aqi?</th>\n",
       "      <th>improving_2015-19_vs_2020_aqi?</th>\n",
       "      <th>cont_improve_aqi?</th>\n",
       "      <th>aqi_change_2015-19_vs_2020_%</th>\n",
       "    </tr>\n",
       "  </thead>\n",
       "  <tbody>\n",
       "    <tr>\n",
       "      <td>0</td>\n",
       "      <td>36001</td>\n",
       "      <td>Albany</td>\n",
       "      <td>305506</td>\n",
       "      <td>0.483846</td>\n",
       "      <td>0.516154</td>\n",
       "      <td>0.174373</td>\n",
       "      <td>0.174373</td>\n",
       "      <td>0.144187</td>\n",
       "      <td>0.757884</td>\n",
       "      <td>0.715682</td>\n",
       "      <td>...</td>\n",
       "      <td>0.101874</td>\n",
       "      <td>30.384752</td>\n",
       "      <td>0.007092</td>\n",
       "      <td>0.113475</td>\n",
       "      <td>202</td>\n",
       "      <td>0.000661</td>\n",
       "      <td>1</td>\n",
       "      <td>0</td>\n",
       "      <td>0</td>\n",
       "      <td>0.093324</td>\n",
       "    </tr>\n",
       "    <tr>\n",
       "      <td>2</td>\n",
       "      <td>36005</td>\n",
       "      <td>Bronx</td>\n",
       "      <td>1418207</td>\n",
       "      <td>0.472109</td>\n",
       "      <td>0.527891</td>\n",
       "      <td>0.133102</td>\n",
       "      <td>0.133102</td>\n",
       "      <td>0.097095</td>\n",
       "      <td>0.447241</td>\n",
       "      <td>0.090102</td>\n",
       "      <td>...</td>\n",
       "      <td>0.150334</td>\n",
       "      <td>31.761693</td>\n",
       "      <td>0.000000</td>\n",
       "      <td>0.113586</td>\n",
       "      <td>5137</td>\n",
       "      <td>0.003622</td>\n",
       "      <td>1</td>\n",
       "      <td>0</td>\n",
       "      <td>0</td>\n",
       "      <td>0.053366</td>\n",
       "    </tr>\n",
       "    <tr>\n",
       "      <td>27</td>\n",
       "      <td>36055</td>\n",
       "      <td>Monroe</td>\n",
       "      <td>741770</td>\n",
       "      <td>0.482062</td>\n",
       "      <td>0.517938</td>\n",
       "      <td>0.178620</td>\n",
       "      <td>0.178620</td>\n",
       "      <td>0.097026</td>\n",
       "      <td>0.768343</td>\n",
       "      <td>0.701208</td>\n",
       "      <td>...</td>\n",
       "      <td>0.087929</td>\n",
       "      <td>26.740550</td>\n",
       "      <td>0.000000</td>\n",
       "      <td>0.063574</td>\n",
       "      <td>563</td>\n",
       "      <td>0.000759</td>\n",
       "      <td>1</td>\n",
       "      <td>0</td>\n",
       "      <td>0</td>\n",
       "      <td>0.009878</td>\n",
       "    </tr>\n",
       "    <tr>\n",
       "      <td>33</td>\n",
       "      <td>36067</td>\n",
       "      <td>Onondaga</td>\n",
       "      <td>460528</td>\n",
       "      <td>0.482229</td>\n",
       "      <td>0.517771</td>\n",
       "      <td>0.175338</td>\n",
       "      <td>0.175338</td>\n",
       "      <td>0.101675</td>\n",
       "      <td>0.799626</td>\n",
       "      <td>0.764627</td>\n",
       "      <td>...</td>\n",
       "      <td>0.052609</td>\n",
       "      <td>24.995316</td>\n",
       "      <td>0.000000</td>\n",
       "      <td>0.046838</td>\n",
       "      <td>426</td>\n",
       "      <td>0.000925</td>\n",
       "      <td>1</td>\n",
       "      <td>0</td>\n",
       "      <td>0</td>\n",
       "      <td>0.093209</td>\n",
       "    </tr>\n",
       "    <tr>\n",
       "      <td>42</td>\n",
       "      <td>36085</td>\n",
       "      <td>Richmond</td>\n",
       "      <td>476143</td>\n",
       "      <td>0.485841</td>\n",
       "      <td>0.514159</td>\n",
       "      <td>0.166549</td>\n",
       "      <td>0.166549</td>\n",
       "      <td>0.081826</td>\n",
       "      <td>0.744654</td>\n",
       "      <td>0.595811</td>\n",
       "      <td>...</td>\n",
       "      <td>0.151515</td>\n",
       "      <td>32.000000</td>\n",
       "      <td>0.000000</td>\n",
       "      <td>0.108108</td>\n",
       "      <td>1278</td>\n",
       "      <td>0.002684</td>\n",
       "      <td>1</td>\n",
       "      <td>0</td>\n",
       "      <td>0</td>\n",
       "      <td>0.033744</td>\n",
       "    </tr>\n",
       "    <tr>\n",
       "      <td>50</td>\n",
       "      <td>36101</td>\n",
       "      <td>Steuben</td>\n",
       "      <td>95379</td>\n",
       "      <td>0.498286</td>\n",
       "      <td>0.501714</td>\n",
       "      <td>0.201418</td>\n",
       "      <td>0.201418</td>\n",
       "      <td>0.074671</td>\n",
       "      <td>0.947525</td>\n",
       "      <td>0.934126</td>\n",
       "      <td>...</td>\n",
       "      <td>0.033713</td>\n",
       "      <td>22.152620</td>\n",
       "      <td>0.000000</td>\n",
       "      <td>0.018223</td>\n",
       "      <td>120</td>\n",
       "      <td>0.001258</td>\n",
       "      <td>1</td>\n",
       "      <td>0</td>\n",
       "      <td>0</td>\n",
       "      <td>0.056445</td>\n",
       "    </tr>\n",
       "  </tbody>\n",
       "</table>\n",
       "<p>6 rows × 37 columns</p>\n",
       "</div>"
      ],
      "text/plain": [
       "     FIPS county_name  population    male_%  female_%  65+age_%  5-17age_%  \\\n",
       "0   36001      Albany      305506  0.483846  0.516154  0.174373   0.174373   \n",
       "2   36005       Bronx     1418207  0.472109  0.527891  0.133102   0.133102   \n",
       "27  36055      Monroe      741770  0.482062  0.517938  0.178620   0.178620   \n",
       "33  36067    Onondaga      460528  0.482229  0.517771  0.175338   0.175338   \n",
       "42  36085    Richmond      476143  0.485841  0.514159  0.166549   0.166549   \n",
       "50  36101     Steuben       95379  0.498286  0.501714  0.201418   0.201418   \n",
       "\n",
       "    18-24age_%  white_alone_%  nh_white_alone_%  ...  \\\n",
       "0     0.144187       0.757884          0.715682  ...   \n",
       "2     0.097095       0.447241          0.090102  ...   \n",
       "27    0.097026       0.768343          0.701208  ...   \n",
       "33    0.101675       0.799626          0.764627  ...   \n",
       "42    0.081826       0.744654          0.595811  ...   \n",
       "50    0.074671       0.947525          0.934126  ...   \n",
       "\n",
       "    2015-2019_moderate_plus_aqi_observed_rate_%  2020_avg_daily_aqi  \\\n",
       "0                                      0.101874           30.384752   \n",
       "2                                      0.150334           31.761693   \n",
       "27                                     0.087929           26.740550   \n",
       "33                                     0.052609           24.995316   \n",
       "42                                     0.151515           32.000000   \n",
       "50                                     0.033713           22.152620   \n",
       "\n",
       "    2020_unhealthy_aqi_observed_rate_%  \\\n",
       "0                             0.007092   \n",
       "2                             0.000000   \n",
       "27                            0.000000   \n",
       "33                            0.000000   \n",
       "42                            0.000000   \n",
       "50                            0.000000   \n",
       "\n",
       "    2020_moderate_plus_aqi_observed_rate_%  total_covid_deaths  \\\n",
       "0                                 0.113475                 202   \n",
       "2                                 0.113586                5137   \n",
       "27                                0.063574                 563   \n",
       "33                                0.046838                 426   \n",
       "42                                0.108108                1278   \n",
       "50                                0.018223                 120   \n",
       "\n",
       "    covid_deaths_per_capita  improving_2010-14_vs_2015-19_aqi?  \\\n",
       "0                  0.000661                                  1   \n",
       "2                  0.003622                                  1   \n",
       "27                 0.000759                                  1   \n",
       "33                 0.000925                                  1   \n",
       "42                 0.002684                                  1   \n",
       "50                 0.001258                                  1   \n",
       "\n",
       "    improving_2015-19_vs_2020_aqi?  cont_improve_aqi?  \\\n",
       "0                                0                  0   \n",
       "2                                0                  0   \n",
       "27                               0                  0   \n",
       "33                               0                  0   \n",
       "42                               0                  0   \n",
       "50                               0                  0   \n",
       "\n",
       "    aqi_change_2015-19_vs_2020_%  \n",
       "0                       0.093324  \n",
       "2                       0.053366  \n",
       "27                      0.009878  \n",
       "33                      0.093209  \n",
       "42                      0.033744  \n",
       "50                      0.056445  \n",
       "\n",
       "[6 rows x 37 columns]"
      ]
     },
     "execution_count": 247,
     "metadata": {},
     "output_type": "execute_result"
    }
   ],
   "source": [
    "county.loc[county['2015-2019_avg_daily_aqi'].isna() == False].loc[county['improving_2015-19_vs_2020_aqi?']==0]"
   ]
  },
  {
   "cell_type": "code",
   "execution_count": 248,
   "metadata": {
    "scrolled": false
   },
   "outputs": [
    {
     "data": {
      "text/plain": [
       "count    6.000000\n",
       "mean     0.056661\n",
       "std      0.032877\n",
       "min      0.009878\n",
       "25%      0.038650\n",
       "50%      0.054906\n",
       "75%      0.084018\n",
       "max      0.093324\n",
       "Name: aqi_change_2015-19_vs_2020_%, dtype: float64"
      ]
     },
     "execution_count": 248,
     "metadata": {},
     "output_type": "execute_result"
    }
   ],
   "source": [
    "county.loc[county['2015-2019_avg_daily_aqi'].isna() == False].loc[county['improving_2015-19_vs_2020_aqi?']==0]['aqi_change_2015-19_vs_2020_%'].describe()"
   ]
  },
  {
   "cell_type": "code",
   "execution_count": 249,
   "metadata": {
    "scrolled": true
   },
   "outputs": [
    {
     "data": {
      "text/html": [
       "<div>\n",
       "<style scoped>\n",
       "    .dataframe tbody tr th:only-of-type {\n",
       "        vertical-align: middle;\n",
       "    }\n",
       "\n",
       "    .dataframe tbody tr th {\n",
       "        vertical-align: top;\n",
       "    }\n",
       "\n",
       "    .dataframe thead th {\n",
       "        text-align: right;\n",
       "    }\n",
       "</style>\n",
       "<table border=\"1\" class=\"dataframe\">\n",
       "  <thead>\n",
       "    <tr style=\"text-align: right;\">\n",
       "      <th></th>\n",
       "      <th>county_name</th>\n",
       "      <th>aqi_change_2015-19_vs_2020_%</th>\n",
       "    </tr>\n",
       "  </thead>\n",
       "  <tbody>\n",
       "    <tr>\n",
       "      <td>0</td>\n",
       "      <td>Albany</td>\n",
       "      <td>0.093324</td>\n",
       "    </tr>\n",
       "    <tr>\n",
       "      <td>33</td>\n",
       "      <td>Onondaga</td>\n",
       "      <td>0.093209</td>\n",
       "    </tr>\n",
       "    <tr>\n",
       "      <td>50</td>\n",
       "      <td>Steuben</td>\n",
       "      <td>0.056445</td>\n",
       "    </tr>\n",
       "    <tr>\n",
       "      <td>2</td>\n",
       "      <td>Bronx</td>\n",
       "      <td>0.053366</td>\n",
       "    </tr>\n",
       "    <tr>\n",
       "      <td>42</td>\n",
       "      <td>Richmond</td>\n",
       "      <td>0.033744</td>\n",
       "    </tr>\n",
       "    <tr>\n",
       "      <td>27</td>\n",
       "      <td>Monroe</td>\n",
       "      <td>0.009878</td>\n",
       "    </tr>\n",
       "  </tbody>\n",
       "</table>\n",
       "</div>"
      ],
      "text/plain": [
       "   county_name  aqi_change_2015-19_vs_2020_%\n",
       "0       Albany                      0.093324\n",
       "33    Onondaga                      0.093209\n",
       "50     Steuben                      0.056445\n",
       "2        Bronx                      0.053366\n",
       "42    Richmond                      0.033744\n",
       "27      Monroe                      0.009878"
      ]
     },
     "execution_count": 249,
     "metadata": {},
     "output_type": "execute_result"
    }
   ],
   "source": [
    "#Sort counties with deteriorating air pollution by % air pollution increase\n",
    "county.loc[county['2015-2019_avg_daily_aqi'].isna() == False].loc[county['improving_2015-19_vs_2020_aqi?']==0][['county_name','aqi_change_2015-19_vs_2020_%']].sort_values(by='aqi_change_2015-19_vs_2020_%', ascending=False)"
   ]
  },
  {
   "cell_type": "code",
   "execution_count": 250,
   "metadata": {},
   "outputs": [
    {
     "ename": "SyntaxError",
     "evalue": "invalid syntax (<ipython-input-250-30096a97dc52>, line 2)",
     "output_type": "error",
     "traceback": [
      "\u001b[1;36m  File \u001b[1;32m\"<ipython-input-250-30096a97dc52>\"\u001b[1;36m, line \u001b[1;32m2\u001b[0m\n\u001b[1;33m    data -\u001b[0m\n\u001b[1;37m           ^\u001b[0m\n\u001b[1;31mSyntaxError\u001b[0m\u001b[1;31m:\u001b[0m invalid syntax\n"
     ]
    }
   ],
   "source": [
    "data = county.loc[county['2015-2019_avg_daily_aqi'].isna() == False].loc[county['improving_2015-19_vs_2020_aqi?']==0][['county_name','aqi_change_2015-19_vs_2020_%']].sort_values(by='aqi_change_2015-19_vs_2020_%', ascending=False)\n",
    "data - "
   ]
  },
  {
   "cell_type": "code",
   "execution_count": null,
   "metadata": {},
   "outputs": [],
   "source": [
    "data = county.loc[county['2015-2019_avg_daily_aqi'].isna() == False]\n",
    "ax = sns.barplot(x=\"aqi_change_2015-19_vs_2020_%\", y=\"county_name\", data=data, color='red').set_title('Counties by Change in Air Pollution');\n",
    "plt.xlabel(\"% Change in Air Pollution\")\n",
    "plt.ylabel(\"County Name\");"
   ]
  },
  {
   "cell_type": "markdown",
   "metadata": {},
   "source": [
    "Of the counties increasing air pollution, this increased can be up to a 10% increase with Albany and Onondaga in the worse condition."
   ]
  },
  {
   "cell_type": "markdown",
   "metadata": {},
   "source": [
    "**Correlation Analysis**"
   ]
  },
  {
   "cell_type": "code",
   "execution_count": null,
   "metadata": {
    "scrolled": false
   },
   "outputs": [],
   "source": [
    "rs = np.random.RandomState(0)\n",
    "df = pd.DataFrame(rs.rand(10, 10))\n",
    "corr = county.corr()\n",
    "corr.style.background_gradient(cmap='coolwarm')"
   ]
  },
  {
   "cell_type": "markdown",
   "metadata": {},
   "source": [
    "In this heat map, the closer to 1 (positive correlation) or -1 (negative correlation) shows a correlation. 0 means no correlation. A negative correlation means that as one goes up, the other goes down. A positive corelation means that as variable goes up the other goes up too OR when one goes down, the other goes down too (basically they go the same direction). Some records were null but as per [this source](https://www.geeksforgeeks.org/python-pandas-dataframe-corr/#:~:text=corr()%20is%20used%20to,the%20dataframe%20it%20is%20ignored.), the corr() methos used excludes the null. *Correlations with population, hospital beds, or square miles are not meaningful as we expect more deaths when there is more population.* \n",
    "\n",
    "When looking at correlation with covid_deaths_per_capita, the following variables (with exceptions above) have correlation above 0.5 or below -0.5 hence there are strong positive or negative corelations.\n",
    "* nh_white_alone_%\t-0.833116\n",
    "* white_alone_%\t-0.810306\n",
    "* black_african_amer_alone_%\t0.777036\n",
    "* hispanic_%\t0.773217\n",
    "* asian_alone_%\t0.690696\n",
    "* 2015-2019_moderate_plus_aqi_observed_rate_%\t0.685503\n",
    "* 2020_moderate_plus_aqi_observed_rate_%\t0.653416\n",
    "* 2010-2014_avg_daily_aqi\t0.628852\n",
    "* 2010-2014_moderate_plus_aqi_observed_rate_%\t0.624889\n",
    "* pop_density\t0.623241\n",
    "* 2015-2019_avg_daily_aqi\t0.583343\n",
    "* 2020_avg_daily_aqi\t0.570557\n",
    "* improving_2010-14_vs_2015-19_aqi?\t0.545156\n",
    "* male_%\t-0.514211\n",
    "* female_%\t0.514211\n",
    "\n",
    "\n",
    "The image below isolates this correlations: \n",
    "\n",
    "![Correlation to Covid Deaths Per Capita](./img/corr.jpg)"
   ]
  },
  {
   "cell_type": "markdown",
   "metadata": {},
   "source": [
    "We can clearly see **inequalities related to race and ethnicity** significantly affecting covid deaths per capita. The most prominent is the negative correlation between the proportion of the population that is white (particularly non-hispanic white) and covid deaths per capita with every % increase in covid deaths per capita the proportion of population that is white decreses almost 1-to-one. The opposite happens with Black and African Americas, Hispanics, and even Asians when as covid deaths per capita increase, there is likely more of these groups in the population.\n",
    "\n",
    "In addition, we find interesting correlations relating to air quality with the strongest correlation showing that **as the frequency of air quality observations classified moderate to hazardous increases, so does covid deaths per capita** in that county. We can also see (although less strongly) that as **average AQI increases, so does COVID mortality**. A crucial finding is that **air quality variables have a stronger correlation with covid deaths per capita than population density** which defies the expected based on what the public has been informed."
   ]
  },
  {
   "cell_type": "markdown",
   "metadata": {},
   "source": [
    "## 5) Hypothesis Test <a class=\"anchor\" id=\"htest\"></a>"
   ]
  },
  {
   "cell_type": "code",
   "execution_count": null,
   "metadata": {},
   "outputs": [],
   "source": []
  },
  {
   "cell_type": "markdown",
   "metadata": {},
   "source": [
    "## 6) Regression Analysis <a class=\"anchor\" id=\"regression\"></a>"
   ]
  },
  {
   "cell_type": "markdown",
   "metadata": {},
   "source": [
    "With so little data, this is not the most meaningful regression but a baseline method that can be applied to more counties where air quality data is available. "
   ]
  },
  {
   "cell_type": "markdown",
   "metadata": {},
   "source": [
    "Let's use the variables identified to have correlation in a regression analysis."
   ]
  },
  {
   "cell_type": "code",
   "execution_count": null,
   "metadata": {
    "scrolled": true
   },
   "outputs": [],
   "source": [
    "data = county[['covid_deaths_per_capita','nh_white_alone_%', 'white_alone_%', 'black_african_amer_alone_%', 'hispanic_%', 'asian_alone_%' ,'2015-2019_moderate_plus_aqi_observed_rate_%','2020_moderate_plus_aqi_observed_rate_%', '2010-2014_avg_daily_aqi','2010-2014_moderate_plus_aqi_observed_rate_%','pop_density','2015-2019_avg_daily_aqi','2020_avg_daily_aqi','improving_2010-14_vs_2015-19_aqi?','male_%','female_%']]\n",
    "data.head()"
   ]
  },
  {
   "cell_type": "code",
   "execution_count": null,
   "metadata": {},
   "outputs": [],
   "source": []
  },
  {
   "cell_type": "markdown",
   "metadata": {},
   "source": [
    "## 7) Conclusion <a class=\"anchor\" id=\"conclusion\"></a>"
   ]
  },
  {
   "cell_type": "markdown",
   "metadata": {},
   "source": [
    "?"
   ]
  },
  {
   "cell_type": "code",
   "execution_count": null,
   "metadata": {},
   "outputs": [],
   "source": [
    "# NY County Dataframe created\n",
    "county.to_csv(r'./data/final_county.csv', index = False)"
   ]
  },
  {
   "cell_type": "markdown",
   "metadata": {},
   "source": [
    "Data aggregated for this analysis saved as \"final_county.csv\" in the data subfolder of this repository."
   ]
  },
  {
   "cell_type": "code",
   "execution_count": null,
   "metadata": {},
   "outputs": [],
   "source": []
  },
  {
   "cell_type": "markdown",
   "metadata": {},
   "source": [
    "If you are wondering, how is the air quality in your area right now. Enter your Zip Code here: https://www.airnow.gov/?city=Bronx&state=NY&country=USA"
   ]
  },
  {
   "cell_type": "markdown",
   "metadata": {},
   "source": [
    "## 8) Project Next Steps <a class=\"anchor\" id=\"next\"></a>"
   ]
  },
  {
   "cell_type": "markdown",
   "metadata": {},
   "source": [
    "* A closer look at the impact of race and ethnicity in covid mortality rate."
   ]
  }
 ],
 "metadata": {
  "kernelspec": {
   "display_name": "Python 3",
   "language": "python",
   "name": "python3"
  },
  "language_info": {
   "codemirror_mode": {
    "name": "ipython",
    "version": 3
   },
   "file_extension": ".py",
   "mimetype": "text/x-python",
   "name": "python",
   "nbconvert_exporter": "python",
   "pygments_lexer": "ipython3",
   "version": "3.7.3"
  }
 },
 "nbformat": 4,
 "nbformat_minor": 2
}
